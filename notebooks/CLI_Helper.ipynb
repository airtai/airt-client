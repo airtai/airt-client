{
 "cells": [
  {
   "cell_type": "raw",
   "metadata": {},
   "source": [
    "---\n",
    "description: Helper functions for the CLI\n",
    "output-file: cli_helper.html\n",
    "title: CLI_Helper\n",
    "\n",
    "---\n",
    "\n"
   ]
  },
  {
   "cell_type": "code",
   "execution_count": null,
   "metadata": {},
   "outputs": [],
   "source": [
    "# | default_exp _cli.helper"
   ]
  },
  {
   "cell_type": "code",
   "execution_count": null,
   "metadata": {},
   "outputs": [
    {
     "name": "stdout",
     "output_type": "stream",
     "text": [
      "[INFO] airt.testing.activate_by_import: Testing environment activated.\n"
     ]
    }
   ],
   "source": [
    "# | include: false\n",
    "\n",
    "from airt._testing import activate_by_import"
   ]
  },
  {
   "cell_type": "code",
   "execution_count": null,
   "metadata": {},
   "outputs": [],
   "source": [
    "# | export\n",
    "\n",
    "import logging\n",
    "from typing import *"
   ]
  },
  {
   "cell_type": "code",
   "execution_count": null,
   "metadata": {},
   "outputs": [],
   "source": [
    "# | exporti\n",
    "\n",
    "import ast\n",
    "import datetime as dt\n",
    "import functools\n",
    "import os\n",
    "from contextlib import contextmanager\n",
    "\n",
    "import humanize\n",
    "import pandas as pd\n",
    "import typer\n",
    "from tabulate import tabulate\n",
    "\n",
    "from airt._constant import CLIENT_NAME, SERVER_URL, SERVICE_TOKEN, SERVICE_USERNAME\n",
    "from airt._logger import get_logger, set_level\n",
    "from airt.client import Client, User"
   ]
  },
  {
   "cell_type": "code",
   "execution_count": null,
   "metadata": {},
   "outputs": [],
   "source": [
    "import sys\n",
    "from io import StringIO\n",
    "\n",
    "import pytest\n",
    "\n",
    "import airt._sanitizer\n",
    "from airt._constant import SERVICE_PASSWORD"
   ]
  },
  {
   "cell_type": "code",
   "execution_count": null,
   "metadata": {},
   "outputs": [],
   "source": [
    "# | export\n",
    "\n",
    "logger = get_logger(__name__)"
   ]
  },
  {
   "cell_type": "code",
   "execution_count": null,
   "metadata": {},
   "outputs": [],
   "source": [
    "# | include: false\n",
    "\n",
    "set_level(logging.INFO)"
   ]
  },
  {
   "cell_type": "code",
   "execution_count": null,
   "metadata": {},
   "outputs": [
    {
     "data": {
      "text/plain": [
       "20"
      ]
     },
     "metadata": {},
     "output_type": "display_data"
    },
    {
     "name": "stdout",
     "output_type": "stream",
     "text": [
      "[INFO] __main__: This is an info\n",
      "[WARNING] __main__: This is a warning\n",
      "[ERROR] __main__: This is an error\n"
     ]
    }
   ],
   "source": [
    "# | include: false\n",
    "\n",
    "display(logger.getEffectiveLevel())\n",
    "assert logger.getEffectiveLevel() == logging.INFO\n",
    "\n",
    "logger.debug(\"This is a debug message\")\n",
    "logger.info(\"This is an info\")\n",
    "logger.warning(\"This is a warning\")\n",
    "logger.error(\"This is an error\")"
   ]
  },
  {
   "cell_type": "markdown",
   "metadata": {},
   "source": [
    "Context Managers and custom decorator"
   ]
  },
  {
   "cell_type": "code",
   "execution_count": null,
   "metadata": {},
   "outputs": [],
   "source": [
    "# | include: false\n",
    "\n",
    "_airt_service_token = None\n",
    "\n",
    "\n",
    "@contextmanager\n",
    "def set_airt_service_token_envvar():\n",
    "    global _airt_service_token\n",
    "    if _airt_service_token is None:\n",
    "        display(\"_airt_service_token is None, getting a token...\")\n",
    "\n",
    "        username = os.environ[SERVICE_USERNAME]\n",
    "        password = os.environ[SERVICE_PASSWORD]\n",
    "\n",
    "        Client.get_token(username=username, password=password)\n",
    "        _airt_service_token = Client.auth_token\n",
    "\n",
    "    try:\n",
    "        os.environ[SERVICE_TOKEN] = _airt_service_token\n",
    "\n",
    "        yield\n",
    "    finally:\n",
    "        del os.environ[SERVICE_TOKEN]"
   ]
  },
  {
   "cell_type": "code",
   "execution_count": null,
   "metadata": {},
   "outputs": [
    {
     "data": {
      "text/plain": [
       "'_airt_service_token is None, getting a token...'"
      ]
     },
     "metadata": {},
     "output_type": "display_data"
    },
    {
     "data": {
      "text/plain": [
       "'*******************************************************************************************************************************'"
      ]
     },
     "metadata": {},
     "output_type": "display_data"
    }
   ],
   "source": [
    "# | include: false\n",
    "\n",
    "\n",
    "def mask(s: str) -> str:\n",
    "    return \"*\" * len(s)\n",
    "\n",
    "\n",
    "with set_airt_service_token_envvar():\n",
    "    display(mask(os.environ[SERVICE_TOKEN]))"
   ]
  },
  {
   "cell_type": "code",
   "execution_count": null,
   "metadata": {},
   "outputs": [],
   "source": [
    "# | exporti\n",
    "\n",
    "\n",
    "@contextmanager\n",
    "def authenicate_user():\n",
    "    Client(\n",
    "        auth_token=os.environ[SERVICE_TOKEN], server=os.environ.get(SERVER_URL, None)\n",
    "    )\n",
    "\n",
    "    yield"
   ]
  },
  {
   "cell_type": "code",
   "execution_count": null,
   "metadata": {},
   "outputs": [
    {
     "data": {
      "text/plain": [
       "\"mask(Client.auth_token)='*******************************************************************************************************************************' \\nmask(Client.server)='************************'\""
      ]
     },
     "metadata": {},
     "output_type": "display_data"
    }
   ],
   "source": [
    "# | include: false\n",
    "\n",
    "# tests for authenicate_user\n",
    "# testing positive scenario\n",
    "with set_airt_service_token_envvar():\n",
    "    with authenicate_user():\n",
    "        display(f\"{mask(Client.auth_token)=} \\n{mask(Client.server)=}\")\n",
    "        assert len(Client.auth_token) >= 127\n",
    "        assert len(Client.server) > 0"
   ]
  },
  {
   "cell_type": "code",
   "execution_count": null,
   "metadata": {},
   "outputs": [
    {
     "data": {
      "text/plain": [
       "\"mask(Client.auth_token)='*******************************************************************************************************************************' \\nClient.server=None\""
      ]
     },
     "metadata": {},
     "output_type": "display_data"
    }
   ],
   "source": [
    "# | include: false\n",
    "\n",
    "# tests for authenicate_user\n",
    "# testing positive scenario. Deleting the AIRT_SERVER_URL from the env variable. None should be passed to the server\n",
    "\n",
    "with set_airt_service_token_envvar():\n",
    "    try:\n",
    "        # Assign env vars to temp variables\n",
    "        airt_server_url = os.environ[SERVER_URL]\n",
    "\n",
    "        # Delete env var\n",
    "        del os.environ[SERVER_URL]\n",
    "\n",
    "        with authenicate_user():\n",
    "            display(f\"{mask(Client.auth_token)=} \\n{Client.server=}\")\n",
    "            assert len(Client.auth_token) >= 127\n",
    "            assert Client.server == None\n",
    "    finally:\n",
    "        # setting back the variables\n",
    "        os.environ[SERVER_URL] = airt_server_url"
   ]
  },
  {
   "cell_type": "code",
   "execution_count": null,
   "metadata": {},
   "outputs": [],
   "source": [
    "# | export\n",
    "\n",
    "\n",
    "def requires_auth_token(func):\n",
    "    @functools.wraps(func)\n",
    "    def wrapper_decorator(*args, **kwargs):\n",
    "        try:\n",
    "            if (\"debug\" in kwargs) and kwargs[\"debug\"]:\n",
    "                set_level(logging.DEBUG)\n",
    "            else:\n",
    "                set_level(logging.WARNING)\n",
    "\n",
    "            with authenicate_user():\n",
    "                # Do something before\n",
    "                return func(*args, **kwargs)\n",
    "                # Do something after\n",
    "\n",
    "        except KeyError as e:\n",
    "            typer.echo(\n",
    "                message=f\"KeyError: The environment variable {e} is not set.\", err=True\n",
    "            )\n",
    "\n",
    "            if f\"'{SERVICE_TOKEN}'\" in str(e):\n",
    "                typer.echo(\n",
    "                    f\"\\nPlease run the command '{CLIENT_NAME} token' to get the application token and set it in the \"\n",
    "                    f\"environment variable `{SERVICE_TOKEN}`.\"\n",
    "                )\n",
    "                typer.echo(f\"\\nTry '{CLIENT_NAME} token --help' for help.\")\n",
    "\n",
    "            raise typer.Exit(code=1)\n",
    "\n",
    "        except Exception as e:\n",
    "            typer.echo(message=f\"Error: {e}\", err=True)\n",
    "            if (\"Invalid OTP\" in str(e)) or (\"OTP is required\" in str(e)):\n",
    "                raise ValueError(e)\n",
    "            raise typer.Exit(code=1)\n",
    "\n",
    "    return wrapper_decorator"
   ]
  },
  {
   "cell_type": "code",
   "execution_count": null,
   "metadata": {},
   "outputs": [
    {
     "data": {
      "text/plain": [
       "'************************************************************************************************************************'"
      ]
     },
     "metadata": {},
     "output_type": "display_data"
    },
    {
     "data": {
      "text/plain": [
       "'OK'"
      ]
     },
     "metadata": {},
     "output_type": "display_data"
    }
   ],
   "source": [
    "# | include: false\n",
    "\n",
    "with set_airt_service_token_envvar():\n",
    "    Client.auth_token = None\n",
    "\n",
    "    def test_no_token(**kwargs):\n",
    "        assert Client.server == os.environ[SERVER_URL]\n",
    "        assert Client.auth_token is not None\n",
    "        assert len(Client.auth_token) > 0\n",
    "\n",
    "    @requires_auth_token\n",
    "    def test_requires_token(**kwargs):\n",
    "        assert Client.server == os.environ[SERVER_URL]\n",
    "        assert Client.auth_token is not None\n",
    "        assert len(Client.auth_token) > 0\n",
    "\n",
    "    with pytest.raises(Exception) as e:\n",
    "        test_no_token()\n",
    "\n",
    "    display(\"*\" * 120)\n",
    "\n",
    "    test_requires_token()\n",
    "\n",
    "display(\"OK\")"
   ]
  },
  {
   "cell_type": "markdown",
   "metadata": {},
   "source": [
    "Helper Functions"
   ]
  },
  {
   "cell_type": "code",
   "execution_count": null,
   "metadata": {},
   "outputs": [],
   "source": [
    "# | export\n",
    "\n",
    "\n",
    "def humanize_date(s: pd.Series) -> pd.Series:\n",
    "    return s.apply(\n",
    "        lambda date: humanize.naturaltime(\n",
    "            dt.datetime.now() - dt.datetime.strptime(date, \"%Y-%m-%dT%H:%M:%S\")  # type: ignore\n",
    "        )\n",
    "        if date\n",
    "        else \"None\"\n",
    "    )"
   ]
  },
  {
   "cell_type": "code",
   "execution_count": null,
   "metadata": {},
   "outputs": [
    {
     "data": {
      "text/plain": [
       "'a second ago'"
      ]
     },
     "metadata": {},
     "output_type": "display_data"
    },
    {
     "data": {
      "text/plain": [
       "'11 days ago'"
      ]
     },
     "metadata": {},
     "output_type": "display_data"
    },
    {
     "data": {
      "text/plain": [
       "'3 months ago'"
      ]
     },
     "metadata": {},
     "output_type": "display_data"
    },
    {
     "data": {
      "text/plain": [
       "'3 years ago'"
      ]
     },
     "metadata": {},
     "output_type": "display_data"
    },
    {
     "data": {
      "text/plain": [
       "'None'"
      ]
     },
     "metadata": {},
     "output_type": "display_data"
    }
   ],
   "source": [
    "# | include: false\n",
    "\n",
    "# Test for humanize_date.\n",
    "\n",
    "\n",
    "def generate_delta(seconds: int):\n",
    "    delta = dt.datetime.now() - dt.timedelta(seconds=seconds)\n",
    "    return delta.strftime(\"%Y-%m-%dT%H:%M:%S\")\n",
    "\n",
    "\n",
    "dt_list = [\n",
    "    f\"{generate_delta(seconds=1)}\",\n",
    "    f\"{generate_delta(seconds=1_000_000)}\",\n",
    "    f\"{generate_delta(seconds=1_000_000_0)}\",\n",
    "    f\"{generate_delta(seconds=1_000_000_00)}\",\n",
    "    None,\n",
    "]\n",
    "\n",
    "result = humanize_date(pd.Series(data=dt_list))\n",
    "\n",
    "expected = [\"a second ago\", \"11 days ago\", \"3 months ago\", \"3 years ago\", \"None\"]\n",
    "\n",
    "for index, s in enumerate(expected):\n",
    "    display(result.iloc[index])\n",
    "    assert result.iloc[index] == s"
   ]
  },
  {
   "cell_type": "code",
   "execution_count": null,
   "metadata": {},
   "outputs": [],
   "source": [
    "# | export\n",
    "\n",
    "\n",
    "def humanize_number(s: pd.Series) -> pd.Series:\n",
    "    return s.apply(\n",
    "        lambda num: humanize.intcomma(int(num)) if pd.notna(num) else \"unknown\"\n",
    "    )"
   ]
  },
  {
   "cell_type": "code",
   "execution_count": null,
   "metadata": {},
   "outputs": [
    {
     "data": {
      "text/plain": [
       "'498,961'"
      ]
     },
     "metadata": {},
     "output_type": "display_data"
    },
    {
     "data": {
      "text/plain": [
       "'10,000,000'"
      ]
     },
     "metadata": {},
     "output_type": "display_data"
    },
    {
     "data": {
      "text/plain": [
       "'unknown'"
      ]
     },
     "metadata": {},
     "output_type": "display_data"
    }
   ],
   "source": [
    "# | include: false\n",
    "\n",
    "# Test for humanize_number.\n",
    "\n",
    "num_list = [498961.0, 10000000.0, None]\n",
    "\n",
    "result = humanize_number(pd.Series(data=num_list))\n",
    "\n",
    "expected = [\"498,961\", \"10,000,000\", \"unknown\"]\n",
    "\n",
    "for index, s in enumerate(expected):\n",
    "    display(result.iloc[index])\n",
    "    assert result.iloc[index] == s"
   ]
  },
  {
   "cell_type": "code",
   "execution_count": null,
   "metadata": {},
   "outputs": [],
   "source": [
    "# | export\n",
    "\n",
    "\n",
    "def humanize_size(s: pd.Series) -> pd.Series:\n",
    "    return s.apply(\n",
    "        lambda size: humanize.naturalsize(size) if pd.notna(size) else \"unknown\"\n",
    "    )"
   ]
  },
  {
   "cell_type": "code",
   "execution_count": null,
   "metadata": {},
   "outputs": [
    {
     "data": {
      "text/plain": [
       "'813.2 MB'"
      ]
     },
     "metadata": {},
     "output_type": "display_data"
    },
    {
     "data": {
      "text/plain": [
       "'89.5 GB'"
      ]
     },
     "metadata": {},
     "output_type": "display_data"
    },
    {
     "data": {
      "text/plain": [
       "'9.1 TB'"
      ]
     },
     "metadata": {},
     "output_type": "display_data"
    },
    {
     "data": {
      "text/plain": [
       "'unknown'"
      ]
     },
     "metadata": {},
     "output_type": "display_data"
    }
   ],
   "source": [
    "# | include: false\n",
    "\n",
    "# Test for humanize_size.\n",
    "\n",
    "size_list = [813219613.0, 89486646777.0, 9089486646777.0, None]\n",
    "\n",
    "result = humanize_size(pd.Series(data=size_list))\n",
    "\n",
    "expected = [\"813.2 MB\", \"89.5 GB\", \"9.1 TB\", \"unknown\"]\n",
    "\n",
    "for index, s in enumerate(expected):\n",
    "    display(result.iloc[index])\n",
    "    assert result.iloc[index] == s"
   ]
  },
  {
   "cell_type": "code",
   "execution_count": null,
   "metadata": {},
   "outputs": [],
   "source": [
    "# | export\n",
    "\n",
    "\n",
    "def get_example_for_type(xs: pd.Series) -> str:\n",
    "    \"\"\"Get example output for the given series\n",
    "\n",
    "    Args:\n",
    "        xs: Input series\n",
    "\n",
    "    Returns:\n",
    "        The valid formatting example for the series\n",
    "    \"\"\"\n",
    "    if pd.api.types.is_float_dtype(xs):\n",
    "        return \"€{:,.2f}\"\n",
    "    if pd.api.types.is_integer_dtype(xs):\n",
    "        return \"{:,d}\"\n",
    "\n",
    "    return \"{}\""
   ]
  },
  {
   "cell_type": "code",
   "execution_count": null,
   "metadata": {},
   "outputs": [
    {
     "data": {
      "text/plain": [
       "'€{:,.2f}'"
      ]
     },
     "metadata": {},
     "output_type": "display_data"
    },
    {
     "data": {
      "text/plain": [
       "'{:,d}'"
      ]
     },
     "metadata": {},
     "output_type": "display_data"
    },
    {
     "data": {
      "text/plain": [
       "'{}'"
      ]
     },
     "metadata": {},
     "output_type": "display_data"
    }
   ],
   "source": [
    "df = pd.DataFrame(\n",
    "    {\n",
    "        \"float_column\": [123.4567, 234.5678],\n",
    "        \"string_column\": [\"bar\", \"baz\"],\n",
    "        \"int_column\": [5, 10],\n",
    "    }\n",
    ")\n",
    "\n",
    "expected = \"€{:,.2f}\"\n",
    "actual = get_example_for_type(df[\"float_column\"])\n",
    "assert actual == expected\n",
    "display(actual)\n",
    "\n",
    "expected = \"{:,d}\"\n",
    "actual = get_example_for_type(df[\"int_column\"])\n",
    "assert actual == expected\n",
    "display(actual)\n",
    "\n",
    "expected = \"{}\"\n",
    "actual = get_example_for_type(df[\"string_column\"])\n",
    "assert actual == expected\n",
    "display(actual)"
   ]
  },
  {
   "cell_type": "code",
   "execution_count": null,
   "metadata": {},
   "outputs": [],
   "source": [
    "# | export\n",
    "\n",
    "\n",
    "def get_example_output_format(df: pd.DataFrame) -> Dict[str, str]:\n",
    "    \"\"\"Get example output format for the dataframe\n",
    "\n",
    "    Args:\n",
    "        df: Input dataframe\n",
    "\n",
    "    Returns:\n",
    "        The example output format for the dataframe\n",
    "    \"\"\"\n",
    "    return {c: get_example_for_type(df[c]) for c in df.columns}  # type: ignore"
   ]
  },
  {
   "cell_type": "code",
   "execution_count": null,
   "metadata": {},
   "outputs": [
    {
     "data": {
      "text/plain": [
       "{'float_column': '€{:,.2f}', 'string_column': '{}', 'int_column': '{:,d}'}"
      ]
     },
     "metadata": {},
     "output_type": "display_data"
    }
   ],
   "source": [
    "df = pd.DataFrame(\n",
    "    {\n",
    "        \"float_column\": [123.4567, 234.5678],\n",
    "        \"string_column\": [\"bar\", \"baz\"],\n",
    "        \"int_column\": [5, 10],\n",
    "    }\n",
    ")\n",
    "\n",
    "actual = get_example_output_format(df)\n",
    "display(actual)\n",
    "\n",
    "expected = {\"float_column\": \"€{:,.2f}\", \"string_column\": \"{}\", \"int_column\": \"{:,d}\"}\n",
    "assert actual == expected"
   ]
  },
  {
   "cell_type": "code",
   "execution_count": null,
   "metadata": {},
   "outputs": [],
   "source": [
    "# | export\n",
    "\n",
    "\n",
    "def customize_output_format(format_str: str, df: pd.DataFrame) -> pd.DataFrame:\n",
    "    \"\"\"Customize output format\n",
    "\n",
    "    Args:\n",
    "        format_str: A dict mapping of column names into their python format\n",
    "        df: Input dataframe\n",
    "\n",
    "    Returns:\n",
    "        The formatted pandas DataFrame\n",
    "\n",
    "    Raises:\n",
    "        Error: If the formatting string is not a valid python expression\n",
    "        Error: If invalid column name is passed\n",
    "        Error: If invalid formatting string is passed\n",
    "        Error: If wrong formatting is passed for a column\n",
    "    \"\"\"\n",
    "    try:\n",
    "        formatters = ast.literal_eval(format_str)\n",
    "    except Exception as e:\n",
    "        typer.echo(f\"Not a valid python expression: {format_str}\", err=True)\n",
    "        typer.echo(\n",
    "            f\"An example of a valid formatting string: {get_example_output_format(df)}\",\n",
    "            err=True,\n",
    "        )\n",
    "        raise typer.Exit(code=1)\n",
    "\n",
    "    if not isinstance(formatters, dict):\n",
    "        typer.echo(f\"The format string is not a dictionary: {formatters}\", err=True)\n",
    "        typer.echo(\n",
    "            f\"An example of a valid formatting string: {get_example_output_format(df)}\",\n",
    "            err=True,\n",
    "        )\n",
    "        raise typer.Exit(code=1)\n",
    "\n",
    "    if not (set(formatters.keys()) <= set(df.columns)):\n",
    "        typer.echo(\n",
    "            f\"The following columns are not valid: {set(formatters.keys()) - set(df.columns)}. Only the following columns are valid: {set(df.columns)}\",\n",
    "            err=True,\n",
    "        )\n",
    "        typer.echo(\n",
    "            f\"An example of a valid formatting string: {get_example_output_format(df)}\",\n",
    "            err=True,\n",
    "        )\n",
    "        raise typer.Exit(code=1)\n",
    "\n",
    "    df_copy = df.copy()\n",
    "    try:\n",
    "        for k, v in formatters.items():\n",
    "            df_copy[k] = df_copy[k].apply(lambda x: v.format(x))\n",
    "    except Exception as e:\n",
    "        typer.echo(f\"Formatting is wrong for {k}: {v}\", err=True)\n",
    "        typer.echo(\n",
    "            f\"An example of a valid formatting string: {get_example_output_format(df)}\",\n",
    "            err=True,\n",
    "        )\n",
    "        raise typer.Exit(code=1)\n",
    "    return df_copy[formatters.keys()]  # type: ignore"
   ]
  },
  {
   "cell_type": "code",
   "execution_count": null,
   "metadata": {},
   "outputs": [
    {
     "name": "stderr",
     "output_type": "stream",
     "text": [
      "Not a valid python expression: asd\n",
      "An example of a valid formatting string: {'float_column': '€{:,.2f}', 'string_column': '{}', 'int_column': '{:,d}'}\n"
     ]
    }
   ],
   "source": [
    "format_str = \"asd\"\n",
    "df = pd.DataFrame(\n",
    "    {\n",
    "        \"float_column\": [123.4567, 234.5678],\n",
    "        \"string_column\": [\"bar\", \"baz\"],\n",
    "        \"int_column\": [5020304, 1305060],\n",
    "    }\n",
    ")\n",
    "\n",
    "with pytest.raises(typer.Exit) as e:\n",
    "    customize_output_format(format_str, df)"
   ]
  },
  {
   "cell_type": "code",
   "execution_count": null,
   "metadata": {},
   "outputs": [
    {
     "name": "stderr",
     "output_type": "stream",
     "text": [
      "The following columns are not valid: {'wrong_column'}. Only the following columns are valid: {'int_column', 'string_column', 'float_column'}\n",
      "An example of a valid formatting string: {'float_column': '€{:,.2f}', 'string_column': '{}', 'int_column': '{:,d}'}\n"
     ]
    }
   ],
   "source": [
    "format_str = \"{'wrong_column': '{:,.2f}'}\"\n",
    "with pytest.raises(typer.Exit) as e:\n",
    "    customize_output_format(format_str, df)"
   ]
  },
  {
   "cell_type": "code",
   "execution_count": null,
   "metadata": {},
   "outputs": [
    {
     "name": "stderr",
     "output_type": "stream",
     "text": [
      "Formatting is wrong for float_column: {:,d}\n",
      "An example of a valid formatting string: {'float_column': '€{:,.2f}', 'string_column': '{}', 'int_column': '{:,d}'}\n"
     ]
    }
   ],
   "source": [
    "df = pd.DataFrame(\n",
    "    {\n",
    "        \"float_column\": [123.4567, 234.5678],\n",
    "        \"string_column\": [\"bar\", \"baz\"],\n",
    "        \"int_column\": [5020304, 1305060],\n",
    "    }\n",
    ")\n",
    "format_str = \"{'float_column': '{:,d}'}\"\n",
    "with pytest.raises(typer.Exit) as e:\n",
    "    customize_output_format(format_str, df)"
   ]
  },
  {
   "cell_type": "code",
   "execution_count": null,
   "metadata": {},
   "outputs": [],
   "source": [
    "df = pd.DataFrame(\n",
    "    {\n",
    "        \"float_column\": [123.4567, 234.5678],\n",
    "        \"string_column\": [\"bar\", \"baz\"],\n",
    "        \"int_column\": [5020304, 1305060],\n",
    "    }\n",
    ")\n",
    "format_str = (\n",
    "    \"{'float_column': '€{:,.2f}', 'string_column': '{}', 'int_column': '{:,d}'}\"\n",
    ")\n",
    "df = customize_output_format(format_str, df)\n",
    "assert df.shape[1] == 3"
   ]
  },
  {
   "cell_type": "code",
   "execution_count": null,
   "metadata": {},
   "outputs": [
    {
     "data": {
      "text/html": [
       "<div>\n",
       "<style scoped>\n",
       "    .dataframe tbody tr th:only-of-type {\n",
       "        vertical-align: middle;\n",
       "    }\n",
       "\n",
       "    .dataframe tbody tr th {\n",
       "        vertical-align: top;\n",
       "    }\n",
       "\n",
       "    .dataframe thead th {\n",
       "        text-align: right;\n",
       "    }\n",
       "</style>\n",
       "<table border=\"1\" class=\"dataframe\">\n",
       "  <thead>\n",
       "    <tr style=\"text-align: right;\">\n",
       "      <th></th>\n",
       "      <th>float_column</th>\n",
       "    </tr>\n",
       "  </thead>\n",
       "  <tbody>\n",
       "    <tr>\n",
       "      <th>0</th>\n",
       "      <td>€123.46</td>\n",
       "    </tr>\n",
       "    <tr>\n",
       "      <th>1</th>\n",
       "      <td>€234.57</td>\n",
       "    </tr>\n",
       "  </tbody>\n",
       "</table>\n",
       "</div>"
      ],
      "text/plain": [
       "  float_column\n",
       "0      €123.46\n",
       "1      €234.57"
      ]
     },
     "execution_count": null,
     "metadata": {},
     "output_type": "execute_result"
    }
   ],
   "source": [
    "df = pd.DataFrame(\n",
    "    {\n",
    "        \"float_column\": [123.4567, 234.5678],\n",
    "        \"string_column\": [\"bar\", \"baz\"],\n",
    "        \"int_column\": [5020304, 1305060],\n",
    "    }\n",
    ")\n",
    "\n",
    "format_str = \"{'float_column': '€{:,.2f}'}\"\n",
    "df = customize_output_format(format_str, df)\n",
    "assert len(df.columns) == 1\n",
    "df"
   ]
  },
  {
   "cell_type": "code",
   "execution_count": null,
   "metadata": {},
   "outputs": [],
   "source": [
    "# | export\n",
    "\n",
    "\n",
    "def separate_integers_and_strings(xs: List[str]) -> List[Union[int, str]]:\n",
    "    \"\"\"Seperate integers and strings from the list of strings\n",
    "\n",
    "    Args:\n",
    "        xs: List containing string inputs\n",
    "\n",
    "    Returns:\n",
    "        A list containing the integers and strings\n",
    "    \"\"\"\n",
    "    return [int(v) if v.isdigit() else v for v in xs]"
   ]
  },
  {
   "cell_type": "code",
   "execution_count": null,
   "metadata": {},
   "outputs": [
    {
     "data": {
      "text/plain": [
       "[0, 10, 20, 'abc']"
      ]
     },
     "execution_count": null,
     "metadata": {},
     "output_type": "execute_result"
    }
   ],
   "source": [
    "_str = [\"0\", \"10\", \"20\", \"abc\"]\n",
    "expected = [0, 10, 20, \"abc\"]\n",
    "\n",
    "actual = separate_integers_and_strings(_str)\n",
    "assert actual == expected\n",
    "actual"
   ]
  },
  {
   "cell_type": "code",
   "execution_count": null,
   "metadata": {},
   "outputs": [],
   "source": [
    "# | export\n",
    "\n",
    "\n",
    "def echo_formatted_output(df: pd.DataFrame):\n",
    "    \"\"\"Echo the formatted output to the terminal\n",
    "\n",
    "    Args:\n",
    "        df: Input DataFrame\n",
    "    \"\"\"\n",
    "    if len(df.columns) > 1:\n",
    "        typer.echo(tabulate(df, headers=\"keys\", tablefmt=\"plain\", showindex=False))  # type: ignore\n",
    "    else:\n",
    "        single_col_results = df.iloc[:, 0].astype(str).to_list()\n",
    "        typer.echo(\"\\n\".join(single_col_results))"
   ]
  },
  {
   "cell_type": "code",
   "execution_count": null,
   "metadata": {},
   "outputs": [],
   "source": [
    "# test context manager for capturing the output printed to stdout\n",
    "# This function to test typer outputs\n",
    "class Capturing(list):\n",
    "    def __enter__(self):\n",
    "        self._stdout = sys.stdout\n",
    "        sys.stdout = self._stringio = StringIO()\n",
    "        return self\n",
    "\n",
    "    def __exit__(self, *args):\n",
    "        self.extend(self._stringio.getvalue().splitlines())\n",
    "        del self._stringio  # free up some memory\n",
    "        sys.stdout = self._stdout"
   ]
  },
  {
   "cell_type": "code",
   "execution_count": null,
   "metadata": {},
   "outputs": [
    {
     "data": {
      "text/plain": [
       "\"['  a    b', '  1    4', '  2    5', '  3    6']\""
      ]
     },
     "metadata": {},
     "output_type": "display_data"
    }
   ],
   "source": [
    "df = pd.DataFrame({\"a\": [1, 2, 3], \"b\": [4, 5, 6]})\n",
    "\n",
    "with Capturing() as output:\n",
    "    echo_formatted_output(df)\n",
    "\n",
    "display(str(output))\n",
    "assert \"a    b\" in str(output)"
   ]
  },
  {
   "cell_type": "code",
   "execution_count": null,
   "metadata": {},
   "outputs": [
    {
     "data": {
      "text/plain": [
       "\"['1', '2', '3']\""
      ]
     },
     "metadata": {},
     "output_type": "display_data"
    }
   ],
   "source": [
    "df = pd.DataFrame({\"a\": [1, 2, 3]})\n",
    "\n",
    "with Capturing() as output:\n",
    "    echo_formatted_output(df)\n",
    "\n",
    "display(str(output))\n",
    "assert \"['1', '2', '3']\" in str(output)"
   ]
  },
  {
   "cell_type": "code",
   "execution_count": null,
   "metadata": {},
   "outputs": [],
   "source": [
    "# | export\n",
    "\n",
    "\n",
    "def display_formated_table(func):\n",
    "    \"\"\"A decorator function to format the CLI table output\"\"\"\n",
    "\n",
    "    @functools.wraps(func)\n",
    "    def wrapper(*args, **kwargs):\n",
    "        # Do something before\n",
    "        result_dict = func(*args, **kwargs)\n",
    "        # Do something after\n",
    "\n",
    "        df = result_dict[\"df\"]\n",
    "        quite_column_name = (\n",
    "            result_dict[\"quite_column_name\"]\n",
    "            if \"quite_column_name\" in result_dict\n",
    "            else \"uuid\"\n",
    "        )\n",
    "\n",
    "        if kwargs[\"format\"]:\n",
    "            df = customize_output_format(kwargs[\"format\"], df)\n",
    "            echo_formatted_output(df)\n",
    "\n",
    "        elif \"quiet\" in kwargs and kwargs[\"quiet\"]:\n",
    "            ids = df[quite_column_name].astype(str).to_list()\n",
    "            typer.echo(\"\\n\".join(ids))\n",
    "\n",
    "        else:\n",
    "            typer.echo(\n",
    "                tabulate(\n",
    "                    result_dict[\"df\"],\n",
    "                    headers=\"keys\",\n",
    "                    tablefmt=\"plain\",\n",
    "                    showindex=False,\n",
    "                    missingval=\"<none>\",\n",
    "                )\n",
    "            )\n",
    "\n",
    "    return wrapper"
   ]
  },
  {
   "cell_type": "code",
   "execution_count": null,
   "metadata": {},
   "outputs": [
    {
     "name": "stderr",
     "output_type": "stream",
     "text": [
      "Not a valid python expression: {'uuid': asd}\n",
      "An example of a valid formatting string: {'uuid': '{:,d}', 'name': '{}'}\n"
     ]
    },
    {
     "data": {
      "text/plain": [
       "\"['1', '2', '3']\""
      ]
     },
     "metadata": {},
     "output_type": "display_data"
    },
    {
     "data": {
      "text/plain": [
       "\"['name      uuid', 'a            1', 'b            2', 'None         3']\""
      ]
     },
     "metadata": {},
     "output_type": "display_data"
    },
    {
     "data": {
      "text/plain": [
       "\"['  uuid  name', '     1  a', '     2  b', '     3  <none>']\""
      ]
     },
     "metadata": {},
     "output_type": "display_data"
    },
    {
     "data": {
      "text/plain": [
       "\"['1', '2', '3']\""
      ]
     },
     "metadata": {},
     "output_type": "display_data"
    }
   ],
   "source": [
    "@display_formated_table\n",
    "def test_display_formated_table(format, quiet):\n",
    "    df = pd.DataFrame({\"uuid\": [1, 2, 3], \"name\": [\"a\", \"b\", None]})\n",
    "    return {\"df\": df}\n",
    "\n",
    "\n",
    "# Negative scenario: Testing with invalid format\n",
    "with Capturing() as output:\n",
    "    format = \"{'uuid': asd}\"\n",
    "    quiet = False\n",
    "    with pytest.raises(typer.Exit) as e:\n",
    "        test_display_formated_table(format=format, quiet=quiet)\n",
    "\n",
    "# Positive scenario: Setting format to valid format to only one column and quiet = False\n",
    "with Capturing() as output:\n",
    "    format = \"{'uuid': '{}'}\"\n",
    "    quiet = False\n",
    "    test_display_formated_table(format=format, quiet=quiet)\n",
    "\n",
    "display(str(output))\n",
    "assert str(output) == \"['1', '2', '3']\"\n",
    "\n",
    "# Positive scenario: Setting format to valid format and quiet=False\n",
    "with Capturing() as output:\n",
    "    format = \"{'name': '{}', 'uuid': '{}'}\"\n",
    "    quiet = False\n",
    "    test_display_formated_table(format=format, quiet=quiet)\n",
    "\n",
    "display(str(output))\n",
    "assert \"'name      uuid'\" in str(output)\n",
    "\n",
    "# Positive scenario: Setting format=None and quiet=False\n",
    "with Capturing() as output:\n",
    "    format = None\n",
    "    quiet = False\n",
    "    test_display_formated_table(format=format, quiet=quiet)\n",
    "\n",
    "display(str(output))\n",
    "assert \"'  uuid  name'\" in str(output)\n",
    "\n",
    "# Positive scenario: Setting format=None and quiet=True\n",
    "with Capturing() as output:\n",
    "    format = None\n",
    "    quiet = True\n",
    "    test_display_formated_table(format=format, quiet=quiet)\n",
    "\n",
    "display(str(output))\n",
    "assert \"'1'\" in str(output)"
   ]
  },
  {
   "cell_type": "code",
   "execution_count": null,
   "metadata": {},
   "outputs": [],
   "source": [
    "# | exporti\n",
    "\n",
    "\n",
    "def requires_totp_or_otp(\n",
    "    message_template_name: str, no_retries: int = 3, requires_auth_token: bool = True\n",
    "):\n",
    "    \"\"\"A decorator function to prompt users to enter a valid totp or otp\"\"\"\n",
    "\n",
    "    def wrapper_fn(f):\n",
    "        @functools.wraps(f)\n",
    "        def new_wrapper(*args, **kwargs):\n",
    "            if requires_auth_token:\n",
    "                try:\n",
    "                    Client(\n",
    "                        auth_token=os.environ[SERVICE_TOKEN],\n",
    "                        server=os.environ.get(SERVER_URL, None),\n",
    "                    )\n",
    "                except KeyError as e:\n",
    "                    typer.echo(\n",
    "                        message=f\"KeyError: The environment variable {e} is not set.\",\n",
    "                        err=True,\n",
    "                    )\n",
    "\n",
    "                    if f\"'{SERVICE_TOKEN}'\" in str(e):\n",
    "                        typer.echo(\n",
    "                            f\"\\nPlease run the command '{CLIENT_NAME} token' to get the application token and set it in the \"\n",
    "                            f\"environment variable `{SERVICE_TOKEN}`.\"\n",
    "                        )\n",
    "                        typer.echo(f\"\\nTry '{CLIENT_NAME} token --help' for help.\")\n",
    "\n",
    "                    raise typer.Exit(code=1)\n",
    "\n",
    "            # Non-Interactive mode\n",
    "            if kwargs[\"otp\"] is not None:\n",
    "                try:\n",
    "                    return f(*args, **kwargs)\n",
    "                except Exception as e:\n",
    "                    raise typer.Exit(code=1)\n",
    "            else:\n",
    "                # Interactive mode\n",
    "                if not requires_auth_token:\n",
    "                    try:\n",
    "                        return f(*args, **kwargs)\n",
    "                    except ValueError as e:\n",
    "                        pass\n",
    "                typer.echo(\"\\nPlease choose an option\\n\\n\")\n",
    "                while True:\n",
    "                    typer.echo(\n",
    "                        \"[1] Use the dynamically generated six-digit verification code from the authenticator application\\n\"\n",
    "                    )\n",
    "                    typer.echo(\n",
    "                        \"[2] Request the OTP via SMS to the registered phone number\\n\"\n",
    "                    )\n",
    "                    typer.echo(\n",
    "                        \"If you cannot access the authenticator application and your registered phone number, please contact your administrator.\\n\"\n",
    "                    )\n",
    "\n",
    "                    user_option = typer.prompt(\"Enter your option\")\n",
    "\n",
    "                    if user_option in [\"1\", \"2\"]:\n",
    "                        break\n",
    "                    typer.echo(\"Please enter a valid option\")\n",
    "\n",
    "                if user_option == \"1\":\n",
    "                    for i in range(no_retries):\n",
    "                        _totp = typer.prompt(\n",
    "                            \"Please enter the OTP displayed in the authenticator app\"\n",
    "                        )\n",
    "                        kwargs[\"otp\"] = _totp\n",
    "                        try:\n",
    "                            return f(*args, **kwargs)\n",
    "                        except ValueError as e:\n",
    "                            pass\n",
    "                    raise typer.Exit(code=1)\n",
    "                else:\n",
    "                    if requires_auth_token:\n",
    "                        username = User.details()[\"username\"]\n",
    "                    else:\n",
    "                        username = (\n",
    "                            kwargs[\"username\"]\n",
    "                            if kwargs[\"username\"] is not None\n",
    "                            else os.environ.get(SERVICE_USERNAME)\n",
    "                        )\n",
    "                    sms_status = User.send_sms_otp(\n",
    "                        username=username, message_template_name=message_template_name\n",
    "                    )\n",
    "                    typer.echo(f\"\\n{sms_status}\\n\")\n",
    "                    for i in range(no_retries):\n",
    "                        _sms_otp = typer.prompt(\n",
    "                            f\"Please enter the One-Time Password (OTP) you received on your registered phone number\"\n",
    "                        )\n",
    "                        kwargs[\"otp\"] = _sms_otp\n",
    "                        try:\n",
    "                            return f(*args, **kwargs)\n",
    "                        except ValueError as e:\n",
    "                            pass\n",
    "                    raise typer.Exit(code=1)\n",
    "\n",
    "        return new_wrapper\n",
    "\n",
    "    return wrapper_fn"
   ]
  },
  {
   "cell_type": "code",
   "execution_count": null,
   "metadata": {},
   "outputs": [
    {
     "data": {
      "text/plain": [
       "<ExceptionInfo Exit() tblen=2>"
      ]
     },
     "metadata": {},
     "output_type": "display_data"
    }
   ],
   "source": [
    "with set_airt_service_token_envvar():\n",
    "\n",
    "    @requires_totp_or_otp(message_template_name=\"test_message_template_name\")\n",
    "    def foo(otp):\n",
    "        return 1 / otp\n",
    "\n",
    "    with pytest.raises(Exception) as e:\n",
    "        foo(otp=0)\n",
    "    display(e)\n",
    "\n",
    "    foo(otp=1)"
   ]
  },
  {
   "cell_type": "code",
   "execution_count": null,
   "metadata": {},
   "outputs": [],
   "source": [
    "# | export\n",
    "\n",
    "\n",
    "def requires_totp(no_retries: int = 3):\n",
    "    \"\"\"A decorator function to prompt users to enter a valid totp\"\"\"\n",
    "\n",
    "    def wrapper_fn(f):\n",
    "        @functools.wraps(f)\n",
    "        def new_wrapper(*args, **kwargs):\n",
    "            # Non-Interactive mode\n",
    "            if kwargs[\"otp\"] is not None:\n",
    "                try:\n",
    "                    return f(*args, **kwargs)\n",
    "                except Exception as e:\n",
    "                    raise typer.Exit(code=1)\n",
    "            else:\n",
    "                # Interactive mode\n",
    "                _activation_otp = None\n",
    "                for i in range(no_retries):\n",
    "                    if _activation_otp is not None:\n",
    "                        kwargs[\"otp\"] = _activation_otp\n",
    "                    try:\n",
    "                        return f(*args, **kwargs)\n",
    "                    except ValueError as e:\n",
    "                        _activation_otp = typer.prompt(\n",
    "                            \"Please enter the OTP displayed in the authenticator app\"\n",
    "                        )\n",
    "                raise typer.Exit(code=1)\n",
    "\n",
    "        return new_wrapper\n",
    "\n",
    "    return wrapper_fn"
   ]
  },
  {
   "cell_type": "code",
   "execution_count": null,
   "metadata": {},
   "outputs": [
    {
     "data": {
      "text/plain": [
       "<ExceptionInfo Exit() tblen=2>"
      ]
     },
     "metadata": {},
     "output_type": "display_data"
    },
    {
     "data": {
      "text/plain": [
       "1.0"
      ]
     },
     "execution_count": null,
     "metadata": {},
     "output_type": "execute_result"
    }
   ],
   "source": [
    "@requires_totp(3)\n",
    "def foo(otp):\n",
    "    return 1 / otp\n",
    "\n",
    "\n",
    "with pytest.raises(Exception) as e:\n",
    "    foo(otp=0)\n",
    "display(e)\n",
    "\n",
    "foo(otp=1)"
   ]
  },
  {
   "cell_type": "code",
   "execution_count": null,
   "metadata": {},
   "outputs": [],
   "source": [
    "# | exporti\n",
    "\n",
    "PHONE_REGISTRATION_STATUS = {\n",
    "    \"not_registered\": (\n",
    "        \"\\n\\nPlease take a moment to register and verify your phone number. If you forget your password or cannot access your account, you can request \"\n",
    "        \"the OTP to your registered phone number to regain access. \\nTo register a new phone number, please set the token in the AIRT_SERVICE_TOKEN environment \"\n",
    "        f\"variable and execute the below command with your phone number and follow the on-screen instructions:\\n\\n{CLIENT_NAME} user register-phone-number --phone-number\"\n",
    "    ),\n",
    "    \"not_validated\": (\n",
    "        \"\\n\\nYour phone number is added to your account but not yet verified. Please take a moment to register and verify your phone number. If you forget \"\n",
    "        \"your password or cannot access your account, you can request the OTP to your registered phone number to regain access. \\nTo register a new phone number, please set \"\n",
    "        \"the token in the AIRT_SERVICE_TOKEN environment variable and execute the below command with your phone number and follow the on-screen instructions:\"\n",
    "        f\"\\n\\n{CLIENT_NAME} user register-phone-number\"\n",
    "        \"\\n\\nIn case you want to register a new number, please execute the below command with your new phone number:\"\n",
    "        f\"\\n\\n{CLIENT_NAME} user register-phone-number --phone-number\"\n",
    "    ),\n",
    "}"
   ]
  },
  {
   "cell_type": "code",
   "execution_count": null,
   "metadata": {},
   "outputs": [],
   "source": [
    "# | export\n",
    "\n",
    "\n",
    "def get_phone_registration_status(xs: Dict[str, Union[str, bool]]) -> Optional[str]:\n",
    "    \"\"\"Get the phone number registration status\n",
    "\n",
    "    Args:\n",
    "        xs: A dict containing the user details\n",
    "\n",
    "    Returns:\n",
    "        None, if the user phone number is registred and validated. Else, a message containing the current state of the phone number registration process.\n",
    "    \"\"\"\n",
    "    if not xs[\"phone_number\"]:\n",
    "        return PHONE_REGISTRATION_STATUS[\"not_registered\"]\n",
    "    if not xs[\"is_phone_number_verified\"]:\n",
    "        return PHONE_REGISTRATION_STATUS[\"not_validated\"]\n",
    "    return None"
   ]
  },
  {
   "cell_type": "code",
   "execution_count": null,
   "metadata": {},
   "outputs": [
    {
     "data": {
      "text/plain": [
       "None"
      ]
     },
     "metadata": {},
     "output_type": "display_data"
    }
   ],
   "source": [
    "xs = {\n",
    "    \"username\": \"random_username\",\n",
    "    \"first_name\": \"random-username\",\n",
    "    \"last_name\": \"random-\",\n",
    "    \"email\": \"random_user@mail.com\",\n",
    "    \"subscription_type\": \"small\",\n",
    "    \"super_user\": False,\n",
    "    \"is_mfa_active\": False,\n",
    "    \"phone_number\": \"441111111111\",\n",
    "    \"is_phone_number_verified\": True,\n",
    "    \"uuid\": \"00000000-0000-0000-0000-000000000000\",\n",
    "    \"disabled\": False,\n",
    "    \"created\": \"2022-09-14T08:54:54\",\n",
    "}\n",
    "\n",
    "actual = get_phone_registration_status(xs)\n",
    "expected = None\n",
    "\n",
    "display(actual)\n",
    "assert actual == expected"
   ]
  },
  {
   "cell_type": "code",
   "execution_count": null,
   "metadata": {},
   "outputs": [
    {
     "data": {
      "text/plain": [
       "'\\n\\nPlease take a moment to register and verify your phone number. If you forget your password or cannot access your account, you can request the OTP to your registered phone number to regain access. \\nTo register a new phone number, please set the token in the AIRT_SERVICE_TOKEN environment variable and execute the below command with your phone number and follow the on-screen instructions:\\n\\nairt user register-phone-number --phone-number'"
      ]
     },
     "metadata": {},
     "output_type": "display_data"
    }
   ],
   "source": [
    "xs = {\n",
    "    \"username\": \"random_username\",\n",
    "    \"first_name\": \"random-username\",\n",
    "    \"last_name\": \"random-\",\n",
    "    \"email\": \"random_user@mail.com\",\n",
    "    \"subscription_type\": \"small\",\n",
    "    \"super_user\": False,\n",
    "    \"is_mfa_active\": False,\n",
    "    \"phone_number\": None,\n",
    "    \"is_phone_number_verified\": False,\n",
    "    \"uuid\": \"00000000-0000-0000-0000-000000000000\",\n",
    "    \"disabled\": False,\n",
    "    \"created\": \"2022-09-14T08:54:54\",\n",
    "}\n",
    "\n",
    "actual = get_phone_registration_status(xs)\n",
    "expected = PHONE_REGISTRATION_STATUS[\"not_registered\"]\n",
    "\n",
    "display(actual)\n",
    "assert actual == expected"
   ]
  },
  {
   "cell_type": "code",
   "execution_count": null,
   "metadata": {},
   "outputs": [
    {
     "data": {
      "text/plain": [
       "'\\n\\nYour phone number is added to your account but not yet verified. Please take a moment to register and verify your phone number. If you forget your password or cannot access your account, you can request the OTP to your registered phone number to regain access. \\nTo register a new phone number, please set the token in the AIRT_SERVICE_TOKEN environment variable and execute the below command with your phone number and follow the on-screen instructions:\\n\\nairt user register-phone-number\\n\\nIn case you want to register a new number, please execute the below command with your new phone number:\\n\\nairt user register-phone-number --phone-number'"
      ]
     },
     "metadata": {},
     "output_type": "display_data"
    }
   ],
   "source": [
    "xs = {\n",
    "    \"username\": \"random_username\",\n",
    "    \"first_name\": \"random-username\",\n",
    "    \"last_name\": \"random-\",\n",
    "    \"email\": \"random_user@mail.com\",\n",
    "    \"subscription_type\": \"small\",\n",
    "    \"super_user\": False,\n",
    "    \"is_mfa_active\": False,\n",
    "    \"phone_number\": 441111111111,\n",
    "    \"is_phone_number_verified\": False,\n",
    "    \"uuid\": \"00000000-0000-0000-0000-000000000000\",\n",
    "    \"disabled\": False,\n",
    "    \"created\": \"2022-09-14T08:54:54\",\n",
    "}\n",
    "\n",
    "actual = get_phone_registration_status(xs)\n",
    "expected = PHONE_REGISTRATION_STATUS[\"not_validated\"]\n",
    "\n",
    "display(actual)\n",
    "assert actual == expected"
   ]
  },
  {
   "cell_type": "code",
   "execution_count": null,
   "metadata": {},
   "outputs": [],
   "source": []
  }
 ],
 "metadata": {
  "kernelspec": {
   "display_name": "Python 3 (ipykernel)",
   "language": "python",
   "name": "python3"
  }
 },
 "nbformat": 4,
 "nbformat_minor": 2
}
