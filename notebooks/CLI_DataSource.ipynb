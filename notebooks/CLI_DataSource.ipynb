{
 "cells": [
  {
   "cell_type": "raw",
   "metadata": {},
   "source": [
    "---\n",
    "description: This module encapsulates a CLI interface for all the methods available\n",
    "  in DataSource class\n",
    "output-file: cli_datasource.html\n",
    "title: CLI_DataSource\n",
    "\n",
    "---\n",
    "\n"
   ]
  },
  {
   "cell_type": "code",
   "execution_count": null,
   "metadata": {},
   "outputs": [],
   "source": [
    "#| default_exp cli.ds"
   ]
  },
  {
   "cell_type": "code",
   "execution_count": null,
   "metadata": {},
   "outputs": [
    {
     "name": "stdout",
     "output_type": "stream",
     "text": [
      "[INFO] airt.testing.activate_by_import: Testing environment activated.\n"
     ]
    }
   ],
   "source": [
    "from airt.testing import activate_by_import"
   ]
  },
  {
   "cell_type": "code",
   "execution_count": null,
   "metadata": {},
   "outputs": [],
   "source": [
    "#| export\n",
    "\n",
    "from typing import *"
   ]
  },
  {
   "cell_type": "code",
   "execution_count": null,
   "metadata": {},
   "outputs": [],
   "source": [
    "#| exporti\n",
    "\n",
    "import os\n",
    "\n",
    "import typer\n",
    "from typer import echo\n",
    "from tabulate import tabulate\n",
    "import datetime as dt\n",
    "import pandas as pd\n",
    "\n",
    "from airt.client import Client\n",
    "from airt.cli import helper\n",
    "from airt.logger import get_logger, set_level"
   ]
  },
  {
   "cell_type": "code",
   "execution_count": null,
   "metadata": {},
   "outputs": [],
   "source": [
    "import tempfile\n",
    "import shutil\n",
    "from pathlib import Path\n",
    "from urllib.parse import quote_plus as urlquote\n",
    "from contextlib import contextmanager\n",
    "\n",
    "import logging\n",
    "import pytest\n",
    "\n",
    "from typer.testing import CliRunner\n",
    "from sqlmodel import create_engine\n",
    "\n",
    "import airt.sanitizer\n",
    "from airt.components.progress_status import ProgressStatus\n",
    "from airt.components.datablob import DataBlob\n",
    "from airt.constant import SERVICE_USERNAME, SERVICE_PASSWORD, SERVICE_TOKEN"
   ]
  },
  {
   "cell_type": "code",
   "execution_count": null,
   "metadata": {},
   "outputs": [],
   "source": [
    "#| exporti\n",
    "\n",
    "app = typer.Typer(\n",
    "    help=\"A set of commands for managing datasources and training ML models on them.\"\n",
    ")"
   ]
  },
  {
   "cell_type": "code",
   "execution_count": null,
   "metadata": {},
   "outputs": [],
   "source": [
    "runner = CliRunner()"
   ]
  },
  {
   "cell_type": "code",
   "execution_count": null,
   "metadata": {},
   "outputs": [],
   "source": [
    "#| export\n",
    "\n",
    "logger = get_logger(__name__)"
   ]
  },
  {
   "cell_type": "code",
   "execution_count": null,
   "metadata": {},
   "outputs": [],
   "source": [
    "set_level(logging.WARNING)"
   ]
  },
  {
   "cell_type": "code",
   "execution_count": null,
   "metadata": {},
   "outputs": [
    {
     "data": {
      "text/plain": [
       "30"
      ]
     },
     "metadata": {},
     "output_type": "display_data"
    },
    {
     "name": "stdout",
     "output_type": "stream",
     "text": [
      "[WARNING] __main__: This is a warning\n",
      "[ERROR] __main__: This is an error\n"
     ]
    }
   ],
   "source": [
    "# Testing logger settings\n",
    "\n",
    "display(logger.getEffectiveLevel())\n",
    "assert logger.getEffectiveLevel() == logging.WARNING\n",
    "\n",
    "logger.debug(\"This is a debug message\")\n",
    "logger.info(\"This is an info\")\n",
    "logger.warning(\"This is a warning\")\n",
    "logger.error(\"This is an error\")"
   ]
  },
  {
   "cell_type": "code",
   "execution_count": null,
   "metadata": {},
   "outputs": [],
   "source": [
    "# Helper context manager for testing\n",
    "\n",
    "_airt_service_token = None\n",
    "\n",
    "\n",
    "@contextmanager\n",
    "def set_airt_service_token_envvar():\n",
    "    global _airt_service_token\n",
    "    if _airt_service_token is None:\n",
    "        display(\"_airt_service_token is None, getting a token...\")\n",
    "        \n",
    "        username = os.environ[SERVICE_USERNAME]\n",
    "        password = os.environ[SERVICE_PASSWORD]\n",
    "\n",
    "        Client.get_token(username=username, password=password)\n",
    "        _airt_service_token = Client.auth_token\n",
    "\n",
    "    try:\n",
    "        os.environ[SERVICE_TOKEN] = _airt_service_token\n",
    "\n",
    "        yield\n",
    "    finally:\n",
    "        del os.environ[SERVICE_TOKEN]"
   ]
  },
  {
   "cell_type": "code",
   "execution_count": null,
   "metadata": {},
   "outputs": [
    {
     "data": {
      "text/plain": [
       "'_airt_service_token is None, getting a token...'"
      ]
     },
     "metadata": {},
     "output_type": "display_data"
    },
    {
     "data": {
      "text/plain": [
       "'*******************************************************************************************************************************'"
      ]
     },
     "metadata": {},
     "output_type": "display_data"
    }
   ],
   "source": [
    "with set_airt_service_token_envvar():\n",
    "    display(\"*\" * len((os.environ[SERVICE_TOKEN])))"
   ]
  },
  {
   "cell_type": "code",
   "execution_count": null,
   "metadata": {},
   "outputs": [],
   "source": [
    "TEST_S3_URI = \"s3://test-airt-service/ecommerce_behavior_notebooks\"\n",
    "RANDOM_UUID_FOR_TESTING = \"00000000-0000-0000-0000-000000000000\""
   ]
  },
  {
   "cell_type": "code",
   "execution_count": null,
   "metadata": {},
   "outputs": [],
   "source": [
    "#| exporti\n",
    "\n",
    "\n",
    "@app.command()\n",
    "@helper.requires_auth_token\n",
    "def dtypes(\n",
    "    uuid: str = typer.Argument(\n",
    "        ...,\n",
    "        help=\"Datasource uuid.\",\n",
    "    ),\n",
    "    debug: bool = typer.Option(\n",
    "        False,\n",
    "        \"--debug\",\n",
    "        \"-d\",\n",
    "        help=\"Set logger level to DEBUG and output everything.\",\n",
    "    ),\n",
    ") -> None:\n",
    "    \"\"\"Return the dtypes of the datasource.\"\"\"\n",
    "\n",
    "    from airt.client import DataSource\n",
    "\n",
    "    ds = DataSource(uuid=uuid)\n",
    "    dtypes = ds.dtypes.T.rename(columns={0: \"dtype\"})\n",
    "    typer.echo(dtypes)"
   ]
  },
  {
   "cell_type": "code",
   "execution_count": null,
   "metadata": {},
   "outputs": [],
   "source": [
    "def assert_has_help(xs: List[str]):\n",
    "    result = runner.invoke(app, xs + [\"--help\"])\n",
    "\n",
    "    display(result.stdout)\n",
    "    assert \" \".join(xs) in result.stdout"
   ]
  },
  {
   "cell_type": "code",
   "execution_count": null,
   "metadata": {},
   "outputs": [
    {
     "data": {
      "text/plain": [
       "'Usage: dtypes [OPTIONS] UUID\\n\\n  Return the dtypes of the datasource.\\n\\nArguments:\\n  UUID  Datasource uuid.  [required]\\n\\nOptions:\\n  -d, --debug                     Set logger level to DEBUG and output\\n                                  everything.\\n  --install-completion [bash|zsh|fish|powershell|pwsh]\\n                                  Install completion for the specified shell.\\n  --show-completion [bash|zsh|fish|powershell|pwsh]\\n                                  Show completion for the specified shell, to\\n                                  copy it or customize the installation.\\n  --help                          Show this message and exit.\\n'"
      ]
     },
     "metadata": {},
     "output_type": "display_data"
    }
   ],
   "source": [
    "assert_has_help([\"dtypes\"])"
   ]
  },
  {
   "cell_type": "code",
   "execution_count": null,
   "metadata": {},
   "outputs": [],
   "source": [
    "# helper function to create a s3 datasource\n",
    "\n",
    "_ds = None\n",
    "@contextmanager\n",
    "def generate_ds(force_create: bool = False):\n",
    "    global _ds\n",
    "    \n",
    "    if _ds is None or force_create:\n",
    "        \n",
    "        # Create a s3 datasource\n",
    "        db = DataBlob.from_s3(\n",
    "            uri=TEST_S3_URI,\n",
    "            access_key=os.environ[\"AWS_ACCESS_KEY_ID\"],\n",
    "            secret_key=os.environ[\"AWS_SECRET_ACCESS_KEY\"],\n",
    "            cloud_provider=\"aws\",\n",
    "            region=\"eu-west-1\",\n",
    "        )\n",
    "\n",
    "        db.progress_bar()\n",
    "        display(f\"{db.uuid=}\")\n",
    "        assert len (db.uuid.replace('-', '')) == 32\n",
    "\n",
    "        _ds = db.to_datasource(\n",
    "            file_type=\"parquet\",\n",
    "            index_column=\"user_id\",\n",
    "            sort_by=\"event_time\"\n",
    "        )\n",
    "\n",
    "        display(f\"{_ds.uuid=}\")\n",
    "        assert len (_ds.uuid.replace('-', '')) == 32\n",
    "        \n",
    "        _ds.progress_bar()\n",
    " \n",
    "    yield _ds"
   ]
  },
  {
   "cell_type": "code",
   "execution_count": null,
   "metadata": {},
   "outputs": [
    {
     "name": "stderr",
     "output_type": "stream",
     "text": [
      "100%|██████████| 1/1 [00:15<00:00, 15.18s/it]\n"
     ]
    },
    {
     "data": {
      "text/plain": [
       "\"db.uuid='28db0282-5972-4f71-8fc8-e704e745817d'\""
      ]
     },
     "metadata": {},
     "output_type": "display_data"
    },
    {
     "data": {
      "text/plain": [
       "\"_ds.uuid='85e61f59-ebb2-4f97-b7b5-64dfb7461c8d'\""
      ]
     },
     "metadata": {},
     "output_type": "display_data"
    },
    {
     "name": "stderr",
     "output_type": "stream",
     "text": [
      "100%|██████████| 1/1 [00:30<00:00, 30.32s/it]\n"
     ]
    },
    {
     "data": {
      "text/plain": [
       "'                             dtype\\nevent_time     datetime64[ns, UTC]\\nevent_type                  object\\nproduct_id                   int64\\ncategory_id                  int64\\ncategory_code               object\\nbrand                       object\\nprice                      float64\\nuser_session                object\\n'"
      ]
     },
     "metadata": {},
     "output_type": "display_data"
    }
   ],
   "source": [
    "#| include: false\n",
    "\n",
    "# tests for dtypes\n",
    "# Testing positive scenario\n",
    "\n",
    "with set_airt_service_token_envvar():\n",
    "    with generate_ds() as ds:\n",
    "        ds_uuid = ds.uuid\n",
    "\n",
    "        result = runner.invoke(app, [ds_uuid])\n",
    "\n",
    "        display(result.stdout)\n",
    "\n",
    "        assert result.exit_code == 0, f\"{result.exit_code=} {result.stdout=}\"\n",
    "        assert len(result.stdout[:-1].split(\"\\n\")) == 9, result.stdout[:-1].split(\"\\n\")"
   ]
  },
  {
   "cell_type": "code",
   "execution_count": null,
   "metadata": {},
   "outputs": [],
   "source": [
    "#| exporti\n",
    "\n",
    "\n",
    "@app.command()\n",
    "@helper.display_formated_table\n",
    "@helper.requires_auth_token\n",
    "def head(\n",
    "    uuid: str = typer.Argument(\n",
    "        ...,\n",
    "        help=\"Datasource uuid.\",\n",
    "    ),\n",
    "    format: Optional[str] = typer.Option(\n",
    "        None,\n",
    "        \"--format\",\n",
    "        \"-f\",\n",
    "        help=\"Format output and show only the given column(s) values.\"\n",
    "    ),\n",
    "    debug: bool = typer.Option(\n",
    "        False,\n",
    "        \"--debug\",\n",
    "        \"-d\",\n",
    "        help=\"Set logger level to DEBUG and output everything.\",\n",
    "    ),\n",
    ") -> Dict[\"str\", Union[pd.DataFrame, str]]:\n",
    "    \"\"\"Return the first few rows of the datasource.\"\"\"\n",
    "\n",
    "    from airt.client import DataSource\n",
    "\n",
    "    ds = DataSource(uuid=uuid)\n",
    "    df = ds.head()\n",
    "    \n",
    "    return {\"df\": df}"
   ]
  },
  {
   "cell_type": "code",
   "execution_count": null,
   "metadata": {},
   "outputs": [
    {
     "data": {
      "text/plain": [
       "'Usage: root head [OPTIONS] UUID\\n\\n  Return the first few rows of the datasource.\\n\\nArguments:\\n  UUID  Datasource uuid.  [required]\\n\\nOptions:\\n  -f, --format TEXT  Format output and show only the given column(s) values.\\n  -d, --debug        Set logger level to DEBUG and output everything.\\n  --help             Show this message and exit.\\n'"
      ]
     },
     "metadata": {},
     "output_type": "display_data"
    }
   ],
   "source": [
    "#| include: false\n",
    "\n",
    "assert_has_help([\"head\"])"
   ]
  },
  {
   "cell_type": "code",
   "execution_count": null,
   "metadata": {},
   "outputs": [
    {
     "data": {
      "text/plain": [
       "'product_id    event_time\\n1,304,297     2019-11-03 14:26:26+00:00\\n1,306,310     2019-11-03 14:26:38+00:00\\n1,306,310     2019-11-04 05:56:10+00:00\\n1,306,265     2019-11-01 02:23:03+00:00\\n1,306,952     2019-11-06 15:23:02+00:00\\n1,306,952     2019-11-06 15:23:43+00:00\\n1,307,053     2019-11-06 15:23:55+00:00\\n1,307,345     2019-11-02 08:09:20+00:00\\n1,306,609     2019-11-02 08:10:59+00:00\\n1,307,354     2019-11-02 08:14:46+00:00\\n'"
      ]
     },
     "metadata": {},
     "output_type": "display_data"
    }
   ],
   "source": [
    "# tests for head\n",
    "# Testing positive scenario\n",
    "\n",
    "with set_airt_service_token_envvar():\n",
    "    with generate_ds() as ds:\n",
    "        ds_uuid = ds.uuid\n",
    "    \n",
    "        format_str = \"{'product_id': '{:,d}', 'event_time': '{}'}\"\n",
    "        result = runner.invoke(app, [\"head\", ds_uuid, \"--format\", format_str])\n",
    "\n",
    "        display(result.stdout)\n",
    "\n",
    "        assert result.exit_code == 0\n",
    "        assert len(result.stdout[:-1].split(\"\\n\")) == 11"
   ]
  },
  {
   "cell_type": "code",
   "execution_count": null,
   "metadata": {},
   "outputs": [],
   "source": [
    "#| exporti\n",
    "\n",
    "\n",
    "@app.command()\n",
    "@helper.display_formated_table\n",
    "@helper.requires_auth_token\n",
    "def ls(\n",
    "    offset: int = typer.Option(\n",
    "        0,\n",
    "        \"--offset\",\n",
    "        \"-o\",\n",
    "        help=\"The number of datasources to offset at the beginning. If **None**, then the default value **0** will be used.\",\n",
    "    ),\n",
    "    limit: int = typer.Option(\n",
    "        100,\n",
    "        \"--limit\",\n",
    "        \"-l\",\n",
    "        help=\"The maximum number of datasources to return from the server. If **None**, then the default value **100** will be used.\",\n",
    "    ),\n",
    "    disabled: bool = typer.Option(\n",
    "        False,\n",
    "        \"--disabled\",\n",
    "        help=\"If set to **True**, then only the deleted datasources will be returned.\" \\\n",
    "            \"Else, the default value **False** will be used to return only the list\" \\\n",
    "            \"of active datasources.\"\n",
    "    ),\n",
    "    completed: bool = typer.Option(\n",
    "        False,\n",
    "        \"--completed\",\n",
    "        help=\"If set to **True**, then only the datasources that are successfully downloaded\" \\\n",
    "            \"to the server will be returned. Else, the default value **False** will be used to\" \\\n",
    "            \"return all the datasources.\"\n",
    "    ),\n",
    "    format: Optional[str] = typer.Option(\n",
    "        None,\n",
    "        \"--format\",\n",
    "        \"-f\",\n",
    "        help=\"Format output and show only the given column(s) values.\"\n",
    "    ),\n",
    "    quiet: bool = typer.Option(\n",
    "        False,\n",
    "        \"--quiet\",\n",
    "        \"-q\",\n",
    "        help=\"Output only datasource uuids separated by space\",\n",
    "    ),\n",
    "    debug: bool = typer.Option(\n",
    "        False,\n",
    "        \"--debug\",\n",
    "        \"-d\",\n",
    "        help=\"Set logger level to DEBUG and output everything.\",\n",
    "    ),\n",
    ") -> Dict[\"str\", Union[pd.DataFrame, str]]:\n",
    "    \"\"\"Return the list of datasources.\"\"\"\n",
    "\n",
    "    from airt.client import DataSource\n",
    "    \n",
    "    dsx = DataSource.ls(offset=offset, limit=limit, disabled=disabled, completed=completed)\n",
    "    df = DataSource.as_df(dsx)\n",
    "\n",
    "    df['pulled_on'] = helper.humanize_date(df['pulled_on'])\n",
    "    df['no_of_rows'] = helper.humanize_number(df['no_of_rows'])\n",
    "    df['folder_size'] = helper.humanize_size(df['folder_size'])\n",
    "    \n",
    "    return {\"df\": df, \"quite_column_name\": \"datasource_uuid\"}"
   ]
  },
  {
   "cell_type": "code",
   "execution_count": null,
   "metadata": {},
   "outputs": [
    {
     "data": {
      "text/plain": [
       "'Usage: root ls [OPTIONS]\\n\\n  Return the list of datasources.\\n\\nOptions:\\n  -o, --offset INTEGER  The number of datasources to offset at the beginning. If\\n                        **None**, then the default value **0** will be used.\\n                        [default: 0]\\n  -l, --limit INTEGER   The maximum number of datasources to return from the\\n                        server. If **None**, then the default value **100** will\\n                        be used.  [default: 100]\\n  --disabled            If set to **True**, then only the deleted datasources\\n                        will be returned.Else, the default value **False** will\\n                        be used to return only the listof active datasources.\\n  --completed           If set to **True**, then only the datasources that are\\n                        successfully downloadedto the server will be returned.\\n                        Else, the default value **False** will be used toreturn\\n                        all the datasources.\\n  -f, --format TEXT     Format output and show only the given column(s) values.\\n  -q, --quiet           Output only datasource uuids separated by space\\n  -d, --debug           Set logger level to DEBUG and output everything.\\n  --help                Show this message and exit.\\n'"
      ]
     },
     "metadata": {},
     "output_type": "display_data"
    }
   ],
   "source": [
    "assert_has_help([\"ls\"])"
   ]
  },
  {
   "cell_type": "code",
   "execution_count": null,
   "metadata": {},
   "outputs": [
    {
     "data": {
      "text/plain": [
       "'datasource_uuid                       datablob_uuid                         region     cloud_provider    tags    pulled_on       no_of_rows    folder_size    ready\\n672146ec-103a-4b4c-8038-139597771127  ceab7670-02b2-4654-9946-26c86ea50d4e  eu-west-1  aws               latest  6 minutes ago   294,599       unknown        False\\n85e61f59-ebb2-4f97-b7b5-64dfb7461c8d  28db0282-5972-4f71-8fc8-e704e745817d  eu-west-1  aws               latest  25 seconds ago  294,599       6.2 MB         True\\n'"
      ]
     },
     "metadata": {},
     "output_type": "display_data"
    },
    {
     "data": {
      "text/plain": [
       "'datasource_uuid                       ready\\n672146ec-103a-4b4c-8038-139597771127  False\\n85e61f59-ebb2-4f97-b7b5-64dfb7461c8d  True\\n'"
      ]
     },
     "metadata": {},
     "output_type": "display_data"
    },
    {
     "data": {
      "text/plain": [
       "'672146ec-103a-4b4c-8038-139597771127\\n85e61f59-ebb2-4f97-b7b5-64dfb7461c8d\\n'"
      ]
     },
     "metadata": {},
     "output_type": "display_data"
    },
    {
     "data": {
      "text/plain": [
       "\"uuids=['672146ec-103a-4b4c-8038-139597771127', '85e61f59-ebb2-4f97-b7b5-64dfb7461c8d']\""
      ]
     },
     "metadata": {},
     "output_type": "display_data"
    }
   ],
   "source": [
    "# Tests for datasource_ls\n",
    "# Testing positive scenario. Saving the token in env variable\n",
    "\n",
    "def get_ids_from_result(result) -> List[int]:\n",
    "    return [uuid for uuid in result.stdout[:-1].split(\"\\n\")]\n",
    "\n",
    "\n",
    "with set_airt_service_token_envvar():\n",
    "    with generate_ds() as ds:\n",
    "\n",
    "        # Without quiet\n",
    "        result = runner.invoke(app, [\"ls\"])\n",
    "        display(result.stdout)\n",
    "\n",
    "        assert \"ready\" in result.stdout, result.stdout\n",
    "        assert result.exit_code == 0\n",
    "\n",
    "        # Without quiet\n",
    "        format_str = \"{'datasource_uuid': '{}', 'ready': '{}'}\"\n",
    "        result = runner.invoke(app, [\"ls\", \"--format\", format_str])\n",
    "        display(result.stdout)\n",
    "\n",
    "        assert result.exit_code == 0\n",
    "\n",
    "        # With quiet\n",
    "        result = runner.invoke(app, [\"ls\", \"-q\"])\n",
    "        display(result.stdout)\n",
    "\n",
    "        assert result.exit_code == 0\n",
    "        uuids = get_ids_from_result(result)\n",
    "        display(f\"{uuids=}\")"
   ]
  },
  {
   "cell_type": "code",
   "execution_count": null,
   "metadata": {},
   "outputs": [
    {
     "data": {
      "text/plain": [
       "\"uuids=['85e61f59-ebb2-4f97-b7b5-64dfb7461c8d']\""
      ]
     },
     "metadata": {},
     "output_type": "display_data"
    },
    {
     "data": {
      "text/plain": [
       "\"uuids=['85e61f59-ebb2-4f97-b7b5-64dfb7461c8d']\""
      ]
     },
     "metadata": {},
     "output_type": "display_data"
    },
    {
     "data": {
      "text/plain": [
       "\"uuids=['85e61f59-ebb2-4f97-b7b5-64dfb7461c8d']\""
      ]
     },
     "metadata": {},
     "output_type": "display_data"
    }
   ],
   "source": [
    "#| include: false\n",
    "\n",
    "# Tests for datasource_ls\n",
    "# Testing positive scenario.\n",
    "# Testing by passing different values for  limit\n",
    "\n",
    "\n",
    "with set_airt_service_token_envvar():\n",
    "\n",
    "    for limit in [1, 10, 1000]:\n",
    "        offset = 1\n",
    "        result = runner.invoke(\n",
    "            app, [\"ls\", \"--offset\", offset, \"--limit\", limit, \"-q\"]\n",
    "        )\n",
    "\n",
    "        assert result.exit_code == 0\n",
    "\n",
    "        uuids = get_ids_from_result(result)\n",
    "        display(f\"{uuids=}\")\n",
    "        assert limit >= len(uuids) >= 0"
   ]
  },
  {
   "cell_type": "code",
   "execution_count": null,
   "metadata": {},
   "outputs": [
    {
     "data": {
      "text/plain": [
       "'datasource_uuid    datablob_uuid    region    cloud_provider    tags    pulled_on    no_of_rows    folder_size    ready\\n'"
      ]
     },
     "metadata": {},
     "output_type": "display_data"
    }
   ],
   "source": [
    "#| include: false\n",
    "\n",
    "# Tests for datasource_ls\n",
    "# Testing positive scenario.\n",
    "# Testing by passing large value for offset.\n",
    "\n",
    "with set_airt_service_token_envvar():\n",
    "\n",
    "    limit = 10\n",
    "    offset = 1_000_000\n",
    "    result = runner.invoke(app, [\"ls\", \"--offset\", offset, \"--limit\", limit])\n",
    "\n",
    "    assert result.exit_code == 0\n",
    "\n",
    "    display(result.stdout)"
   ]
  },
  {
   "cell_type": "code",
   "execution_count": null,
   "metadata": {},
   "outputs": [],
   "source": [
    "#| exporti\n",
    "\n",
    "\n",
    "@app.command()\n",
    "@helper.requires_auth_token\n",
    "def train(\n",
    "    uuid: str = typer.Option(\n",
    "        ...,\n",
    "        \"--datasource_uuid\",\n",
    "        \"-uuid\",\n",
    "        help=\"Datasource uuid.\",\n",
    "    ),\n",
    "    client_column: str = typer.Option(\n",
    "        ...,\n",
    "        \"--client_column\",\n",
    "        help=\"The column name that uniquely identifies the users/clients.\",\n",
    "    ),\n",
    "    timestamp_column: Optional[str] = typer.Option(\n",
    "        None,\n",
    "        \"--timestamp_column\",\n",
    "        help=\"The timestamp column indicating the time of an event. If not passed, then the default value **None** will be used. \",\n",
    "    ),\n",
    "    target_column: str = typer.Option(\n",
    "        ...,\n",
    "        \"--target_column\",\n",
    "        help=\"Target column name that indicates the type of the event.\",\n",
    "    ),\n",
    "    target: str = typer.Option(\n",
    "        ...,\n",
    "        \"--target\",\n",
    "        help=\"Target event name to train and make predictions. You can pass the target event as a string or as a \" \\\n",
    "            \"regular expression for predicting more than one event. For example, passing ***checkout** will \" \\\n",
    "            \"train a model to predict any checkout event.\"\n",
    "    ),\n",
    "    predict_after: str = typer.Option(\n",
    "        ...,\n",
    "        \"--predict_after\",\n",
    "        help=\"Time delta in hours of the expected target event.\",\n",
    "    ),\n",
    "    quiet: bool = typer.Option(\n",
    "        False,\n",
    "        \"--quiet\",\n",
    "        \"-q\",\n",
    "        help=\"Output model uuid only.\",\n",
    "    ),\n",
    "    debug: bool = typer.Option(\n",
    "        False,\n",
    "        \"--debug\",\n",
    "        \"-d\",\n",
    "        help=\"Set logger level to DEBUG and output everything.\",\n",
    "    ),\n",
    "):\n",
    "    \"\"\"Train a model against the datasource.\"\"\"\n",
    "\n",
    "    from airt.client import DataSource\n",
    "    from datetime import timedelta\n",
    "\n",
    "    ds = DataSource(uuid=uuid)\n",
    "\n",
    "    model = ds.train(\n",
    "        client_column=client_column,\n",
    "        target_column=target_column,\n",
    "        target=target,\n",
    "        predict_after=timedelta(hours=int(predict_after)),\n",
    "        timestamp_column=timestamp_column,\n",
    "    )\n",
    "\n",
    "    if quiet:\n",
    "        model.wait()\n",
    "        typer.echo(f\"{model.uuid}\")\n",
    "    else:\n",
    "        typer.echo(f\"Training started for model uuid: {model.uuid}\")\n",
    "        model.progress_bar()"
   ]
  },
  {
   "cell_type": "code",
   "execution_count": null,
   "metadata": {},
   "outputs": [
    {
     "data": {
      "text/plain": [
       "'Usage: root train [OPTIONS]\\n\\n  Train a model against the datasource.\\n\\nOptions:\\n  -uuid, --datasource_uuid TEXT  Datasource uuid.  [required]\\n  --client_column TEXT           The column name that uniquely identifies the\\n                                 users/clients.  [required]\\n  --timestamp_column TEXT        The timestamp column indicating the time of an\\n                                 event. If not passed, then the default value\\n                                 **None** will be used.\\n  --target_column TEXT           Target column name that indicates the type of\\n                                 the event.  [required]\\n  --target TEXT                  Target event name to train and make\\n                                 predictions. You can pass the target event as a\\n                                 string or as a regular expression for\\n                                 predicting more than one event. For example,\\n                                 passing ***checkout** will train a model to\\n                                 predict any checkout event.  [required]\\n  --predict_after TEXT           Time delta in hours of the expected target\\n                                 event.  [required]\\n  -q, --quiet                    Output model uuid only.\\n  -d, --debug                    Set logger level to DEBUG and output\\n                                 everything.\\n  --help                         Show this message and exit.\\n'"
      ]
     },
     "metadata": {},
     "output_type": "display_data"
    }
   ],
   "source": [
    "#| include: false\n",
    "\n",
    "assert_has_help([\"train\"])"
   ]
  },
  {
   "cell_type": "code",
   "execution_count": null,
   "metadata": {},
   "outputs": [
    {
     "data": {
      "text/plain": [
       "'5315e186-b9b5-4746-8208-1c3359165e55\\n'"
      ]
     },
     "metadata": {},
     "output_type": "display_data"
    }
   ],
   "source": [
    "# tests for train\n",
    "# Testing positive scenario with quite\n",
    "\n",
    "with set_airt_service_token_envvar():\n",
    "    with generate_ds() as ds:\n",
    "        ds_uuid = ds.uuid\n",
    "\n",
    "        result = runner.invoke(\n",
    "            app,\n",
    "            [\n",
    "                \"train\",\n",
    "                \"--datasource_uuid\",\n",
    "                ds_uuid,\n",
    "                \"--client_column\",\n",
    "                \"user_id\",\n",
    "                \"--target_column\",\n",
    "                \"category_code\",\n",
    "                \"--target\",\n",
    "                \"*checkout\",\n",
    "                \"--predict_after\",\n",
    "                \"3\",\n",
    "                \"-q\",\n",
    "            ],\n",
    "        )\n",
    "\n",
    "        display(result.stdout)\n",
    "\n",
    "        assert result.exit_code == 0\n",
    "        assert len (result.stdout.replace('-', '').replace('\\n', '')) == 32"
   ]
  },
  {
   "cell_type": "code",
   "execution_count": null,
   "metadata": {},
   "outputs": [
    {
     "data": {
      "text/plain": [
       "'Training started for model uuid: ed5ec4b6-5729-471d-bef7-76c7cf147653\\n\\r  0%|          | 0/5 [00:00<?, ?it/s]\\r100%|██████████| 5/5 [00:00<00:00, 123.81it/s]\\n'"
      ]
     },
     "metadata": {},
     "output_type": "display_data"
    }
   ],
   "source": [
    "# tests for train\n",
    "# Testing positive scenario without quite\n",
    "\n",
    "with set_airt_service_token_envvar():\n",
    "    with generate_ds() as ds:\n",
    "        ds_uuid = ds.uuid\n",
    "\n",
    "        result = runner.invoke(\n",
    "            app,\n",
    "            [\n",
    "                \"train\",\n",
    "                \"-uuid\",\n",
    "                ds_uuid,\n",
    "                \"--client_column\",\n",
    "                \"user_id\",\n",
    "                \"--target_column\",\n",
    "                \"category_code\",\n",
    "                \"--target\",\n",
    "                \"*checkout\",\n",
    "                \"--predict_after\",\n",
    "                \"3\",\n",
    "            ],\n",
    "        )\n",
    "\n",
    "        display(result.stdout)\n",
    "\n",
    "        assert result.exit_code == 0\n",
    "        assert \"Training started for model uuid\" in result.stdout"
   ]
  },
  {
   "cell_type": "code",
   "execution_count": null,
   "metadata": {},
   "outputs": [
    {
     "data": {
      "text/plain": [
       "'Error: The datasource uuid is incorrect. Please try again.\\n'"
      ]
     },
     "metadata": {},
     "output_type": "display_data"
    }
   ],
   "source": [
    "# tests for train\n",
    "# Testing negative scenario with quite. Passing invalid value for data_id\n",
    "\n",
    "with set_airt_service_token_envvar():\n",
    "\n",
    "    result = runner.invoke(\n",
    "        app,\n",
    "        [\n",
    "            \"train\",\n",
    "            \"--datasource_uuid\",\n",
    "            RANDOM_UUID_FOR_TESTING,\n",
    "            \"--client_column\",\n",
    "            \"PersonId\",\n",
    "            \"--target_column\",\n",
    "            \"DefinitionId\",\n",
    "            \"--target\",\n",
    "            \"*checkout\",\n",
    "            \"--predict_after\",\n",
    "            \"3\",\n",
    "            \"-q\",\n",
    "        ],\n",
    "    )\n",
    "\n",
    "    display(result.stdout)\n",
    "\n",
    "    assert result.exit_code == 1"
   ]
  },
  {
   "cell_type": "code",
   "execution_count": null,
   "metadata": {},
   "outputs": [],
   "source": [
    "#| exporti\n",
    "\n",
    "\n",
    "@app.command()\n",
    "@helper.display_formated_table\n",
    "@helper.requires_auth_token\n",
    "def details(\n",
    "    uuid: str = typer.Argument(\n",
    "        ...,\n",
    "        help=\"Datasource uuid.\",\n",
    "    ),\n",
    "    format: Optional[str] = typer.Option(\n",
    "        None,\n",
    "        \"--format\",\n",
    "        \"-f\",\n",
    "        help=\"Format output and show only the given column(s) values.\"\n",
    "    ),\n",
    "    debug: bool = typer.Option(\n",
    "        False,\n",
    "        \"--debug\",\n",
    "        \"-d\",\n",
    "        help=\"Set logger level to DEBUG and output everything.\",\n",
    "    ),\n",
    ") -> Dict[\"str\", Union[pd.DataFrame, str]]:\n",
    "    \"\"\"Return details of a datasource.\"\"\"\n",
    "\n",
    "    from airt.client import DataSource\n",
    "    \n",
    "    ds = DataSource(uuid=uuid)\n",
    "    df = ds.details()\n",
    "    \n",
    "    df['pulled_on'] = helper.humanize_date(df['pulled_on'])\n",
    "    df['no_of_rows'] = helper.humanize_number(df['no_of_rows'])\n",
    "    df['folder_size'] = helper.humanize_size(df['folder_size'])\n",
    "    \n",
    "    return {\"df\": df}"
   ]
  },
  {
   "cell_type": "code",
   "execution_count": null,
   "metadata": {},
   "outputs": [
    {
     "data": {
      "text/plain": [
       "'Usage: root details [OPTIONS] UUID\\n\\n  Return details of a datasource.\\n\\nArguments:\\n  UUID  Datasource uuid.  [required]\\n\\nOptions:\\n  -f, --format TEXT  Format output and show only the given column(s) values.\\n  -d, --debug        Set logger level to DEBUG and output everything.\\n  --help             Show this message and exit.\\n'"
      ]
     },
     "metadata": {},
     "output_type": "display_data"
    }
   ],
   "source": [
    "#| include: false\n",
    "\n",
    "assert_has_help([\"details\"])"
   ]
  },
  {
   "cell_type": "code",
   "execution_count": null,
   "metadata": {},
   "outputs": [
    {
     "data": {
      "text/plain": [
       "'datasource_uuid                       ready\\n85e61f59-ebb2-4f97-b7b5-64dfb7461c8d  True\\n'"
      ]
     },
     "metadata": {},
     "output_type": "display_data"
    }
   ],
   "source": [
    "#| include: false\n",
    "\n",
    "# Tests for details\n",
    "# Testing positive scenario\n",
    "\n",
    "# Helper function to extract ID\n",
    "\n",
    "def extract_id(res) -> str:\n",
    "    r = (res.split(\"\\n\")[1]).strip()\n",
    "    return r.split(\" \")[0]\n",
    "\n",
    "with set_airt_service_token_envvar():\n",
    "    with generate_ds() as ds:\n",
    "        ds_uuid = ds.uuid\n",
    "\n",
    "        # Getting Details of the data source\n",
    "        format_str = \"{'datasource_uuid': '{}', 'ready': '{}'}\"\n",
    "        result = runner.invoke(app, [\"details\", ds_uuid, \"--format\", format_str])\n",
    "        result_id = extract_id(result.stdout)\n",
    "\n",
    "        display(result.stdout)\n",
    "\n",
    "        assert result.exit_code == 0\n",
    "        assert result_id == ds_uuid"
   ]
  },
  {
   "cell_type": "code",
   "execution_count": null,
   "metadata": {},
   "outputs": [
    {
     "data": {
      "text/plain": [
       "'Error: The datasource uuid is incorrect. Please try again.\\n'"
      ]
     },
     "metadata": {},
     "output_type": "display_data"
    }
   ],
   "source": [
    "#| include: false\n",
    "\n",
    "# Tests for details\n",
    "# Testing negative scenario. Passing invalid data_id\n",
    "\n",
    "with set_airt_service_token_envvar():\n",
    "\n",
    "    result = runner.invoke(app, [\"details\", RANDOM_UUID_FOR_TESTING])\n",
    "\n",
    "    display(result.stdout)\n",
    "\n",
    "    assert result.exit_code == 1"
   ]
  },
  {
   "cell_type": "code",
   "execution_count": null,
   "metadata": {},
   "outputs": [],
   "source": [
    "#| exporti\n",
    "\n",
    "\n",
    "@app.command()\n",
    "@helper.display_formated_table\n",
    "@helper.requires_auth_token\n",
    "def rm(\n",
    "    uuid: str = typer.Argument(\n",
    "        ...,\n",
    "        help=\"Datasource uuid.\",\n",
    "    ),\n",
    "    format: Optional[str] = typer.Option(\n",
    "        None,\n",
    "        \"--format\",\n",
    "        \"-f\",\n",
    "        help=\"Format output and show only the given column(s) values.\"\n",
    "    ),\n",
    "    quiet: bool = typer.Option(\n",
    "        False,\n",
    "        \"--quiet\",\n",
    "        \"-q\",\n",
    "        help=\"Output the deleted datasource uuid only.\",\n",
    "    ),\n",
    "    debug: bool = typer.Option(\n",
    "        False,\n",
    "        \"--debug\",\n",
    "        \"-d\",\n",
    "        help=\"Set logger level to DEBUG and output everything.\",\n",
    "    ),\n",
    ") -> Dict[\"str\", Union[pd.DataFrame, str]]:\n",
    "    \"\"\"Delete a datasource from the server.\"\"\"\n",
    "\n",
    "    from airt.client import DataSource\n",
    "    \n",
    "    ds = DataSource(uuid=uuid)\n",
    "    df = ds.delete()\n",
    "    \n",
    "    df['pulled_on'] = helper.humanize_date(df['pulled_on'])\n",
    "    df['no_of_rows'] = helper.humanize_number(df['no_of_rows'])\n",
    "    df['folder_size'] = helper.humanize_size(df['folder_size'])\n",
    "    \n",
    "    return {\"df\": df, \"quite_column_name\": \"datasource_uuid\"}"
   ]
  },
  {
   "cell_type": "code",
   "execution_count": null,
   "metadata": {},
   "outputs": [
    {
     "data": {
      "text/plain": [
       "'Usage: root rm [OPTIONS] UUID\\n\\n  Delete a datasource from the server.\\n\\nArguments:\\n  UUID  Datasource uuid.  [required]\\n\\nOptions:\\n  -f, --format TEXT  Format output and show only the given column(s) values.\\n  -q, --quiet        Output the deleted datasource uuid only.\\n  -d, --debug        Set logger level to DEBUG and output everything.\\n  --help             Show this message and exit.\\n'"
      ]
     },
     "metadata": {},
     "output_type": "display_data"
    }
   ],
   "source": [
    "#| include: false\n",
    "\n",
    "assert_has_help([\"rm\"])"
   ]
  },
  {
   "cell_type": "code",
   "execution_count": null,
   "metadata": {},
   "outputs": [
    {
     "data": {
      "text/plain": [
       "'85e61f59-ebb2-4f97-b7b5-64dfb7461c8d'"
      ]
     },
     "metadata": {},
     "output_type": "display_data"
    },
    {
     "data": {
      "text/plain": [
       "['672146ec-103a-4b4c-8038-139597771127']"
      ]
     },
     "metadata": {},
     "output_type": "display_data"
    },
    {
     "data": {
      "text/plain": [
       "'6192543a-ce6e-4b1c-8ba4-626060904b55\\n85e61f59-ebb2-4f97-b7b5-64dfb7461c8d\\n'"
      ]
     },
     "metadata": {},
     "output_type": "display_data"
    },
    {
     "data": {
      "text/plain": [
       "\"disabled_ds_uuids=['6192543a-ce6e-4b1c-8ba4-626060904b55', '85e61f59-ebb2-4f97-b7b5-64dfb7461c8d']\""
      ]
     },
     "metadata": {},
     "output_type": "display_data"
    }
   ],
   "source": [
    "#| include: false\n",
    "\n",
    "# Tests for datasource rm\n",
    "# Testing positive scenario with quite\n",
    "\n",
    "with set_airt_service_token_envvar():\n",
    "    with generate_ds() as ds:\n",
    "        ds_uuid = ds.uuid\n",
    "\n",
    "        # Deleting the created data source from the server\n",
    "        format_str = \"{'datasource_uuid': '{}'}\"\n",
    "        result = runner.invoke(app, [\"rm\", ds_uuid, \"--format\", format_str])\n",
    "        deleted_uuid = result.stdout[:-1]\n",
    "\n",
    "        display(deleted_uuid)\n",
    "\n",
    "        assert result.exit_code == 0\n",
    "        assert deleted_uuid == ds_uuid\n",
    "\n",
    "        # List the existing data source ids in server and make sure the deleted id is not present in the server\n",
    "        ls_result = runner.invoke(app, [\"ls\", \"-q\"])\n",
    "        ls_uuids = get_ids_from_result(ls_result)\n",
    "\n",
    "        display(ls_uuids)\n",
    "        assert deleted_uuid not in ls_uuids\n",
    "        \n",
    "        # ls with quiet and disabled = True\n",
    "        result = runner.invoke(app, [\"ls\", \"--disabled\", \"-q\"])\n",
    "\n",
    "        display(result.stdout)\n",
    "        assert result.exit_code == 0\n",
    "\n",
    "        disabled_ds_uuids = get_ids_from_result(result)\n",
    "\n",
    "        display(f\"{disabled_ds_uuids=}\")\n",
    "        assert deleted_uuid in disabled_ds_uuids\n",
    "\n",
    "        # Testing negative scenario. Deleting already deleted data source\n",
    "        result = runner.invoke(app, [\"rm\", deleted_uuid, \"-q\"])\n",
    "\n",
    "        # Testing negative scenario. Getting the details of the deleted data source\n",
    "        result = runner.invoke(app, [\"details\", deleted_uuid])"
   ]
  },
  {
   "cell_type": "code",
   "execution_count": null,
   "metadata": {},
   "outputs": [
    {
     "data": {
      "text/plain": [
       "'Error: The datasource uuid is incorrect. Please try again.\\n'"
      ]
     },
     "metadata": {},
     "output_type": "display_data"
    }
   ],
   "source": [
    "# Tests for datasource rm\n",
    "# Testing negative scenario. Deleting invalid data source\n",
    "\n",
    "with set_airt_service_token_envvar():\n",
    "    # Testing negative scenario. Deleting already deleted data source\n",
    "    result = runner.invoke(app, [\"rm\", RANDOM_UUID_FOR_TESTING, \"-q\"])\n",
    "\n",
    "    display(result.stdout)"
   ]
  },
  {
   "cell_type": "code",
   "execution_count": null,
   "metadata": {},
   "outputs": [],
   "source": [
    "#| exporti\n",
    "\n",
    "\n",
    "@app.command()\n",
    "@helper.display_formated_table\n",
    "@helper.requires_auth_token\n",
    "def tag(\n",
    "    uuid: str = typer.Option(\n",
    "        ...,\n",
    "        \"--datasource_uuid\",\n",
    "        \"-uuid\",\n",
    "        help=\"Datasource uuid.\",\n",
    "    ),\n",
    "    name: str = typer.Option(\n",
    "        ...,\n",
    "        \"--name\",\n",
    "        \"-n\",\n",
    "        help=\"A string to tag the datasource.\",\n",
    "    ),\n",
    "    format: Optional[str] = typer.Option(\n",
    "        None,\n",
    "        \"--format\",\n",
    "        \"-f\",\n",
    "        help=\"Format output and show only the given column(s) values.\"\n",
    "    ),\n",
    "    debug: bool = typer.Option(\n",
    "        False,\n",
    "        \"--debug\",\n",
    "        \"-d\",\n",
    "        help=\"Set logger level to DEBUG and output everything.\",\n",
    "    ),\n",
    ") -> Dict[\"str\", Union[pd.DataFrame, str]]:\n",
    "    \"\"\"Tag an existing datasource in server.\"\"\"\n",
    "\n",
    "    from airt.client import DataSource\n",
    "    \n",
    "    ds = DataSource(uuid=uuid)\n",
    "    df = ds.tag(name=name)\n",
    "    \n",
    "    df['pulled_on'] = helper.humanize_date(df['pulled_on'])\n",
    "    df['no_of_rows'] = helper.humanize_number(df['no_of_rows'])\n",
    "    df['folder_size'] = helper.humanize_size(df['folder_size'])\n",
    "    \n",
    "    return {\"df\": df}"
   ]
  },
  {
   "cell_type": "code",
   "execution_count": null,
   "metadata": {},
   "outputs": [
    {
     "data": {
      "text/plain": [
       "'Usage: root tag [OPTIONS]\\n\\n  Tag an existing datasource in server.\\n\\nOptions:\\n  -uuid, --datasource_uuid TEXT  Datasource uuid.  [required]\\n  -n, --name TEXT                A string to tag the datasource.  [required]\\n  -f, --format TEXT              Format output and show only the given column(s)\\n                                 values.\\n  -d, --debug                    Set logger level to DEBUG and output\\n                                 everything.\\n  --help                         Show this message and exit.\\n'"
      ]
     },
     "metadata": {},
     "output_type": "display_data"
    }
   ],
   "source": [
    "#| include: false\n",
    "\n",
    "assert_has_help([\"tag\"])"
   ]
  },
  {
   "cell_type": "code",
   "execution_count": null,
   "metadata": {},
   "outputs": [
    {
     "name": "stderr",
     "output_type": "stream",
     "text": [
      "100%|██████████| 1/1 [00:15<00:00, 15.19s/it]\n"
     ]
    },
    {
     "data": {
      "text/plain": [
       "\"db.uuid='03727d6d-eaf4-4503-ace7-1d2d22f60cbe'\""
      ]
     },
     "metadata": {},
     "output_type": "display_data"
    },
    {
     "data": {
      "text/plain": [
       "\"_ds.uuid='690f2af8-2d51-4dcd-8661-11f38a478585'\""
      ]
     },
     "metadata": {},
     "output_type": "display_data"
    },
    {
     "name": "stderr",
     "output_type": "stream",
     "text": [
      "100%|██████████| 1/1 [00:30<00:00, 30.29s/it]\n"
     ]
    },
    {
     "data": {
      "text/plain": [
       "'datasource_uuid                       tags\\n690f2af8-2d51-4dcd-8661-11f38a478585  latest, v1.1.0\\n'"
      ]
     },
     "metadata": {},
     "output_type": "display_data"
    },
    {
     "data": {
      "text/plain": [
       "'datasource_uuid                       datablob_uuid                         region     cloud_provider    tags            pulled_on       no_of_rows    folder_size    ready\\n690f2af8-2d51-4dcd-8661-11f38a478585  03727d6d-eaf4-4503-ace7-1d2d22f60cbe  eu-west-1  aws               latest, v1.1.0  24 seconds ago  294,599       6.2 MB         True\\n'"
      ]
     },
     "metadata": {},
     "output_type": "display_data"
    }
   ],
   "source": [
    "#| include: false\n",
    "\n",
    "# Tests for tag\n",
    "# Testing positive scenario\n",
    "\n",
    "with set_airt_service_token_envvar():\n",
    "    with generate_ds(force_create=True) as ds:\n",
    "        ds_uuid = ds.uuid\n",
    "\n",
    "        # Tag the data source\n",
    "        format_str = \"{'datasource_uuid': '{}', 'tags': '{}'}\"\n",
    "        result = runner.invoke(app, [\"tag\", \"-uuid\", ds_uuid, \"-n\", \"v1.1.0\", \"--format\", format_str])\n",
    "\n",
    "        display(result.stdout)\n",
    "\n",
    "        assert result.exit_code == 0\n",
    "        assert \"v1.1.0\" in str(result.stdout)\n",
    "\n",
    "\n",
    "        # Tag the data source\n",
    "        result = runner.invoke(app, [\"tag\", \"-uuid\", ds_uuid, \"-n\", \"v1.1.0\"])\n",
    "\n",
    "        display(result.stdout)\n",
    "\n",
    "        assert result.exit_code == 0\n",
    "        assert \"v1.1.0\" in str(result.stdout)"
   ]
  },
  {
   "cell_type": "code",
   "execution_count": null,
   "metadata": {},
   "outputs": [],
   "source": []
  }
 ],
 "metadata": {
  "kernelspec": {
   "display_name": "Python 3",
   "language": "python",
   "name": "python3"
  }
 },
 "nbformat": 4,
 "nbformat_minor": 2
}
