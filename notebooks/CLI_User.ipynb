{
 "cells": [
  {
   "cell_type": "raw",
   "metadata": {},
   "source": [
    "---\n",
    "description: This module contains all CLI commands encapsulating the user routes of\n",
    "  the airt service.\n",
    "output-file: cli_user.html\n",
    "title: CLI_User\n",
    "\n",
    "---\n",
    "\n"
   ]
  },
  {
   "cell_type": "code",
   "execution_count": null,
   "metadata": {},
   "outputs": [],
   "source": [
    "# | default_exp cli.user"
   ]
  },
  {
   "cell_type": "code",
   "execution_count": null,
   "metadata": {},
   "outputs": [
    {
     "name": "stdout",
     "output_type": "stream",
     "text": [
      "[INFO] airt.testing.activate_by_import: Testing environment activated.\n"
     ]
    }
   ],
   "source": [
    "from airt.testing import activate_by_import"
   ]
  },
  {
   "cell_type": "code",
   "execution_count": null,
   "metadata": {},
   "outputs": [],
   "source": [
    "# | export\n",
    "\n",
    "from typing import *"
   ]
  },
  {
   "cell_type": "code",
   "execution_count": null,
   "metadata": {},
   "outputs": [],
   "source": [
    "# | exporti\n",
    "\n",
    "import datetime as dt\n",
    "import os\n",
    "\n",
    "import pandas as pd\n",
    "import qrcode\n",
    "import typer\n",
    "from tabulate import tabulate\n",
    "from typer import echo\n",
    "\n",
    "from airt.cli import helper\n",
    "from airt.client import Client\n",
    "from airt.constant import SERVICE_PASSWORD\n",
    "from airt.logger import get_logger, set_level"
   ]
  },
  {
   "cell_type": "code",
   "execution_count": null,
   "metadata": {},
   "outputs": [],
   "source": [
    "import logging\n",
    "from contextlib import contextmanager\n",
    "from random import randrange\n",
    "\n",
    "import pytest\n",
    "from typer.testing import CliRunner\n",
    "\n",
    "import airt.sanitizer\n",
    "from airt.client import Client, User\n",
    "from airt.constant import (\n",
    "    SERVICE_PASSWORD,\n",
    "    SERVICE_SUPER_USER,\n",
    "    SERVICE_TOKEN,\n",
    "    SERVICE_USERNAME,\n",
    ")"
   ]
  },
  {
   "cell_type": "code",
   "execution_count": null,
   "metadata": {},
   "outputs": [],
   "source": [
    "# | exporti\n",
    "\n",
    "app = typer.Typer(\n",
    "    help=\"A set of commands for managing users and their authentication in the server.\"\n",
    ")"
   ]
  },
  {
   "cell_type": "code",
   "execution_count": null,
   "metadata": {},
   "outputs": [],
   "source": [
    "runner = CliRunner()"
   ]
  },
  {
   "cell_type": "code",
   "execution_count": null,
   "metadata": {},
   "outputs": [],
   "source": [
    "# | export\n",
    "\n",
    "logger = get_logger(__name__)"
   ]
  },
  {
   "cell_type": "code",
   "execution_count": null,
   "metadata": {},
   "outputs": [],
   "source": [
    "set_level(logging.WARNING)"
   ]
  },
  {
   "cell_type": "code",
   "execution_count": null,
   "metadata": {},
   "outputs": [
    {
     "data": {
      "text/plain": [
       "30"
      ]
     },
     "metadata": {},
     "output_type": "display_data"
    },
    {
     "name": "stdout",
     "output_type": "stream",
     "text": [
      "[WARNING] __main__: This is a warning\n",
      "[ERROR] __main__: This is an error\n"
     ]
    }
   ],
   "source": [
    "# Testing logger settings\n",
    "\n",
    "display(logger.getEffectiveLevel())\n",
    "assert logger.getEffectiveLevel() == logging.WARNING\n",
    "\n",
    "logger.debug(\"This is a debug message\")\n",
    "logger.info(\"This is an info\")\n",
    "logger.warning(\"This is a warning\")\n",
    "logger.error(\"This is an error\")"
   ]
  },
  {
   "cell_type": "code",
   "execution_count": null,
   "metadata": {},
   "outputs": [],
   "source": [
    "INVALID_UUID_FOR_TESTING = \"00000000-0000-0000-0000-000000000000\""
   ]
  },
  {
   "cell_type": "code",
   "execution_count": null,
   "metadata": {},
   "outputs": [],
   "source": [
    "# Helper context manager for testing\n",
    "\n",
    "_airt_service_token = None\n",
    "\n",
    "\n",
    "@contextmanager\n",
    "def normal_user():\n",
    "    global _airt_service_token\n",
    "    if _airt_service_token is None:\n",
    "        display(\"_airt_service_token is None, getting a token...\")\n",
    "\n",
    "        username = os.environ[SERVICE_USERNAME]\n",
    "        password = os.environ[SERVICE_PASSWORD]\n",
    "\n",
    "        Client.get_token(username=username, password=password)\n",
    "        _airt_service_token = Client.auth_token\n",
    "\n",
    "    try:\n",
    "        os.environ[SERVICE_TOKEN] = _airt_service_token\n",
    "\n",
    "        yield\n",
    "    finally:\n",
    "        del os.environ[SERVICE_TOKEN]"
   ]
  },
  {
   "cell_type": "code",
   "execution_count": null,
   "metadata": {},
   "outputs": [
    {
     "data": {
      "text/plain": [
       "'_airt_service_token is None, getting a token...'"
      ]
     },
     "metadata": {},
     "output_type": "display_data"
    },
    {
     "data": {
      "text/plain": [
       "'*******************************************************************************************************************************'"
      ]
     },
     "metadata": {},
     "output_type": "display_data"
    }
   ],
   "source": [
    "with normal_user():\n",
    "    display(\"*\" * len((os.environ[SERVICE_TOKEN])))"
   ]
  },
  {
   "cell_type": "code",
   "execution_count": null,
   "metadata": {},
   "outputs": [],
   "source": [
    "# Helper context manager for testing\n",
    "\n",
    "_airt_service_super_user_token = None\n",
    "\n",
    "\n",
    "@contextmanager\n",
    "def super_user():\n",
    "    global _airt_service_super_user_token\n",
    "    if _airt_service_super_user_token is None:\n",
    "        display(\"_airt_service_super_user_token is None, getting a token...\")\n",
    "\n",
    "        username = os.environ[SERVICE_SUPER_USER]\n",
    "        password = os.environ[SERVICE_PASSWORD]\n",
    "\n",
    "        Client.get_token(username=username, password=password)\n",
    "        _airt_service_super_user_token = Client.auth_token\n",
    "\n",
    "    try:\n",
    "        os.environ[SERVICE_TOKEN] = _airt_service_super_user_token\n",
    "\n",
    "        yield\n",
    "    finally:\n",
    "        del os.environ[SERVICE_TOKEN]"
   ]
  },
  {
   "cell_type": "code",
   "execution_count": null,
   "metadata": {},
   "outputs": [
    {
     "data": {
      "text/plain": [
       "'_airt_service_super_user_token is None, getting a token...'"
      ]
     },
     "metadata": {},
     "output_type": "display_data"
    },
    {
     "data": {
      "text/plain": [
       "'*******************************************************************************************************************************'"
      ]
     },
     "metadata": {},
     "output_type": "display_data"
    }
   ],
   "source": [
    "with super_user():\n",
    "    display(\"*\" * len((os.environ[SERVICE_TOKEN])))"
   ]
  },
  {
   "cell_type": "code",
   "execution_count": null,
   "metadata": {},
   "outputs": [],
   "source": [
    "# | exporti\n",
    "\n",
    "\n",
    "@app.command()\n",
    "@helper.display_formated_table\n",
    "@helper.requires_auth_token\n",
    "def details(\n",
    "    user: Optional[str] = typer.Option(\n",
    "        None,\n",
    "        \"--user\",\n",
    "        \"-u\",\n",
    "        help=\"Account user_uuid/username to get details. If not passed, then the currently logged-in details will be returned.\",\n",
    "    ),\n",
    "    format: Optional[str] = typer.Option(\n",
    "        None,\n",
    "        \"--format\",\n",
    "        \"-f\",\n",
    "        help=\"Format output and show only the given column(s) values.\",\n",
    "    ),\n",
    "    quiet: bool = typer.Option(\n",
    "        False,\n",
    "        \"--quiet\",\n",
    "        \"-q\",\n",
    "        help=\"Output user uuid only.\",\n",
    "    ),\n",
    ") -> Dict[\"str\", Union[pd.DataFrame, str]]:\n",
    "    \"\"\"Get user details\n",
    "\n",
    "    Please do not pass the optional 'user' option unless you are a super user. Only a super user can view details for other users.\n",
    "    \"\"\"\n",
    "\n",
    "    from airt.client import User\n",
    "\n",
    "    df = pd.DataFrame(User.details(user=user), index=[0])[User.USER_COLS]\n",
    "\n",
    "    return {\"df\": df}"
   ]
  },
  {
   "cell_type": "code",
   "execution_count": null,
   "metadata": {},
   "outputs": [],
   "source": [
    "def assert_has_help(xs: List[str]):\n",
    "    result = runner.invoke(app, xs + [\"--help\"])\n",
    "\n",
    "    display(result.stdout)\n",
    "    assert \" \".join(xs) in result.stdout"
   ]
  },
  {
   "cell_type": "code",
   "execution_count": null,
   "metadata": {},
   "outputs": [
    {
     "data": {
      "text/plain": [
       "\"Usage: details [OPTIONS]\\n\\n  Get user details\\n\\n  Please do not pass the optional 'user' option unless you are a super user.\\n  Only a super user can view details for other users.\\n\\nOptions:\\n  -u, --user TEXT                 Account user_uuid/username to get details. If\\n                                  not passed, then the currently logged-in\\n                                  details will be returned.\\n  -f, --format TEXT               Format output and show only the given\\n                                  column(s) values.\\n  -q, --quiet                     Output user uuid only.\\n  --install-completion [bash|zsh|fish|powershell|pwsh]\\n                                  Install completion for the specified shell.\\n  --show-completion [bash|zsh|fish|powershell|pwsh]\\n                                  Show completion for the specified shell, to\\n                                  copy it or customize the installation.\\n  --help                          Show this message and exit.\\n\""
      ]
     },
     "metadata": {},
     "output_type": "display_data"
    }
   ],
   "source": [
    "assert_has_help([\"details\"])"
   ]
  },
  {
   "cell_type": "code",
   "execution_count": null,
   "metadata": {},
   "outputs": [
    {
     "data": {
      "text/plain": [
       "'d12065d3-48cb-4632-a4cc-db11b843399a\\n'"
      ]
     },
     "metadata": {},
     "output_type": "display_data"
    },
    {
     "data": {
      "text/plain": [
       "'d12065d3-48cb-4632-a4cc-db11b843399a'"
      ]
     },
     "metadata": {},
     "output_type": "display_data"
    },
    {
     "data": {
      "text/plain": [
       "\"Error: Insufficient permission to access other user's data\\n\""
      ]
     },
     "metadata": {},
     "output_type": "display_data"
    }
   ],
   "source": [
    "with normal_user():\n",
    "    # Positive scenario: Normal user getting their details\n",
    "    format_str = \"{'uuid': '{}'}\"\n",
    "    result = runner.invoke(app, [\"--format\", format_str])\n",
    "    display(result.stdout)\n",
    "    assert result.exit_code == 0\n",
    "    assert len(result.stdout.replace(\"-\", \"\").replace(\"\\n\", \"\")) == 32\n",
    "\n",
    "    result = runner.invoke(app, \"-q\")\n",
    "    assert result.exit_code == 0\n",
    "    assert len(result.stdout.replace(\"-\", \"\").replace(\"\\n\", \"\")) == 32\n",
    "\n",
    "    user_uuid = result.stdout.replace(\"\\n\", \"\")\n",
    "    display(user_uuid)\n",
    "\n",
    "    format_str = \"{'username': '{}', 'uuid': '{}'}\"\n",
    "    result = runner.invoke(app, [\"--user\", user_uuid, \"--format\", format_str])\n",
    "    assert result.exit_code == 0\n",
    "\n",
    "    # Negative scenario: Normal user getting other user's details\n",
    "    result = runner.invoke(\n",
    "        app, [\"--user\", INVALID_UUID_FOR_TESTING, \"--format\", format_str]\n",
    "    )\n",
    "    display(result.stdout)\n",
    "    assert \"Insufficient permission to access other user's data\" in result.stdout\n",
    "    assert result.exit_code == 1"
   ]
  },
  {
   "cell_type": "code",
   "execution_count": null,
   "metadata": {},
   "outputs": [],
   "source": [
    "# Helper context manager for testing\n",
    "\n",
    "_airt_service_super_user_token = None\n",
    "\n",
    "\n",
    "@contextmanager\n",
    "def super_user():\n",
    "    global _airt_service_super_user_token\n",
    "    if _airt_service_super_user_token is None:\n",
    "        display(\"_airt_service_super_user_token is None, getting a token...\")\n",
    "\n",
    "        username = os.environ[SERVICE_SUPER_USER]\n",
    "        password = os.environ[SERVICE_PASSWORD]\n",
    "\n",
    "        Client.get_token(username=username, password=password)\n",
    "        _airt_service_super_user_token = Client.auth_token\n",
    "\n",
    "    try:\n",
    "        os.environ[SERVICE_TOKEN] = _airt_service_super_user_token\n",
    "\n",
    "        yield\n",
    "    finally:\n",
    "        del os.environ[SERVICE_TOKEN]"
   ]
  },
  {
   "cell_type": "code",
   "execution_count": null,
   "metadata": {},
   "outputs": [
    {
     "data": {
      "text/plain": [
       "'_airt_service_super_user_token is None, getting a token...'"
      ]
     },
     "metadata": {},
     "output_type": "display_data"
    },
    {
     "data": {
      "text/plain": [
       "'d12065d3-48cb-4632-a4cc-db11b843399a\\n'"
      ]
     },
     "metadata": {},
     "output_type": "display_data"
    },
    {
     "data": {
      "text/plain": [
       "'d12065d3-48cb-4632-a4cc-db11b843399a\\n'"
      ]
     },
     "metadata": {},
     "output_type": "display_data"
    },
    {
     "data": {
      "text/plain": [
       "'Error: The user uuid is incorrect. Please try again.\\n'"
      ]
     },
     "metadata": {},
     "output_type": "display_data"
    },
    {
     "data": {
      "text/plain": [
       "'Error: Incorrect username. Please try again.\\n'"
      ]
     },
     "metadata": {},
     "output_type": "display_data"
    }
   ],
   "source": [
    "with super_user():\n",
    "    # Positive scenario: Super user getting their details\n",
    "    format_str = \"{'username': '{}', 'uuid': '{}'}\"\n",
    "    result = runner.invoke(app, [\"--format\", format_str])\n",
    "    assert result.exit_code == 0\n",
    "\n",
    "    format_str = \"{'username': '{}', 'uuid': '{}'}\"\n",
    "    result = runner.invoke(app, \"-q\")\n",
    "    assert result.exit_code == 0\n",
    "\n",
    "    user_uuid = result.stdout.replace(\"\\n\", \"\")\n",
    "    format_str = \"{'username': '{}', 'uuid': '{}'}\"\n",
    "    result = runner.invoke(app, [\"--user\", user_uuid, \"--format\", format_str])\n",
    "    assert result.exit_code == 0\n",
    "\n",
    "    # Positive scenario: Super user accessing others user's details\n",
    "    other_user = User.ls()[0]\n",
    "    result = runner.invoke(app, [\"--user\", other_user.uuid, \"-q\"])\n",
    "    display(result.stdout)\n",
    "    result = runner.invoke(app, [\"--user\", other_user.username, \"-q\"])\n",
    "    display(result.stdout)\n",
    "\n",
    "    # Negative scenario: Super user accessing invalid user's details\n",
    "    result = runner.invoke(\n",
    "        app, [\"--user\", INVALID_UUID_FOR_TESTING, \"--format\", format_str]\n",
    "    )\n",
    "    display(result.stdout)\n",
    "    assert \"user uuid is incorrect\" in result.stdout\n",
    "    assert result.exit_code == 1\n",
    "\n",
    "    invalid_user_name = \"invalid_user_name\"\n",
    "    result = runner.invoke(app, [\"--user\", invalid_user_name, \"--format\", format_str])\n",
    "    display(result.stdout)\n",
    "    assert \"Incorrect username\" in result.stdout\n",
    "    assert result.exit_code == 1"
   ]
  },
  {
   "cell_type": "code",
   "execution_count": null,
   "metadata": {},
   "outputs": [],
   "source": [
    "# | exporti\n",
    "\n",
    "\n",
    "@app.command()\n",
    "@helper.display_formated_table\n",
    "@helper.requires_totp()\n",
    "@helper.requires_auth_token\n",
    "def create(\n",
    "    username: str = typer.Option(\n",
    "        ...,\n",
    "        \"--username\",\n",
    "        \"-un\",\n",
    "        help=\"The new user's username. The username must be unique or an exception will be thrown.\",\n",
    "    ),\n",
    "    first_name: str = typer.Option(\n",
    "        ...,\n",
    "        \"--first_name\",\n",
    "        \"-fn\",\n",
    "        help=\"The new user's first name.\",\n",
    "    ),\n",
    "    last_name: str = typer.Option(\n",
    "        ...,\n",
    "        \"--last_name\",\n",
    "        \"-ln\",\n",
    "        help=\"The new user's last name.\",\n",
    "    ),\n",
    "    email: str = typer.Option(\n",
    "        ...,\n",
    "        \"--email\",\n",
    "        \"-e\",\n",
    "        help=\"The new user's email. The email must be unique or an exception will be thrown.\",\n",
    "    ),\n",
    "    password: str = typer.Option(\n",
    "        ...,\n",
    "        \"--password\",\n",
    "        \"-p\",\n",
    "        help=\"The new user's password.\",\n",
    "    ),\n",
    "    subscription_type: str = typer.Option(\n",
    "        ...,\n",
    "        \"--subscription_type\",\n",
    "        \"-st\",\n",
    "        help=\"User subscription type. Currently, the API supports only the following subscription types **small**, **medium** and **large**.\",\n",
    "    ),\n",
    "    super_user: bool = typer.Option(\n",
    "        False,\n",
    "        \"--super_user\",\n",
    "        \"-su\",\n",
    "        help=\"If set to **True**, then the new user will have super user privilages. If **None**, then the default value \"\n",
    "        \"**False** will be used to create a non-super user.\",\n",
    "    ),\n",
    "    phone_number: Optional[str] = typer.Option(\n",
    "        None,\n",
    "        \"--phone_number\",\n",
    "        \"-ph\",\n",
    "        help=\"Phone number to be added to the user account. The phone number should follow the pattern of the country \"\n",
    "        \"code followed by your phone number. For example, 440123456789, +440123456789, 00440123456789, +44 0123456789,\"\n",
    "        \"and (+44) 012 345 6789 are all valid formats for registering a UK phone number.\",\n",
    "    ),\n",
    "    otp: Optional[str] = typer.Option(\n",
    "        None,\n",
    "        \"--otp\",\n",
    "        help=\"Dynamically generated six-digit verification code from the authenticator app. Please pass this optional argument only if you have activated the MFA for your account.\",\n",
    "    ),\n",
    "    format: Optional[str] = typer.Option(\n",
    "        None,\n",
    "        \"--format\",\n",
    "        \"-f\",\n",
    "        help=\"Format output and show only the given column(s) values.\",\n",
    "    ),\n",
    "    quiet: bool = typer.Option(\n",
    "        False,\n",
    "        \"--quiet\",\n",
    "        \"-q\",\n",
    "        help=\"Output user uuid only.\",\n",
    "    ),\n",
    "    debug: bool = typer.Option(\n",
    "        False,\n",
    "        \"--debug\",\n",
    "        \"-d\",\n",
    "        help=\"Set logger level to DEBUG and output everything.\",\n",
    "    ),\n",
    ") -> Dict[\"str\", Union[pd.DataFrame, str]]:\n",
    "    \"\"\"Create a new user in the server.\"\"\"\n",
    "\n",
    "    from airt.client import User\n",
    "\n",
    "    df = User.create(\n",
    "        username=username,\n",
    "        first_name=first_name,\n",
    "        last_name=last_name,\n",
    "        email=email,\n",
    "        subscription_type=subscription_type,\n",
    "        super_user=super_user,\n",
    "        password=password,\n",
    "        phone_number=phone_number,\n",
    "        otp=otp,\n",
    "    )\n",
    "\n",
    "    df[\"created\"] = helper.humanize_date(df[\"created\"])\n",
    "\n",
    "    return {\"df\": df}"
   ]
  },
  {
   "cell_type": "code",
   "execution_count": null,
   "metadata": {},
   "outputs": [
    {
     "data": {
      "text/plain": [
       "'username               uuid                                    phone_number\\nrandom_user_1772_2579  a3872746-c793-4c4a-864e-7d05a7d1e6ed     44123456789\\n'"
      ]
     },
     "metadata": {},
     "output_type": "display_data"
    },
    {
     "data": {
      "text/plain": [
       "'Error: The requested username or email already exists. Try another.\\n'"
      ]
     },
     "metadata": {},
     "output_type": "display_data"
    },
    {
     "data": {
      "text/plain": [
       "'Error: MFA is not activated for the account. Please pass the OTP only after activating the MFA for your account.\\n'"
      ]
     },
     "metadata": {},
     "output_type": "display_data"
    }
   ],
   "source": [
    "# tests for user create. Without -q\n",
    "\n",
    "_user_name = f\"random_user_{randrange(10000)}_{randrange(10000)}\"\n",
    "_email = f\"random_user_{randrange(10000)}_{randrange(10000)}@email.com\"\n",
    "\n",
    "format_str = \"{'username': '{}', 'uuid': '{}', 'phone_number': '{}'}\"\n",
    "cmd = [\n",
    "    \"create\",\n",
    "    \"-un\",\n",
    "    _user_name,\n",
    "    \"-fn\",\n",
    "    \"random_first_name\",\n",
    "    \"-ln\",\n",
    "    \"random_last_name\",\n",
    "    \"-e\",\n",
    "    _email,\n",
    "    \"-p\",\n",
    "    \"random_password\",\n",
    "    \"-st\",\n",
    "    \"small\",\n",
    "    \"-ph\",\n",
    "    \"+44123456789\",\n",
    "    \"-su\",\n",
    "    \"--format\",\n",
    "    format_str,\n",
    "]\n",
    "\n",
    "_user_name_q = f\"random_user_{randrange(10000)}_{randrange(10000)}\"\n",
    "_email_q = f\"random_user_{randrange(10000)}_{randrange(10000)}@email.com\"\n",
    "\n",
    "\n",
    "cmd_with_otp = [\n",
    "    \"create\",\n",
    "    \"-un\",\n",
    "    _user_name_q,\n",
    "    \"-fn\",\n",
    "    \"random_first_name\",\n",
    "    \"-ln\",\n",
    "    \"random_last_name\",\n",
    "    \"-e\",\n",
    "    _email_q,\n",
    "    \"-p\",\n",
    "    \"random_password\",\n",
    "    \"-st\",\n",
    "    \"small\",\n",
    "    \"-su\",\n",
    "    \"--otp\",\n",
    "    \"123456\",\n",
    "    \"--format\",\n",
    "    format_str,\n",
    "]\n",
    "\n",
    "with super_user():\n",
    "    result = runner.invoke(app, cmd)\n",
    "\n",
    "    display(result.stdout)\n",
    "    assert result.exit_code == 0\n",
    "    assert _user_name in str(result.stdout)\n",
    "    assert \"44123456789\" in str(result.stdout)\n",
    "\n",
    "    # Trying to create new user with existing email and username\n",
    "    result = runner.invoke(app, cmd)\n",
    "    display(result.stdout)\n",
    "    assert result.exit_code == 1\n",
    "\n",
    "    # Negative Scenario. Non-MFA user passing otp\n",
    "    random_otp = 123456\n",
    "    result = runner.invoke(app, cmd_with_otp)\n",
    "    display(result.stdout)\n",
    "    assert result.exit_code == 1"
   ]
  },
  {
   "cell_type": "code",
   "execution_count": null,
   "metadata": {},
   "outputs": [
    {
     "data": {
      "text/plain": [
       "'393cc29c-2671-4fcd-941c-d0cb4c6f864b\\n'"
      ]
     },
     "metadata": {},
     "output_type": "display_data"
    }
   ],
   "source": [
    "# tests for user create. With -q\n",
    "\n",
    "_user_name = f\"random_user_{randrange(10000)}_{randrange(10000)}\"\n",
    "_email = f\"random_user_{randrange(10000)}_{randrange(10000)}@email.com\"\n",
    "\n",
    "\n",
    "cmd = [\n",
    "    \"create\",\n",
    "    \"-un\",\n",
    "    _user_name,\n",
    "    \"-fn\",\n",
    "    \"random_first_name\",\n",
    "    \"-ln\",\n",
    "    \"random_last_name\",\n",
    "    \"-e\",\n",
    "    _email,\n",
    "    \"-p\",\n",
    "    \"random_password\",\n",
    "    \"-st\",\n",
    "    \"small\",\n",
    "    \"-su\",\n",
    "    \"-q\",\n",
    "]\n",
    "\n",
    "with super_user():\n",
    "    result = runner.invoke(app, cmd)\n",
    "    user_uuid = result.stdout[:-1]\n",
    "\n",
    "    display(result.stdout)\n",
    "    assert result.exit_code == 0\n",
    "    assert len(result.stdout.replace(\"-\", \"\").replace(\"\\n\", \"\")) == 32"
   ]
  },
  {
   "cell_type": "code",
   "execution_count": null,
   "metadata": {},
   "outputs": [],
   "source": [
    "# | exporti\n",
    "\n",
    "\n",
    "@app.command()\n",
    "@helper.display_formated_table\n",
    "@helper.requires_auth_token\n",
    "def ls(\n",
    "    offset: int = typer.Option(\n",
    "        0,\n",
    "        \"--offset\",\n",
    "        \"-o\",\n",
    "        help=\"The number of users to offset at the beginning. If **None**, then the default value **0** will be used.\",\n",
    "    ),\n",
    "    limit: int = typer.Option(\n",
    "        100,\n",
    "        \"--limit\",\n",
    "        \"-l\",\n",
    "        help=\"The maximum number of users to return from the server. If None, then the default value 100 will be used.\",\n",
    "    ),\n",
    "    disabled: bool = typer.Option(\n",
    "        False,\n",
    "        \"--disabled\",\n",
    "        help=\"If set to **True**, then only the deleted users will be returned. Else, the default value **False** will \"\n",
    "        \"be used to return only the list of active users.\",\n",
    "    ),\n",
    "    format: Optional[str] = typer.Option(\n",
    "        None,\n",
    "        \"--format\",\n",
    "        \"-f\",\n",
    "        help=\"Format output and show only the given column(s) values.\",\n",
    "    ),\n",
    "    quiet: bool = typer.Option(\n",
    "        False,\n",
    "        \"--quiet\",\n",
    "        \"-q\",\n",
    "        help=\"Output only user uuids separated by space\",\n",
    "    ),\n",
    "    debug: bool = typer.Option(\n",
    "        False,\n",
    "        \"--debug\",\n",
    "        \"-d\",\n",
    "        help=\"Set logger level to DEBUG and output everything.\",\n",
    "    ),\n",
    ") -> Dict[\"str\", Union[pd.DataFrame, str]]:\n",
    "    \"\"\"Return the list of users available in the server.\"\"\"\n",
    "\n",
    "    from airt.client import User\n",
    "\n",
    "    ux = User.ls(offset=offset, limit=limit, disabled=disabled)\n",
    "\n",
    "    df = User.as_df(ux)\n",
    "\n",
    "    df[\"created\"] = helper.humanize_date(df[\"created\"])\n",
    "\n",
    "    return {\"df\": df}"
   ]
  },
  {
   "cell_type": "code",
   "execution_count": null,
   "metadata": {},
   "outputs": [
    {
     "data": {
      "text/plain": [
       "'Usage: root ls [OPTIONS]\\n\\n  Return the list of users available in the server.\\n\\nOptions:\\n  -o, --offset INTEGER  The number of users to offset at the beginning. If\\n                        **None**, then the default value **0** will be used.\\n                        [default: 0]\\n  -l, --limit INTEGER   The maximum number of users to return from the server.\\n                        If None, then the default value 100 will be used.\\n                        [default: 100]\\n  --disabled            If set to **True**, then only the deleted users will be\\n                        returned. Else, the default value **False** will be used\\n                        to return only the list of active users.\\n  -f, --format TEXT     Format output and show only the given column(s) values.\\n  -q, --quiet           Output only user uuids separated by space\\n  -d, --debug           Set logger level to DEBUG and output everything.\\n  --help                Show this message and exit.\\n'"
      ]
     },
     "metadata": {},
     "output_type": "display_data"
    }
   ],
   "source": [
    "assert_has_help([\"ls\"])"
   ]
  },
  {
   "cell_type": "code",
   "execution_count": null,
   "metadata": {},
   "outputs": [
    {
     "data": {
      "text/plain": [
       "'d12065d3-48cb-4632-a4cc-db11b843399a\\ne53369c4-f5ea-478d-a078-147c0df00093\\n7f14fe1b-3c44-4bad-b1b8-e0da5a3429e8\\n68eb0ff7-9004-4ee6-baa2-4e6bfc62b68a\\n95c0ff28-4e0a-4be3-88ae-583bf1027ae7\\n8b872c68-5a47-4d43-b565-c2215b5c144c\\n8b8fee72-a02a-4b23-8eb4-6d438d67d5a8\\n4130a386-a377-4ea1-9309-c62442a66637\\na7b89f87-ceac-43ed-84c6-fc96ec0a52a1\\n1b6b11a9-a5f3-4ba6-a244-e3ec8e917798\\ne4c31874-a867-4fc6-8407-531fc4711c39\\n45b58d1a-9716-4e39-8a2a-4fa34e64c681\\nc2b6fa37-f439-48e9-9f60-d801ebd24920\\nf0853c45-5b0e-4ee9-87bc-c92235a1651d\\n90749653-705c-48ff-bfda-82eb3b7d840e\\ncbe73708-4ebc-4a15-9920-c5bfe07dc4a6\\n5f46973b-023d-4400-b2b3-4096aac0029a\\n452a0458-c450-4eeb-a6e2-937ae6ad8e6a\\nf04bd56a-2226-4a0d-ace3-fe9497736fb5\\n274d569b-c202-45a9-8a24-13d9dc525d84\\n6ef10bbe-fd24-4be2-bc21-7cf559979abd\\n016a5fe5-db60-4ef6-bfa4-f779ac4e01dc\\n07f88176-5fe1-4847-85d5-51e93aebff20\\naf7e2314-6c56-4b4e-a90c-cfebdae0ea52\\n2c4208d7-fdf8-48a9-bf54-ac72afaf6d3d\\nd02dd242-31d4-40e4-99e3-2a49be006093\\na3872746-c793-4c4a-864e-7d05a7d1e6ed\\n393cc29c-2671-4fcd-941c-d0cb4c6f864b\\n'"
      ]
     },
     "metadata": {},
     "output_type": "display_data"
    },
    {
     "data": {
      "text/plain": [
       "\"ids=['d12065d3-48cb-4632-a4cc-db11b843399a', 'e53369c4-f5ea-478d-a078-147c0df00093', '7f14fe1b-3c44-4bad-b1b8-e0da5a3429e8', '68eb0ff7-9004-4ee6-baa2-4e6bfc62b68a', '95c0ff28-4e0a-4be3-88ae-583bf1027ae7', '8b872c68-5a47-4d43-b565-c2215b5c144c', '8b8fee72-a02a-4b23-8eb4-6d438d67d5a8', '4130a386-a377-4ea1-9309-c62442a66637', 'a7b89f87-ceac-43ed-84c6-fc96ec0a52a1', '1b6b11a9-a5f3-4ba6-a244-e3ec8e917798', 'e4c31874-a867-4fc6-8407-531fc4711c39', '45b58d1a-9716-4e39-8a2a-4fa34e64c681', 'c2b6fa37-f439-48e9-9f60-d801ebd24920', 'f0853c45-5b0e-4ee9-87bc-c92235a1651d', '90749653-705c-48ff-bfda-82eb3b7d840e', 'cbe73708-4ebc-4a15-9920-c5bfe07dc4a6', '5f46973b-023d-4400-b2b3-4096aac0029a', '452a0458-c450-4eeb-a6e2-937ae6ad8e6a', 'f04bd56a-2226-4a0d-ace3-fe9497736fb5', '274d569b-c202-45a9-8a24-13d9dc525d84', '6ef10bbe-fd24-4be2-bc21-7cf559979abd', '016a5fe5-db60-4ef6-bfa4-f779ac4e01dc', '07f88176-5fe1-4847-85d5-51e93aebff20', 'af7e2314-6c56-4b4e-a90c-cfebdae0ea52', '2c4208d7-fdf8-48a9-bf54-ac72afaf6d3d', 'd02dd242-31d4-40e4-99e3-2a49be006093', 'a3872746-c793-4c4a-864e-7d05a7d1e6ed', '393cc29c-2671-4fcd-941c-d0cb4c6f864b']\""
      ]
     },
     "metadata": {},
     "output_type": "display_data"
    }
   ],
   "source": [
    "# Tests for ls\n",
    "# Testing positive scenario. Saving the token in env variable\n",
    "\n",
    "\n",
    "def get_uuids_from_result(result) -> List[str]:\n",
    "    return [uuid for uuid in result.stdout[:-1].split(\"\\n\")]\n",
    "\n",
    "\n",
    "with super_user():\n",
    "\n",
    "    # Without quiet\n",
    "    format_str = \"{'username': '{}', 'uuid': '{}'}\"\n",
    "    result = runner.invoke(app, [\"ls\", \"--format\", format_str])\n",
    "    assert \"username\" in result.stdout\n",
    "    assert result.exit_code == 0\n",
    "\n",
    "    # With quiet\n",
    "    result = runner.invoke(app, [\"ls\", \"-q\"])\n",
    "    display(result.stdout)\n",
    "\n",
    "    assert result.exit_code == 0\n",
    "    ids = get_uuids_from_result(result)\n",
    "    display(f\"{ids=}\")"
   ]
  },
  {
   "cell_type": "code",
   "execution_count": null,
   "metadata": {},
   "outputs": [
    {
     "data": {
      "text/plain": [
       "\"created_user_uuid='6d007a52-c15e-404c-945a-9396d38459e2'\\n\""
      ]
     },
     "metadata": {},
     "output_type": "display_data"
    },
    {
     "data": {
      "text/plain": [
       "'9b4c8afb-8c8f-4e26-b3a3-094dc0a29cd3\\na2b14123-0729-4194-a22d-8538facb7da1\\n003a19ea-a7ce-4f17-b959-8f4e7b05b261\\nc14e1d0c-cd19-4699-a9c6-cfe04b9b1df7\\n'"
      ]
     },
     "metadata": {},
     "output_type": "display_data"
    }
   ],
   "source": [
    "# tests for user ls\n",
    "\n",
    "_user_name = f\"random_user_{randrange(10000)}_{randrange(10000)}\"\n",
    "_email = f\"random_user_{randrange(10000)}_{randrange(10000)}@email.com\"\n",
    "\n",
    "cmd = [\n",
    "    \"create\",\n",
    "    \"-un\",\n",
    "    _user_name,\n",
    "    \"-fn\",\n",
    "    \"random_first_name\",\n",
    "    \"-ln\",\n",
    "    \"random_last_name\",\n",
    "    \"-e\",\n",
    "    _email,\n",
    "    \"-p\",\n",
    "    \"random_password\",\n",
    "    \"-st\",\n",
    "    \"small\",\n",
    "    \"-su\",\n",
    "    \"-q\",\n",
    "]\n",
    "\n",
    "with super_user():\n",
    "    # creating a new user\n",
    "    result = runner.invoke(app, cmd)\n",
    "    created_user_uuid = result.stdout[:-1]\n",
    "\n",
    "    display(f\"{created_user_uuid=}\\n\")\n",
    "\n",
    "    # checking the user id is not there in the ls when --disabled is passed\n",
    "    result = runner.invoke(app, [\"ls\", \"--disabled\", \"-q\"])\n",
    "    display(result.stdout)\n",
    "    assert result.exit_code == 0\n",
    "    assert f\"{created_user_uuid}\" not in str(result.stdout)"
   ]
  },
  {
   "cell_type": "code",
   "execution_count": null,
   "metadata": {},
   "outputs": [],
   "source": [
    "# | exporti\n",
    "\n",
    "\n",
    "@app.command()\n",
    "@helper.display_formated_table\n",
    "@helper.requires_totp()\n",
    "@helper.requires_auth_token\n",
    "def disable(\n",
    "    users: List[str] = typer.Argument(\n",
    "        ...,\n",
    "        help=\"user_uuid/username to disabled.  To disable multiple users, please pass the uuids/names separated by space.\",\n",
    "    ),\n",
    "    otp: Optional[str] = typer.Option(\n",
    "        None,\n",
    "        \"--otp\",\n",
    "        help=\"Dynamically generated six-digit verification code from the authenticator app. Please pass this optional argument only if you have activated the MFA for your account.\",\n",
    "    ),\n",
    "    format: Optional[str] = typer.Option(\n",
    "        None,\n",
    "        \"--format\",\n",
    "        \"-f\",\n",
    "        help=\"Format output and show only the given column(s) values.\",\n",
    "    ),\n",
    "    quiet: bool = typer.Option(\n",
    "        False,\n",
    "        \"--quiet\",\n",
    "        \"-q\",\n",
    "        help=\"Output user uuid only.\",\n",
    "    ),\n",
    "    debug: bool = typer.Option(\n",
    "        False,\n",
    "        \"--debug\",\n",
    "        \"-d\",\n",
    "        help=\"Set logger level to DEBUG and output everything.\",\n",
    "    ),\n",
    ") -> Dict[\"str\", Union[pd.DataFrame, str]]:\n",
    "    \"\"\"Disable a user in the server.\"\"\"\n",
    "\n",
    "    from airt.client import User\n",
    "\n",
    "    users = [user for user in users]\n",
    "    #     formated_users = helper.separate_integers_and_strings(users)\n",
    "\n",
    "    df = User.disable(user=users, otp=otp)  # type: ignore\n",
    "    df[\"created\"] = helper.humanize_date(df[\"created\"])\n",
    "\n",
    "    return {\"df\": df}"
   ]
  },
  {
   "cell_type": "code",
   "execution_count": null,
   "metadata": {},
   "outputs": [
    {
     "data": {
      "text/plain": [
       "'Usage: root disable [OPTIONS] USERS...\\n\\n  Disable a user in the server.\\n\\nArguments:\\n  USERS...  user_uuid/username to disabled.  To disable multiple users, please\\n            pass the uuids/names separated by space.  [required]\\n\\nOptions:\\n  --otp TEXT         Dynamically generated six-digit verification code from the\\n                     authenticator app. Please pass this optional argument only\\n                     if you have activated the MFA for your account.\\n  -f, --format TEXT  Format output and show only the given column(s) values.\\n  -q, --quiet        Output user uuid only.\\n  -d, --debug        Set logger level to DEBUG and output everything.\\n  --help             Show this message and exit.\\n'"
      ]
     },
     "metadata": {},
     "output_type": "display_data"
    }
   ],
   "source": [
    "assert_has_help([\"disable\"])"
   ]
  },
  {
   "cell_type": "code",
   "execution_count": null,
   "metadata": {},
   "outputs": [
    {
     "data": {
      "text/plain": [
       "\"disabled_user_uuid='c8e24693-2f7e-4e4a-bad0-0f2888d7216f'\""
      ]
     },
     "metadata": {},
     "output_type": "display_data"
    },
    {
     "data": {
      "text/plain": [
       "\"all_disabled_users=['9b4c8afb-8c8f-4e26-b3a3-094dc0a29cd3', 'a2b14123-0729-4194-a22d-8538facb7da1', '003a19ea-a7ce-4f17-b959-8f4e7b05b261', 'c14e1d0c-cd19-4699-a9c6-cfe04b9b1df7', 'c8e24693-2f7e-4e4a-bad0-0f2888d7216f']\""
      ]
     },
     "metadata": {},
     "output_type": "display_data"
    },
    {
     "data": {
      "text/plain": [
       "'Error: The user has already been disabled.\\n'"
      ]
     },
     "metadata": {},
     "output_type": "display_data"
    },
    {
     "data": {
      "text/plain": [
       "'Error: MFA is not activated for the account. Please pass the OTP only after activating the MFA for your account.\\n'"
      ]
     },
     "metadata": {},
     "output_type": "display_data"
    }
   ],
   "source": [
    "# tests for user disable\n",
    "\n",
    "# creating a new user\n",
    "_user_name = f\"random_user_{randrange(10000)}_{randrange(10000)}\"\n",
    "_email = f\"random_user_{randrange(10000)}_{randrange(10000)}@email.com\"\n",
    "\n",
    "cmd = [\n",
    "    \"create\",\n",
    "    \"-un\",\n",
    "    _user_name,\n",
    "    \"-fn\",\n",
    "    \"random_first_name\",\n",
    "    \"-ln\",\n",
    "    \"random_last_name\",\n",
    "    \"-e\",\n",
    "    _email,\n",
    "    \"-p\",\n",
    "    \"random_password\",\n",
    "    \"-st\",\n",
    "    \"small\",\n",
    "    \"-su\",\n",
    "    \"-q\",\n",
    "]\n",
    "\n",
    "with super_user():\n",
    "\n",
    "    # Creating a new user with super user credentials\n",
    "    result = runner.invoke(app, cmd)\n",
    "    created_user_uuid = result.stdout[:-1]\n",
    "\n",
    "    assert result.exit_code == 0\n",
    "\n",
    "    # disabling the newly created user\n",
    "    created_user_name = runner.invoke(\n",
    "        app, [\"details\", \"--user\", created_user_uuid, \"--format\", \"{'username': '{}'}\"]\n",
    "    )\n",
    "    result = runner.invoke(app, [\"disable\", created_user_name.stdout[:-1], \"-q\"])\n",
    "    disabled_user_uuid = result.stdout[:-1]\n",
    "\n",
    "    display(f\"{disabled_user_uuid=}\")\n",
    "\n",
    "    # list disabled users only\n",
    "    result = runner.invoke(app, [\"ls\", \"--disabled\", \"-q\"])\n",
    "    all_disabled_users = list(get_uuids_from_result(result))\n",
    "\n",
    "    display(f\"{all_disabled_users=}\")\n",
    "\n",
    "    assert result.exit_code == 0\n",
    "    assert disabled_user_uuid in all_disabled_users\n",
    "\n",
    "    # disabling already disabled user\n",
    "    result = runner.invoke(app, [\"disable\", created_user_uuid])\n",
    "\n",
    "    display(result.stdout)\n",
    "\n",
    "    assert result.exit_code == 1\n",
    "\n",
    "    # Negative Scenario. Non-MFA user passing otp\n",
    "    random_otp = 123456\n",
    "    result = runner.invoke(app, [\"disable\", created_user_uuid, \"--otp\", random_otp])\n",
    "    display(result.stdout)\n",
    "    assert result.exit_code == 1"
   ]
  },
  {
   "cell_type": "code",
   "execution_count": null,
   "metadata": {},
   "outputs": [
    {
     "data": {
      "text/plain": [
       "'username               uuid\\nrandom_user_7131_6824  989d1a2f-ea59-4171-b7b4-dc4dcbd97f8d\\n'"
      ]
     },
     "metadata": {},
     "output_type": "display_data"
    }
   ],
   "source": [
    "# creating a new user\n",
    "_user_name = f\"random_user_{randrange(10000)}_{randrange(10000)}\"\n",
    "_email = f\"random_user_{randrange(10000)}_{randrange(10000)}@email.com\"\n",
    "\n",
    "format_str = \"{'username': '{}', 'uuid': '{}'}\"\n",
    "cmd = [\n",
    "    \"create\",\n",
    "    \"-un\",\n",
    "    _user_name,\n",
    "    \"-fn\",\n",
    "    \"random_first_name\",\n",
    "    \"-ln\",\n",
    "    \"random_last_name\",\n",
    "    \"-e\",\n",
    "    _email,\n",
    "    \"-p\",\n",
    "    \"random_password\",\n",
    "    \"-st\",\n",
    "    \"small\",\n",
    "    \"-su\",\n",
    "    \"--format\",\n",
    "    format_str,\n",
    "]\n",
    "\n",
    "with super_user():\n",
    "\n",
    "    # Creating a new user with super user credentials\n",
    "    result = runner.invoke(app, cmd)\n",
    "    created_user_uuid = result.stdout[:-1]\n",
    "    display(result.stdout)\n",
    "\n",
    "    assert result.exit_code == 0"
   ]
  },
  {
   "cell_type": "code",
   "execution_count": null,
   "metadata": {},
   "outputs": [],
   "source": [
    "# | exporti\n",
    "\n",
    "\n",
    "@app.command()\n",
    "@helper.display_formated_table\n",
    "@helper.requires_totp()\n",
    "@helper.requires_auth_token\n",
    "def enable(\n",
    "    users: List[str] = typer.Argument(\n",
    "        ...,\n",
    "        help=\"user_uuid/username to enable. To enable multiple users, please pass the uuids/names separated by space.\",\n",
    "    ),\n",
    "    otp: Optional[str] = typer.Option(\n",
    "        None,\n",
    "        \"--otp\",\n",
    "        help=\"Dynamically generated six-digit verification code from the authenticator app. Please pass this optional argument only if you have activated the MFA for your account.\",\n",
    "    ),\n",
    "    format: Optional[str] = typer.Option(\n",
    "        None,\n",
    "        \"--format\",\n",
    "        \"-f\",\n",
    "        help=\"Format output and show only the given column(s) values.\",\n",
    "    ),\n",
    "    quiet: bool = typer.Option(\n",
    "        False,\n",
    "        \"--quiet\",\n",
    "        \"-q\",\n",
    "        help=\"Output user uuid only.\",\n",
    "    ),\n",
    "    debug: bool = typer.Option(\n",
    "        False,\n",
    "        \"--debug\",\n",
    "        \"-d\",\n",
    "        help=\"Set logger level to DEBUG and output everything.\",\n",
    "    ),\n",
    ") -> Dict[\"str\", Union[pd.DataFrame, str]]:\n",
    "    \"\"\"Enable a disabled user in the server.\"\"\"\n",
    "\n",
    "    from airt.client import User\n",
    "\n",
    "    users = [user for user in users]\n",
    "    #     formated_users = helper.separate_integers_and_strings(users)\n",
    "\n",
    "    df = User.enable(user=users, otp=otp)  # type: ignore\n",
    "    df[\"created\"] = helper.humanize_date(df[\"created\"])\n",
    "\n",
    "    return {\"df\": df}"
   ]
  },
  {
   "cell_type": "code",
   "execution_count": null,
   "metadata": {},
   "outputs": [
    {
     "data": {
      "text/plain": [
       "'Usage: root enable [OPTIONS] USERS...\\n\\n  Enable a disabled user in the server.\\n\\nArguments:\\n  USERS...  user_uuid/username to enable. To enable multiple users, please pass\\n            the uuids/names separated by space.  [required]\\n\\nOptions:\\n  --otp TEXT         Dynamically generated six-digit verification code from the\\n                     authenticator app. Please pass this optional argument only\\n                     if you have activated the MFA for your account.\\n  -f, --format TEXT  Format output and show only the given column(s) values.\\n  -q, --quiet        Output user uuid only.\\n  -d, --debug        Set logger level to DEBUG and output everything.\\n  --help             Show this message and exit.\\n'"
      ]
     },
     "metadata": {},
     "output_type": "display_data"
    }
   ],
   "source": [
    "assert_has_help([\"enable\"])"
   ]
  },
  {
   "cell_type": "code",
   "execution_count": null,
   "metadata": {},
   "outputs": [
    {
     "data": {
      "text/plain": [
       "'4984a628-ef22-453a-9433-9f11e7d054b0\\n'"
      ]
     },
     "metadata": {},
     "output_type": "display_data"
    },
    {
     "data": {
      "text/plain": [
       "\"enabled_user_id='4984a628-ef22-453a-9433-9f11e7d054b0'\""
      ]
     },
     "metadata": {},
     "output_type": "display_data"
    },
    {
     "data": {
      "text/plain": [
       "\"all_enabled_users=['d12065d3-48cb-4632-a4cc-db11b843399a', 'e53369c4-f5ea-478d-a078-147c0df00093', '7f14fe1b-3c44-4bad-b1b8-e0da5a3429e8', '68eb0ff7-9004-4ee6-baa2-4e6bfc62b68a', '95c0ff28-4e0a-4be3-88ae-583bf1027ae7', '8b872c68-5a47-4d43-b565-c2215b5c144c', '8b8fee72-a02a-4b23-8eb4-6d438d67d5a8', '4130a386-a377-4ea1-9309-c62442a66637', 'a7b89f87-ceac-43ed-84c6-fc96ec0a52a1', '1b6b11a9-a5f3-4ba6-a244-e3ec8e917798', 'e4c31874-a867-4fc6-8407-531fc4711c39', '45b58d1a-9716-4e39-8a2a-4fa34e64c681', 'c2b6fa37-f439-48e9-9f60-d801ebd24920', 'f0853c45-5b0e-4ee9-87bc-c92235a1651d', '90749653-705c-48ff-bfda-82eb3b7d840e', 'cbe73708-4ebc-4a15-9920-c5bfe07dc4a6', '5f46973b-023d-4400-b2b3-4096aac0029a', '452a0458-c450-4eeb-a6e2-937ae6ad8e6a', 'f04bd56a-2226-4a0d-ace3-fe9497736fb5', '274d569b-c202-45a9-8a24-13d9dc525d84', '6ef10bbe-fd24-4be2-bc21-7cf559979abd', '016a5fe5-db60-4ef6-bfa4-f779ac4e01dc', '07f88176-5fe1-4847-85d5-51e93aebff20', 'af7e2314-6c56-4b4e-a90c-cfebdae0ea52', '2c4208d7-fdf8-48a9-bf54-ac72afaf6d3d', 'd02dd242-31d4-40e4-99e3-2a49be006093', 'a3872746-c793-4c4a-864e-7d05a7d1e6ed', '393cc29c-2671-4fcd-941c-d0cb4c6f864b', '6d007a52-c15e-404c-945a-9396d38459e2', '989d1a2f-ea59-4171-b7b4-dc4dcbd97f8d', '4984a628-ef22-453a-9433-9f11e7d054b0']\""
      ]
     },
     "metadata": {},
     "output_type": "display_data"
    },
    {
     "data": {
      "text/plain": [
       "'Error: The user has already been enabled.\\n'"
      ]
     },
     "metadata": {},
     "output_type": "display_data"
    },
    {
     "data": {
      "text/plain": [
       "'Error: MFA is not activated for the account. Please pass the OTP only after activating the MFA for your account.\\n'"
      ]
     },
     "metadata": {},
     "output_type": "display_data"
    }
   ],
   "source": [
    "# tests for user enable\n",
    "\n",
    "# creating a new user\n",
    "_user_name = f\"random_user_{randrange(10000)}_{randrange(10000)}\"\n",
    "_email = f\"random_user_{randrange(10000)}_{randrange(10000)}@email.com\"\n",
    "\n",
    "cmd = [\n",
    "    \"create\",\n",
    "    \"-un\",\n",
    "    _user_name,\n",
    "    \"-fn\",\n",
    "    \"random_first_name\",\n",
    "    \"-ln\",\n",
    "    \"random_last_name\",\n",
    "    \"-e\",\n",
    "    _email,\n",
    "    \"-p\",\n",
    "    \"random_password\",\n",
    "    \"-st\",\n",
    "    \"small\",\n",
    "    \"-su\",\n",
    "    \"-q\",\n",
    "]\n",
    "\n",
    "with super_user():\n",
    "\n",
    "    # Creating a new user\n",
    "    result = runner.invoke(app, cmd)\n",
    "    created_user_uuid = result.stdout[:-1]\n",
    "\n",
    "    assert result.exit_code == 0\n",
    "\n",
    "    # disabling the newly created user\n",
    "    result = runner.invoke(app, [\"disable\", created_user_uuid, \"-q\"])\n",
    "    disabled_user_uuid = result.stdout[:-1]\n",
    "    display(result.stdout)\n",
    "    assert result.exit_code == 0\n",
    "\n",
    "    # enabling the newly created user\n",
    "    created_user_name = runner.invoke(\n",
    "        app, [\"details\", \"--user\", created_user_uuid, \"--format\", \"{'username': '{}'}\"]\n",
    "    )\n",
    "    result = runner.invoke(app, [\"enable\", created_user_name.stdout[:-1], \"-q\"])\n",
    "    enabled_user_id = result.stdout[:-1]\n",
    "\n",
    "    display(f\"{enabled_user_id=}\")\n",
    "\n",
    "    # list enabled users only\n",
    "    result = runner.invoke(app, [\"ls\", \"-q\", \"-l\", 500])\n",
    "    all_enabled_users = list(get_uuids_from_result(result))\n",
    "\n",
    "    display(f\"{all_enabled_users=}\")\n",
    "\n",
    "    assert result.exit_code == 0\n",
    "    assert enabled_user_id in all_enabled_users\n",
    "\n",
    "    # enabling already enabled user\n",
    "    result = runner.invoke(app, [\"enable\", created_user_uuid])\n",
    "\n",
    "    display(result.stdout)\n",
    "\n",
    "    assert result.exit_code == 1\n",
    "\n",
    "    # Negative Scenario. Non-MFA user passing otp\n",
    "    random_otp = 123456\n",
    "    result = runner.invoke(app, [\"enable\", created_user_uuid, \"--otp\", random_otp])\n",
    "    display(result.stdout)\n",
    "    assert result.exit_code == 1"
   ]
  },
  {
   "cell_type": "code",
   "execution_count": null,
   "metadata": {},
   "outputs": [
    {
     "data": {
      "text/plain": [
       "'44de0383-288a-4595-9331-ee5ad27dc0d2\\n'"
      ]
     },
     "metadata": {},
     "output_type": "display_data"
    },
    {
     "data": {
      "text/plain": [
       "'efb4f4ab-eee5-4c57-8e20-e0368bea0415\\n'"
      ]
     },
     "metadata": {},
     "output_type": "display_data"
    }
   ],
   "source": [
    "# tests for enabling muliple users\n",
    "\n",
    "# creating a new user\n",
    "def get_cmd_to_create_user():\n",
    "    random_user = randrange(10000)\n",
    "    cmd = [\n",
    "        \"create\",\n",
    "        \"-un\",\n",
    "        f\"random_user_{random_user}\",\n",
    "        \"-fn\",\n",
    "        \"random_first_name\",\n",
    "        \"-ln\",\n",
    "        \"random_last_name\",\n",
    "        \"-e\",\n",
    "        f\"random_user_{random_user}@email.com\",\n",
    "        \"-p\",\n",
    "        \"random_password\",\n",
    "        \"-st\",\n",
    "        \"small\",\n",
    "        \"-su\",\n",
    "        \"-q\",\n",
    "    ]\n",
    "    return cmd\n",
    "\n",
    "\n",
    "with super_user():\n",
    "\n",
    "    # Creating a new user\n",
    "    result = runner.invoke(app, get_cmd_to_create_user())\n",
    "    display(result.stdout)\n",
    "    user_1 = result.stdout[:-1]\n",
    "\n",
    "    assert result.exit_code == 0\n",
    "\n",
    "    # Creating a new user\n",
    "    result = runner.invoke(app, get_cmd_to_create_user())\n",
    "    display(result.stdout)\n",
    "    user_2 = result.stdout[:-1]\n",
    "\n",
    "    assert result.exit_code == 0\n",
    "\n",
    "    # disabling the newly created user\n",
    "    result = runner.invoke(app, [\"disable\", user_1, user_2, \"-q\"])\n",
    "    disabled_user_uuid = result.stdout[:-1]\n",
    "    disabled_user_1_uuid = disabled_user_uuid.split(\"\\n\")[0]\n",
    "    disabled_user_2_uuid = disabled_user_uuid.split(\"\\n\")[1]\n",
    "\n",
    "    # enabling multiplee users\n",
    "    result = runner.invoke(app, [\"enable\", disabled_user_1_uuid, disabled_user_2_uuid])\n",
    "    assert disabled_user_1_uuid in result.stdout\n",
    "    assert disabled_user_2_uuid in result.stdout"
   ]
  },
  {
   "cell_type": "code",
   "execution_count": null,
   "metadata": {},
   "outputs": [
    {
     "data": {
      "text/plain": [
       "'username               uuid\\nrandom_user_2376_4264  3be0acb4-fce8-4ae3-a004-ae3101617fe0\\n'"
      ]
     },
     "metadata": {},
     "output_type": "display_data"
    }
   ],
   "source": [
    "# creating a new user\n",
    "_user_name = f\"random_user_{randrange(10000)}_{randrange(10000)}\"\n",
    "_email = f\"random_user_{randrange(10000)}_{randrange(10000)}@email.com\"\n",
    "\n",
    "\n",
    "cmd = [\n",
    "    \"create\",\n",
    "    \"-un\",\n",
    "    _user_name,\n",
    "    \"-fn\",\n",
    "    \"random_first_name\",\n",
    "    \"-ln\",\n",
    "    \"random_last_name\",\n",
    "    \"-e\",\n",
    "    _email,\n",
    "    \"-p\",\n",
    "    \"random_password\",\n",
    "    \"-st\",\n",
    "    \"small\",\n",
    "    \"-su\",\n",
    "    \"-q\",\n",
    "]\n",
    "\n",
    "with super_user():\n",
    "\n",
    "    # Creating a new user with super user credentials\n",
    "    result = runner.invoke(app, cmd)\n",
    "    created_user_uuid = result.stdout[:-1]\n",
    "\n",
    "    assert result.exit_code == 0\n",
    "\n",
    "    # disabling the newly created user\n",
    "    result = runner.invoke(app, [\"disable\", created_user_uuid, \"-q\"])\n",
    "    disabled_user_uuid = result.stdout[:-1]\n",
    "\n",
    "    assert result.exit_code == 0\n",
    "\n",
    "    # enabling the newly created user\n",
    "    format_str = \"{'username': '{}', 'uuid': '{}'}\"\n",
    "    result = runner.invoke(\n",
    "        app, [\"enable\", created_user_uuid, \"-q\", \"--format\", format_str]\n",
    "    )\n",
    "    display(result.stdout)"
   ]
  },
  {
   "cell_type": "code",
   "execution_count": null,
   "metadata": {},
   "outputs": [
    {
     "data": {
      "text/plain": [
       "'username               uuid\\nrandom_user_1820_2809  3685e5d0-9e51-4b9d-afb5-09a5e5293bf4\\n'"
      ]
     },
     "metadata": {},
     "output_type": "display_data"
    }
   ],
   "source": [
    "# creating a new user\n",
    "_user_name = f\"random_user_{randrange(10000)}_{randrange(10000)}\"\n",
    "_email = f\"random_user_{randrange(10000)}_{randrange(10000)}@email.com\"\n",
    "\n",
    "\n",
    "cmd = [\n",
    "    \"create\",\n",
    "    \"-un\",\n",
    "    _user_name,\n",
    "    \"-fn\",\n",
    "    \"random_first_name\",\n",
    "    \"-ln\",\n",
    "    \"random_last_name\",\n",
    "    \"-e\",\n",
    "    _email,\n",
    "    \"-p\",\n",
    "    \"random_password\",\n",
    "    \"-st\",\n",
    "    \"small\",\n",
    "    \"-su\",\n",
    "    \"-q\",\n",
    "]\n",
    "\n",
    "with super_user():\n",
    "\n",
    "    # Creating a new user with super user credentials\n",
    "    result = runner.invoke(app, cmd)\n",
    "    created_user_uuid = result.stdout[:-1]\n",
    "\n",
    "    assert result.exit_code == 0\n",
    "\n",
    "    # disabling the newly created user\n",
    "    result = runner.invoke(app, [\"disable\", created_user_uuid, \"-q\"])\n",
    "    disabled_user_uuid = result.stdout[:-1]\n",
    "\n",
    "    assert result.exit_code == 0\n",
    "\n",
    "    # enabling the newly created user\n",
    "    format_str = \"{'username': '{}', 'uuid': '{}'}\"\n",
    "    result = runner.invoke(\n",
    "        app, [\"enable\", created_user_uuid, \"-q\", \"--format\", format_str]\n",
    "    )\n",
    "    display(result.stdout)"
   ]
  },
  {
   "cell_type": "code",
   "execution_count": null,
   "metadata": {},
   "outputs": [],
   "source": [
    "# | exporti\n",
    "\n",
    "\n",
    "@app.command()\n",
    "@helper.display_formated_table\n",
    "@helper.requires_totp()\n",
    "@helper.requires_auth_token\n",
    "def update(\n",
    "    user: Optional[str] = typer.Option(\n",
    "        None,\n",
    "        \"--user\",\n",
    "        help=\"Account user_uuid/username to update. If not passed, then the default value None will be used to update the currently logged-in user details.\",\n",
    "    ),\n",
    "    username: Optional[str] = typer.Option(\n",
    "        None,\n",
    "        \"--username\",\n",
    "        \"-un\",\n",
    "        help=\"New username for the user.\",\n",
    "    ),\n",
    "    first_name: Optional[str] = typer.Option(\n",
    "        None,\n",
    "        \"--first_name\",\n",
    "        \"-fn\",\n",
    "        help=\"New first name for the user.\",\n",
    "    ),\n",
    "    last_name: Optional[str] = typer.Option(\n",
    "        None,\n",
    "        \"--last_name\",\n",
    "        \"-ln\",\n",
    "        help=\"New last name for the user.\",\n",
    "    ),\n",
    "    email: Optional[str] = typer.Option(\n",
    "        None,\n",
    "        \"--email\",\n",
    "        \"-e\",\n",
    "        help=\"New email for the user.\",\n",
    "    ),\n",
    "    otp: Optional[str] = typer.Option(\n",
    "        None,\n",
    "        \"--otp\",\n",
    "        help=\"Dynamically generated six-digit verification code from the authenticator app. Please pass this optional argument only if you have activated the MFA for your account.\",\n",
    "    ),\n",
    "    format: Optional[str] = typer.Option(\n",
    "        None,\n",
    "        \"--format\",\n",
    "        \"-f\",\n",
    "        help=\"Format output and show only the given column(s) values.\",\n",
    "    ),\n",
    "    quiet: bool = typer.Option(\n",
    "        False,\n",
    "        \"--quiet\",\n",
    "        \"-q\",\n",
    "        help=\"Output user uuid only.\",\n",
    "    ),\n",
    "    debug: bool = typer.Option(\n",
    "        False,\n",
    "        \"--debug\",\n",
    "        \"-d\",\n",
    "        help=\"Set logger level to DEBUG and output everything.\",\n",
    "    ),\n",
    ") -> Dict[\"str\", Union[pd.DataFrame, str]]:\n",
    "    \"\"\"Update existing user details in the server.\n",
    "\n",
    "    Please do not pass the optional user option unless you are a super user. Only a\n",
    "    super user can update details for other users.\n",
    "\n",
    "    \"\"\"\n",
    "\n",
    "    from airt.client import User\n",
    "\n",
    "    df = User.update(\n",
    "        user=user,\n",
    "        username=username,\n",
    "        first_name=first_name,\n",
    "        last_name=last_name,\n",
    "        email=email,\n",
    "        otp=otp,\n",
    "    )\n",
    "\n",
    "    df[\"created\"] = helper.humanize_date(df[\"created\"])\n",
    "\n",
    "    return {\"df\": df}"
   ]
  },
  {
   "cell_type": "code",
   "execution_count": null,
   "metadata": {},
   "outputs": [
    {
     "data": {
      "text/plain": [
       "'Usage: root update [OPTIONS]\\n\\n  Update existing user details in the server.\\n\\n  Please do not pass the optional user option unless you are a super user. Only\\n  a super user can update details for other users.\\n\\nOptions:\\n  --user TEXT             Account user_uuid/username to update. If not passed,\\n                          then the default value None will be used to update the\\n                          currently logged-in user details.\\n  -un, --username TEXT    New username for the user.\\n  -fn, --first_name TEXT  New first name for the user.\\n  -ln, --last_name TEXT   New last name for the user.\\n  -e, --email TEXT        New email for the user.\\n  --otp TEXT              Dynamically generated six-digit verification code from\\n                          the authenticator app. Please pass this optional\\n                          argument only if you have activated the MFA for your\\n                          account.\\n  -f, --format TEXT       Format output and show only the given column(s)\\n                          values.\\n  -q, --quiet             Output user uuid only.\\n  -d, --debug             Set logger level to DEBUG and output everything.\\n  --help                  Show this message and exit.\\n'"
      ]
     },
     "metadata": {},
     "output_type": "display_data"
    }
   ],
   "source": [
    "assert_has_help([\"update\"])"
   ]
  },
  {
   "cell_type": "code",
   "execution_count": null,
   "metadata": {},
   "outputs": [
    {
     "data": {
      "text/plain": [
       "'first_name      uuid\\nnew_first_name  42a7aad7-0d01-4e40-9db4-a8fc5d9a3ee5\\n'"
      ]
     },
     "metadata": {},
     "output_type": "display_data"
    },
    {
     "data": {
      "text/plain": [
       "'Error: MFA is not activated for the account. Please pass the OTP only after activating the MFA for your account.\\n'"
      ]
     },
     "metadata": {},
     "output_type": "display_data"
    }
   ],
   "source": [
    "# tests for user update\n",
    "\n",
    "# Testing positive scenario. Updating the user details as super user\n",
    "\n",
    "_user_name = f\"random_user_{randrange(10000)}_{randrange(10000)}\"\n",
    "_email = f\"random_user_{randrange(10000)}_{randrange(10000)}@email.com\"\n",
    "\n",
    "\n",
    "cmd = [\n",
    "    \"create\",\n",
    "    \"-un\",\n",
    "    _user_name,\n",
    "    \"-fn\",\n",
    "    \"random_first_name\",\n",
    "    \"-ln\",\n",
    "    \"random_last_name\",\n",
    "    \"-e\",\n",
    "    _email,\n",
    "    \"-p\",\n",
    "    \"random_password\",\n",
    "    \"-st\",\n",
    "    \"small\",\n",
    "    \"-su\",\n",
    "    \"-q\",\n",
    "]\n",
    "\n",
    "with super_user():\n",
    "\n",
    "    # Creating a new user with super user credentials\n",
    "    result = runner.invoke(app, cmd)\n",
    "    created_user_uuid = result.stdout[:-1]\n",
    "    assert result.exit_code == 0\n",
    "\n",
    "    # updating the user details as super user\n",
    "    format_str = \"{'first_name': '{}', 'uuid': '{}'}\"\n",
    "    result = runner.invoke(\n",
    "        app,\n",
    "        [\n",
    "            \"update\",\n",
    "            \"--user\",\n",
    "            created_user_uuid,\n",
    "            \"--first_name\",\n",
    "            \"new_first_name\",\n",
    "            \"--format\",\n",
    "            format_str,\n",
    "        ],\n",
    "    )\n",
    "\n",
    "    display(result.stdout)\n",
    "    assert result.exit_code == 0\n",
    "    assert \"new_first_name\" in result.stdout\n",
    "\n",
    "    # Negative Scenario. Non-MFA user passing otp\n",
    "    random_otp = 123456\n",
    "    result = runner.invoke(\n",
    "        app,\n",
    "        [\n",
    "            \"update\",\n",
    "            \"--user\",\n",
    "            created_user_uuid,\n",
    "            \"--first_name\",\n",
    "            \"new_first_name\",\n",
    "            \"--format\",\n",
    "            format_str,\n",
    "            \"--otp\",\n",
    "            random_otp,\n",
    "        ],\n",
    "    )\n",
    "    display(result.stdout)\n",
    "    assert \"MFA is not activated for the account.\" in result.stdout, result.stdout\n",
    "    assert result.exit_code == 1"
   ]
  },
  {
   "cell_type": "code",
   "execution_count": null,
   "metadata": {},
   "outputs": [
    {
     "data": {
      "text/plain": [
       "'uuid                                  username               email                            super_user    is_mfa_active    disabled    created    subscription_type    first_name      last_name      phone_number    is_phone_number_verified\\n88341c0c-eba0-4019-845b-de698a5b381a  random_user_4748_8390  random_user_4706_7056@email.com  True          False            False       now        small                new_first_name  new_last_name  <none>          False\\n'"
      ]
     },
     "metadata": {},
     "output_type": "display_data"
    },
    {
     "data": {
      "text/plain": [
       "'Masked token = *************************************************************************************************************************************************'"
      ]
     },
     "metadata": {},
     "output_type": "display_data"
    }
   ],
   "source": [
    "# tests for user update\n",
    "\n",
    "# Testing positive scenario: Normal user updating their details\n",
    "\n",
    "_email = f\"random_user_{randrange(10000)}_{randrange(10000)}@email.com\"\n",
    "\n",
    "_new_user_id = None\n",
    "_new_user_name = f\"random_user_{randrange(10000)}_{randrange(10000)}\"\n",
    "_new_user_password = \"random_password\"\n",
    "\n",
    "cmd = [\n",
    "    \"create\",\n",
    "    \"-un\",\n",
    "    _new_user_name,\n",
    "    \"-fn\",\n",
    "    \"random_first_name\",\n",
    "    \"-ln\",\n",
    "    \"random_last_name\",\n",
    "    \"-e\",\n",
    "    _email,\n",
    "    \"-p\",\n",
    "    _new_user_password,\n",
    "    \"-st\",\n",
    "    \"small\",\n",
    "    \"-su\",\n",
    "    \"-q\",\n",
    "]\n",
    "\n",
    "with super_user():\n",
    "    global _new_user_id\n",
    "\n",
    "    # Creating a new user with super user credentials\n",
    "    result = runner.invoke(app, cmd)\n",
    "    _new_user_id = result.stdout[:-1]\n",
    "\n",
    "    assert result.exit_code == 0\n",
    "\n",
    "# Testing positive scenario: Normal user updating their details\n",
    "try:\n",
    "\n",
    "    Client.get_token(username=_new_user_name, password=_new_user_password)\n",
    "\n",
    "    os.environ[SERVICE_TOKEN] = Client.auth_token\n",
    "\n",
    "    # Updating the user details\n",
    "    _updated_first_name = \"new_first_name\"\n",
    "    _updated_last_name = \"new_last_name\"\n",
    "\n",
    "    result = runner.invoke(\n",
    "        app,\n",
    "        [\n",
    "            \"update\",\n",
    "            \"--first_name\",\n",
    "            _updated_first_name,\n",
    "            \"-ln\",\n",
    "            _updated_last_name,\n",
    "        ],\n",
    "    )\n",
    "\n",
    "    display(result.stdout)\n",
    "    assert result.exit_code == 0\n",
    "    assert _updated_first_name in result.stdout\n",
    "    assert _updated_last_name in result.stdout\n",
    "\n",
    "    # logging in with the new password\n",
    "    Client.get_token(username=_new_user_name, password=_new_user_password)\n",
    "    display(f\"Masked token = { '*' * (len(Client.auth_token))}\")\n",
    "    assert len(Client.auth_token) >= 127\n",
    "\n",
    "    # Testing negative scenario: Updating other user details with normal user credentials\n",
    "    result = runner.invoke(\n",
    "        app,\n",
    "        [\n",
    "            \"update\",\n",
    "            \"--user\",\n",
    "            INVALID_UUID_FOR_TESTING,\n",
    "            \"--first_name\",\n",
    "            _updated_first_name,\n",
    "            \"-ln\",\n",
    "            _updated_last_name,\n",
    "        ],\n",
    "    )\n",
    "    assert result.exit_code == 1\n",
    "\n",
    "finally:\n",
    "    del os.environ[SERVICE_TOKEN]"
   ]
  },
  {
   "cell_type": "code",
   "execution_count": null,
   "metadata": {},
   "outputs": [],
   "source": [
    "# | exporti\n",
    "\n",
    "\n",
    "@app.command(\"register-phone-number\")\n",
    "@helper.requires_totp()\n",
    "@helper.requires_auth_token\n",
    "def register_phone_number(\n",
    "    phone_number: Optional[str] = typer.Option(\n",
    "        None,\n",
    "        \"--phone-number\",\n",
    "        \"-p\",\n",
    "        help=\"\"\"Phone number to register. The phone number should follow the pattern of the \n",
    "            country code followed by your phone number. For example, **440123456789, +440123456789,\n",
    "            00440123456789, +44 0123456789, and (+44) 012 345 6789** are all valid formats for registering a UK phone number.\n",
    "            If the phone number is not passed in the arguments, then the OTP will be sent to the phone \n",
    "            number that was already registered to the user's account.\"\"\",\n",
    "    ),\n",
    "    otp: Optional[str] = typer.Option(\n",
    "        None,\n",
    "        \"--otp\",\n",
    "        help=\"Dynamically generated six-digit verification code from the authenticator app. Please pass this optional argument only if you have activated the MFA for your account.\",\n",
    "    ),\n",
    "    debug: bool = typer.Option(\n",
    "        False,\n",
    "        \"--debug\",\n",
    "        \"-d\",\n",
    "        help=\"Set logger level to DEBUG and output everything.\",\n",
    "    ),\n",
    "):\n",
    "    \"\"\"Register and validate a phone number\n",
    "\n",
    "    This is an interactive command, one called it will send an OTP via SMS to the phone number. Please enter the OTP you have received\n",
    "    in the interactive prompt to complete the phone number registration process.\n",
    "\n",
    "    After ten invalid OTP attempts, you have to call this command again to register the phone number.\n",
    "    \"\"\"\n",
    "\n",
    "    from airt.client import User\n",
    "\n",
    "    user = User.register_phone_number(phone_number=phone_number, otp=otp)\n",
    "\n",
    "    while True:\n",
    "        try:\n",
    "            sms_otp = typer.prompt(\n",
    "                f\"We have sent a One-Time Password (OTP) to the phone number {user['phone_number']}. Please enter here\"\n",
    "            )\n",
    "            typer.echo(\"\\n\")\n",
    "            response = User.validate_phone_number(otp=sms_otp)\n",
    "            typer.echo(\n",
    "                f\"The phone number {user['phone_number']} is successfully registered. We will send the OTP via SMS to this registered phone number when requested.\"\n",
    "            )\n",
    "            break\n",
    "        except ValueError as e:\n",
    "            typer.echo(e)\n",
    "            if (\"Too many failed attempts\" in str(e)) or (\n",
    "                \"OTP entered is expired\" in str(e)\n",
    "            ):\n",
    "                break"
   ]
  },
  {
   "cell_type": "code",
   "execution_count": null,
   "metadata": {},
   "outputs": [
    {
     "data": {
      "text/plain": [
       "\"Usage: root register-phone-number [OPTIONS]\\n\\n  Register and validate a phone number\\n\\n  This is an interactive command, one called it will send an OTP via SMS to the\\n  phone number. Please enter the OTP you have received in the interactive prompt\\n  to complete the phone number registration process.\\n\\n  After ten invalid OTP attempts, you have to call this command again to\\n  register the phone number.\\n\\nOptions:\\n  -p, --phone-number TEXT  Phone number to register. The phone number should\\n                           follow the pattern of the  country code followed by\\n                           your phone number. For example, **440123456789,\\n                           +440123456789, 00440123456789, +44 0123456789, and\\n                           (+44) 012 345 6789** are all valid formats for\\n                           registering a UK phone number. If the phone number is\\n                           not passed in the arguments, then the OTP will be\\n                           sent to the phone  number that was already registered\\n                           to the user's account.\\n  --otp TEXT               Dynamically generated six-digit verification code\\n                           from the authenticator app. Please pass this optional\\n                           argument only if you have activated the MFA for your\\n                           account.\\n  -d, --debug              Set logger level to DEBUG and output everything.\\n  --help                   Show this message and exit.\\n\""
      ]
     },
     "metadata": {},
     "output_type": "display_data"
    }
   ],
   "source": [
    "result = runner.invoke(app, [\"register-phone-number\", \"--help\"])\n",
    "\n",
    "display(result.stdout)\n",
    "assert \"register-phone-number\" in result.stdout"
   ]
  },
  {
   "cell_type": "code",
   "execution_count": null,
   "metadata": {},
   "outputs": [],
   "source": [
    "# | exporti\n",
    "\n",
    "\n",
    "@app.command(\"reset-password\")\n",
    "def reset_password(\n",
    "    username: Optional[str] = typer.Option(\n",
    "        None, \"--username\", \"-u\", help=\"Account username to reset the password\"\n",
    "    ),\n",
    "    new_password: Optional[str] = typer.Option(\n",
    "        None, \"--new-password\", \"-np\", help=\"New password to set for the account\"\n",
    "    ),\n",
    "    otp: Optional[str] = typer.Option(\n",
    "        None,\n",
    "        \"--otp\",\n",
    "        help=\"Dynamically generated six-digit verification code from the authenticator app\",\n",
    "    ),\n",
    "    debug: bool = typer.Option(\n",
    "        False,\n",
    "        \"--debug\",\n",
    "        \"-d\",\n",
    "        help=\"Set logger level to DEBUG and output everything.\",\n",
    "    ),\n",
    "):\n",
    "    \"\"\"Reset the account password\n",
    "\n",
    "    We currently support two types of OTPs to reset the password for your account and you don't have to be logged in to call this command\n",
    "\n",
    "    \\n\\nThe command switches to interactive mode unless all arguments are passed. The interactive mode will prompt you for the missing details and ask you to choose a recovery option to reset your password. Currently, we only support resetting the password either using a TOTP or SMS OTP.\n",
    "    \\n\\nIf you have already activated the MFA for your account, then you can either enter the dynamically generated six-digit verification code from the authenticator app (TOTP) or request an OTP via SMS to your registered phone number.\n",
    "    \\n\\nIf the MFA is not activated already, then you can only request the OTP via SMS to your registered phone number.\n",
    "    \\n\\nAfter selecting an option, please follow the on-screen instructions to reset your password. In case, you don't have MFA enabled or don't have access to your registered phone number, please contact your administrator.\n",
    "    \"\"\"\n",
    "\n",
    "    from airt.client import User\n",
    "\n",
    "    if username is None:\n",
    "        username = typer.prompt(\"Please enter your username\")\n",
    "\n",
    "    if new_password is None:\n",
    "        new_password = typer.prompt(\n",
    "            \"Please enter your new password\", hide_input=True, confirmation_prompt=True\n",
    "        )\n",
    "\n",
    "    if otp is not None:\n",
    "        try:\n",
    "            status = User.reset_password(\n",
    "                username=username, new_password=new_password, otp=otp\n",
    "            )\n",
    "            typer.echo(f\"\\n{status}\")\n",
    "            typer.echo(\n",
    "                f\"\\nPlease don't forget to set the updated password in the `{SERVICE_PASSWORD}` environment variable\"\n",
    "            )\n",
    "        except ValueError as e:\n",
    "            typer.echo(e)\n",
    "            raise typer.Exit(code=1)\n",
    "    else:\n",
    "        typer.echo(\"\\nPlease choose an option to reset your password\\n\\n\")\n",
    "\n",
    "        while True:\n",
    "            typer.echo(\n",
    "                \"[1] Reset password using the dynamically generated six-digit verification code from the authenticator application\\n\"\n",
    "            )\n",
    "            typer.echo(\n",
    "                \"[2] Reset password by requesting the OTP via SMS to the registered phone number\\n\"\n",
    "            )\n",
    "            typer.echo(\n",
    "                \"If you cannot access the authenticator application or your registered phone number, please contact your administrator.\\n\"\n",
    "            )\n",
    "\n",
    "            recovery_option = typer.prompt(\"Password reset option\")\n",
    "\n",
    "            if recovery_option in [\"1\", \"2\"]:\n",
    "                break\n",
    "            typer.echo(\"Please enter a valid password reset option\")\n",
    "\n",
    "        if recovery_option == \"1\":\n",
    "            try:\n",
    "                totp = typer.prompt(\n",
    "                    \"Please enter the OTP displayed in the authenticator application\"\n",
    "                )\n",
    "                status = User.reset_password(\n",
    "                    username=username, new_password=new_password, otp=totp\n",
    "                )\n",
    "            except ValueError as e:\n",
    "                typer.echo(e)\n",
    "\n",
    "        elif recovery_option == \"2\":\n",
    "            try:\n",
    "                sms_status = User.send_sms_otp(\n",
    "                    username=username, message_template_name=\"reset_password\"\n",
    "                )\n",
    "                typer.echo(f\"\\n{sms_status}\\n\")\n",
    "                sms_otp = typer.prompt(\n",
    "                    f\"Please enter the One-Time Password (OTP) you received on your registered phone number\"\n",
    "                )\n",
    "                status = User.reset_password(\n",
    "                    username=username, new_password=new_password, otp=sms_otp\n",
    "                )\n",
    "            except ValueError as e:\n",
    "                typer.echo(e)\n",
    "\n",
    "        else:\n",
    "            raise typer.Exit(code=1)\n",
    "\n",
    "        typer.echo(f\"\\n{status}\")\n",
    "\n",
    "        if os.environ.get(SERVICE_PASSWORD) is not None:\n",
    "\n",
    "            typer.echo(\n",
    "                f\"\\nPlease don't forget to set the updated password in the `{SERVICE_PASSWORD}` environment variable\"\n",
    "            )"
   ]
  },
  {
   "cell_type": "code",
   "execution_count": null,
   "metadata": {},
   "outputs": [
    {
     "data": {
      "text/plain": [
       "\"Usage: root reset-password [OPTIONS]\\n\\n  Reset the account password\\n\\n      We currently support two types of OTPs to reset the password for your\\n      account and you don't have to be logged in to call this command\\n\\n\\n\\n  The command switches to interactive mode unless all arguments are passed. The\\n  interactive mode will prompt you for the missing details and ask you to choose\\n  a recovery option to reset your password. Currently, we only support resetting\\n  the password either using a TOTP or SMS OTP.\\n\\n  If you have already activated the MFA for your account, then you can either\\n  enter the dynamically generated six-digit verification code from the\\n  authenticator app (TOTP) or request an OTP via SMS to your registered phone\\n  number.\\n\\n  If the MFA is not activated already, then you can only request the OTP via SMS\\n  to your registered phone number.\\n\\n  After selecting an option, please follow the on-screen instructions to reset\\n  your password. In case, you don't have MFA enabled or don't have access to\\n  your registered phone number, please contact your administrator.\\n\\nOptions:\\n  -u, --username TEXT       Account username to reset the password\\n  -np, --new-password TEXT  New password to set for the account\\n  --otp TEXT                Dynamically generated six-digit verification code\\n                            from the authenticator app\\n  -d, --debug               Set logger level to DEBUG and output everything.\\n  --help                    Show this message and exit.\\n\""
      ]
     },
     "metadata": {},
     "output_type": "display_data"
    }
   ],
   "source": [
    "result = runner.invoke(app, [\"reset-password\", \"--help\"])\n",
    "\n",
    "display(result.stdout)\n",
    "assert \"reset-password\" in result.stdout"
   ]
  },
  {
   "cell_type": "code",
   "execution_count": null,
   "metadata": {},
   "outputs": [
    {
     "data": {
      "text/plain": [
       "'Something went wrong. The username or OTP you entered is incorrect. Please try again or contact your administrator.\\n'"
      ]
     },
     "metadata": {},
     "output_type": "display_data"
    }
   ],
   "source": [
    "# Tests for reset_password: passing invalid totp\n",
    "\n",
    "cmd = [\n",
    "    \"reset-password\",\n",
    "    \"-u\",\n",
    "    \"invalid_username\",\n",
    "    \"-np\",\n",
    "    \"invalid_password\",\n",
    "    \"--otp\",\n",
    "    \"123456\",\n",
    "]\n",
    "\n",
    "result = runner.invoke(app, cmd)\n",
    "assert \"Something went wrong\" in str(result.stdout), str(result.stdout)\n",
    "display(result.stdout)"
   ]
  },
  {
   "cell_type": "code",
   "execution_count": null,
   "metadata": {},
   "outputs": [],
   "source": [
    "# | exporti\n",
    "\n",
    "mfa_app = typer.Typer(\n",
    "    help=\"Commands for enabling and disabling Multi-Factor Authentication (MFA).\"\n",
    ")"
   ]
  },
  {
   "cell_type": "code",
   "execution_count": null,
   "metadata": {},
   "outputs": [],
   "source": [
    "# | exporti\n",
    "\n",
    "\n",
    "@mfa_app.command()  # type: ignore\n",
    "@helper.requires_totp()\n",
    "@helper.requires_auth_token\n",
    "def enable(\n",
    "    otp: Optional[str] = typer.Option(\n",
    "        None,\n",
    "        \"--otp\",\n",
    "        help=\"Dynamically generated six-digit verification code from the authenticator app. Please pass this optional argument only if you have activated the MFA for your account.\",\n",
    "    ),\n",
    ") -> None:\n",
    "    \"\"\"Enable Multi-Factor Authentication (MFA) for the user.\n",
    "\n",
    "    This is an interactive command and will generate a QR code. You can use an authenticator app, such as Google Authenticator\n",
    "    to scan the code and enter the valid six-digit verification code from the authenticator app in the interactive prompt to\n",
    "    enable and activate MFA for your account.\n",
    "\n",
    "    After three invalid attempts, you have to call this command again to generate a new QR code.\n",
    "    \"\"\"\n",
    "\n",
    "    from airt.client import User\n",
    "\n",
    "    qr = qrcode.QRCode()\n",
    "    qr.add_data(User._get_mfa_provision_url(otp=otp))\n",
    "\n",
    "    typer.echo(\"Please open an authenticator app and scan the QR code below:\")\n",
    "    #     typer.echo(qr.print_ascii(invert=True))\n",
    "    typer.echo(qr.print_ascii())\n",
    "\n",
    "    for i in range(3):\n",
    "\n",
    "        try:\n",
    "            activation_otp = typer.prompt(\n",
    "                \"Please enter the OTP displayed in the authenticator app\"\n",
    "            )\n",
    "            response = User.activate_mfa(otp=activation_otp)\n",
    "            typer.echo(\"Multi-Factor Authentication (MFA) successfully activated.\")\n",
    "\n",
    "            details = User.details()\n",
    "            status = helper.get_phone_registration_status(details)\n",
    "            if status is not None:\n",
    "                typer.echo(status)\n",
    "\n",
    "            break\n",
    "\n",
    "        except ValueError as e:\n",
    "            typer.echo(e)"
   ]
  },
  {
   "cell_type": "code",
   "execution_count": null,
   "metadata": {},
   "outputs": [
    {
     "data": {
      "text/plain": [
       "'Usage: enable [OPTIONS]\\n\\n  Enable Multi-Factor Authentication (MFA) for the user.\\n\\n  This is an interactive command and will generate a QR code. You can use an\\n  authenticator app, such as Google Authenticator to scan the code and enter the\\n  valid six-digit verification code from the authenticator app in the\\n  interactive prompt to enable and activate MFA for your account.\\n\\n  After three invalid attempts, you have to call this command again to generate\\n  a new QR code.\\n\\nOptions:\\n  --otp TEXT                      Dynamically generated six-digit verification\\n                                  code from the authenticator app. Please pass\\n                                  this optional argument only if you have\\n                                  activated the MFA for your account.\\n  --install-completion [bash|zsh|fish|powershell|pwsh]\\n                                  Install completion for the specified shell.\\n  --show-completion [bash|zsh|fish|powershell|pwsh]\\n                                  Show completion for the specified shell, to\\n                                  copy it or customize the installation.\\n  --help                          Show this message and exit.\\n'"
      ]
     },
     "metadata": {},
     "output_type": "display_data"
    }
   ],
   "source": [
    "result = runner.invoke(mfa_app, [\"--help\"])\n",
    "\n",
    "display(result.stdout)\n",
    "assert \"enable\" in result.stdout"
   ]
  },
  {
   "cell_type": "code",
   "execution_count": null,
   "metadata": {},
   "outputs": [],
   "source": [
    "# | exporti\n",
    "\n",
    "\n",
    "@mfa_app.command()  # type: ignore\n",
    "@helper.requires_totp_or_otp(message_template_name=\"disable_mfa\")\n",
    "@helper.requires_auth_token\n",
    "def disable(\n",
    "    user: Optional[str] = typer.Option(\n",
    "        None,\n",
    "        \"--user\",\n",
    "        \"-u\",\n",
    "        help=\"Account user_uuid/username to disable MFA. If not passed, then the default value None will be used to disable MFA for the currently logged-in user.\",\n",
    "    ),\n",
    "    otp: Optional[str] = typer.Option(\n",
    "        None,\n",
    "        \"--otp\",\n",
    "        help=\"Dynamically generated six-digit verification code from the authenticator app or the OTP you have received via SMS.\",\n",
    "    ),\n",
    ") -> None:\n",
    "    \"\"\"Disable Multi-Factor Authentication (MFA) for the user.\n",
    "\n",
    "    The command switches to interactive mode unless the OTP argument is passed. The interactive mode will prompt you to\n",
    "    choose an OTP option you want to use. Currently, we only support disabling MFA either using a TOTP or SMS OTP.\n",
    "\n",
    "    If you have access to the authenticator application, then you can either enter the dynamically generated six-digit\n",
    "    verification code from the authenticator app (TOTP) or request an OTP via SMS to your registered phone number.\n",
    "\n",
    "    After selecting an option, please follow the on-screen instructions to disable MFA for your account. In case,\n",
    "    you don't have access to the authenticator app and your registered phone number, please contact your administrator.\n",
    "\n",
    "    Note: Please do not pass the user argument unless you are a super user. Only\n",
    "    a super user can disable MFA for other users.\n",
    "    \"\"\"\n",
    "\n",
    "    from airt.client import User\n",
    "\n",
    "    User.disable_mfa(user=user, otp=otp)\n",
    "\n",
    "    typer.echo(\n",
    "        \"Multi-Factor Authentication (MFA) is successfully deactivated for the user.\"\n",
    "    )"
   ]
  },
  {
   "cell_type": "code",
   "execution_count": null,
   "metadata": {},
   "outputs": [
    {
     "data": {
      "text/plain": [
       "\"Usage: root disable [OPTIONS]\\n\\n  Disable Multi-Factor Authentication (MFA) for the user.\\n\\n  The command switches to interactive mode unless the OTP argument is passed.\\n  The interactive mode will prompt you to  choose an OTP option you want to use.\\n  Currently, we only support disabling MFA either using a TOTP or SMS OTP.\\n\\n  If you have access to the authenticator application, then you can either enter\\n  the dynamically generated six-digit  verification code from the authenticator\\n  app (TOTP) or request an OTP via SMS to your registered phone number.\\n\\n  After selecting an option, please follow the on-screen instructions to disable\\n  MFA for your account. In case,  you don't have access to the authenticator app\\n  and your registered phone number, please contact your administrator.\\n\\n  Note: Please do not pass the user argument unless you are a super user. Only a\\n  super user can disable MFA for other users.\\n\\nOptions:\\n  -u, --user TEXT  Account user_uuid/username to disable MFA. If not passed,\\n                   then the default value None will be used to disable MFA for\\n                   the currently logged-in user.\\n  --otp TEXT       Dynamically generated six-digit verification code from the\\n                   authenticator app or the OTP you have received via SMS.\\n  --help           Show this message and exit.\\n\""
      ]
     },
     "metadata": {},
     "output_type": "display_data"
    }
   ],
   "source": [
    "result = runner.invoke(mfa_app, [\"disable\", \"--help\"])\n",
    "\n",
    "display(result.stdout)\n",
    "assert \"disable\" in result.stdout"
   ]
  },
  {
   "cell_type": "code",
   "execution_count": null,
   "metadata": {},
   "outputs": [
    {
     "data": {
      "text/plain": [
       "'Error: MFA is not activated for the account. Please pass the OTP only after activating the MFA for your account.\\n'"
      ]
     },
     "metadata": {},
     "output_type": "display_data"
    }
   ],
   "source": [
    "with normal_user():\n",
    "    random_otp = 123456\n",
    "\n",
    "    # Negative Scenario. Non-MFA user passing otp\n",
    "    result = runner.invoke(mfa_app, [\"disable\", \"--otp\", random_otp])\n",
    "\n",
    "    display(result.stdout)\n",
    "    assert (\n",
    "        \"Please pass the OTP only after activating the MFA\" in result.stdout\n",
    "    ), result.stdout\n",
    "    assert result.exit_code == 1"
   ]
  },
  {
   "cell_type": "code",
   "execution_count": null,
   "metadata": {},
   "outputs": [
    {
     "data": {
      "text/plain": [
       "\"Error: Insufficient permission to access other user's data\\n\""
      ]
     },
     "metadata": {},
     "output_type": "display_data"
    }
   ],
   "source": [
    "with normal_user():\n",
    "    random_otp = 123456\n",
    "    result = runner.invoke(\n",
    "        mfa_app, [\"disable\", \"--user\", INVALID_UUID_FOR_TESTING, \"--otp\", random_otp]\n",
    "    )\n",
    "\n",
    "    display(result.stdout)\n",
    "    assert result.exit_code == 1\n",
    "    assert (\n",
    "        \"Insufficient permission to access other user's data\" in result.stdout\n",
    "    ), result.stdout"
   ]
  },
  {
   "cell_type": "code",
   "execution_count": null,
   "metadata": {},
   "outputs": [],
   "source": [
    "# | exporti\n",
    "\n",
    "# Adding mfa as a subcommand for user command\n",
    "app.add_typer(mfa_app, name=\"mfa\")"
   ]
  },
  {
   "cell_type": "code",
   "execution_count": null,
   "metadata": {},
   "outputs": [
    {
     "data": {
      "text/plain": [
       "'Usage: root [OPTIONS] COMMAND [ARGS]...\\n\\n  A set of commands for managing users and their authentication in the server.\\n\\nOptions:\\n  --install-completion [bash|zsh|fish|powershell|pwsh]\\n                                  Install completion for the specified shell.\\n  --show-completion [bash|zsh|fish|powershell|pwsh]\\n                                  Show completion for the specified shell, to\\n                                  copy it or customize the installation.\\n  --help                          Show this message and exit.\\n\\nCommands:\\n  create                 Create a new user in the server.\\n  details                Get user details\\n  disable                Disable a user in the server.\\n  enable                 Enable a disabled user in the server.\\n  ls                     Return the list of users available in the server.\\n  mfa                    Commands for enabling and disabling Multi-Factor...\\n  register-phone-number  Register and validate a phone number\\n  reset-password         Reset the account password\\n  update                 Update existing user details in the server.\\n'"
      ]
     },
     "metadata": {},
     "output_type": "display_data"
    },
    {
     "data": {
      "text/plain": [
       "'Usage: root mfa [OPTIONS] COMMAND [ARGS]...\\n\\n  Commands for enabling and disabling Multi-Factor Authentication (MFA).\\n\\nOptions:\\n  --help  Show this message and exit.\\n\\nCommands:\\n  disable  Disable Multi-Factor Authentication (MFA) for the user.\\n  enable   Enable Multi-Factor Authentication (MFA) for the user.\\n'"
      ]
     },
     "metadata": {},
     "output_type": "display_data"
    }
   ],
   "source": [
    "result = runner.invoke(app, [\"--help\"])\n",
    "display(result.stdout)\n",
    "assert \"Commands for enabling and disabling Multi-Factor\" in result.stdout\n",
    "\n",
    "result = runner.invoke(app, [\"mfa\", \"--help\"])\n",
    "\n",
    "assert \"Disable Multi-Factor Authentication (MFA) for the user\" in result.stdout\n",
    "display(result.stdout)"
   ]
  },
  {
   "cell_type": "code",
   "execution_count": null,
   "metadata": {},
   "outputs": [],
   "source": [
    "# | exporti\n",
    "\n",
    "sso_app = typer.Typer(help=\"Commands for enabling and disabling Single sign-on (SSO).\")"
   ]
  },
  {
   "cell_type": "code",
   "execution_count": null,
   "metadata": {},
   "outputs": [],
   "source": [
    "# | exporti\n",
    "\n",
    "\n",
    "@sso_app.command()  # type: ignore\n",
    "@helper.requires_totp()\n",
    "@helper.requires_auth_token\n",
    "def disable(\n",
    "    sso_provider: str = typer.Argument(\n",
    "        ...,\n",
    "        help=\"Name of the Single sign-on (SSO) identity provider. At present, the API only supports Google and Github as valid SSO identity providers.\",\n",
    "    ),\n",
    "    user: Optional[str] = typer.Option(\n",
    "        None,\n",
    "        \"--user\",\n",
    "        \"-u\",\n",
    "        help=\"Account user_uuid/username to disable MFA. If not passed, then the default value None will be used to disable SSO for the currently logged-in user.\",\n",
    "    ),\n",
    "    otp: Optional[str] = typer.Option(\n",
    "        None,\n",
    "        \"--otp\",\n",
    "        help=\"Dynamically generated six-digit verification code from the authenticator app. Please pass this optional argument only if you have activated the MFA for your account.\",\n",
    "    ),\n",
    ") -> None:\n",
    "    \"\"\"Disable Single sign-on (SSO) for the user.\n",
    "\n",
    "    Please do not pass the user argument unless you are a super user. Only\n",
    "    a super user can disable SSO for other users.\n",
    "    \"\"\"\n",
    "\n",
    "    from airt.client import User\n",
    "\n",
    "    success_msg = User.disable_sso(sso_provider=sso_provider, user=user, otp=otp)\n",
    "    typer.echo(success_msg)"
   ]
  },
  {
   "cell_type": "code",
   "execution_count": null,
   "metadata": {},
   "outputs": [
    {
     "data": {
      "text/plain": [
       "'Error: SSO is not enabled for the provider.\\n'"
      ]
     },
     "metadata": {},
     "output_type": "display_data"
    },
    {
     "data": {
      "text/plain": [
       "'Error: MFA is not activated for the account. Please pass the OTP only after activating the MFA for your account.\\n'"
      ]
     },
     "metadata": {},
     "output_type": "display_data"
    }
   ],
   "source": [
    "with normal_user():\n",
    "    result = runner.invoke(sso_app, [\"google\"])\n",
    "\n",
    "    display(result.stdout)\n",
    "    assert result.exit_code == 1\n",
    "\n",
    "    # Negative Scenario. Non-MFA user passing otp\n",
    "    random_otp = 123456\n",
    "    result = runner.invoke(sso_app, [\"google\", \"--otp\", random_otp])\n",
    "\n",
    "    display(result.stdout)\n",
    "    assert (\n",
    "        \"Please pass the OTP only after activating the MFA for your account.\"\n",
    "        in result.stdout\n",
    "    ), result.stdout\n",
    "    assert result.exit_code == 1"
   ]
  },
  {
   "cell_type": "code",
   "execution_count": null,
   "metadata": {},
   "outputs": [],
   "source": [
    "# | exporti\n",
    "\n",
    "\n",
    "@sso_app.command()  # type: ignore\n",
    "@helper.requires_totp()\n",
    "@helper.requires_auth_token\n",
    "def enable(\n",
    "    sso_provider: str = typer.Argument(\n",
    "        ...,\n",
    "        help=\"Name of the Single sign-on (SSO) identity provider. At present, the API only supports **Google** and **Github** as valid SSO identity providers.\",\n",
    "    ),\n",
    "    sso_email: str = typer.Option(\n",
    "        ...,\n",
    "        \"--email\",\n",
    "        \"-e\",\n",
    "        help=\"Email id going to be used for SSO authentication.\",\n",
    "    ),\n",
    "    otp: Optional[str] = typer.Option(\n",
    "        None,\n",
    "        \"--otp\",\n",
    "        help=\"Dynamically generated six-digit verification code from the authenticator app. Please pass this optional argument only if you have activated the MFA for your account.\",\n",
    "    ),\n",
    ") -> None:\n",
    "    \"\"\"Enable Single sign-on (SSO) for the user\"\"\"\n",
    "\n",
    "    from airt.client import User\n",
    "\n",
    "    success_msg = User.enable_sso(\n",
    "        sso_provider=sso_provider, sso_email=sso_email, otp=otp\n",
    "    )\n",
    "\n",
    "    typer.echo(success_msg)"
   ]
  },
  {
   "cell_type": "code",
   "execution_count": null,
   "metadata": {},
   "outputs": [
    {
     "data": {
      "text/plain": [
       "'Usage: root [OPTIONS] COMMAND [ARGS]...\\n\\n  Commands for enabling and disabling Single sign-on (SSO).\\n\\nOptions:\\n  --install-completion [bash|zsh|fish|powershell|pwsh]\\n                                  Install completion for the specified shell.\\n  --show-completion [bash|zsh|fish|powershell|pwsh]\\n                                  Show completion for the specified shell, to\\n                                  copy it or customize the installation.\\n  --help                          Show this message and exit.\\n\\nCommands:\\n  disable  Disable Single sign-on (SSO) for the user.\\n  enable   Enable Single sign-on (SSO) for the user\\n'"
      ]
     },
     "metadata": {},
     "output_type": "display_data"
    }
   ],
   "source": [
    "result = runner.invoke(sso_app, [\"--help\"])\n",
    "\n",
    "display(result.stdout)\n",
    "assert \"enable\" in result.stdout"
   ]
  },
  {
   "cell_type": "code",
   "execution_count": null,
   "metadata": {},
   "outputs": [
    {
     "data": {
      "text/plain": [
       "'Single sign-on (SSO) is successfully enabled for google. Please use new_sso_email@mail.com as the email address while authenticating with google.\\n'"
      ]
     },
     "metadata": {},
     "output_type": "display_data"
    },
    {
     "data": {
      "text/plain": [
       "'Single sign-on (SSO) is successfully disabled for google.\\n'"
      ]
     },
     "metadata": {},
     "output_type": "display_data"
    },
    {
     "data": {
      "text/plain": [
       "'Error: MFA is not activated for the account. Please pass the OTP only after activating the MFA for your account.\\n'"
      ]
     },
     "metadata": {},
     "output_type": "display_data"
    }
   ],
   "source": [
    "with normal_user():\n",
    "\n",
    "    sso_email = \"sso_email@mail.com\"\n",
    "    new_sso_email = \"new_sso_email@mail.com\"\n",
    "    sso_provider = \"google\"\n",
    "\n",
    "    # Positive scenario: Disabling SSO\n",
    "    result = runner.invoke(sso_app, [\"disable\", sso_provider])\n",
    "\n",
    "    # Positive scenario: Enabling SSO\n",
    "    result = runner.invoke(sso_app, [\"enable\", sso_provider, \"-e\", new_sso_email])\n",
    "\n",
    "    display(result.stdout)\n",
    "    assert (\n",
    "        f\"Single sign-on (SSO) is successfully enabled for {sso_provider}\"\n",
    "        in result.stdout\n",
    "    ), result.stdout\n",
    "    assert new_sso_email in result.stdout\n",
    "    assert result.exit_code == 0\n",
    "\n",
    "    # Positive scenario: Disabling SSO\n",
    "    result = runner.invoke(sso_app, [\"disable\", sso_provider])\n",
    "\n",
    "    display(result.stdout)\n",
    "    assert (\n",
    "        f\"Single sign-on (SSO) is successfully disabled for {sso_provider}\"\n",
    "        in result.stdout\n",
    "    ), result.stdout\n",
    "    assert result.exit_code == 0, result.exit_code\n",
    "\n",
    "    # Negative Scenario. Non-MFA user passing otp\n",
    "    random_otp = 123456\n",
    "    result = runner.invoke(\n",
    "        sso_app, [\"enable\", sso_provider, \"-e\", sso_email, \"--otp\", random_otp]\n",
    "    )\n",
    "\n",
    "    display(result.stdout)\n",
    "    assert (\n",
    "        \"Please pass the OTP only after activating the MFA for your account\"\n",
    "        in result.stdout\n",
    "    ), result.stdout\n",
    "    assert result.exit_code == 1"
   ]
  },
  {
   "cell_type": "code",
   "execution_count": null,
   "metadata": {},
   "outputs": [],
   "source": [
    "# | exporti\n",
    "\n",
    "# Adding sso as a subcommand for user command\n",
    "app.add_typer(sso_app, name=\"sso\")"
   ]
  },
  {
   "cell_type": "code",
   "execution_count": null,
   "metadata": {},
   "outputs": [
    {
     "data": {
      "text/plain": [
       "'Usage: root [OPTIONS] COMMAND [ARGS]...\\n\\n  A set of commands for managing users and their authentication in the server.\\n\\nOptions:\\n  --install-completion [bash|zsh|fish|powershell|pwsh]\\n                                  Install completion for the specified shell.\\n  --show-completion [bash|zsh|fish|powershell|pwsh]\\n                                  Show completion for the specified shell, to\\n                                  copy it or customize the installation.\\n  --help                          Show this message and exit.\\n\\nCommands:\\n  create                 Create a new user in the server.\\n  details                Get user details\\n  disable                Disable a user in the server.\\n  enable                 Enable a disabled user in the server.\\n  ls                     Return the list of users available in the server.\\n  mfa                    Commands for enabling and disabling Multi-Factor...\\n  register-phone-number  Register and validate a phone number\\n  reset-password         Reset the account password\\n  sso                    Commands for enabling and disabling Single sign-on...\\n  update                 Update existing user details in the server.\\n'"
      ]
     },
     "metadata": {},
     "output_type": "display_data"
    },
    {
     "data": {
      "text/plain": [
       "'Usage: root sso [OPTIONS] COMMAND [ARGS]...\\n\\n  Commands for enabling and disabling Single sign-on (SSO).\\n\\nOptions:\\n  --help  Show this message and exit.\\n\\nCommands:\\n  disable  Disable Single sign-on (SSO) for the user.\\n  enable   Enable Single sign-on (SSO) for the user\\n'"
      ]
     },
     "metadata": {},
     "output_type": "display_data"
    }
   ],
   "source": [
    "result = runner.invoke(app, [\"--help\"])\n",
    "display(result.stdout)\n",
    "assert \"Commands for enabling and disabling Single sign-on\" in result.stdout\n",
    "\n",
    "result = runner.invoke(app, [\"sso\", \"--help\"])\n",
    "\n",
    "display(result.stdout)\n",
    "assert \"Enable Single sign-on (SSO)\" in result.stdout"
   ]
  },
  {
   "cell_type": "code",
   "execution_count": null,
   "metadata": {},
   "outputs": [],
   "source": []
  }
 ],
 "metadata": {
  "kernelspec": {
   "display_name": "Python 3",
   "language": "python",
   "name": "python3"
  }
 },
 "nbformat": 4,
 "nbformat_minor": 2
}
