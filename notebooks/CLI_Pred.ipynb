{
 "cells": [
  {
   "cell_type": "raw",
   "metadata": {},
   "source": [
    "---\n",
    "description: This module encapsulates a CLI interface for all the methods available\n",
    "  in Prediction class\n",
    "output-file: cli_pred.html\n",
    "title: CLI_Pred\n",
    "\n",
    "---\n",
    "\n"
   ]
  },
  {
   "cell_type": "code",
   "execution_count": null,
   "metadata": {},
   "outputs": [],
   "source": [
    "# | default_exp _cli.pred"
   ]
  },
  {
   "cell_type": "code",
   "execution_count": null,
   "metadata": {},
   "outputs": [
    {
     "name": "stdout",
     "output_type": "stream",
     "text": [
      "[INFO] airt.testing.activate_by_import: Testing environment activated.\n"
     ]
    }
   ],
   "source": [
    "from airt._testing import activate_by_import"
   ]
  },
  {
   "cell_type": "code",
   "execution_count": null,
   "metadata": {},
   "outputs": [],
   "source": [
    "# | export\n",
    "\n",
    "from typing import *"
   ]
  },
  {
   "cell_type": "code",
   "execution_count": null,
   "metadata": {},
   "outputs": [],
   "source": [
    "# | exporti\n",
    "\n",
    "import os\n",
    "\n",
    "import pandas as pd\n",
    "import typer\n",
    "from tabulate import tabulate\n",
    "from typer import echo\n",
    "\n",
    "from airt._cli import helper\n",
    "from airt._constant import CLIENT_DB_PASSWORD, CLIENT_DB_USERNAME\n",
    "from airt._logger import get_logger, set_level"
   ]
  },
  {
   "cell_type": "code",
   "execution_count": null,
   "metadata": {},
   "outputs": [],
   "source": [
    "import logging\n",
    "import tempfile\n",
    "import time\n",
    "from contextlib import contextmanager\n",
    "from datetime import timedelta\n",
    "from pathlib import Path\n",
    "\n",
    "import boto3\n",
    "import pytest\n",
    "from azure.identity import DefaultAzureCredential\n",
    "from azure.mgmt.storage import StorageManagementClient\n",
    "from typer.testing import CliRunner\n",
    "\n",
    "import airt._sanitizer\n",
    "from airt._constant import SERVICE_PASSWORD, SERVICE_TOKEN, SERVICE_USERNAME\n",
    "from airt.client import Client, DataBlob, User"
   ]
  },
  {
   "cell_type": "code",
   "execution_count": null,
   "metadata": {},
   "outputs": [],
   "source": [
    "# | exporti\n",
    "\n",
    "app = typer.Typer(\n",
    "    help=\"A set of commands for managing and downloading the predictions.\"\n",
    ")"
   ]
  },
  {
   "cell_type": "code",
   "execution_count": null,
   "metadata": {},
   "outputs": [],
   "source": [
    "runner = CliRunner()"
   ]
  },
  {
   "cell_type": "code",
   "execution_count": null,
   "metadata": {},
   "outputs": [],
   "source": [
    "# | export\n",
    "\n",
    "logger = get_logger(__name__)"
   ]
  },
  {
   "cell_type": "code",
   "execution_count": null,
   "metadata": {},
   "outputs": [],
   "source": [
    "set_level(logging.WARNING)"
   ]
  },
  {
   "cell_type": "code",
   "execution_count": null,
   "metadata": {},
   "outputs": [
    {
     "data": {
      "text/plain": [
       "30"
      ]
     },
     "metadata": {},
     "output_type": "display_data"
    },
    {
     "name": "stdout",
     "output_type": "stream",
     "text": [
      "[WARNING] __main__: This is a warning\n",
      "[ERROR] __main__: This is an error\n"
     ]
    }
   ],
   "source": [
    "# Testing logger settings\n",
    "\n",
    "display(logger.getEffectiveLevel())\n",
    "assert logger.getEffectiveLevel() == logging.WARNING\n",
    "\n",
    "logger.debug(\"This is a debug message\")\n",
    "logger.info(\"This is an info\")\n",
    "logger.warning(\"This is a warning\")\n",
    "logger.error(\"This is an error\")"
   ]
  },
  {
   "cell_type": "code",
   "execution_count": null,
   "metadata": {},
   "outputs": [],
   "source": [
    "TEST_S3_URI = \"s3://test-airt-service/ecommerce_behavior_notebooks\"\n",
    "TEST_AZURE_PUSH_URI = (\n",
    "    \"https://testairtservice.blob.core.windows.net/test-client-push-container\"\n",
    ")\n",
    "RANDOM_UUID_FOR_TESTING = \"00000000-0000-0000-0000-000000000000\""
   ]
  },
  {
   "cell_type": "code",
   "execution_count": null,
   "metadata": {},
   "outputs": [],
   "source": [
    "# | exporti\n",
    "\n",
    "\n",
    "@app.command()\n",
    "@helper.display_formated_table\n",
    "@helper.requires_auth_token\n",
    "def ls(\n",
    "    offset: int = typer.Option(\n",
    "        0,\n",
    "        \"--offset\",\n",
    "        \"-o\",\n",
    "        help=\"The number of predictions to offset at the beginning. If None, then the default value **0** will be used.\",\n",
    "    ),\n",
    "    limit: int = typer.Option(\n",
    "        100,\n",
    "        \"--limit\",\n",
    "        \"-l\",\n",
    "        help=\"The maximum number of predictions to return from the server. If None, \"\n",
    "        \"then the default value **100** will be used.\",\n",
    "    ),\n",
    "    disabled: bool = typer.Option(\n",
    "        False,\n",
    "        \"--disabled\",\n",
    "        help=\"If set to **True**, then only the deleted predictions will be returned. Else, the default value \"\n",
    "        \"**False** will be used to return only the list of active predictions.\",\n",
    "    ),\n",
    "    completed: bool = typer.Option(\n",
    "        False,\n",
    "        \"--completed\",\n",
    "        help=\"If set to **True**, then only the predictions that are successfully downloaded \"\n",
    "        \"to the server will be returned. Else, the default value **False** will be used to \"\n",
    "        \"return all the predictions.\",\n",
    "    ),\n",
    "    format: Optional[str] = typer.Option(\n",
    "        None,\n",
    "        \"--format\",\n",
    "        \"-f\",\n",
    "        help=\"Format output and show only the given column(s) values.\",\n",
    "    ),\n",
    "    quiet: bool = typer.Option(\n",
    "        False,\n",
    "        \"--quiet\",\n",
    "        \"-q\",\n",
    "        help=\"Output only prediction uuids separated by space.\",\n",
    "    ),\n",
    "    debug: bool = typer.Option(\n",
    "        False,\n",
    "        \"--debug\",\n",
    "        \"-d\",\n",
    "        help=\"Set logger level to DEBUG and output everything.\",\n",
    "    ),\n",
    ") -> Dict[\"str\", Union[pd.DataFrame, str]]:\n",
    "    \"\"\"Return the list of predictions.\"\"\"\n",
    "\n",
    "    from airt.client import Prediction\n",
    "\n",
    "    predx = Prediction.ls(\n",
    "        offset=offset, limit=limit, disabled=disabled, completed=completed\n",
    "    )\n",
    "\n",
    "    df = Prediction.as_df(predx)\n",
    "\n",
    "    df[\"created\"] = helper.humanize_date(df[\"created\"])\n",
    "\n",
    "    return {\"df\": df, \"quite_column_name\": \"prediction_uuid\"}"
   ]
  },
  {
   "cell_type": "code",
   "execution_count": null,
   "metadata": {},
   "outputs": [],
   "source": [
    "def assert_has_help(xs: List[str]):\n",
    "    result = runner.invoke(app, xs + [\"--help\"])\n",
    "\n",
    "    display(result.stdout)\n",
    "    assert \" \".join(xs) in result.stdout"
   ]
  },
  {
   "cell_type": "code",
   "execution_count": null,
   "metadata": {},
   "outputs": [
    {
     "data": {
      "text/plain": [
       "'Usage: ls [OPTIONS]\\n\\n  Return the list of predictions.\\n\\nOptions:\\n  -o, --offset INTEGER            The number of predictions to offset at the\\n                                  beginning. If None, then the default value\\n                                  **0** will be used.  [default: 0]\\n  -l, --limit INTEGER             The maximum number of predictions to return\\n                                  from the server. If None, then the default\\n                                  value **100** will be used.  [default: 100]\\n  --disabled                      If set to **True**, then only the deleted\\n                                  predictions will be returned. Else, the\\n                                  default value **False** will be used to return\\n                                  only the list of active predictions.\\n  --completed                     If set to **True**, then only the predictions\\n                                  that are successfully downloaded to the server\\n                                  will be returned. Else, the default value\\n                                  **False** will be used to return all the\\n                                  predictions.\\n  -f, --format TEXT               Format output and show only the given\\n                                  column(s) values.\\n  -q, --quiet                     Output only prediction uuids separated by\\n                                  space.\\n  -d, --debug                     Set logger level to DEBUG and output\\n                                  everything.\\n  --install-completion [bash|zsh|fish|powershell|pwsh]\\n                                  Install completion for the specified shell.\\n  --show-completion [bash|zsh|fish|powershell|pwsh]\\n                                  Show completion for the specified shell, to\\n                                  copy it or customize the installation.\\n  --help                          Show this message and exit.\\n'"
      ]
     },
     "metadata": {},
     "output_type": "display_data"
    }
   ],
   "source": [
    "assert_has_help([\"ls\"])"
   ]
  },
  {
   "cell_type": "code",
   "execution_count": null,
   "metadata": {},
   "outputs": [],
   "source": [
    "# Helper context manager for testing\n",
    "\n",
    "_airt_service_token = None\n",
    "\n",
    "\n",
    "@contextmanager\n",
    "def set_airt_service_token_envvar():\n",
    "    global _airt_service_token\n",
    "    if _airt_service_token is None:\n",
    "        display(\"_airt_service_token is None, getting a token...\")\n",
    "\n",
    "        username = os.environ[SERVICE_USERNAME]\n",
    "        password = os.environ[SERVICE_PASSWORD]\n",
    "\n",
    "        Client.get_token(username=username, password=password)\n",
    "        _airt_service_token = Client.auth_token\n",
    "\n",
    "    try:\n",
    "        os.environ[SERVICE_TOKEN] = _airt_service_token\n",
    "\n",
    "        yield\n",
    "    finally:\n",
    "        del os.environ[SERVICE_TOKEN]"
   ]
  },
  {
   "cell_type": "code",
   "execution_count": null,
   "metadata": {},
   "outputs": [],
   "source": [
    "_prediction = None\n",
    "\n",
    "\n",
    "@contextmanager\n",
    "def generate_prediction(force_create: bool = False):\n",
    "    global _prediction\n",
    "    if _prediction is None or force_create:\n",
    "        db = DataBlob.from_s3(\n",
    "            uri=TEST_S3_URI,\n",
    "            access_key=os.environ[\"AWS_ACCESS_KEY_ID\"],\n",
    "            secret_key=os.environ[\"AWS_SECRET_ACCESS_KEY\"],\n",
    "            cloud_provider=\"aws\",\n",
    "            region=\"eu-west-1\",\n",
    "        )\n",
    "\n",
    "        db.progress_bar()\n",
    "\n",
    "        ds = db.to_datasource(\n",
    "            file_type=\"parquet\", index_column=\"user_id\", sort_by=\"event_time\"\n",
    "        )\n",
    "\n",
    "        display(f\"{ds.uuid=}\")\n",
    "\n",
    "        ds.progress_bar()\n",
    "\n",
    "        model = ds.train(\n",
    "            client_column=\"user_id\",\n",
    "            target_column=\"category_code\",\n",
    "            target=\"*checkout\",\n",
    "            predict_after=timedelta(hours=3),\n",
    "        )\n",
    "\n",
    "        model.wait()\n",
    "\n",
    "        _prediction = model.predict()\n",
    "        _prediction.progress_bar()\n",
    "\n",
    "    yield _prediction"
   ]
  },
  {
   "cell_type": "code",
   "execution_count": null,
   "metadata": {},
   "outputs": [
    {
     "data": {
      "text/plain": [
       "'_airt_service_token is None, getting a token...'"
      ]
     },
     "metadata": {},
     "output_type": "display_data"
    },
    {
     "name": "stderr",
     "output_type": "stream",
     "text": [
      "100%|██████████| 1/1 [00:10<00:00, 10.12s/it]\n"
     ]
    },
    {
     "data": {
      "text/plain": [
       "\"ds.uuid='fe0cd7a8-e1c6-4166-bbb9-4a7c0fd3d6e5'\""
      ]
     },
     "metadata": {},
     "output_type": "display_data"
    },
    {
     "name": "stderr",
     "output_type": "stream",
     "text": [
      "100%|██████████| 1/1 [00:30<00:00, 30.32s/it]\n",
      "100%|██████████| 3/3 [00:05<00:00,  1.70s/it]\n"
     ]
    },
    {
     "data": {
      "text/plain": [
       "'ready    prediction_uuid\\nTrue     6b859549-dad2-449f-ae41-0eda1dae0d9a\\nTrue     8dac1fee-dbe6-42e4-aab3-bf921a9bb6c1\\n'"
      ]
     },
     "metadata": {},
     "output_type": "display_data"
    },
    {
     "data": {
      "text/plain": [
       "'6b859549-dad2-449f-ae41-0eda1dae0d9a\\n8dac1fee-dbe6-42e4-aab3-bf921a9bb6c1\\n'"
      ]
     },
     "metadata": {},
     "output_type": "display_data"
    },
    {
     "data": {
      "text/plain": [
       "\"uuids=['6b859549-dad2-449f-ae41-0eda1dae0d9a', '8dac1fee-dbe6-42e4-aab3-bf921a9bb6c1']\""
      ]
     },
     "metadata": {},
     "output_type": "display_data"
    }
   ],
   "source": [
    "# Tests for prediction ls\n",
    "# Testing positive scenario. Saving the token in env variable\n",
    "\n",
    "\n",
    "def get_uuids_from_result(result) -> List[int]:\n",
    "    return [uuid for uuid in result.stdout[:-1].split(\"\\n\")]\n",
    "\n",
    "\n",
    "with set_airt_service_token_envvar():\n",
    "    with generate_prediction(force_create=True) as pred:\n",
    "        # Without quiet\n",
    "        format_str = \"{'ready': '{}', 'prediction_uuid': '{}'}\"\n",
    "        result = runner.invoke(app, [\"--format\", format_str])\n",
    "        display(result.stdout)\n",
    "\n",
    "        assert \"ready\" in result.stdout\n",
    "        assert result.exit_code == 0\n",
    "\n",
    "        # With quiet\n",
    "        result = runner.invoke(app, [\"-q\"])\n",
    "        display(result.stdout)\n",
    "\n",
    "        assert result.exit_code == 0\n",
    "        uuids = get_uuids_from_result(result)\n",
    "        display(f\"{uuids=}\")"
   ]
  },
  {
   "cell_type": "code",
   "execution_count": null,
   "metadata": {},
   "outputs": [
    {
     "data": {
      "text/plain": [
       "\"ids=['8dac1fee-dbe6-42e4-aab3-bf921a9bb6c1']\""
      ]
     },
     "metadata": {},
     "output_type": "display_data"
    },
    {
     "data": {
      "text/plain": [
       "\"ids=['8dac1fee-dbe6-42e4-aab3-bf921a9bb6c1']\""
      ]
     },
     "metadata": {},
     "output_type": "display_data"
    },
    {
     "data": {
      "text/plain": [
       "\"ids=['8dac1fee-dbe6-42e4-aab3-bf921a9bb6c1']\""
      ]
     },
     "metadata": {},
     "output_type": "display_data"
    }
   ],
   "source": [
    "# Tests for prediction ls\n",
    "# Testing positive scenario.\n",
    "# Testing by passing different values for  limit\n",
    "\n",
    "\n",
    "with set_airt_service_token_envvar():\n",
    "    for limit in [1, 10, 1000]:\n",
    "        offset = 1\n",
    "        result = runner.invoke(app, [\"--offset\", offset, \"--limit\", limit, \"-q\"])\n",
    "\n",
    "        assert result.exit_code == 0\n",
    "\n",
    "        ids = get_uuids_from_result(result)\n",
    "        display(f\"{ids=}\")\n",
    "        assert limit >= len(ids) >= 0"
   ]
  },
  {
   "cell_type": "code",
   "execution_count": null,
   "metadata": {},
   "outputs": [
    {
     "data": {
      "text/plain": [
       "'prediction_uuid    created    ready\\n'"
      ]
     },
     "metadata": {},
     "output_type": "display_data"
    }
   ],
   "source": [
    "# Tests for prediction ls\n",
    "# Testing positive scenario.\n",
    "# Testing by passing large value for offset.\n",
    "\n",
    "with set_airt_service_token_envvar():\n",
    "    limit = 10\n",
    "    offset = 1_000_000\n",
    "    result = runner.invoke(app, [\"--offset\", offset, \"--limit\", limit])\n",
    "\n",
    "    assert result.exit_code == 0\n",
    "\n",
    "    display(result.stdout)"
   ]
  },
  {
   "cell_type": "code",
   "execution_count": null,
   "metadata": {},
   "outputs": [],
   "source": [
    "# | exporti\n",
    "\n",
    "\n",
    "@app.command()\n",
    "@helper.display_formated_table\n",
    "@helper.requires_auth_token\n",
    "def details(\n",
    "    uuid: str = typer.Argument(\n",
    "        ...,\n",
    "        help=\"Prediction uuid.\",\n",
    "    ),\n",
    "    format: Optional[str] = typer.Option(\n",
    "        None,\n",
    "        \"--format\",\n",
    "        \"-f\",\n",
    "        help=\"Format output and show only the given column(s) values.\",\n",
    "    ),\n",
    "    debug: bool = typer.Option(\n",
    "        False,\n",
    "        \"--debug\",\n",
    "        \"-d\",\n",
    "        help=\"Set logger level to DEBUG and output everything.\",\n",
    "    ),\n",
    ") -> Dict[\"str\", Union[pd.DataFrame, str]]:\n",
    "    \"\"\"Return the details of a prediction.\"\"\"\n",
    "\n",
    "    from airt.client import Prediction\n",
    "\n",
    "    pred = Prediction(uuid=uuid)\n",
    "    df = pred.details()\n",
    "\n",
    "    df[\"created\"] = helper.humanize_date(df[\"created\"])\n",
    "\n",
    "    return {\"df\": df}"
   ]
  },
  {
   "cell_type": "code",
   "execution_count": null,
   "metadata": {},
   "outputs": [
    {
     "data": {
      "text/plain": [
       "'Usage: root details [OPTIONS] UUID\\n\\n  Return the details of a prediction.\\n\\nArguments:\\n  UUID  Prediction uuid.  [required]\\n\\nOptions:\\n  -f, --format TEXT  Format output and show only the given column(s) values.\\n  -d, --debug        Set logger level to DEBUG and output everything.\\n  --help             Show this message and exit.\\n'"
      ]
     },
     "metadata": {},
     "output_type": "display_data"
    }
   ],
   "source": [
    "assert_has_help([\"details\"])"
   ]
  },
  {
   "cell_type": "code",
   "execution_count": null,
   "metadata": {},
   "outputs": [
    {
     "data": {
      "text/plain": [
       "'8dac1fee-dbe6-42e4-aab3-bf921a9bb6c1\\n'"
      ]
     },
     "metadata": {},
     "output_type": "display_data"
    }
   ],
   "source": [
    "# Tests for details\n",
    "# Testing positive scenario\n",
    "\n",
    "# Helper function to extract ID\n",
    "\n",
    "\n",
    "def extract_id(res) -> str:\n",
    "    r = (res.split(\"\\n\")[1]).strip()\n",
    "    return r.split(\" \")[0]\n",
    "\n",
    "\n",
    "with set_airt_service_token_envvar():\n",
    "    with generate_prediction() as pred:\n",
    "        # Getting Details of the prediction\n",
    "        pred_uuid = pred.uuid\n",
    "        format_str = \"{'prediction_uuid': '{}'}\"\n",
    "        result = runner.invoke(app, [\"details\", pred_uuid, \"--format\", format_str])\n",
    "\n",
    "        display(result.stdout)\n",
    "\n",
    "        assert result.exit_code == 0\n",
    "        assert result.stdout == f\"{pred_uuid}\\n\", f\"{result_id=} {pred_uuid=}\""
   ]
  },
  {
   "cell_type": "code",
   "execution_count": null,
   "metadata": {},
   "outputs": [
    {
     "data": {
      "text/plain": [
       "'Error: The prediction uuid is incorrect. Please try again.\\n'"
      ]
     },
     "metadata": {},
     "output_type": "display_data"
    }
   ],
   "source": [
    "# Tests for details\n",
    "# Testing negative scenario. Passing invalie pred_uuid\n",
    "\n",
    "with set_airt_service_token_envvar():\n",
    "    with generate_prediction() as pred:\n",
    "        result = runner.invoke(app, [\"details\", RANDOM_UUID_FOR_TESTING])\n",
    "\n",
    "        display(result.stdout)\n",
    "\n",
    "        assert result.exit_code == 1"
   ]
  },
  {
   "cell_type": "code",
   "execution_count": null,
   "metadata": {},
   "outputs": [],
   "source": [
    "# | exporti\n",
    "\n",
    "\n",
    "@app.command()\n",
    "@helper.display_formated_table\n",
    "@helper.requires_auth_token\n",
    "def rm(\n",
    "    uuid: str = typer.Argument(\n",
    "        ...,\n",
    "        help=\"Prediction uuid.\",\n",
    "    ),\n",
    "    quiet: bool = typer.Option(\n",
    "        False,\n",
    "        \"--quiet\",\n",
    "        \"-q\",\n",
    "        help=\"Output the deleted Prediction uuid only.\",\n",
    "    ),\n",
    "    format: Optional[str] = typer.Option(\n",
    "        None,\n",
    "        \"--format\",\n",
    "        \"-f\",\n",
    "        help=\"Format output and show only the given column(s) values.\",\n",
    "    ),\n",
    "    debug: bool = typer.Option(\n",
    "        False,\n",
    "        \"--debug\",\n",
    "        \"-d\",\n",
    "        help=\"Set logger level to DEBUG and output everything.\",\n",
    "    ),\n",
    ") -> Dict[\"str\", Union[pd.DataFrame, str]]:\n",
    "    \"\"\"Delete a prediction from the server.\"\"\"\n",
    "\n",
    "    from airt.client import Prediction\n",
    "\n",
    "    pred = Prediction(uuid=uuid)\n",
    "    df = pred.delete()\n",
    "\n",
    "    df[\"created\"] = helper.humanize_date(df[\"created\"])\n",
    "\n",
    "    return {\"df\": df, \"quite_column_name\": \"prediction_uuid\"}"
   ]
  },
  {
   "cell_type": "code",
   "execution_count": null,
   "metadata": {},
   "outputs": [
    {
     "data": {
      "text/plain": [
       "'Usage: root rm [OPTIONS] UUID\\n\\n  Delete a prediction from the server.\\n\\nArguments:\\n  UUID  Prediction uuid.  [required]\\n\\nOptions:\\n  -q, --quiet        Output the deleted Prediction uuid only.\\n  -f, --format TEXT  Format output and show only the given column(s) values.\\n  -d, --debug        Set logger level to DEBUG and output everything.\\n  --help             Show this message and exit.\\n'"
      ]
     },
     "metadata": {},
     "output_type": "display_data"
    }
   ],
   "source": [
    "assert_has_help([\"rm\"])"
   ]
  },
  {
   "cell_type": "code",
   "execution_count": null,
   "metadata": {},
   "outputs": [
    {
     "data": {
      "text/plain": [
       "'8dac1fee-dbe6-42e4-aab3-bf921a9bb6c1'"
      ]
     },
     "metadata": {},
     "output_type": "display_data"
    },
    {
     "data": {
      "text/plain": [
       "['6b859549-dad2-449f-ae41-0eda1dae0d9a']"
      ]
     },
     "metadata": {},
     "output_type": "display_data"
    }
   ],
   "source": [
    "# Tests for prediction rm\n",
    "# Testing positive scenario with quite\n",
    "\n",
    "with set_airt_service_token_envvar():\n",
    "    with generate_prediction() as pred:\n",
    "        format_str = \"{'prediction_uuid': '{}'}\"\n",
    "        pred_uuid = pred.uuid\n",
    "        result = runner.invoke(app, [\"rm\", pred_uuid, \"-f\", format_str])\n",
    "        deleted_id = result.stdout[:-1]\n",
    "\n",
    "        display(deleted_id)\n",
    "\n",
    "        assert result.exit_code == 0\n",
    "        assert deleted_id == pred_uuid\n",
    "\n",
    "        # List the existing Prediction uuids in server and make sure the deleted id is not present\n",
    "        ls_result = runner.invoke(app, [\"ls\", \"-q\"])\n",
    "        ls_ids = get_uuids_from_result(ls_result)\n",
    "\n",
    "        display(ls_ids)\n",
    "        assert deleted_id not in ls_ids\n",
    "\n",
    "        # Testing negative scenario. Deleting already deleted prediction\n",
    "        result = runner.invoke(app, [\"rm\", deleted_id, \"-q\"])\n",
    "\n",
    "        # Testing negative scenario. Getting the details of the deleted prediction\n",
    "        result = runner.invoke(app, [\"details\", deleted_id])"
   ]
  },
  {
   "cell_type": "code",
   "execution_count": null,
   "metadata": {},
   "outputs": [
    {
     "data": {
      "text/plain": [
       "'Error: The prediction uuid is incorrect. Please try again.\\n'"
      ]
     },
     "metadata": {},
     "output_type": "display_data"
    }
   ],
   "source": [
    "# Tests for prediction rm\n",
    "# Testing negative scenario. Deleting invalid prediction\n",
    "\n",
    "with set_airt_service_token_envvar():\n",
    "    result = runner.invoke(app, [\"rm\", RANDOM_UUID_FOR_TESTING])\n",
    "\n",
    "    display(result.stdout)"
   ]
  },
  {
   "cell_type": "code",
   "execution_count": null,
   "metadata": {},
   "outputs": [],
   "source": [
    "# | exporti\n",
    "\n",
    "\n",
    "@app.command(\"to-pandas\")\n",
    "@helper.requires_auth_token\n",
    "def to_pandas(\n",
    "    uuid: str = typer.Argument(\n",
    "        ...,\n",
    "        help=\"Prediction uuid.\",\n",
    "    ),\n",
    "    debug: bool = typer.Option(\n",
    "        False,\n",
    "        \"--debug\",\n",
    "        \"-d\",\n",
    "        help=\"Set logger level to DEBUG and output everything.\",\n",
    "    ),\n",
    ") -> None:\n",
    "    \"\"\"Return the prediction results as a pandas DataFrame.\"\"\"\n",
    "\n",
    "    from airt.client import Prediction\n",
    "\n",
    "    pred = Prediction(uuid=uuid)\n",
    "\n",
    "    df = pred.to_pandas()\n",
    "\n",
    "    typer.echo(tabulate(df, headers=\"keys\", tablefmt=\"plain\", showindex=False))  # type: ignore"
   ]
  },
  {
   "cell_type": "code",
   "execution_count": null,
   "metadata": {},
   "outputs": [
    {
     "data": {
      "text/plain": [
       "'Usage: root to-pandas [OPTIONS] UUID\\n\\n  Return the prediction results as a pandas DataFrame.\\n\\nArguments:\\n  UUID  Prediction uuid.  [required]\\n\\nOptions:\\n  -d, --debug  Set logger level to DEBUG and output everything.\\n  --help       Show this message and exit.\\n'"
      ]
     },
     "metadata": {},
     "output_type": "display_data"
    }
   ],
   "source": [
    "assert_has_help([\"to-pandas\"])"
   ]
  },
  {
   "cell_type": "code",
   "execution_count": null,
   "metadata": {},
   "outputs": [
    {
     "name": "stderr",
     "output_type": "stream",
     "text": [
      "100%|██████████| 1/1 [00:10<00:00, 10.11s/it]\n"
     ]
    },
    {
     "data": {
      "text/plain": [
       "\"ds.uuid='a81aeac7-7984-493a-acc3-9d6949afa40a'\""
      ]
     },
     "metadata": {},
     "output_type": "display_data"
    },
    {
     "name": "stderr",
     "output_type": "stream",
     "text": [
      "100%|██████████| 1/1 [00:35<00:00, 35.39s/it]\n",
      "100%|██████████| 3/3 [00:05<00:00,  1.69s/it]\n"
     ]
    },
    {
     "data": {
      "text/plain": [
       "'   Score\\n0.979853\\n0.979157\\n0.979055\\n0.978915\\n0.97796\\n0.004043\\n0.00389\\n0.001346\\n0.001341\\n0.001139\\n'"
      ]
     },
     "metadata": {},
     "output_type": "display_data"
    }
   ],
   "source": [
    "# Tests for prediction to-pandas\n",
    "# Testing positive scenario\n",
    "\n",
    "with set_airt_service_token_envvar():\n",
    "    with generate_prediction(force_create=True) as pred:\n",
    "        result = runner.invoke(app, [\"to-pandas\", pred.uuid])\n",
    "\n",
    "        display(result.stdout)\n",
    "\n",
    "        assert result.exit_code == 0\n",
    "        assert \"Score\" in result.stdout"
   ]
  },
  {
   "cell_type": "code",
   "execution_count": null,
   "metadata": {},
   "outputs": [
    {
     "data": {
      "text/plain": [
       "'Error: The prediction uuid is incorrect. Please try again.\\n'"
      ]
     },
     "metadata": {},
     "output_type": "display_data"
    }
   ],
   "source": [
    "# Tests for prediction to-pandas\n",
    "# Testing negative scenario\n",
    "\n",
    "with set_airt_service_token_envvar():\n",
    "    result = runner.invoke(app, [\"to-pandas\", RANDOM_UUID_FOR_TESTING])\n",
    "\n",
    "    display(result.stdout)"
   ]
  },
  {
   "cell_type": "code",
   "execution_count": null,
   "metadata": {},
   "outputs": [],
   "source": [
    "# | exporti\n",
    "\n",
    "\n",
    "@app.command(\"to-s3\")\n",
    "@helper.requires_auth_token\n",
    "def to_s3(\n",
    "    uuid: str = typer.Argument(\n",
    "        ...,\n",
    "        help=\"Prediction uuid.\",\n",
    "    ),\n",
    "    uri: str = typer.Option(..., help=\"The target S3 bucket uri.\"),\n",
    "    access_key: Optional[str] = typer.Option(\n",
    "        None,\n",
    "        help=\"Access key for the target S3 bucket. If **None** (default value), then the value from **AWS_ACCESS_KEY_ID** environment variable is used.\",\n",
    "    ),\n",
    "    secret_key: Optional[str] = typer.Option(\n",
    "        None,\n",
    "        help=\"Secret key for the target S3 bucket. If **None** (default value), then the value from **AWS_SECRET_ACCESS_KEY** environment variable is used.\",\n",
    "    ),\n",
    "    quiet: bool = typer.Option(\n",
    "        False,\n",
    "        \"--quiet\",\n",
    "        \"-q\",\n",
    "        help=\"Output status only.\",\n",
    "    ),\n",
    "    debug: bool = typer.Option(\n",
    "        False,\n",
    "        \"--debug\",\n",
    "        \"-d\",\n",
    "        help=\"Set logger level to DEBUG and output everything.\",\n",
    "    ),\n",
    ") -> None:\n",
    "    \"\"\"Push the prediction results to the target AWS S3 bucket.\"\"\"\n",
    "\n",
    "    from airt.client import Prediction\n",
    "\n",
    "    pred = Prediction(uuid=uuid)\n",
    "\n",
    "    status = pred.to_s3(uri=uri, access_key=access_key, secret_key=secret_key)\n",
    "\n",
    "    if quiet:\n",
    "        status.wait()\n",
    "        typer.echo(f\"{pred.uuid}\")\n",
    "    else:\n",
    "        typer.echo(\n",
    "            f\"Pushing the results for Prediction uuid: {pred.uuid} to the s3 bucket.\"\n",
    "        )\n",
    "        status.progress_bar()"
   ]
  },
  {
   "cell_type": "code",
   "execution_count": null,
   "metadata": {},
   "outputs": [
    {
     "data": {
      "text/plain": [
       "'Usage: root to-s3 [OPTIONS] UUID\\n\\n  Push the prediction results to the target AWS S3 bucket.\\n\\nArguments:\\n  UUID  Prediction uuid.  [required]\\n\\nOptions:\\n  --uri TEXT         The target S3 bucket uri.  [required]\\n  --access-key TEXT  Access key for the target S3 bucket. If **None** (default\\n                     value), then the value from **AWS_ACCESS_KEY_ID**\\n                     environment variable is used.\\n  --secret-key TEXT  Secret key for the target S3 bucket. If **None** (default\\n                     value), then the value from **AWS_SECRET_ACCESS_KEY**\\n                     environment variable is used.\\n  -q, --quiet        Output status only.\\n  -d, --debug        Set logger level to DEBUG and output everything.\\n  --help             Show this message and exit.\\n'"
      ]
     },
     "metadata": {},
     "output_type": "display_data"
    }
   ],
   "source": [
    "assert_has_help([\"to-s3\"])"
   ]
  },
  {
   "cell_type": "code",
   "execution_count": null,
   "metadata": {},
   "outputs": [
    {
     "data": {
      "text/plain": [
       "'Pushing the results for Prediction uuid: 863a392f-849b-4da7-b86e-4c0ce85eb221 to the s3 bucket.\\n\\r  0%|          | 0/1 [00:00<?, ?it/s]\\r100%|██████████| 1/1 [00:05<00:00,  5.08s/it]\\r100%|██████████| 1/1 [00:05<00:00,  5.09s/it]\\n'"
      ]
     },
     "metadata": {},
     "output_type": "display_data"
    },
    {
     "data": {
      "text/plain": [
       "'863a392f-849b-4da7-b86e-4c0ce85eb221\\n'"
      ]
     },
     "metadata": {},
     "output_type": "display_data"
    },
    {
     "data": {
      "text/plain": [
       "\"actual_s3_contents=['bbe0e09b-9c56-434c-a101-c47adae2a0c8/test_CLI_prediction_to_s3/', 'bbe0e09b-9c56-434c-a101-c47adae2a0c8/test_CLI_prediction_to_s3/part.0.parquet']\""
      ]
     },
     "metadata": {},
     "output_type": "display_data"
    },
    {
     "data": {
      "text/plain": [
       "'s3_contents=[]'"
      ]
     },
     "metadata": {},
     "output_type": "display_data"
    }
   ],
   "source": [
    "# Tests for prediction to-s3\n",
    "# Testing positive scenario\n",
    "\n",
    "user_details = User.details()\n",
    "DEV_BUCKET_NAME = f'{os.environ[\"STORAGE_BUCKET_PREFIX\"]}-eu-west-1'\n",
    "TEST_OBJECT_NAME = f\"{user_details['uuid']}/test_CLI_prediction_to_s3\"\n",
    "PREDICTION_TO_S3_URL = f\"s3://{DEV_BUCKET_NAME}/{TEST_OBJECT_NAME}\"\n",
    "\n",
    "# Create a new key in the s3 bucket\n",
    "s3_client = boto3.client(\"s3\")\n",
    "\n",
    "try:\n",
    "    s3_client.create_bucket(\n",
    "        Bucket=DEV_BUCKET_NAME,\n",
    "        CreateBucketConfiguration={\"LocationConstraint\": \"eu-west-1\"},\n",
    "    )\n",
    "except s3_client.exceptions.BucketAlreadyOwnedByYou as e:\n",
    "    logger.info(\"Bucket already created\")\n",
    "\n",
    "s3_client.put_object(Bucket=DEV_BUCKET_NAME, Key=(TEST_OBJECT_NAME + \"/\"))\n",
    "\n",
    "with set_airt_service_token_envvar():\n",
    "    with generate_prediction() as pred:\n",
    "        pred_uuid = pred.uuid\n",
    "\n",
    "        # without -q\n",
    "        result = runner.invoke(app, [\"to-s3\", pred_uuid, \"--uri\", PREDICTION_TO_S3_URL])\n",
    "\n",
    "        display(result.stdout)\n",
    "        assert result.exit_code == 0\n",
    "        assert f\"Pushing the results for Prediction uuid: {pred_uuid}\" in result.stdout\n",
    "\n",
    "        # with -q\n",
    "        result = runner.invoke(\n",
    "            app, [\"to-s3\", pred_uuid, \"--uri\", PREDICTION_TO_S3_URL, \"-q\"]\n",
    "        )\n",
    "\n",
    "        display(result.stdout)\n",
    "        assert result.exit_code == 0\n",
    "        assert f\"{pred_uuid}\" in result.stdout\n",
    "\n",
    "\n",
    "# Check in s3 if the uploaded files are present\n",
    "time.sleep(10)\n",
    "response = s3_client.list_objects(Bucket=DEV_BUCKET_NAME, Prefix=TEST_OBJECT_NAME)\n",
    "actual_s3_contents = [content.get(\"Key\") for content in response.get(\"Contents\", [])]\n",
    "expected_s3_contents = [\n",
    "    f\"{TEST_OBJECT_NAME}/\",\n",
    "    f\"{TEST_OBJECT_NAME}/part.0.parquet\",\n",
    "]\n",
    "\n",
    "assert len(actual_s3_contents) == 2, len(actual_s3_contents)\n",
    "assert actual_s3_contents == expected_s3_contents, actual_s3_contents\n",
    "display(f\"{actual_s3_contents=}\")\n",
    "\n",
    "# Finally, delete the object in s3\n",
    "for k in actual_s3_contents:\n",
    "    s3_client.delete_object(Bucket=DEV_BUCKET_NAME, Key=k)\n",
    "\n",
    "response = s3_client.list_objects(Bucket=DEV_BUCKET_NAME, Prefix=TEST_OBJECT_NAME)\n",
    "s3_contents = [content.get(\"Key\") for content in response.get(\"Contents\", [])]\n",
    "\n",
    "assert s3_contents == [], s3_contents\n",
    "display(f\"{s3_contents=}\")"
   ]
  },
  {
   "cell_type": "code",
   "execution_count": null,
   "metadata": {},
   "outputs": [
    {
     "data": {
      "text/plain": [
       "'Pushing the results for Prediction uuid: 863a392f-849b-4da7-b86e-4c0ce85eb221 to the s3 bucket.\\n\\r  0%|          | 0/1 [00:00<?, ?it/s]\\r  0%|          | 0/1 [00:05<?, ?it/s]\\r  0%|          | 0/1 [00:10<?, ?it/s]\\nError: An error occurred (InvalidAccessKeyId) when calling the ListObjects operation: The AWS Access Key Id you provided does not exist in our records.\\n'"
      ]
     },
     "metadata": {},
     "output_type": "display_data"
    }
   ],
   "source": [
    "# Tests for prediction to-s3\n",
    "# Testing negative scenario\n",
    "\n",
    "with set_airt_service_token_envvar():\n",
    "    with generate_prediction() as pred:\n",
    "        uri = \"s3://random-bucket-name/random-object-name\"\n",
    "        access_key = \"fake_access_key\"\n",
    "        secret_key = \"fake_secret_key\"\n",
    "\n",
    "        result = runner.invoke(\n",
    "            app,\n",
    "            [\n",
    "                \"to-s3\",\n",
    "                pred.uuid,\n",
    "                \"--uri\",\n",
    "                uri,\n",
    "                \"--access-key\",\n",
    "                access_key,\n",
    "                \"--secret-key\",\n",
    "                secret_key,\n",
    "            ],\n",
    "        )\n",
    "\n",
    "        display(result.stdout)\n",
    "        assert result.exit_code == 1\n",
    "        assert (\n",
    "            f\"The AWS Access Key Id you provided does not exist in our records\"\n",
    "            in result.stdout\n",
    "        )"
   ]
  },
  {
   "cell_type": "code",
   "execution_count": null,
   "metadata": {},
   "outputs": [],
   "source": [
    "# | exporti\n",
    "\n",
    "\n",
    "@app.command(\"to-azure-blob-storage\")\n",
    "@helper.requires_auth_token\n",
    "def to_azure_blob_storage(\n",
    "    uuid: str = typer.Argument(\n",
    "        ...,\n",
    "        help=\"Prediction uuid.\",\n",
    "    ),\n",
    "    uri: str = typer.Option(..., help=\"Target Azure Blob Storage uri.\"),\n",
    "    credential: str = typer.Option(\n",
    "        ...,\n",
    "        \"--credential\",\n",
    "        \"-c\",\n",
    "        help=\"Credential to access the Azure Blob Storage.\",\n",
    "    ),\n",
    "    quiet: bool = typer.Option(\n",
    "        False,\n",
    "        \"--quiet\",\n",
    "        \"-q\",\n",
    "        help=\"Output status only.\",\n",
    "    ),\n",
    "    debug: bool = typer.Option(\n",
    "        False,\n",
    "        \"--debug\",\n",
    "        \"-d\",\n",
    "        help=\"Set logger level to DEBUG and output everything.\",\n",
    "    ),\n",
    ") -> None:\n",
    "    \"\"\"Push the prediction results to the target Azure Blob Storage.\"\"\"\n",
    "\n",
    "    from airt.client import Prediction\n",
    "\n",
    "    pred = Prediction(uuid=uuid)\n",
    "    status = pred.to_azure_blob_storage(uri=uri, credential=credential)\n",
    "\n",
    "    if quiet:\n",
    "        status.wait()\n",
    "        typer.echo(f\"{pred.uuid}\")\n",
    "    else:\n",
    "        typer.echo(\n",
    "            f\"Pushing the results for Prediction uuid: {pred.uuid} to the Azure Blob Storage.\"\n",
    "        )\n",
    "        status.progress_bar()"
   ]
  },
  {
   "cell_type": "code",
   "execution_count": null,
   "metadata": {},
   "outputs": [
    {
     "data": {
      "text/plain": [
       "'Usage: root to-azure-blob-storage [OPTIONS] UUID\\n\\n  Push the prediction results to the target Azure Blob Storage.\\n\\nArguments:\\n  UUID  Prediction uuid.  [required]\\n\\nOptions:\\n  --uri TEXT             Target Azure Blob Storage uri.  [required]\\n  -c, --credential TEXT  Credential to access the Azure Blob Storage.\\n                         [required]\\n  -q, --quiet            Output status only.\\n  -d, --debug            Set logger level to DEBUG and output everything.\\n  --help                 Show this message and exit.\\n'"
      ]
     },
     "metadata": {},
     "output_type": "display_data"
    }
   ],
   "source": [
    "assert_has_help([\"to-azure-blob-storage\"])"
   ]
  },
  {
   "cell_type": "code",
   "execution_count": null,
   "metadata": {},
   "outputs": [
    {
     "data": {
      "text/plain": [
       "'Pushing the results for Prediction uuid: 863a392f-849b-4da7-b86e-4c0ce85eb221 to the Azure Blob Storage.\\n\\r  0%|          | 0/1 [00:00<?, ?it/s]\\r100%|██████████| 1/1 [00:05<00:00,  5.09s/it]\\r100%|██████████| 1/1 [00:05<00:00,  5.09s/it]\\n'"
      ]
     },
     "metadata": {},
     "output_type": "display_data"
    },
    {
     "data": {
      "text/plain": [
       "'863a392f-849b-4da7-b86e-4c0ce85eb221\\n'"
      ]
     },
     "metadata": {},
     "output_type": "display_data"
    }
   ],
   "source": [
    "# Tests for to-azure-blob-storage\n",
    "# Positive Scenario: Passing credential in arguments\n",
    "\n",
    "storage_client = StorageManagementClient(\n",
    "    DefaultAzureCredential(), os.environ[\"AZURE_SUBSCRIPTION_ID\"]\n",
    ")\n",
    "keys = storage_client.storage_accounts.list_keys(\"test-airt-service\", \"testairtservice\")\n",
    "credential = keys.keys[0].value\n",
    "\n",
    "with set_airt_service_token_envvar():\n",
    "    with generate_prediction() as pred:\n",
    "        # without -q\n",
    "        result = runner.invoke(\n",
    "            app,\n",
    "            [\n",
    "                \"to-azure-blob-storage\",\n",
    "                pred.uuid,\n",
    "                \"--uri\",\n",
    "                TEST_AZURE_PUSH_URI,\n",
    "                \"--credential\",\n",
    "                credential,\n",
    "            ],\n",
    "        )\n",
    "        display(result.stdout)\n",
    "        assert result.exit_code == 0\n",
    "        assert f\"Pushing the results for Prediction uuid: {pred.uuid}\" in result.stdout\n",
    "\n",
    "        # with -q\n",
    "        result = runner.invoke(\n",
    "            app,\n",
    "            [\n",
    "                \"to-azure-blob-storage\",\n",
    "                pred.uuid,\n",
    "                \"--uri\",\n",
    "                TEST_AZURE_PUSH_URI,\n",
    "                \"--credential\",\n",
    "                credential,\n",
    "                \"-q\",\n",
    "            ],\n",
    "        )\n",
    "\n",
    "        display(result.stdout)\n",
    "        assert result.exit_code == 0\n",
    "        assert f\"{pred.uuid}\" in result.stdout"
   ]
  },
  {
   "cell_type": "code",
   "execution_count": null,
   "metadata": {},
   "outputs": [
    {
     "data": {
      "text/plain": [
       "'Pushing the results for Prediction uuid: 863a392f-849b-4da7-b86e-4c0ce85eb221 to the Azure Blob Storage.\\n\\r  0%|          | 0/1 [00:00<?, ?it/s]\\r  0%|          | 0/1 [00:05<?, ?it/s]\\nError: Unable to determine account name for shared key credential.\\n'"
      ]
     },
     "metadata": {},
     "output_type": "display_data"
    }
   ],
   "source": [
    "# Tests for to-azure-blob-storage\n",
    "# Negative Scenario: Passing invalid uri\n",
    "\n",
    "\n",
    "with set_airt_service_token_envvar():\n",
    "    with generate_prediction() as pred:\n",
    "        invalid_uri = \"https://invalid-push-blob-storage-path\"\n",
    "        result = runner.invoke(\n",
    "            app,\n",
    "            [\n",
    "                \"to-azure-blob-storage\",\n",
    "                pred.uuid,\n",
    "                \"--uri\",\n",
    "                invalid_uri,\n",
    "                \"--credential\",\n",
    "                credential,\n",
    "            ],\n",
    "        )\n",
    "        display(result.stdout)\n",
    "        assert result.exit_code == 1"
   ]
  },
  {
   "cell_type": "code",
   "execution_count": null,
   "metadata": {},
   "outputs": [],
   "source": [
    "# | exporti\n",
    "\n",
    "\n",
    "@app.command(\"to-local\")\n",
    "@helper.requires_auth_token\n",
    "def to_local(\n",
    "    uuid: str = typer.Argument(\n",
    "        ...,\n",
    "        help=\"Prediction uuid.\",\n",
    "    ),\n",
    "    path: str = typer.Option(..., help=\"Local directory path.\"),\n",
    "    quiet: bool = typer.Option(\n",
    "        False,\n",
    "        \"--quiet\",\n",
    "        \"-q\",\n",
    "        help=\"Output status only.\",\n",
    "    ),\n",
    "    debug: bool = typer.Option(\n",
    "        False,\n",
    "        \"--debug\",\n",
    "        \"-d\",\n",
    "        help=\"Set logger level to DEBUG and output everything.\",\n",
    "    ),\n",
    ") -> None:\n",
    "    \"\"\"Download the prediction results to a local directory.\"\"\"\n",
    "\n",
    "    from airt.client import Prediction\n",
    "\n",
    "    pred = Prediction(uuid=uuid)\n",
    "\n",
    "    if quiet:\n",
    "        pred.to_local(path=path, show_progress=False)\n",
    "        typer.echo(f\"{pred.uuid}\")\n",
    "    else:\n",
    "        typer.echo(f\"Downloading prediction results for uuid: {pred.uuid}.\")\n",
    "        pred.to_local(path=path)"
   ]
  },
  {
   "cell_type": "code",
   "execution_count": null,
   "metadata": {},
   "outputs": [
    {
     "data": {
      "text/plain": [
       "'Usage: root to-local [OPTIONS] UUID\\n\\n  Download the prediction results to a local directory.\\n\\nArguments:\\n  UUID  Prediction uuid.  [required]\\n\\nOptions:\\n  --path TEXT  Local directory path.  [required]\\n  -q, --quiet  Output status only.\\n  -d, --debug  Set logger level to DEBUG and output everything.\\n  --help       Show this message and exit.\\n'"
      ]
     },
     "metadata": {},
     "output_type": "display_data"
    }
   ],
   "source": [
    "assert_has_help([\"to-local\"])"
   ]
  },
  {
   "cell_type": "code",
   "execution_count": null,
   "metadata": {},
   "outputs": [
    {
     "data": {
      "text/plain": [
       "[]"
      ]
     },
     "metadata": {},
     "output_type": "display_data"
    },
    {
     "data": {
      "text/plain": [
       "'Downloading prediction results for uuid: 863a392f-849b-4da7-b86e-4c0ce85eb221.\\n\\r  0%|          | 0/1 [00:00<?, ?it/s]\\r100%|██████████| 1/1 [00:00<00:00,  1.25it/s]\\r100%|██████████| 1/1 [00:00<00:00,  1.25it/s]\\n'"
      ]
     },
     "metadata": {},
     "output_type": "display_data"
    },
    {
     "data": {
      "text/plain": [
       "\"downloaded_files=['part.0.parquet']\""
      ]
     },
     "metadata": {},
     "output_type": "display_data"
    },
    {
     "data": {
      "text/plain": [
       "[]"
      ]
     },
     "metadata": {},
     "output_type": "display_data"
    },
    {
     "data": {
      "text/plain": [
       "'863a392f-849b-4da7-b86e-4c0ce85eb221\\n'"
      ]
     },
     "metadata": {},
     "output_type": "display_data"
    },
    {
     "data": {
      "text/plain": [
       "\"downloaded_files=['part.0.parquet']\""
      ]
     },
     "metadata": {},
     "output_type": "display_data"
    }
   ],
   "source": [
    "# Tests for prediction to-local\n",
    "# Testing positive scenario\n",
    "\n",
    "with set_airt_service_token_envvar():\n",
    "    with generate_prediction() as pred:\n",
    "        with tempfile.TemporaryDirectory(prefix=\"test_to_local_\") as d:\n",
    "            assert os.listdir(d) == []\n",
    "            display(list(os.listdir(d)))\n",
    "\n",
    "            result = runner.invoke(app, [\"to-local\", pred.uuid, \"--path\", d])\n",
    "\n",
    "            display(result.stdout)\n",
    "            assert result.exit_code == 0\n",
    "            assert (\n",
    "                f\"Downloading prediction results for uuid: {pred.uuid}.\"\n",
    "                in result.stdout\n",
    "            )\n",
    "\n",
    "            downloaded_files = sorted(list(os.listdir(d)))\n",
    "            assert downloaded_files == [\"part.0.parquet\"], downloaded_files\n",
    "            display(f\"{downloaded_files=}\")\n",
    "\n",
    "        # with -q flag\n",
    "        with tempfile.TemporaryDirectory(prefix=\"test_to_local_\") as d:\n",
    "            assert os.listdir(d) == []\n",
    "            display(list(os.listdir(d)))\n",
    "\n",
    "            result = runner.invoke(app, [\"to-local\", pred.uuid, \"--path\", d, \"-q\"])\n",
    "\n",
    "            display(result.stdout)\n",
    "            assert result.exit_code == 0\n",
    "            assert f\"{pred.uuid}\" in result.stdout\n",
    "\n",
    "            downloaded_files = sorted(list(os.listdir(d)))\n",
    "            assert downloaded_files == [\"part.0.parquet\"], downloaded_files\n",
    "            display(f\"{downloaded_files=}\")"
   ]
  },
  {
   "cell_type": "code",
   "execution_count": null,
   "metadata": {},
   "outputs": [
    {
     "data": {
      "text/plain": [
       "\"Downloading prediction results for uuid: 863a392f-849b-4da7-b86e-4c0ce85eb221.\\n\\r  0%|          | 0/1 [00:00<?, ?it/s]Error: [Errno 2] No such file or directory: 'my-fake-path/part.0.parquet'\\n\""
      ]
     },
     "metadata": {},
     "output_type": "display_data"
    }
   ],
   "source": [
    "# Tests for prediction to-local\n",
    "# Testing negative scenario\n",
    "\n",
    "with set_airt_service_token_envvar():\n",
    "    with generate_prediction() as pred:\n",
    "        d = Path(\"my-fake-path\")\n",
    "\n",
    "        result = runner.invoke(app, [\"to-local\", pred.uuid, \"--path\", d])\n",
    "\n",
    "        display(result.stdout)\n",
    "        assert result.exit_code == 1\n",
    "        assert \"my-fake-path\" in result.stdout"
   ]
  },
  {
   "cell_type": "code",
   "execution_count": null,
   "metadata": {},
   "outputs": [],
   "source": [
    "# | exporti\n",
    "\n",
    "\n",
    "@app.command(\"to-mysql\")\n",
    "@helper.requires_auth_token\n",
    "def to_mysql(\n",
    "    uuid: str = typer.Argument(\n",
    "        ...,\n",
    "        help=\"Prediction uuid.\",\n",
    "    ),\n",
    "    host: str = typer.Option(..., help=\"Database host name.\"),\n",
    "    database: str = typer.Option(..., help=\"Database name.\"),\n",
    "    table: str = typer.Option(..., help=\"Table name.\"),\n",
    "    port: int = typer.Option(\n",
    "        3306,\n",
    "        help=\"Host port number. If not passed, then the default value **3306** will be used.\",\n",
    "    ),\n",
    "    username: Optional[str] = typer.Option(\n",
    "        None,\n",
    "        \"--username\",\n",
    "        \"-u\",\n",
    "        help=\"Database username. If not passed, then the value set in the environment variable\"\n",
    "        f\" **{CLIENT_DB_USERNAME}** will be used else the default value **root** will be used.\",\n",
    "    ),\n",
    "    password: Optional[str] = typer.Option(\n",
    "        None,\n",
    "        \"--password\",\n",
    "        \"-p\",\n",
    "        help=\"Database password. If not passed, then the value set in the environment variable\"\n",
    "        f' **{CLIENT_DB_PASSWORD}** will be used else the default value \"\" will be used.',\n",
    "    ),\n",
    "    quiet: bool = typer.Option(\n",
    "        False,\n",
    "        \"--quiet\",\n",
    "        \"-q\",\n",
    "        help=\"Output status only.\",\n",
    "    ),\n",
    "    debug: bool = typer.Option(\n",
    "        False,\n",
    "        \"--debug\",\n",
    "        \"-d\",\n",
    "        help=\"Set logger level to DEBUG and output everything.\",\n",
    "    ),\n",
    ") -> None:\n",
    "    \"\"\"Push the prediction results to a mysql database.\n",
    "\n",
    "    If the database requires authentication, pass the username/password as commandline arguments or store it in\n",
    "    the **AIRT_CLIENT_DB_USERNAME** and **AIRT_CLIENT_DB_PASSWORD** environment variables.\n",
    "    \"\"\"\n",
    "\n",
    "    from airt.client import Prediction\n",
    "\n",
    "    pred = Prediction(uuid=uuid)\n",
    "\n",
    "    status = pred.to_mysql(\n",
    "        host=host,\n",
    "        database=database,\n",
    "        table=table,\n",
    "        port=port,\n",
    "        username=username,\n",
    "        password=password,\n",
    "    )\n",
    "\n",
    "    if quiet:\n",
    "        status.wait()\n",
    "        typer.echo(f\"{pred.uuid}\")\n",
    "    else:\n",
    "        typer.echo(\n",
    "            f\"Pushing the results for Prediction uuid: {pred.uuid} to the mysql database.\"\n",
    "        )\n",
    "        status.progress_bar()"
   ]
  },
  {
   "cell_type": "code",
   "execution_count": null,
   "metadata": {},
   "outputs": [
    {
     "data": {
      "text/plain": [
       "'Usage: root to-mysql [OPTIONS] UUID\\n\\n  Push the prediction results to a mysql database.\\n\\n  If the database requires authentication, pass the username/password as\\n  commandline arguments or store it in the **AIRT_CLIENT_DB_USERNAME** and\\n  **AIRT_CLIENT_DB_PASSWORD** environment variables.\\n\\nArguments:\\n  UUID  Prediction uuid.  [required]\\n\\nOptions:\\n  --host TEXT          Database host name.  [required]\\n  --database TEXT      Database name.  [required]\\n  --table TEXT         Table name.  [required]\\n  --port INTEGER       Host port number. If not passed, then the default value\\n                       **3306** will be used.  [default: 3306]\\n  -u, --username TEXT  Database username. If not passed, then the value set in\\n                       the environment variable **AIRT_CLIENT_DB_USERNAME** will\\n                       be used else the default value **root** will be used.\\n  -p, --password TEXT  Database password. If not passed, then the value set in\\n                       the environment variable **AIRT_CLIENT_DB_PASSWORD** will\\n                       be used else the default value \"\" will be used.\\n  -q, --quiet          Output status only.\\n  -d, --debug          Set logger level to DEBUG and output everything.\\n  --help               Show this message and exit.\\n'"
      ]
     },
     "metadata": {},
     "output_type": "display_data"
    }
   ],
   "source": [
    "assert_has_help([\"to-mysql\"])"
   ]
  },
  {
   "cell_type": "code",
   "execution_count": null,
   "metadata": {},
   "outputs": [
    {
     "data": {
      "text/plain": [
       "'Pushing the results for Prediction uuid: 863a392f-849b-4da7-b86e-4c0ce85eb221 to the mysql database.\\n\\n\\r  0%|          | 0/1 [00:00<?, ?it/s]\\x1b[A\\n\\r  0%|          | 0/1 [00:05<?, ?it/s]\\x1b[A\\n\\r  0%|          | 0/1 [00:10<?, ?it/s]\\x1b[A\\n\\r  0%|          | 0/1 [00:15<?, ?it/s]\\x1b[A\\n\\r  0%|          | 0/1 [00:20<?, ?it/s]\\x1b[A\\n\\r  0%|          | 0/1 [00:25<?, ?it/s]\\x1b[A\\n\\r  0%|          | 0/1 [00:30<?, ?it/s]\\x1b[A\\n\\r  0%|          | 0/1 [00:35<?, ?it/s]\\x1b[A\\n\\r  0%|          | 0/1 [00:40<?, ?it/s]\\x1b[A\\n\\r  0%|          | 0/1 [00:45<?, ?it/s]\\x1b[A\\n\\r  0%|          | 0/1 [00:50<?, ?it/s]\\x1b[A\\n\\r100%|██████████| 1/1 [00:55<00:00,  5.04s/it]\\x1b[A\\r100%|██████████| 1/1 [00:55<00:00, 55.58s/it]\\n'"
      ]
     },
     "metadata": {},
     "output_type": "display_data"
    },
    {
     "data": {
      "text/plain": [
       "'863a392f-849b-4da7-b86e-4c0ce85eb221\\n'"
      ]
     },
     "metadata": {},
     "output_type": "display_data"
    }
   ],
   "source": [
    "# Tests for prediction to-mysql\n",
    "# Testing positive scenario\n",
    "\n",
    "with set_airt_service_token_envvar():\n",
    "    with generate_prediction() as pred:\n",
    "        cmd = [\n",
    "            \"to-mysql\",\n",
    "            pred.uuid,\n",
    "            \"--host\",\n",
    "            os.environ[\"DB_HOST\"],\n",
    "            \"--database\",\n",
    "            os.environ[\"DB_DATABASE\"],\n",
    "            \"--table\",\n",
    "            \"prediction_to_mysql\",\n",
    "            \"-u\",\n",
    "            os.environ[\"DB_USERNAME\"],\n",
    "            \"-p\",\n",
    "            os.environ[\"DB_PASSWORD\"],\n",
    "        ]\n",
    "        result = runner.invoke(app, cmd)\n",
    "\n",
    "        display(result.stdout)\n",
    "        assert result.exit_code == 0\n",
    "\n",
    "        assert (\n",
    "            f\"Pushing the results for Prediction uuid: {pred.uuid} to the mysql database\"\n",
    "            in str(result.stdout)\n",
    "        )\n",
    "\n",
    "        cmd = [\n",
    "            \"to-mysql\",\n",
    "            pred.uuid,\n",
    "            \"--host\",\n",
    "            os.environ[\"DB_HOST\"],\n",
    "            \"--database\",\n",
    "            os.environ[\"DB_DATABASE\"],\n",
    "            \"--table\",\n",
    "            \"prediction_to_mysql\",\n",
    "            \"-u\",\n",
    "            os.environ[\"DB_USERNAME\"],\n",
    "            \"-p\",\n",
    "            os.environ[\"DB_PASSWORD\"],\n",
    "            \"-q\",\n",
    "        ]\n",
    "        result = runner.invoke(app, cmd)\n",
    "\n",
    "        display(result.stdout)\n",
    "        assert result.exit_code == 0\n",
    "\n",
    "        assert f\"{pred.uuid}\" in str(result.stdout)"
   ]
  },
  {
   "cell_type": "code",
   "execution_count": null,
   "metadata": {},
   "outputs": [],
   "source": [
    "# | exporti\n",
    "\n",
    "\n",
    "@app.command(\"to-clickhouse\")\n",
    "@helper.requires_auth_token\n",
    "def to_clickhouse(\n",
    "    uuid: str = typer.Argument(\n",
    "        ...,\n",
    "        help=\"Prediction uuid.\",\n",
    "    ),\n",
    "    host: str = typer.Option(..., help=\"Remote database host name.\"),\n",
    "    database: str = typer.Option(..., help=\"Database name.\"),\n",
    "    table: str = typer.Option(..., help=\"Table name.\"),\n",
    "    protocol: str = typer.Option(..., help=\"Protocol to use (native/http).\"),\n",
    "    port: int = typer.Option(\n",
    "        0,\n",
    "        help=\"Host port number. If not passed, then the default value **0** will be used.\",\n",
    "    ),\n",
    "    username: Optional[str] = typer.Option(\n",
    "        None,\n",
    "        \"--username\",\n",
    "        \"-u\",\n",
    "        help=\"Database username. If not passed, then the value set in the environment variable\"\n",
    "        \" **CLICKHOUSE_USERNAME** will be used else the default value **root** will be used.\",\n",
    "    ),\n",
    "    password: Optional[str] = typer.Option(\n",
    "        None,\n",
    "        \"--password\",\n",
    "        \"-p\",\n",
    "        help=\"Database password. If not passed, then the value set in the environment variable\"\n",
    "        ' **CLICKHOUSE_PASSWORD** will be used else the default value \"\" will be used.',\n",
    "    ),\n",
    "    quiet: bool = typer.Option(\n",
    "        False,\n",
    "        \"--quiet\",\n",
    "        \"-q\",\n",
    "        help=\"Output status only.\",\n",
    "    ),\n",
    "    debug: bool = typer.Option(\n",
    "        False,\n",
    "        \"--debug\",\n",
    "        \"-d\",\n",
    "        help=\"Set logger level to DEBUG and output everything.\",\n",
    "    ),\n",
    ") -> None:\n",
    "    \"\"\"Push the prediction results to a clickhouse database.\n",
    "\n",
    "    If the database requires authentication, pass the username/password as commandline arguments or store it in\n",
    "    the **CLICKHOUSE_USERNAME** and **CLICKHOUSE_PASSWORD** environment variables.\n",
    "    \"\"\"\n",
    "\n",
    "    from airt.client import Prediction\n",
    "\n",
    "    pred = Prediction(uuid=uuid)\n",
    "\n",
    "    status = pred.to_clickhouse(\n",
    "        host=host,\n",
    "        database=database,\n",
    "        table=table,\n",
    "        port=port,\n",
    "        protocol=protocol,\n",
    "        username=username,\n",
    "        password=password,\n",
    "    )\n",
    "\n",
    "    if quiet:\n",
    "        status.wait()\n",
    "        typer.echo(f\"{pred.uuid}\")\n",
    "    else:\n",
    "        typer.echo(\n",
    "            f\"Pushing the results for Prediction uuid: {pred.uuid} to the clickhouse database.\"\n",
    "        )\n",
    "        status.progress_bar()"
   ]
  },
  {
   "cell_type": "code",
   "execution_count": null,
   "metadata": {},
   "outputs": [
    {
     "data": {
      "text/plain": [
       "'Usage: root to-clickhouse [OPTIONS] UUID\\n\\n  Push the prediction results to a clickhouse database.\\n\\n  If the database requires authentication, pass the username/password as\\n  commandline arguments or store it in the **CLICKHOUSE_USERNAME** and\\n  **CLICKHOUSE_PASSWORD** environment variables.\\n\\nArguments:\\n  UUID  Prediction uuid.  [required]\\n\\nOptions:\\n  --host TEXT          Remote database host name.  [required]\\n  --database TEXT      Database name.  [required]\\n  --table TEXT         Table name.  [required]\\n  --protocol TEXT      Protocol to use (native/http).  [required]\\n  --port INTEGER       Host port number. If not passed, then the default value\\n                       **0** will be used.  [default: 0]\\n  -u, --username TEXT  Database username. If not passed, then the value set in\\n                       the environment variable **CLICKHOUSE_USERNAME** will be\\n                       used else the default value **root** will be used.\\n  -p, --password TEXT  Database password. If not passed, then the value set in\\n                       the environment variable **CLICKHOUSE_PASSWORD** will be\\n                       used else the default value \"\" will be used.\\n  -q, --quiet          Output status only.\\n  -d, --debug          Set logger level to DEBUG and output everything.\\n  --help               Show this message and exit.\\n'"
      ]
     },
     "metadata": {},
     "output_type": "display_data"
    }
   ],
   "source": [
    "assert_has_help([\"to-clickhouse\"])"
   ]
  },
  {
   "cell_type": "code",
   "execution_count": null,
   "metadata": {},
   "outputs": [
    {
     "data": {
      "text/plain": [
       "'Pushing the results for Prediction uuid: 863a392f-849b-4da7-b86e-4c0ce85eb221 to the clickhouse database.\\n\\r  0%|          | 0/1 [00:00<?, ?it/s]\\r100%|██████████| 1/1 [00:05<00:00,  5.09s/it]\\r100%|██████████| 1/1 [00:05<00:00,  5.09s/it]\\n'"
      ]
     },
     "metadata": {},
     "output_type": "display_data"
    },
    {
     "data": {
      "text/plain": [
       "'863a392f-849b-4da7-b86e-4c0ce85eb221\\n'"
      ]
     },
     "metadata": {},
     "output_type": "display_data"
    }
   ],
   "source": [
    "# Tests for prediction to-clickhouse\n",
    "# Testing positive scenario\n",
    "\n",
    "with set_airt_service_token_envvar():\n",
    "    with generate_prediction() as pred:\n",
    "        # without -q\n",
    "        cmd = [\n",
    "            \"to-clickhouse\",\n",
    "            pred.uuid,\n",
    "            \"--host\",\n",
    "            os.environ.get(\"CLICKHOUSE_HOST\"),\n",
    "            \"--database\",\n",
    "            os.environ.get(\"CLICKHOUSE_DATABASE\"),\n",
    "            \"--table\",\n",
    "            \"test_clickhouse_push_prediction_airt_client\",\n",
    "            \"--protocol\",\n",
    "            \"native\",\n",
    "        ]\n",
    "        result = runner.invoke(app, cmd)\n",
    "\n",
    "        display(result.stdout)\n",
    "        assert result.exit_code == 0\n",
    "\n",
    "        assert (\n",
    "            f\"Pushing the results for Prediction uuid: {pred.uuid} to the clickhouse database\"\n",
    "            in str(result.stdout)\n",
    "        ), str(result.stdout)\n",
    "\n",
    "        # with -q\n",
    "        cmd = [\n",
    "            \"to-clickhouse\",\n",
    "            pred.uuid,\n",
    "            \"--host\",\n",
    "            os.environ.get(\"CLICKHOUSE_HOST\"),\n",
    "            \"--database\",\n",
    "            os.environ.get(\"CLICKHOUSE_DATABASE\"),\n",
    "            \"--table\",\n",
    "            \"test_clickhouse_push_prediction_airt_client\",\n",
    "            \"--protocol\",\n",
    "            \"native\",\n",
    "            \"-q\",\n",
    "        ]\n",
    "        result = runner.invoke(app, cmd)\n",
    "\n",
    "        display(result.stdout)\n",
    "        assert result.exit_code == 0\n",
    "\n",
    "        assert f\"{pred.uuid}\" in str(result.stdout), str(result.stdout)"
   ]
  },
  {
   "cell_type": "code",
   "execution_count": null,
   "metadata": {},
   "outputs": [],
   "source": []
  }
 ],
 "metadata": {
  "kernelspec": {
   "display_name": "python3",
   "language": "python",
   "name": "python3"
  }
 },
 "nbformat": 4,
 "nbformat_minor": 2
}
