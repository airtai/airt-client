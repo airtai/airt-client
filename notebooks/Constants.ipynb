{
 "cells": [
  {
   "cell_type": "raw",
   "id": "60dabe10",
   "metadata": {},
   "source": [
    "---\n",
    "description: This module contains all global variables that are used in the airt-client\n",
    "  module.\n",
    "output-file: constants.html\n",
    "title: Constants\n",
    "\n",
    "---\n",
    "\n"
   ]
  },
  {
   "cell_type": "code",
   "execution_count": null,
   "id": "85cd4da6",
   "metadata": {},
   "outputs": [],
   "source": [
    "# | default_exp _constant"
   ]
  },
  {
   "cell_type": "code",
   "execution_count": null,
   "id": "5a2eeb0f",
   "metadata": {},
   "outputs": [],
   "source": [
    "# | export\n",
    "\n",
    "# The below are the names of the envirnment variables and not actual values\n",
    "CLIENT_DB_USERNAME = \"AIRT_CLIENT_DB_USERNAME\"\n",
    "CLIENT_DB_PASSWORD = \"AIRT_CLIENT_DB_PASSWORD\"  # nosec B105\n",
    "SERVICE_USERNAME = \"AIRT_SERVICE_USERNAME\"\n",
    "SERVICE_PASSWORD = \"AIRT_SERVICE_PASSWORD\"  # nosec B105\n",
    "SERVER_URL = \"AIRT_SERVER_URL\"\n",
    "SERVICE_TOKEN = \"AIRT_SERVICE_TOKEN\"  # nosec B105\n",
    "SERVICE_SUPER_USER = \"AIRT_SERVICE_SUPER_USER\"\n",
    "PROD_URL = \"https://api.airt.ai\"\n",
    "CLIENT_NAME = \"airt\""
   ]
  }
 ],
 "metadata": {
  "kernelspec": {
   "display_name": "python3",
   "language": "python",
   "name": "python3"
  }
 },
 "nbformat": 4,
 "nbformat_minor": 5
}
