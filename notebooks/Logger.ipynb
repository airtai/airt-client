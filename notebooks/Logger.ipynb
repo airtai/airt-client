{
 "cells": [
  {
   "cell_type": "raw",
   "metadata": {},
   "source": [
    "---\n",
    "description: This module has all the logging configurations for the CLI and the API.\n",
    "output-file: logger.html\n",
    "title: Logger\n",
    "\n",
    "---\n",
    "\n"
   ]
  },
  {
   "cell_type": "code",
   "execution_count": null,
   "metadata": {},
   "outputs": [],
   "source": [
    "#| default_exp logger"
   ]
  },
  {
   "cell_type": "code",
   "execution_count": null,
   "metadata": {},
   "outputs": [],
   "source": [
    "#| export\n",
    "\n",
    "from typing import *\n",
    "import logging"
   ]
  },
  {
   "cell_type": "code",
   "execution_count": null,
   "metadata": {},
   "outputs": [],
   "source": [
    "#| exporti\n",
    "\n",
    "import logging.config\n",
    "from typer import echo"
   ]
  },
  {
   "cell_type": "code",
   "execution_count": null,
   "metadata": {},
   "outputs": [],
   "source": [
    "#| exporti\n",
    "\n",
    "logging_level = logging.WARNING"
   ]
  },
  {
   "cell_type": "code",
   "execution_count": null,
   "metadata": {},
   "outputs": [],
   "source": [
    "import pytest\n",
    "\n",
    "import airt.sanitizer"
   ]
  },
  {
   "cell_type": "code",
   "execution_count": null,
   "metadata": {},
   "outputs": [],
   "source": [
    "#| exporti\n",
    "\n",
    "# Logger Levels\n",
    "# CRITICAL = 50\n",
    "# ERROR = 40\n",
    "# WARNING = 30\n",
    "# INFO = 20\n",
    "# DEBUG = 10\n",
    "# NOTSET = 0\n",
    "\n",
    "# Create a custom logger and set the configuration to echo the logging messages\n",
    "# Reference: https://github.com/tiangolo/typer/issues/203\n",
    "\n",
    "\n",
    "class CLILoggerHandler(logging.Handler):\n",
    "    \"\"\"A custom logger handler class that use Typer echo to log results.\"\"\"\n",
    "\n",
    "    def emit(self, record: logging.LogRecord) -> None:\n",
    "        \"\"\"A function to channel logger outout to Typer echo.\"\"\"\n",
    "        \n",
    "        echo(self.format(record))\n",
    "        \n",
    "        \n",
    "# Global handler for the loggers\n",
    "handler = CLILoggerHandler()\n"
   ]
  },
  {
   "cell_type": "code",
   "execution_count": null,
   "metadata": {},
   "outputs": [],
   "source": [
    "#| export\n",
    "\n",
    "should_supress_timestamps: bool = False\n",
    "    \n",
    "def supress_timestamps(flag:bool = True):\n",
    "    global should_supress_timestamps\n",
    "    should_supress_timestamps = flag\n",
    "\n",
    "def get_logger(name: str) -> logging.Logger:\n",
    "    \"\"\"An internal function to set the default logger configuration\n",
    "\n",
    "    Returns:\n",
    "        An instance of Logger with custom configuration that can be used across the CLI for logging\n",
    "    \"\"\"\n",
    "    \n",
    "    # Logger Configuration\n",
    "    \n",
    "    global should_supress_timestamps\n",
    "    \n",
    "    if should_supress_timestamps:\n",
    "        fmt = \"[%(levelname)s] %(name)s: %(message)s\"\n",
    "    else:\n",
    "        fmt = \"%(asctime)s.%(msecs)03d [%(levelname)s] %(name)s: %(message)s\"\n",
    "    \n",
    "    datefmt = \"%y-%m-%d %H:%M:%S\"\n",
    "\n",
    "    formatter = logging.Formatter(fmt=fmt, datefmt=datefmt)\n",
    "\n",
    "    handler.setFormatter(formatter)\n",
    "\n",
    "    logger = logging.getLogger(name)\n",
    "    logger.addHandler(handler)\n",
    "    logger.setLevel(logging.INFO)\n",
    "\n",
    "    return logger"
   ]
  },
  {
   "cell_type": "code",
   "execution_count": null,
   "metadata": {},
   "outputs": [],
   "source": [
    "#| include: false\n",
    "\n",
    "assert type(get_logger(__name__)) == logging.Logger\n",
    "\n",
    "with pytest.raises(TypeError) as e:\n",
    "    get_logger()\n",
    "assert \"missing 1 required positional argument\" in str(e.value)"
   ]
  },
  {
   "cell_type": "code",
   "execution_count": null,
   "metadata": {},
   "outputs": [],
   "source": [
    "#| export\n",
    "\n",
    "def set_level(level: int):\n",
    "    \n",
    "    # Getting all loggers that has either airt or __main__ in the name\n",
    "    loggers = [logging.getLogger(name) for name in logging.root.manager.loggerDict if (\"airt\" in name) or (\"__main__\" in name)]\n",
    "\n",
    "    for logger in loggers:\n",
    "        logger.setLevel(level)"
   ]
  },
  {
   "cell_type": "code",
   "execution_count": null,
   "metadata": {},
   "outputs": [
    {
     "data": {
      "text/plain": [
       "30"
      ]
     },
     "metadata": {},
     "output_type": "display_data"
    },
    {
     "name": "stdout",
     "output_type": "stream",
     "text": [
      "22-10-21 08:25:48.423 [WARNING] __main__: This is a warning\n",
      "22-10-21 08:25:48.424 [ERROR] __main__: This is an error\n"
     ]
    }
   ],
   "source": [
    "#| include: false\n",
    "\n",
    "logger = get_logger(__name__)\n",
    "\n",
    "level = logging.WARNING\n",
    "\n",
    "set_level(level)\n",
    "\n",
    "# Checking if the logger is to logging.WARNING in dev mode\n",
    "display(logger.getEffectiveLevel())\n",
    "assert logger.getEffectiveLevel() == logging.WARNING\n",
    "\n",
    "logger.debug(\"This is a debug message\")\n",
    "logger.info(\"This is an info\")\n",
    "logger.warning(\"This is a warning\")\n",
    "logger.error(\"This is an error\")"
   ]
  },
  {
   "cell_type": "code",
   "execution_count": null,
   "metadata": {},
   "outputs": [
    {
     "data": {
      "text/plain": [
       "20"
      ]
     },
     "metadata": {},
     "output_type": "display_data"
    },
    {
     "name": "stdout",
     "output_type": "stream",
     "text": [
      "[INFO] __main__: This is an info\n",
      "[WARNING] __main__: This is a warning\n",
      "[ERROR] __main__: This is an error\n"
     ]
    }
   ],
   "source": [
    "#| include: false\n",
    "\n",
    "supress_timestamps()\n",
    "logger = get_logger(__name__)\n",
    "\n",
    "# Checking if the logger is set back to logging.INFO in dev mode\n",
    "display(logger.getEffectiveLevel())\n",
    "assert logger.getEffectiveLevel() == logging.INFO\n",
    "\n",
    "logger.debug(\"This is a debug message\")\n",
    "logger.info(\"This is an info\")\n",
    "logger.warning(\"This is a warning\")\n",
    "logger.error(\"This is an error\")"
   ]
  },
  {
   "cell_type": "code",
   "execution_count": null,
   "metadata": {},
   "outputs": [],
   "source": []
  }
 ],
 "metadata": {
  "kernelspec": {
   "display_name": "Python 3",
   "language": "python",
   "name": "python3"
  }
 },
 "nbformat": 4,
 "nbformat_minor": 2
}
