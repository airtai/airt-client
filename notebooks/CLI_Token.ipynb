{
 "cells": [
  {
   "cell_type": "raw",
   "metadata": {},
   "source": [
    "---\n",
    "description: This module encapsulates a CLI interface for all the classes conncted\n",
    "  to the API service.\n",
    "output-file: cli_token.html\n",
    "title: CLI_Token\n",
    "\n",
    "---\n",
    "\n"
   ]
  },
  {
   "cell_type": "code",
   "execution_count": null,
   "metadata": {},
   "outputs": [],
   "source": [
    "# | default_exp cli.token"
   ]
  },
  {
   "cell_type": "code",
   "execution_count": null,
   "metadata": {},
   "outputs": [
    {
     "name": "stdout",
     "output_type": "stream",
     "text": [
      "[INFO] airt.testing.activate_by_import: Testing environment activated.\n"
     ]
    }
   ],
   "source": [
    "# | include: false\n",
    "\n",
    "from airt.testing import activate_by_import"
   ]
  },
  {
   "cell_type": "code",
   "execution_count": null,
   "metadata": {},
   "outputs": [],
   "source": [
    "# | export\n",
    "\n",
    "from typing import *"
   ]
  },
  {
   "cell_type": "code",
   "execution_count": null,
   "metadata": {},
   "outputs": [],
   "source": [
    "# | exporti\n",
    "\n",
    "import logging\n",
    "import os\n",
    "import time\n",
    "from datetime import datetime, timedelta\n",
    "\n",
    "import typer\n",
    "\n",
    "from airt.cli import helper\n",
    "from airt.client import Client, User\n",
    "from airt.constant import (\n",
    "    CLIENT_NAME,\n",
    "    SERVER_URL,\n",
    "    SERVICE_PASSWORD,\n",
    "    SERVICE_TOKEN,\n",
    "    SERVICE_USERNAME,\n",
    ")\n",
    "from airt.logger import get_logger, set_level"
   ]
  },
  {
   "cell_type": "code",
   "execution_count": null,
   "metadata": {},
   "outputs": [],
   "source": [
    "from contextlib import contextmanager\n",
    "from random import randrange\n",
    "\n",
    "from typer.testing import CliRunner\n",
    "\n",
    "import airt.sanitizer\n",
    "from airt.constant import (\n",
    "    SERVICE_PASSWORD,\n",
    "    SERVICE_SUPER_USER,\n",
    "    SERVICE_TOKEN,\n",
    "    SERVICE_USERNAME,\n",
    ")"
   ]
  },
  {
   "cell_type": "code",
   "execution_count": null,
   "metadata": {},
   "outputs": [],
   "source": [
    "# | exporti\n",
    "\n",
    "SESSION_TIME_LIMIT = 10  # mins"
   ]
  },
  {
   "cell_type": "code",
   "execution_count": null,
   "metadata": {},
   "outputs": [],
   "source": [
    "# | exporti\n",
    "\n",
    "app = typer.Typer()"
   ]
  },
  {
   "cell_type": "code",
   "execution_count": null,
   "metadata": {},
   "outputs": [],
   "source": [
    "# | include: false\n",
    "\n",
    "runner = CliRunner()"
   ]
  },
  {
   "cell_type": "code",
   "execution_count": null,
   "metadata": {},
   "outputs": [],
   "source": [
    "# | export\n",
    "\n",
    "logger = get_logger(__name__)"
   ]
  },
  {
   "cell_type": "code",
   "execution_count": null,
   "metadata": {},
   "outputs": [],
   "source": [
    "# | include: false\n",
    "\n",
    "set_level(logging.WARNING)"
   ]
  },
  {
   "cell_type": "code",
   "execution_count": null,
   "metadata": {},
   "outputs": [
    {
     "data": {
      "text/plain": [
       "30"
      ]
     },
     "metadata": {},
     "output_type": "display_data"
    },
    {
     "name": "stdout",
     "output_type": "stream",
     "text": [
      "[WARNING] __main__: This is a warning\n",
      "[ERROR] __main__: This is an error\n"
     ]
    }
   ],
   "source": [
    "# | include: false\n",
    "\n",
    "# Testing logger settings\n",
    "\n",
    "display(logger.getEffectiveLevel())\n",
    "assert logger.getEffectiveLevel() == logging.WARNING\n",
    "\n",
    "logger.debug(\"This is a debug message\")\n",
    "logger.info(\"This is an info\")\n",
    "logger.warning(\"This is a warning\")\n",
    "logger.error(\"This is an error\")"
   ]
  },
  {
   "cell_type": "code",
   "execution_count": null,
   "metadata": {},
   "outputs": [],
   "source": [
    "# | exporti\n",
    "\n",
    "\n",
    "@helper.requires_totp_or_otp(\n",
    "    message_template_name=\"get_token\", requires_auth_token=False\n",
    ")\n",
    "def token(\n",
    "    username: Optional[str] = typer.Option(\n",
    "        None,\n",
    "        \"--username\",\n",
    "        \"-u\",\n",
    "        help=\"Username for the developer account. If None (default value), then the value from\"\n",
    "        f\" **{SERVICE_USERNAME}** environment variable is used.\",\n",
    "    ),\n",
    "    password: Optional[str] = typer.Option(\n",
    "        None,\n",
    "        \"--password\",\n",
    "        \"-p\",\n",
    "        help=\"Password for the developer account. If None (default value), then the value from\"\n",
    "        f\" **{SERVICE_PASSWORD}** environment variable is used.\",\n",
    "    ),\n",
    "    server: Optional[str] = typer.Option(\n",
    "        None,\n",
    "        \"--server\",\n",
    "        \"-s\",\n",
    "        help=f\"The {CLIENT_NAME} server uri. If None (default value), then the value from **{SERVER_URL}** environment variable\"\n",
    "        \" is used. If the variable is not set as well, then the default public server will be used. Please leave this\"\n",
    "        f\" setting to default unless you are running the service in your own server (please email us to info@{CLIENT_NAME}.ai\"\n",
    "        \" for that possibility).\",\n",
    "    ),\n",
    "    otp: Optional[str] = typer.Option(\n",
    "        None,\n",
    "        \"--otp\",\n",
    "        help=f\"Dynamically generated six-digit verification code from the authenticator app or the OTP you have received via SMS.\"\n",
    "        \" Please do not pass this parameter if you haven't enabled the multi-factor authentication for your account.\",\n",
    "    ),\n",
    "    sso_provider: Optional[str] = typer.Option(\n",
    "        None,\n",
    "        \"--sso_provider\",\n",
    "        \"-sp\",\n",
    "        help=f\"Name of the Single sign-on (SSO) provider. At the moment, we only support google and github as SSO providers.\"\n",
    "        \" Please pass this parameter only if you have successfully enabled SSO for the provider.\",\n",
    "    ),\n",
    "    quiet: bool = typer.Option(\n",
    "        False,\n",
    "        \"--quiet\",\n",
    "        \"-q\",\n",
    "        help=\"Output authentication token only.\",\n",
    "    ),\n",
    "    debug: bool = typer.Option(\n",
    "        False, \"--debug\", \"-d\", help=\"Set logger level to DEBUG and output everything.\"\n",
    "    ),\n",
    ") -> None:\n",
    "    \"\"\"Get application token for airt service from a username/password pair.\n",
    "\n",
    "    To access the airt service, you must first create a developer account. To obtain one, please contact us at info@airt.ai.\n",
    "\n",
    "    After successful verification, you will receive an email with the username and password for the developer account.\n",
    "\n",
    "    Once you have the credentials, use them to get an access token by running **airt token** command. It is necessary to\n",
    "    get an access token; otherwise, you won't be able to access all of the airt service's APIs. You can either pass the\n",
    "    username, password, and server address as command line arguments or store them in the environment variables\n",
    "    **AIRT_SERVICE_USERNAME**, **AIRT_SERVICE_PASSWORD**, and **AIRT_SERVER_URL**.\n",
    "\n",
    "    If you've already enabled multi-factor authentication (MFA) for your account, you'll need to pass the dynamically\n",
    "    generated six-digit verification code along with your username and password to generate new tokens.\n",
    "\n",
    "    If the token is requested using Single sign-on (SSO), an authorization URL will be returned. Please copy and paste\n",
    "    it into your preferred browser and complete the SSO provider authentication within 10 minutes. Otherwise,\n",
    "    the SSO login will time out and you will need to re-request the token.\n",
    "\n",
    "    Single sign-on (SSO) can be enabled for your account in three simple steps:\n",
    "\n",
    "    1. Enable the SSO for a provider by calling the command `airt user sso enable` with the SSO provider name and an email address.\n",
    "    At the moment, we only support \"google\" and \"github\" as SSO providers. We intend to support additional SSO providers in future releases.\n",
    "\n",
    "    2. Before you can start generating new tokens with SSO, you must first authenticate with the SSO provider. Call the `airt token` command with\n",
    "    the same SSO provider you have enabled in the step above to generate an SSO authorization URL. Please copy and paste it into your\n",
    "    preferred browser and complete the authentication process with the SSO provider.\n",
    "\n",
    "    3. After successfully authenticating with the SSO provider, an access token will be generated and returned. Please set it in the\n",
    "    **AIRT_SERVICE_TOKEN** environment variable for accessing the airt service.\n",
    "    \"\"\"\n",
    "    try:\n",
    "        if debug:\n",
    "            set_level(logging.DEBUG)\n",
    "        else:\n",
    "            set_level(logging.WARNING)\n",
    "\n",
    "        if sso_provider is None:\n",
    "            Client.get_token(\n",
    "                username=username, password=password, server=server, otp=otp\n",
    "            )\n",
    "\n",
    "            if quiet:\n",
    "                typer.echo(Client.auth_token)\n",
    "            else:\n",
    "                typer.echo(f\"token: {Client.auth_token}\")\n",
    "\n",
    "        else:\n",
    "            authorization_url = Client.get_token(\n",
    "                username=username,\n",
    "                password=password,\n",
    "                server=server,\n",
    "                otp=otp,\n",
    "                sso_provider=sso_provider,\n",
    "            )\n",
    "\n",
    "            typer.echo(\n",
    "                \"\\nPlease copy and paste the authorization URL below into your preferred browser and complete the SSO provider authentication \"\n",
    "                \"within 10 minutes. Otherwise, the SSO login will time out and you will have to re-run the token command.\"\n",
    "            )\n",
    "\n",
    "            typer.echo(f\"\\n\\n{authorization_url}\\n\")\n",
    "\n",
    "            typer.echo(\n",
    "                f\"\\nAfter successfully authenticating with the SSO provider, an access token will be returned. Please set it in the {SERVICE_TOKEN} \"\n",
    "                f\"environment variable for accessing the `{CLIENT_NAME}` service.\"\n",
    "            )\n",
    "\n",
    "            typer.echo(\n",
    "                \"\\nIf there are any errors, an error message will be displayed in the terminal and this command will be terminated.\\n\"\n",
    "            )\n",
    "\n",
    "            end_time = datetime.utcnow() + timedelta(minutes=SESSION_TIME_LIMIT)\n",
    "            while datetime.utcnow() < end_time:\n",
    "                err = None\n",
    "                try:\n",
    "                    Client.set_sso_token()\n",
    "                    typer.echo(\n",
    "                        f\"\\nSSO authentication is successful, please set the below token in the `{SERVICE_TOKEN}` environment variable for accessing the `{CLIENT_NAME}` service.\\n\"\n",
    "                    )\n",
    "                    typer.echo(f\"{Client.auth_token}\\n\")\n",
    "                    break\n",
    "                except ValueError as e:\n",
    "                    err = str(e)\n",
    "                    if \"SSO authentication is not complete\" not in str(e):\n",
    "                        raise ValueError(f\"\\n{e}\")\n",
    "                time.sleep(1)\n",
    "            if err is not None:\n",
    "                raise ValueError(\n",
    "                    f\"\\nYour session has expired. Please call the {CLIENT_NAME} token command with the sso provider and try again.\"\n",
    "                )\n",
    "\n",
    "        if not quiet:\n",
    "            details = User.details()\n",
    "            status = helper.get_phone_registration_status(details)\n",
    "            if status is not None:\n",
    "                typer.echo(status)\n",
    "\n",
    "    except KeyError as e:\n",
    "        typer.echo(message=f\"Error: {e}\", err=True)\n",
    "        typer.echo(f\"\\nTry '{CLIENT_NAME} token --help' for help.\")\n",
    "        raise typer.Exit(code=1)\n",
    "\n",
    "    except Exception as e:\n",
    "        typer.echo(message=f\"Error: {e}\", err=True)\n",
    "        if (\"Invalid OTP\" in str(e)) or (\"OTP is required\" in str(e)):\n",
    "            raise ValueError(e)\n",
    "        raise typer.Exit(code=1)"
   ]
  },
  {
   "cell_type": "code",
   "execution_count": null,
   "metadata": {},
   "outputs": [
    {
     "data": {
      "text/plain": [
       "<function __main__.token(username: Union[str, NoneType] = <typer.models.OptionInfo object>, password: Union[str, NoneType] = <typer.models.OptionInfo object>, server: Union[str, NoneType] = <typer.models.OptionInfo object>, otp: Union[str, NoneType] = <typer.models.OptionInfo object>, sso_provider: Union[str, NoneType] = <typer.models.OptionInfo object>, quiet: bool = <typer.models.OptionInfo object>, debug: bool = <typer.models.OptionInfo object>) -> None>"
      ]
     },
     "execution_count": null,
     "metadata": {},
     "output_type": "execute_result"
    }
   ],
   "source": [
    "# | exporti\n",
    "\n",
    "\n",
    "app.command()(token)"
   ]
  },
  {
   "cell_type": "code",
   "execution_count": null,
   "metadata": {},
   "outputs": [
    {
     "data": {
      "text/plain": [
       "'Usage: token [OPTIONS]\\n\\n  Get application token for airt service from a username/password pair.\\n\\n  To access the airt service, you must first create a developer account. To\\n  obtain one, please contact us at info@airt.ai.\\n\\n  After successful verification, you will receive an email with the username and\\n  password for the developer account.\\n\\n  Once you have the credentials, use them to get an access token by running\\n  **airt token** command. It is necessary to  get an access token; otherwise,\\n  you won\\'t be able to access all of the airt service\\'s APIs. You can either\\n  pass the  username, password, and server address as command line arguments or\\n  store them in the environment variables  **AIRT_SERVICE_USERNAME**,\\n  **AIRT_SERVICE_PASSWORD**, and **AIRT_SERVER_URL**.\\n\\n  If you\\'ve already enabled multi-factor authentication (MFA) for your account,\\n  you\\'ll need to pass the dynamically  generated six-digit verification code\\n  along with your username and password to generate new tokens.\\n\\n  If the token is requested using Single sign-on (SSO), an authorization URL\\n  will be returned. Please copy and paste  it into your preferred browser and\\n  complete the SSO provider authentication within 10 minutes. Otherwise,  the\\n  SSO login will time out and you will need to re-request the token.\\n\\n  Single sign-on (SSO) can be enabled for your account in three simple steps:\\n\\n  1. Enable the SSO for a provider by calling the command `airt user sso enable`\\n  with the SSO provider name and an email address.  At the moment, we only\\n  support \"google\" and \"github\" as SSO providers. We intend to support\\n  additional SSO providers in future releases.\\n\\n  2. Before you can start generating new tokens with SSO, you must first\\n  authenticate with the SSO provider. Call the `airt token` command with  the\\n  same SSO provider you have enabled in the step above to generate an SSO\\n  authorization URL. Please copy and paste it into your  preferred browser and\\n  complete the authentication process with the SSO provider.\\n\\n  3. After successfully authenticating with the SSO provider, an access token\\n  will be generated and returned. Please set it in the  **AIRT_SERVICE_TOKEN**\\n  environment variable for accessing the airt service.\\n\\nOptions:\\n  -u, --username TEXT             Username for the developer account. If None\\n                                  (default value), then the value from\\n                                  **AIRT_SERVICE_USERNAME** environment variable\\n                                  is used.\\n  -p, --password TEXT             Password for the developer account. If None\\n                                  (default value), then the value from\\n                                  **AIRT_SERVICE_PASSWORD** environment variable\\n                                  is used.\\n  -s, --server TEXT               The airt server uri. If None (default value),\\n                                  then the value from **AIRT_SERVER_URL**\\n                                  environment variable is used. If the variable\\n                                  is not set as well, then the default public\\n                                  server will be used. Please leave this setting\\n                                  to default unless you are running the service\\n                                  in your own server (please email us to\\n                                  info@airt.ai for that possibility).\\n  --otp TEXT                      Dynamically generated six-digit verification\\n                                  code from the authenticator app or the OTP you\\n                                  have received via SMS. Please do not pass this\\n                                  parameter if you haven\\'t enabled the multi-\\n                                  factor authentication for your account.\\n  -sp, --sso_provider TEXT        Name of the Single sign-on (SSO) provider. At\\n                                  the moment, we only support google and github\\n                                  as SSO providers. Please pass this parameter\\n                                  only if you have successfully enabled SSO for\\n                                  the provider.\\n  -q, --quiet                     Output authentication token only.\\n  -d, --debug                     Set logger level to DEBUG and output\\n                                  everything.\\n  --install-completion [bash|zsh|fish|powershell|pwsh]\\n                                  Install completion for the specified shell.\\n  --show-completion [bash|zsh|fish|powershell|pwsh]\\n                                  Show completion for the specified shell, to\\n                                  copy it or customize the installation.\\n  --help                          Show this message and exit.\\n'"
      ]
     },
     "metadata": {},
     "output_type": "display_data"
    }
   ],
   "source": [
    "# | include: false\n",
    "\n",
    "result = runner.invoke(app, [\"--help\"])\n",
    "\n",
    "display(str(result.stdout))\n",
    "\n",
    "assert \"**AIRT_SERVICE_USERNAME**\" in str(result.stdout)\n",
    "assert \"**AIRT_SERVICE_PASSWORD**\" in str(result.stdout)\n",
    "assert \"The airt server uri.\" in str(result.stdout)\n",
    "assert \"**AIRT_SERVER_URL**\" in str(result.stdout)\n",
    "assert \"info@airt.ai\" in str(result.stdout)"
   ]
  },
  {
   "cell_type": "code",
   "execution_count": null,
   "metadata": {},
   "outputs": [
    {
     "data": {
      "text/plain": [
       "'Error: SSO is not enabled for the provider.\\n'"
      ]
     },
     "execution_count": null,
     "metadata": {},
     "output_type": "execute_result"
    }
   ],
   "source": [
    "# Testing SSO Flow\n",
    "# Negative case: Generating token using SSO without calling the enable SSO command\n",
    "result = runner.invoke(\n",
    "    app,\n",
    "    [\n",
    "        \"-u\",\n",
    "        os.environ[SERVICE_USERNAME],\n",
    "        \"-p\",\n",
    "        os.environ[SERVICE_PASSWORD],\n",
    "        \"--sso_provider\",\n",
    "        \"google\",\n",
    "    ],\n",
    ")\n",
    "\n",
    "assert result.exit_code == 1\n",
    "assert \"SSO is not enabled \" in result.stdout\n",
    "result.stdout"
   ]
  },
  {
   "cell_type": "code",
   "execution_count": null,
   "metadata": {},
   "outputs": [
    {
     "data": {
      "text/plain": [
       "'Error: SSO is not enabled for the provider.\\n'"
      ]
     },
     "execution_count": null,
     "metadata": {},
     "output_type": "execute_result"
    }
   ],
   "source": [
    "# Testing SSO Flow\n",
    "# Negative case: Generating token without enabling SSO\n",
    "result = runner.invoke(\n",
    "    app,\n",
    "    [\n",
    "        \"-u\",\n",
    "        os.environ[SERVICE_USERNAME],\n",
    "        \"-p\",\n",
    "        os.environ[SERVICE_PASSWORD],\n",
    "        \"--sso_provider\",\n",
    "        \"github\",\n",
    "    ],\n",
    ")\n",
    "\n",
    "assert result.exit_code == 1\n",
    "assert \"SSO is not enabled \" in result.stdout\n",
    "result.stdout"
   ]
  },
  {
   "cell_type": "code",
   "execution_count": null,
   "metadata": {},
   "outputs": [],
   "source": [
    "# Helper context manager for testing\n",
    "\n",
    "\n",
    "@contextmanager\n",
    "def new_user():\n",
    "    # login as super user\n",
    "    username = os.environ[SERVICE_SUPER_USER]\n",
    "    password = os.environ[SERVICE_PASSWORD]\n",
    "\n",
    "    Client.get_token(username=username, password=password)\n",
    "    # create new user\n",
    "    _user_name = f\"random_user_{randrange(10000)}_{randrange(10000)}\"\n",
    "    _email = f\"random_user_{randrange(10000)}_{randrange(10000)}@email.com\"\n",
    "    _password = \"random_password\"\n",
    "\n",
    "    req_data = dict(\n",
    "        username=_user_name,\n",
    "        first_name=\"random_first_name\",\n",
    "        last_name=\"random_last_name\",\n",
    "        email=_email,\n",
    "        password=_password,\n",
    "        super_user=False,\n",
    "        subscription_type=\"test\",\n",
    "    )\n",
    "\n",
    "    response = Client._post_data(relative_url=f\"/user/\", data=req_data)\n",
    "\n",
    "    Client.get_token(username=_user_name, password=_password)\n",
    "    user_token = Client.auth_token\n",
    "\n",
    "    try:\n",
    "        os.environ[SERVICE_TOKEN] = user_token\n",
    "        yield _user_name, _password\n",
    "    finally:\n",
    "        del os.environ[SERVICE_TOKEN]"
   ]
  },
  {
   "cell_type": "code",
   "execution_count": null,
   "metadata": {},
   "outputs": [],
   "source": [
    "# | include: false\n",
    "\n",
    "\n",
    "def mask(s: str) -> str:\n",
    "    return \"*\" * len(s)"
   ]
  },
  {
   "cell_type": "code",
   "execution_count": null,
   "metadata": {},
   "outputs": [],
   "source": [
    "# | include: false\n",
    "\n",
    "assert mask(\"davor\") == \"*****\""
   ]
  },
  {
   "cell_type": "code",
   "execution_count": null,
   "metadata": {},
   "outputs": [
    {
     "data": {
      "text/plain": [
       "'auth_token: **************************************************************************************************************************************************************************************************************************************************************************************************************************************************************************************************************************************************************************************************************************************************************************************'"
      ]
     },
     "metadata": {},
     "output_type": "display_data"
    },
    {
     "data": {
      "text/plain": [
       "'*******************************************************************************************************************************'"
      ]
     },
     "metadata": {},
     "output_type": "display_data"
    }
   ],
   "source": [
    "# | include: false\n",
    "\n",
    "# Tests for token\n",
    "\n",
    "# Testing positive scenario without quiet\n",
    "\n",
    "result = runner.invoke(\n",
    "    app,\n",
    "    [\"-u\", os.environ[SERVICE_USERNAME], \"-p\", os.environ[SERVICE_PASSWORD]],\n",
    ")\n",
    "\n",
    "auth_token = result.stdout[:-1]\n",
    "masked_token = mask(auth_token.split(\": \")[1])\n",
    "display(f\"auth_token: {masked_token}\")\n",
    "\n",
    "\n",
    "assert result.exit_code == 0\n",
    "assert len(auth_token) >= 127  # maybe\n",
    "\n",
    "# Testing positive scenario with quiet\n",
    "\n",
    "result = runner.invoke(\n",
    "    app,\n",
    "    [\n",
    "        \"-u\",\n",
    "        os.environ[SERVICE_USERNAME],\n",
    "        \"-p\",\n",
    "        os.environ[SERVICE_PASSWORD],\n",
    "        \"-s\",\n",
    "        os.environ[SERVER_URL],\n",
    "        \"-q\",\n",
    "    ],\n",
    ")\n",
    "\n",
    "auth_token = result.stdout[:-1]\n",
    "display(f\"{mask(auth_token)}\")\n",
    "\n",
    "assert result.exit_code == 0\n",
    "assert len(auth_token) >= 127  # maybe"
   ]
  },
  {
   "cell_type": "code",
   "execution_count": null,
   "metadata": {},
   "outputs": [
    {
     "data": {
      "text/plain": [
       "'Error: Incorrect username or password. Please try again.\\n'"
      ]
     },
     "metadata": {},
     "output_type": "display_data"
    }
   ],
   "source": [
    "# | include: false\n",
    "\n",
    "# Tests for getting auth_token\n",
    "# Testing negative scenarios\n",
    "\n",
    "# Wrong username and password combination\n",
    "result = runner.invoke(app, [\"-u\", \"random_name\", \"-p\", os.environ[SERVICE_PASSWORD]])\n",
    "display(result.stdout)\n",
    "\n",
    "assert result.exit_code == 1, f\"{result.exit_code=}\""
   ]
  },
  {
   "cell_type": "code",
   "execution_count": null,
   "metadata": {},
   "outputs": [
    {
     "data": {
      "text/plain": [
       "\"Error: HTTPSConnectionPool(host='my-fake-url', port=8000): Max retries exceeded with url: /token (Caused by NewConnectionError('<urllib3.connection.HTTPSConnection object>: Failed to establish a new connection: [Errno -2] Name or service not known'))\\n\""
      ]
     },
     "metadata": {},
     "output_type": "display_data"
    }
   ],
   "source": [
    "# | include: false\n",
    "\n",
    "# Tests for getting auth_token\n",
    "# Testing negative scenario\n",
    "\n",
    "# Passing wrong server address\n",
    "result = runner.invoke(\n",
    "    app,\n",
    "    [\n",
    "        \"-u\",\n",
    "        os.environ[SERVICE_USERNAME],\n",
    "        \"-p\",\n",
    "        os.environ[SERVICE_PASSWORD],\n",
    "        \"-s\",\n",
    "        \"https://my-fake-url:8000\",\n",
    "    ],\n",
    ")\n",
    "display(result.stdout)\n",
    "\n",
    "assert result.exit_code == 1, f\"{result.exit_code=}\""
   ]
  },
  {
   "cell_type": "code",
   "execution_count": null,
   "metadata": {},
   "outputs": [
    {
     "data": {
      "text/plain": [
       "\"Error: 'The username and password are neither passed as parameters nor set in the environment variables `AIRT_SERVICE_USERNAME` and `AIRT_SERVICE_PASSWORD`.'\\n\\nTry 'airt token --help' for help.\\n\""
      ]
     },
     "metadata": {},
     "output_type": "display_data"
    }
   ],
   "source": [
    "# | include: false\n",
    "\n",
    "# Tests for getting auth_token\n",
    "# Testing negative scenarios\n",
    "\n",
    "# Username and password is not passed in argument nor set in the environment variables\n",
    "\n",
    "# Assign env vars to temp variables and delete the env vars\n",
    "if os.environ.get(SERVICE_USERNAME):\n",
    "    airt_service_username = os.environ.get(SERVICE_USERNAME)\n",
    "    del os.environ[SERVICE_USERNAME]\n",
    "\n",
    "if os.environ.get(SERVICE_PASSWORD):\n",
    "    airt_service_password = os.environ.get(SERVICE_PASSWORD)\n",
    "    del os.environ[SERVICE_PASSWORD]\n",
    "\n",
    "result = runner.invoke(app)\n",
    "display(result.stdout)\n",
    "\n",
    "assert result.exit_code == 1, f\"{result.exit_code=}\"\n",
    "assert (\n",
    "    f\"Error: 'The username and password are neither passed as parameters nor set in the environment variables `{SERVICE_USERNAME}` and `{SERVICE_PASSWORD}`.'\\n\"\n",
    "    in result.stdout\n",
    ")\n",
    "assert f\"{CLIENT_NAME} token --help\" in result.stdout"
   ]
  },
  {
   "cell_type": "code",
   "execution_count": null,
   "metadata": {},
   "outputs": [
    {
     "data": {
      "text/plain": [
       "\"Error: 'The password is neither passed as parameter nor set in the environment variable AIRT_SERVICE_PASSWORD.'\\n\\nTry 'airt token --help' for help.\\n\""
      ]
     },
     "metadata": {},
     "output_type": "display_data"
    }
   ],
   "source": [
    "# | include: false\n",
    "\n",
    "# Tests for get_token\n",
    "# Testing Negative scenarion.\n",
    "\n",
    "# Only Username is set in environment variable and password is not passed in argument nor set in the environment variables\n",
    "\n",
    "# Assign only username in env var\n",
    "os.environ[SERVICE_USERNAME] = airt_service_username\n",
    "\n",
    "result = runner.invoke(app)\n",
    "\n",
    "display(result.stdout)\n",
    "\n",
    "assert result.exit_code == 1\n",
    "assert (\n",
    "    f\"Error: 'The password is neither passed as parameter nor set in the environment variable {SERVICE_PASSWORD}.'\\n\"\n",
    "    in result.stdout\n",
    ")\n",
    "assert f\"{CLIENT_NAME} token --help\" in result.stdout"
   ]
  },
  {
   "cell_type": "code",
   "execution_count": null,
   "metadata": {},
   "outputs": [
    {
     "data": {
      "text/plain": [
       "'auth_token: ********************************************************************************************************************************'"
      ]
     },
     "metadata": {},
     "output_type": "display_data"
    },
    {
     "data": {
      "text/plain": [
       "\"mask(airt_service_username)='*******', mask(airt_service_password)='********************************'\""
      ]
     },
     "metadata": {},
     "output_type": "display_data"
    }
   ],
   "source": [
    "# | include: false\n",
    "\n",
    "# Tests for get_token\n",
    "# Testing Positive scenario.\n",
    "\n",
    "# setting the password in environment variable\n",
    "os.environ[SERVICE_PASSWORD] = airt_service_password\n",
    "\n",
    "result = runner.invoke(app, [\"-q\"])\n",
    "\n",
    "display(f\"auth_token: {mask(result.stdout)}\")\n",
    "\n",
    "assert result.exit_code == 0\n",
    "\n",
    "display(f\"{mask(airt_service_username)=}, {mask(airt_service_password)=}\")\n",
    "\n",
    "assert os.environ[SERVICE_USERNAME] == airt_service_username\n",
    "assert os.environ[SERVICE_PASSWORD] == airt_service_password"
   ]
  },
  {
   "cell_type": "code",
   "execution_count": null,
   "metadata": {},
   "outputs": [
    {
     "data": {
      "text/plain": [
       "'Error: Incorrect username or password. Please try again.\\n'"
      ]
     },
     "execution_count": null,
     "metadata": {},
     "output_type": "execute_result"
    }
   ],
   "source": [
    "# Testing negative scenario: Non-mfa user send otp param\n",
    "\n",
    "random_otp = 123456\n",
    "result = runner.invoke(\n",
    "    app,\n",
    "    [\n",
    "        \"-u\",\n",
    "        os.environ[SERVICE_USERNAME],\n",
    "        \"-p\",\n",
    "        os.environ[SERVICE_PASSWORD],\n",
    "        \"--otp\",\n",
    "        random_otp,\n",
    "    ],\n",
    ")\n",
    "\n",
    "assert result.exit_code == 1\n",
    "assert \"Incorrect username or password\" in str(result.stdout)\n",
    "str(result.stdout)"
   ]
  },
  {
   "cell_type": "code",
   "execution_count": null,
   "metadata": {},
   "outputs": [],
   "source": []
  }
 ],
 "metadata": {
  "kernelspec": {
   "display_name": "Python 3 (ipykernel)",
   "language": "python",
   "name": "python3"
  }
 },
 "nbformat": 4,
 "nbformat_minor": 2
}
