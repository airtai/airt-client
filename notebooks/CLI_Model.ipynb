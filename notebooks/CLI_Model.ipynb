{
 "cells": [
  {
   "cell_type": "raw",
   "metadata": {},
   "source": [
    "---\n",
    "description: This module encapsulates a CLI interface for all the methods available\n",
    "  in Model class\n",
    "output-file: cli_model.html\n",
    "title: CLI_Model\n",
    "\n",
    "---\n",
    "\n"
   ]
  },
  {
   "cell_type": "code",
   "execution_count": null,
   "metadata": {},
   "outputs": [],
   "source": [
    "# | default_exp cli.model"
   ]
  },
  {
   "cell_type": "code",
   "execution_count": null,
   "metadata": {},
   "outputs": [
    {
     "name": "stdout",
     "output_type": "stream",
     "text": [
      "[INFO] airt.testing.activate_by_import: Testing environment activated.\n"
     ]
    }
   ],
   "source": [
    "from airt.testing import activate_by_import"
   ]
  },
  {
   "cell_type": "code",
   "execution_count": null,
   "metadata": {},
   "outputs": [],
   "source": [
    "# | export\n",
    "\n",
    "from typing import *"
   ]
  },
  {
   "cell_type": "code",
   "execution_count": null,
   "metadata": {},
   "outputs": [],
   "source": [
    "# | exporti\n",
    "\n",
    "import os\n",
    "import typer\n",
    "\n",
    "from typer import echo\n",
    "from tabulate import tabulate\n",
    "import pandas as pd\n",
    "\n",
    "from airt.cli import helper\n",
    "from airt.logger import get_logger, set_level"
   ]
  },
  {
   "cell_type": "code",
   "execution_count": null,
   "metadata": {},
   "outputs": [],
   "source": [
    "from contextlib import contextmanager\n",
    "import logging\n",
    "\n",
    "import pytest\n",
    "from typer.testing import CliRunner\n",
    "from datetime import timedelta\n",
    "\n",
    "import airt.sanitizer\n",
    "from airt.client import Client, DataBlob\n",
    "\n",
    "from airt.constant import SERVICE_USERNAME, SERVICE_PASSWORD, SERVICE_TOKEN"
   ]
  },
  {
   "cell_type": "code",
   "execution_count": null,
   "metadata": {},
   "outputs": [],
   "source": [
    "# | exporti\n",
    "\n",
    "app = typer.Typer(\n",
    "    help=\"A set of commands for querying the model training, evaluation, and prediction status.\"\n",
    ")"
   ]
  },
  {
   "cell_type": "code",
   "execution_count": null,
   "metadata": {},
   "outputs": [],
   "source": [
    "runner = CliRunner()"
   ]
  },
  {
   "cell_type": "code",
   "execution_count": null,
   "metadata": {},
   "outputs": [],
   "source": [
    "# | export\n",
    "\n",
    "logger = get_logger(__name__)"
   ]
  },
  {
   "cell_type": "code",
   "execution_count": null,
   "metadata": {},
   "outputs": [],
   "source": [
    "set_level(logging.WARNING)"
   ]
  },
  {
   "cell_type": "code",
   "execution_count": null,
   "metadata": {},
   "outputs": [
    {
     "data": {
      "text/plain": [
       "30"
      ]
     },
     "metadata": {},
     "output_type": "display_data"
    },
    {
     "name": "stdout",
     "output_type": "stream",
     "text": [
      "[WARNING] __main__: This is a warning\n",
      "[ERROR] __main__: This is an error\n"
     ]
    }
   ],
   "source": [
    "# Testing logger settings\n",
    "\n",
    "display(logger.getEffectiveLevel())\n",
    "assert logger.getEffectiveLevel() == logging.WARNING\n",
    "\n",
    "logger.debug(\"This is a debug message\")\n",
    "logger.info(\"This is an info\")\n",
    "logger.warning(\"This is a warning\")\n",
    "logger.error(\"This is an error\")"
   ]
  },
  {
   "cell_type": "code",
   "execution_count": null,
   "metadata": {},
   "outputs": [],
   "source": [
    "_airt_service_token = None\n",
    "\n",
    "\n",
    "@contextmanager\n",
    "def set_airt_service_token_envvar():\n",
    "    global _airt_service_token\n",
    "    if _airt_service_token is None:\n",
    "        display(\"_airt_service_token is None, getting a token...\")\n",
    "\n",
    "        username = os.environ[SERVICE_USERNAME]\n",
    "        password = os.environ[SERVICE_PASSWORD]\n",
    "\n",
    "        Client.get_token(username=username, password=password)\n",
    "        _airt_service_token = Client.auth_token\n",
    "\n",
    "    try:\n",
    "        os.environ[SERVICE_TOKEN] = _airt_service_token\n",
    "\n",
    "        yield\n",
    "    finally:\n",
    "        del os.environ[SERVICE_TOKEN]"
   ]
  },
  {
   "cell_type": "code",
   "execution_count": null,
   "metadata": {},
   "outputs": [
    {
     "data": {
      "text/plain": [
       "'_airt_service_token is None, getting a token...'"
      ]
     },
     "metadata": {},
     "output_type": "display_data"
    },
    {
     "data": {
      "text/plain": [
       "'*******************************************************************************************************************************'"
      ]
     },
     "metadata": {},
     "output_type": "display_data"
    }
   ],
   "source": [
    "with set_airt_service_token_envvar():\n",
    "    display(\"*\" * len((os.environ[SERVICE_TOKEN])))"
   ]
  },
  {
   "cell_type": "code",
   "execution_count": null,
   "metadata": {},
   "outputs": [],
   "source": [
    "TEST_S3_URI = \"s3://test-airt-service/ecommerce_behavior_notebooks\"\n",
    "RANDOM_UUID_FOR_TESTING = \"00000000-0000-0000-0000-000000000000\""
   ]
  },
  {
   "cell_type": "code",
   "execution_count": null,
   "metadata": {},
   "outputs": [],
   "source": [
    "_model = None\n",
    "\n",
    "\n",
    "@contextmanager\n",
    "def generate_model(force_create: bool = False):\n",
    "    global _model\n",
    "\n",
    "    if _model is None or force_create:\n",
    "\n",
    "        db = DataBlob.from_s3(\n",
    "            uri=TEST_S3_URI,\n",
    "            access_key=os.environ[\"AWS_ACCESS_KEY_ID\"],\n",
    "            secret_key=os.environ[\"AWS_SECRET_ACCESS_KEY\"],\n",
    "        )\n",
    "\n",
    "        db.progress_bar()\n",
    "\n",
    "        ds = db.to_datasource(\n",
    "            file_type=\"parquet\", index_column=\"user_id\", sort_by=\"event_time\"\n",
    "        )\n",
    "\n",
    "        display(f\"{ds.uuid=}\")\n",
    "\n",
    "        ds.progress_bar()\n",
    "\n",
    "        _model = ds.train(\n",
    "            client_column=\"user_id\",\n",
    "            target_column=\"category_code\",\n",
    "            target=\"*purchase\",\n",
    "            predict_after=timedelta(hours=3),\n",
    "        )\n",
    "\n",
    "        _model.wait()\n",
    "\n",
    "    yield _model"
   ]
  },
  {
   "cell_type": "code",
   "execution_count": null,
   "metadata": {},
   "outputs": [],
   "source": [
    "# | exporti\n",
    "\n",
    "\n",
    "@app.command()\n",
    "@helper.display_formated_table\n",
    "@helper.requires_auth_token\n",
    "def ls(\n",
    "    offset: int = typer.Option(\n",
    "        0,\n",
    "        \"--offset\",\n",
    "        \"-o\",\n",
    "        help=\"The number of models to offset at the beginning. If None, then the default value **0** will be used.\",\n",
    "    ),\n",
    "    limit: int = typer.Option(\n",
    "        100,\n",
    "        \"--limit\",\n",
    "        \"-l\",\n",
    "        help=\"The maximum number of models to return from the server. If None, \"\n",
    "        \"then the default value **100** will be used.\",\n",
    "    ),\n",
    "    disabled: bool = typer.Option(\n",
    "        False,\n",
    "        \"--disabled\",\n",
    "        help=\"If set to **True**, then only the deleted models will be returned. Else, the default value \"\n",
    "        \"**False** will be used to return only the list of active models.\",\n",
    "    ),\n",
    "    completed: bool = typer.Option(\n",
    "        False,\n",
    "        \"--completed\",\n",
    "        help=\"If set to **True**, then only the models that are successfully downloaded \"\n",
    "        \"to the server will be returned. Else, the default value **False** will be used to \"\n",
    "        \"return all the models.\",\n",
    "    ),\n",
    "    format: Optional[str] = typer.Option(\n",
    "        None,\n",
    "        \"--format\",\n",
    "        \"-f\",\n",
    "        help=\"Format output and show only the given column(s) values.\",\n",
    "    ),\n",
    "    quiet: bool = typer.Option(\n",
    "        False,\n",
    "        \"--quiet\",\n",
    "        \"-q\",\n",
    "        help=\"Output only uuids of model separated by space\",\n",
    "    ),\n",
    "    debug: bool = typer.Option(\n",
    "        False,\n",
    "        \"--debug\",\n",
    "        \"-d\",\n",
    "        help=\"Set logger level to DEBUG and output everything.\",\n",
    "    ),\n",
    ") -> Dict[\"str\", Union[pd.DataFrame, str]]:\n",
    "    \"\"\"Return the list of models.\"\"\"\n",
    "\n",
    "    from airt.client import Model\n",
    "\n",
    "    mx = Model.ls(offset=offset, limit=limit, disabled=disabled, completed=completed)\n",
    "\n",
    "    df = Model.as_df(mx)\n",
    "\n",
    "    df[\"created\"] = helper.humanize_date(df[\"created\"])\n",
    "\n",
    "    return {\"df\": df, \"quite_column_name\": \"model_uuid\"}"
   ]
  },
  {
   "cell_type": "code",
   "execution_count": null,
   "metadata": {},
   "outputs": [],
   "source": [
    "def assert_has_help(xs: List[str]):\n",
    "    result = runner.invoke(app, xs + [\"--help\"])\n",
    "\n",
    "    display(result.stdout)\n",
    "    assert \" \".join(xs) in result.stdout"
   ]
  },
  {
   "cell_type": "code",
   "execution_count": null,
   "metadata": {},
   "outputs": [
    {
     "data": {
      "text/plain": [
       "'Usage: ls [OPTIONS]\\n\\n  Return the list of models.\\n\\nOptions:\\n  -o, --offset INTEGER            The number of models to offset at the\\n                                  beginning. If None, then the default value\\n                                  **0** will be used.  [default: 0]\\n  -l, --limit INTEGER             The maximum number of models to return from\\n                                  the server. If None, then the default value\\n                                  **100** will be used.  [default: 100]\\n  --disabled                      If set to **True**, then only the deleted\\n                                  models will be returned. Else, the default\\n                                  value **False** will be used to return only\\n                                  the list of active models.\\n  --completed                     If set to **True**, then only the models that\\n                                  are successfully downloaded to the server will\\n                                  be returned. Else, the default value **False**\\n                                  will be used to return all the models.\\n  -f, --format TEXT               Format output and show only the given\\n                                  column(s) values.\\n  -q, --quiet                     Output only uuids of model separated by space\\n  -d, --debug                     Set logger level to DEBUG and output\\n                                  everything.\\n  --install-completion [bash|zsh|fish|powershell|pwsh]\\n                                  Install completion for the specified shell.\\n  --show-completion [bash|zsh|fish|powershell|pwsh]\\n                                  Show completion for the specified shell, to\\n                                  copy it or customize the installation.\\n  --help                          Show this message and exit.\\n'"
      ]
     },
     "metadata": {},
     "output_type": "display_data"
    }
   ],
   "source": [
    "assert_has_help([\"ls\"])"
   ]
  },
  {
   "cell_type": "code",
   "execution_count": null,
   "metadata": {},
   "outputs": [
    {
     "name": "stderr",
     "output_type": "stream",
     "text": [
      "100%|██████████| 1/1 [00:15<00:00, 15.19s/it]\n"
     ]
    },
    {
     "data": {
      "text/plain": [
       "\"ds.uuid='a2a63f8a-06f1-49e4-bb22-15979ecaf59a'\""
      ]
     },
     "metadata": {},
     "output_type": "display_data"
    },
    {
     "name": "stderr",
     "output_type": "stream",
     "text": [
      "100%|██████████| 1/1 [00:30<00:00, 30.37s/it]\n"
     ]
    },
    {
     "data": {
      "text/plain": [
       "'model_uuid                            created         ready\\nb3b17f4c-2f00-4f51-9841-5dac52bfea61  2 hours ago     True\\n4b4b3909-671f-43f9-b868-d7d70a790e39  2 hours ago     True\\n5e80898d-a2a0-4341-8412-157086638d43  50 minutes ago  True\\n5c9b02a4-23a0-4743-b163-ad74f217d685  28 minutes ago  True\\n33dfede5-9913-4cf0-8029-e3ed1972a7da  23 minutes ago  True\\n38b96e82-43a4-4d6c-9275-efde8f820815  23 minutes ago  True\\ndc193688-c4a1-4f2c-9a2b-5016859f66a8  21 minutes ago  True\\ndab7942a-f564-4668-bb95-12058fdd35cd  19 minutes ago  True\\naa2955d2-e785-4e2b-a302-2ca185ce2ece  19 minutes ago  True\\n7f6b2c6b-b4c9-4f33-b781-d4bba9d67db7  18 minutes ago  True\\n4b781be8-068b-4eb2-bf35-abaf5920d9b4  17 minutes ago  True\\n9d6514fd-b190-44cb-b134-5e2ef0117898  16 minutes ago  True\\n1760dfd2-a718-4323-8498-defe1125c93d  7 minutes ago   True\\nb77ba7d2-f0a1-4ccf-aa31-2fa1d124adba  2 minutes ago   True\\n2c8757da-0a75-4dfe-b1e9-952dbcfbb6b4  now             True\\n'"
      ]
     },
     "metadata": {},
     "output_type": "display_data"
    },
    {
     "data": {
      "text/plain": [
       "'model_uuid                            created\\nb3b17f4c-2f00-4f51-9841-5dac52bfea61  2 hours ago\\n4b4b3909-671f-43f9-b868-d7d70a790e39  2 hours ago\\n5e80898d-a2a0-4341-8412-157086638d43  50 minutes ago\\n5c9b02a4-23a0-4743-b163-ad74f217d685  28 minutes ago\\n33dfede5-9913-4cf0-8029-e3ed1972a7da  23 minutes ago\\n38b96e82-43a4-4d6c-9275-efde8f820815  23 minutes ago\\ndc193688-c4a1-4f2c-9a2b-5016859f66a8  21 minutes ago\\ndab7942a-f564-4668-bb95-12058fdd35cd  19 minutes ago\\naa2955d2-e785-4e2b-a302-2ca185ce2ece  19 minutes ago\\n7f6b2c6b-b4c9-4f33-b781-d4bba9d67db7  18 minutes ago\\n4b781be8-068b-4eb2-bf35-abaf5920d9b4  17 minutes ago\\n9d6514fd-b190-44cb-b134-5e2ef0117898  16 minutes ago\\n1760dfd2-a718-4323-8498-defe1125c93d  7 minutes ago\\nb77ba7d2-f0a1-4ccf-aa31-2fa1d124adba  2 minutes ago\\n2c8757da-0a75-4dfe-b1e9-952dbcfbb6b4  now\\n'"
      ]
     },
     "metadata": {},
     "output_type": "display_data"
    },
    {
     "data": {
      "text/plain": [
       "'b3b17f4c-2f00-4f51-9841-5dac52bfea61\\n4b4b3909-671f-43f9-b868-d7d70a790e39\\n5e80898d-a2a0-4341-8412-157086638d43\\n5c9b02a4-23a0-4743-b163-ad74f217d685\\n33dfede5-9913-4cf0-8029-e3ed1972a7da\\n38b96e82-43a4-4d6c-9275-efde8f820815\\ndc193688-c4a1-4f2c-9a2b-5016859f66a8\\ndab7942a-f564-4668-bb95-12058fdd35cd\\naa2955d2-e785-4e2b-a302-2ca185ce2ece\\n7f6b2c6b-b4c9-4f33-b781-d4bba9d67db7\\n4b781be8-068b-4eb2-bf35-abaf5920d9b4\\n9d6514fd-b190-44cb-b134-5e2ef0117898\\n1760dfd2-a718-4323-8498-defe1125c93d\\nb77ba7d2-f0a1-4ccf-aa31-2fa1d124adba\\n2c8757da-0a75-4dfe-b1e9-952dbcfbb6b4\\n'"
      ]
     },
     "metadata": {},
     "output_type": "display_data"
    },
    {
     "data": {
      "text/plain": [
       "\"ids=['b3b17f4c-2f00-4f51-9841-5dac52bfea61', '4b4b3909-671f-43f9-b868-d7d70a790e39', '5e80898d-a2a0-4341-8412-157086638d43', '5c9b02a4-23a0-4743-b163-ad74f217d685', '33dfede5-9913-4cf0-8029-e3ed1972a7da', '38b96e82-43a4-4d6c-9275-efde8f820815', 'dc193688-c4a1-4f2c-9a2b-5016859f66a8', 'dab7942a-f564-4668-bb95-12058fdd35cd', 'aa2955d2-e785-4e2b-a302-2ca185ce2ece', '7f6b2c6b-b4c9-4f33-b781-d4bba9d67db7', '4b781be8-068b-4eb2-bf35-abaf5920d9b4', '9d6514fd-b190-44cb-b134-5e2ef0117898', '1760dfd2-a718-4323-8498-defe1125c93d', 'b77ba7d2-f0a1-4ccf-aa31-2fa1d124adba', '2c8757da-0a75-4dfe-b1e9-952dbcfbb6b4']\""
      ]
     },
     "metadata": {},
     "output_type": "display_data"
    }
   ],
   "source": [
    "# Tests for model_ls\n",
    "# Testing positive scenario. Saving the token in env variable\n",
    "\n",
    "\n",
    "def get_ids_from_result(result) -> List[int]:\n",
    "    return [uuid for uuid in result.stdout[:-1].split(\"\\n\")]\n",
    "\n",
    "\n",
    "with set_airt_service_token_envvar():\n",
    "    with generate_model() as model:\n",
    "\n",
    "        # Without quiet\n",
    "        result = runner.invoke(app)\n",
    "        display(result.stdout)\n",
    "\n",
    "        assert \"ready\" in result.stdout\n",
    "        assert result.exit_code == 0\n",
    "\n",
    "        # With format\n",
    "        format_str = \"{'model_uuid': '{}', 'created': '{}'}\"\n",
    "        result = runner.invoke(app, [\"--format\", format_str])\n",
    "        display(result.stdout)\n",
    "\n",
    "        assert result.exit_code == 0\n",
    "\n",
    "        # With quiet\n",
    "        result = runner.invoke(app, [\"-q\"])\n",
    "        display(result.stdout)\n",
    "\n",
    "        assert result.exit_code == 0\n",
    "        ids = get_ids_from_result(result)\n",
    "        display(f\"{ids=}\")"
   ]
  },
  {
   "cell_type": "code",
   "execution_count": null,
   "metadata": {},
   "outputs": [
    {
     "data": {
      "text/plain": [
       "\"ids=['4b4b3909-671f-43f9-b868-d7d70a790e39']\""
      ]
     },
     "metadata": {},
     "output_type": "display_data"
    },
    {
     "data": {
      "text/plain": [
       "\"ids=['4b4b3909-671f-43f9-b868-d7d70a790e39', '5e80898d-a2a0-4341-8412-157086638d43', '5c9b02a4-23a0-4743-b163-ad74f217d685', '33dfede5-9913-4cf0-8029-e3ed1972a7da', '38b96e82-43a4-4d6c-9275-efde8f820815', 'dc193688-c4a1-4f2c-9a2b-5016859f66a8', 'dab7942a-f564-4668-bb95-12058fdd35cd', 'aa2955d2-e785-4e2b-a302-2ca185ce2ece', '7f6b2c6b-b4c9-4f33-b781-d4bba9d67db7', '4b781be8-068b-4eb2-bf35-abaf5920d9b4']\""
      ]
     },
     "metadata": {},
     "output_type": "display_data"
    },
    {
     "data": {
      "text/plain": [
       "\"ids=['4b4b3909-671f-43f9-b868-d7d70a790e39', '5e80898d-a2a0-4341-8412-157086638d43', '5c9b02a4-23a0-4743-b163-ad74f217d685', '33dfede5-9913-4cf0-8029-e3ed1972a7da', '38b96e82-43a4-4d6c-9275-efde8f820815', 'dc193688-c4a1-4f2c-9a2b-5016859f66a8', 'dab7942a-f564-4668-bb95-12058fdd35cd', 'aa2955d2-e785-4e2b-a302-2ca185ce2ece', '7f6b2c6b-b4c9-4f33-b781-d4bba9d67db7', '4b781be8-068b-4eb2-bf35-abaf5920d9b4', '9d6514fd-b190-44cb-b134-5e2ef0117898', '1760dfd2-a718-4323-8498-defe1125c93d', 'b77ba7d2-f0a1-4ccf-aa31-2fa1d124adba', '2c8757da-0a75-4dfe-b1e9-952dbcfbb6b4']\""
      ]
     },
     "metadata": {},
     "output_type": "display_data"
    }
   ],
   "source": [
    "# Tests for model_ls\n",
    "# Testing positive scenario.\n",
    "# Testing by passing different values for  limit\n",
    "\n",
    "\n",
    "def get_ids_from_result(result) -> List[int]:\n",
    "    return [uuid for uuid in result.stdout[:-1].split(\"\\n\")]\n",
    "\n",
    "\n",
    "with set_airt_service_token_envvar():\n",
    "    with generate_model() as model:\n",
    "        for limit in [1, 10, 1000]:\n",
    "            offset = 1\n",
    "            result = runner.invoke(app, [\"--offset\", offset, \"--limit\", limit, \"-q\"])\n",
    "\n",
    "            assert result.exit_code == 0\n",
    "\n",
    "            ids = get_ids_from_result(result)\n",
    "            display(f\"{ids=}\")\n",
    "            assert limit >= len(ids) >= 0"
   ]
  },
  {
   "cell_type": "code",
   "execution_count": null,
   "metadata": {},
   "outputs": [
    {
     "data": {
      "text/plain": [
       "'model_uuid    created    ready\\n'"
      ]
     },
     "metadata": {},
     "output_type": "display_data"
    }
   ],
   "source": [
    "# Tests for model_ls\n",
    "# Testing positive scenario.\n",
    "# Testing by passing large value for offset.\n",
    "\n",
    "with set_airt_service_token_envvar():\n",
    "    with generate_model() as model:\n",
    "        limit = 10\n",
    "        offset = 1_000_000\n",
    "        result = runner.invoke(app, [\"--offset\", offset, \"--limit\", limit])\n",
    "\n",
    "        assert result.exit_code == 0\n",
    "\n",
    "        display(result.stdout)"
   ]
  },
  {
   "cell_type": "code",
   "execution_count": null,
   "metadata": {},
   "outputs": [],
   "source": [
    "# | exporti\n",
    "\n",
    "\n",
    "@app.command()\n",
    "@helper.display_formated_table\n",
    "@helper.requires_auth_token\n",
    "def details(\n",
    "    uuid: str = typer.Argument(\n",
    "        ...,\n",
    "        help=\"Model uuid\",\n",
    "    ),\n",
    "    format: Optional[str] = typer.Option(\n",
    "        None,\n",
    "        \"--format\",\n",
    "        \"-f\",\n",
    "        help=\"Format output and show only the given column(s) values.\",\n",
    "    ),\n",
    "    debug: bool = typer.Option(\n",
    "        False,\n",
    "        \"--debug\",\n",
    "        \"-d\",\n",
    "        help=\"Set logger level to DEBUG and output everything.\",\n",
    "    ),\n",
    ") -> Dict[\"str\", Union[pd.DataFrame, str]]:\n",
    "    \"\"\"Return the details of a model.\"\"\"\n",
    "\n",
    "    from airt.client import Model\n",
    "\n",
    "    model = Model(uuid=uuid)\n",
    "    df = model.details()\n",
    "\n",
    "    df[\"created\"] = helper.humanize_date(df[\"created\"])\n",
    "\n",
    "    return {\"df\": df, \"quite_column_name\": \"model_uuid\"}"
   ]
  },
  {
   "cell_type": "code",
   "execution_count": null,
   "metadata": {},
   "outputs": [
    {
     "data": {
      "text/plain": [
       "'Usage: root details [OPTIONS] UUID\\n\\n  Return the details of a model.\\n\\nArguments:\\n  UUID  Model uuid  [required]\\n\\nOptions:\\n  -f, --format TEXT  Format output and show only the given column(s) values.\\n  -d, --debug        Set logger level to DEBUG and output everything.\\n  --help             Show this message and exit.\\n'"
      ]
     },
     "metadata": {},
     "output_type": "display_data"
    }
   ],
   "source": [
    "assert_has_help([\"details\"])"
   ]
  },
  {
   "cell_type": "code",
   "execution_count": null,
   "metadata": {},
   "outputs": [
    {
     "data": {
      "text/plain": [
       "'model_uuid                            created\\n2c8757da-0a75-4dfe-b1e9-952dbcfbb6b4  now\\n'"
      ]
     },
     "metadata": {},
     "output_type": "display_data"
    }
   ],
   "source": [
    "# Tests for details\n",
    "# Testing positive scenario\n",
    "\n",
    "# Helper function to extract ID\n",
    "\n",
    "\n",
    "def extract_id(res) -> str:\n",
    "    r = (res.split(\"\\n\")[1]).strip()\n",
    "    return r.split(\" \")[0]\n",
    "\n",
    "\n",
    "with set_airt_service_token_envvar():\n",
    "    with generate_model() as model:\n",
    "\n",
    "        # Getting Details of the model\n",
    "        format_str = \"{'model_uuid': '{}', 'created': '{}'}\"\n",
    "        result = runner.invoke(app, [\"details\", model.uuid, \"--format\", format_str])\n",
    "\n",
    "        result_id = extract_id(result.stdout)\n",
    "\n",
    "        display(result.stdout)\n",
    "\n",
    "        assert result.exit_code == 0\n",
    "        assert result_id == model.uuid"
   ]
  },
  {
   "cell_type": "code",
   "execution_count": null,
   "metadata": {},
   "outputs": [
    {
     "data": {
      "text/plain": [
       "'Error: The model uuid is incorrect. Please try again.\\n'"
      ]
     },
     "metadata": {},
     "output_type": "display_data"
    }
   ],
   "source": [
    "# Tests for details\n",
    "# Testing negative scenario. Passing invalie id\n",
    "\n",
    "with set_airt_service_token_envvar():\n",
    "\n",
    "    result = runner.invoke(app, [\"details\", RANDOM_UUID_FOR_TESTING])\n",
    "\n",
    "    display(result.stdout)\n",
    "\n",
    "    assert result.exit_code == 1"
   ]
  },
  {
   "cell_type": "code",
   "execution_count": null,
   "metadata": {},
   "outputs": [],
   "source": [
    "# | exporti\n",
    "\n",
    "\n",
    "@app.command()\n",
    "@helper.display_formated_table\n",
    "@helper.requires_auth_token\n",
    "def rm(\n",
    "    uuid: str = typer.Argument(\n",
    "        ...,\n",
    "        help=\"Model uuid\",\n",
    "    ),\n",
    "    format: Optional[str] = typer.Option(\n",
    "        None,\n",
    "        \"--format\",\n",
    "        \"-f\",\n",
    "        help=\"Format output and show only the given column(s) values.\",\n",
    "    ),\n",
    "    quiet: bool = typer.Option(\n",
    "        False,\n",
    "        \"--quiet\",\n",
    "        \"-q\",\n",
    "        help=\"Output the deleted Model uuid only.\",\n",
    "    ),\n",
    "    debug: bool = typer.Option(\n",
    "        False,\n",
    "        \"--debug\",\n",
    "        \"-d\",\n",
    "        help=\"Set logger level to DEBUG and output everything.\",\n",
    "    ),\n",
    ") -> Dict[\"str\", Union[pd.DataFrame, str]]:\n",
    "    \"\"\"Delete a model from the server.\"\"\"\n",
    "\n",
    "    from airt.client import Model\n",
    "\n",
    "    model = Model(uuid=uuid)\n",
    "    df = model.delete()\n",
    "\n",
    "    df[\"created\"] = helper.humanize_date(df[\"created\"])\n",
    "\n",
    "    return {\"df\": df, \"quite_column_name\": \"model_uuid\"}"
   ]
  },
  {
   "cell_type": "code",
   "execution_count": null,
   "metadata": {},
   "outputs": [
    {
     "data": {
      "text/plain": [
       "'Usage: root rm [OPTIONS] UUID\\n\\n  Delete a model from the server.\\n\\nArguments:\\n  UUID  Model uuid  [required]\\n\\nOptions:\\n  -f, --format TEXT  Format output and show only the given column(s) values.\\n  -q, --quiet        Output the deleted Model uuid only.\\n  -d, --debug        Set logger level to DEBUG and output everything.\\n  --help             Show this message and exit.\\n'"
      ]
     },
     "metadata": {},
     "output_type": "display_data"
    }
   ],
   "source": [
    "assert_has_help([\"rm\"])"
   ]
  },
  {
   "cell_type": "code",
   "execution_count": null,
   "metadata": {},
   "outputs": [
    {
     "data": {
      "text/plain": [
       "'2c8757da-0a75-4dfe-b1e9-952dbcfbb6b4'"
      ]
     },
     "metadata": {},
     "output_type": "display_data"
    },
    {
     "data": {
      "text/plain": [
       "['b3b17f4c-2f00-4f51-9841-5dac52bfea61',\n",
       " '4b4b3909-671f-43f9-b868-d7d70a790e39',\n",
       " '5e80898d-a2a0-4341-8412-157086638d43',\n",
       " '5c9b02a4-23a0-4743-b163-ad74f217d685',\n",
       " '33dfede5-9913-4cf0-8029-e3ed1972a7da',\n",
       " '38b96e82-43a4-4d6c-9275-efde8f820815',\n",
       " 'dc193688-c4a1-4f2c-9a2b-5016859f66a8',\n",
       " 'dab7942a-f564-4668-bb95-12058fdd35cd',\n",
       " 'aa2955d2-e785-4e2b-a302-2ca185ce2ece',\n",
       " '7f6b2c6b-b4c9-4f33-b781-d4bba9d67db7',\n",
       " '4b781be8-068b-4eb2-bf35-abaf5920d9b4',\n",
       " '9d6514fd-b190-44cb-b134-5e2ef0117898',\n",
       " '1760dfd2-a718-4323-8498-defe1125c93d',\n",
       " 'b77ba7d2-f0a1-4ccf-aa31-2fa1d124adba']"
      ]
     },
     "metadata": {},
     "output_type": "display_data"
    },
    {
     "data": {
      "text/plain": [
       "'Error: The model has already been deleted.\\n'"
      ]
     },
     "metadata": {},
     "output_type": "display_data"
    },
    {
     "data": {
      "text/plain": [
       "'Error: The model has already been deleted.\\n'"
      ]
     },
     "metadata": {},
     "output_type": "display_data"
    }
   ],
   "source": [
    "# Tests for model rm\n",
    "# Testing positive scenario with quite\n",
    "\n",
    "with set_airt_service_token_envvar():\n",
    "    with generate_model() as model:\n",
    "\n",
    "        # Deleting the created model from the server\n",
    "        result = runner.invoke(app, [\"rm\", model.uuid, \"-q\"])\n",
    "        deleted_uuid = result.stdout[:-1]\n",
    "\n",
    "        display(deleted_uuid)\n",
    "\n",
    "        assert result.exit_code == 0\n",
    "        assert deleted_uuid == model.uuid\n",
    "\n",
    "        # List the existing model ids in server and make sure the deleted id is not present in the server\n",
    "        ls_result = runner.invoke(app, [\"ls\", \"-q\"])\n",
    "        ls_ids = get_ids_from_result(ls_result)\n",
    "\n",
    "        display(ls_ids)\n",
    "        assert deleted_uuid not in ls_ids\n",
    "\n",
    "        # Testing negative scenario. Deleting already deleted model\n",
    "        format_str = \"{'model_uuid': '{}'}\"\n",
    "        result = runner.invoke(app, [\"rm\", deleted_uuid, \"-f\", format_str])\n",
    "        display(result.stdout)\n",
    "        assert result.exit_code == 1\n",
    "\n",
    "        # Testing negative scenario. Getting the details of the deleted model\n",
    "        result = runner.invoke(app, [\"details\", deleted_uuid])\n",
    "        display(result.stdout)\n",
    "        assert result.exit_code == 1"
   ]
  },
  {
   "cell_type": "code",
   "execution_count": null,
   "metadata": {},
   "outputs": [
    {
     "data": {
      "text/plain": [
       "'Error: The model uuid is incorrect. Please try again.\\n'"
      ]
     },
     "metadata": {},
     "output_type": "display_data"
    }
   ],
   "source": [
    "# Tests for model rm\n",
    "# Testing negative scenario. Deleting invalid data source\n",
    "\n",
    "with set_airt_service_token_envvar():\n",
    "    with generate_model() as model:\n",
    "\n",
    "        result = runner.invoke(app, [\"rm\", RANDOM_UUID_FOR_TESTING, \"-q\"])\n",
    "\n",
    "        display(result.stdout)"
   ]
  },
  {
   "cell_type": "code",
   "execution_count": null,
   "metadata": {},
   "outputs": [],
   "source": [
    "# | exporti\n",
    "\n",
    "\n",
    "@app.command()\n",
    "@helper.requires_auth_token\n",
    "def predict(\n",
    "    data_uuid: str = typer.Option(\n",
    "        ...,\n",
    "        \"--data_uuid\",\n",
    "        help=\"DataSource uuid.\",\n",
    "    ),\n",
    "    uuid: str = typer.Option(\n",
    "        ...,\n",
    "        \"--uuid\",\n",
    "        help=\"Model uuid.\",\n",
    "    ),\n",
    "    quiet: bool = typer.Option(\n",
    "        False,\n",
    "        \"--quiet\",\n",
    "        \"-q\",\n",
    "        help=\"Output the prediction id only.\",\n",
    "    ),\n",
    "    debug: bool = typer.Option(\n",
    "        False,\n",
    "        \"--debug\",\n",
    "        \"-d\",\n",
    "        help=\"Set logger level to DEBUG and output everything.\",\n",
    "    ),\n",
    ") -> None:\n",
    "    \"\"\"Run predictions against the trained model.\"\"\"\n",
    "\n",
    "    from airt.client import Model\n",
    "\n",
    "    model = Model(uuid=uuid)\n",
    "\n",
    "    prediction = model.predict(data_uuid=data_uuid)\n",
    "\n",
    "    if quiet:\n",
    "        prediction.wait()\n",
    "\n",
    "        typer.echo(f\"{prediction.uuid}\")\n",
    "    else:\n",
    "        typer.echo(f\"Running predictions for prediction uuid: {prediction.uuid}\")\n",
    "        prediction.progress_bar()"
   ]
  },
  {
   "cell_type": "code",
   "execution_count": null,
   "metadata": {},
   "outputs": [
    {
     "data": {
      "text/plain": [
       "'Usage: root predict [OPTIONS]\\n\\n  Run predictions against the trained model.\\n\\nOptions:\\n  --data_uuid TEXT  DataSource uuid.  [required]\\n  --uuid TEXT       Model uuid.  [required]\\n  -q, --quiet       Output the prediction id only.\\n  -d, --debug       Set logger level to DEBUG and output everything.\\n  --help            Show this message and exit.\\n'"
      ]
     },
     "metadata": {},
     "output_type": "display_data"
    }
   ],
   "source": [
    "assert_has_help([\"predict\"])"
   ]
  },
  {
   "cell_type": "code",
   "execution_count": null,
   "metadata": {},
   "outputs": [
    {
     "name": "stderr",
     "output_type": "stream",
     "text": [
      "100%|██████████| 1/1 [00:15<00:00, 15.15s/it]\n"
     ]
    },
    {
     "data": {
      "text/plain": [
       "\"ds.uuid='e9103626-e10d-4e54-9965-ed04400b21c7'\""
      ]
     },
     "metadata": {},
     "output_type": "display_data"
    },
    {
     "name": "stderr",
     "output_type": "stream",
     "text": [
      "100%|██████████| 1/1 [00:30<00:00, 30.31s/it]\n"
     ]
    },
    {
     "data": {
      "text/plain": [
       "'Running predictions for prediction uuid: 9dbb3261-bba7-47df-bd57-21358c10ff79\\n\\r  0%|          | 0/3 [00:00<?, ?it/s]\\r  0%|          | 0/3 [00:05<?, ?it/s]\\r100%|██████████| 3/3 [00:10<00:00,  1.68s/it]\\r100%|██████████| 3/3 [00:10<00:00,  3.38s/it]\\n'"
      ]
     },
     "metadata": {},
     "output_type": "display_data"
    }
   ],
   "source": [
    "# Tests for model predict\n",
    "# Testing positive scenario without quite\n",
    "\n",
    "with set_airt_service_token_envvar():\n",
    "    with generate_model(force_create=True) as model:\n",
    "        # Running prediction\n",
    "        data_uuid = model.details()[\"datasource_uuid\"][0]\n",
    "        result = runner.invoke(\n",
    "            app, [\"predict\", \"--uuid\", model.uuid, \"--data_uuid\", data_uuid]\n",
    "        )\n",
    "\n",
    "        display(result.stdout)\n",
    "\n",
    "        assert result.exit_code == 0\n",
    "        assert \"Running predictions for prediction uuid\" in result.stdout"
   ]
  },
  {
   "cell_type": "code",
   "execution_count": null,
   "metadata": {},
   "outputs": [
    {
     "data": {
      "text/plain": [
       "'b213e99d-6215-44a9-a658-0ce6fdab045c\\n'"
      ]
     },
     "metadata": {},
     "output_type": "display_data"
    }
   ],
   "source": [
    "# Tests for model predict\n",
    "# Testing positive scenario without quite\n",
    "\n",
    "with set_airt_service_token_envvar():\n",
    "    with generate_model() as model:\n",
    "        data_uuid = model.details()[\"datasource_uuid\"][0]\n",
    "        result = runner.invoke(\n",
    "            app, [\"predict\", \"--uuid\", model.uuid, \"--data_uuid\", data_uuid, \"-q\"]\n",
    "        )\n",
    "\n",
    "        display(result.stdout)\n",
    "\n",
    "        assert result.exit_code == 0\n",
    "        assert len(result.stdout.replace(\"-\", \"\").replace(\"\\n\", \"\")) == 32"
   ]
  },
  {
   "cell_type": "code",
   "execution_count": null,
   "metadata": {},
   "outputs": [],
   "source": [
    "# | exporti\n",
    "\n",
    "\n",
    "@app.command()\n",
    "@helper.requires_auth_token\n",
    "def evaluate(\n",
    "    uuid: str = typer.Argument(\n",
    "        ...,\n",
    "        help=\"Model uuid.\",\n",
    "    ),\n",
    "    debug: bool = typer.Option(\n",
    "        False,\n",
    "        \"--debug\",\n",
    "        \"-d\",\n",
    "        help=\"Set logger level to DEBUG and output everything.\",\n",
    "    ),\n",
    ") -> None:\n",
    "    \"\"\"Return the evaluation metrics of the trained model.\n",
    "\n",
    "    Currently, this command returns the model's accuracy, precision, and recall. In the future, more performance metrics will be added.\n",
    "    \"\"\"\n",
    "\n",
    "    from airt.client import Model\n",
    "\n",
    "    model = Model(uuid=uuid)\n",
    "\n",
    "    df = model.evaluate()\n",
    "\n",
    "    typer.echo(tabulate(df, headers=\"keys\", tablefmt=\"plain\"))  # type: ignore"
   ]
  },
  {
   "cell_type": "code",
   "execution_count": null,
   "metadata": {},
   "outputs": [
    {
     "data": {
      "text/plain": [
       "\"Usage: root evaluate [OPTIONS] UUID\\n\\n  Return the evaluation metrics of the trained model.\\n\\n  Currently, this command returns the model's accuracy, precision, and recall.\\n  In the future, more performance metrics will be added.\\n\\nArguments:\\n  UUID  Model uuid.  [required]\\n\\nOptions:\\n  -d, --debug  Set logger level to DEBUG and output everything.\\n  --help       Show this message and exit.\\n\""
      ]
     },
     "metadata": {},
     "output_type": "display_data"
    }
   ],
   "source": [
    "assert_has_help([\"evaluate\"])"
   ]
  },
  {
   "cell_type": "code",
   "execution_count": null,
   "metadata": {},
   "outputs": [
    {
     "data": {
      "text/plain": [
       "'             eval\\naccuracy    0.985\\nrecall      0.962\\nprecision   0.934\\n'"
      ]
     },
     "metadata": {},
     "output_type": "display_data"
    }
   ],
   "source": [
    "# Tests for evaluate\n",
    "# Testing positive scenario\n",
    "\n",
    "\n",
    "with set_airt_service_token_envvar():\n",
    "    with generate_model() as model:\n",
    "        # Getting Details of the model\n",
    "        result = runner.invoke(app, [\"evaluate\", model.uuid])\n",
    "\n",
    "        display(result.stdout)\n",
    "\n",
    "        assert result.exit_code == 0\n",
    "        assert \"eval\" in result.stdout\n",
    "        assert \"accuracy\" in result.stdout"
   ]
  },
  {
   "cell_type": "code",
   "execution_count": null,
   "metadata": {},
   "outputs": [
    {
     "data": {
      "text/plain": [
       "'Error: The model uuid is incorrect. Please try again.\\n'"
      ]
     },
     "metadata": {},
     "output_type": "display_data"
    }
   ],
   "source": [
    "# Tests for evaluate\n",
    "# Testing negative scenario, passing wrong id\n",
    "\n",
    "\n",
    "with set_airt_service_token_envvar():\n",
    "    with generate_model() as model:\n",
    "        result = runner.invoke(app, [\"evaluate\", RANDOM_UUID_FOR_TESTING])\n",
    "\n",
    "        display(result.stdout)\n",
    "\n",
    "        assert result.exit_code == 1"
   ]
  },
  {
   "cell_type": "code",
   "execution_count": null,
   "metadata": {},
   "outputs": [],
   "source": []
  }
 ],
 "metadata": {
  "kernelspec": {
   "display_name": "Python 3 (ipykernel)",
   "language": "python",
   "name": "python3"
  }
 },
 "nbformat": 4,
 "nbformat_minor": 2
}
