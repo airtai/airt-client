{
 "cells": [
  {
   "cell_type": "raw",
   "metadata": {},
   "source": [
    "---\n",
    "description: This module contains all classes encapsulating the client routes of the\n",
    "  API service.\n",
    "output-file: api_client.html\n",
    "title: API_Client\n",
    "\n",
    "---\n",
    "\n"
   ]
  },
  {
   "cell_type": "code",
   "execution_count": null,
   "metadata": {},
   "outputs": [],
   "source": [
    "# | default_exp _components.client"
   ]
  },
  {
   "cell_type": "markdown",
   "metadata": {},
   "source": [
    "Note: \n",
    "\n",
    "While writing doc strings, please use the below syntax for linking methods/classes. So that the methods/classes gets highlighted in the browser and clicking on it will take the user to the linked function\n",
    "\n",
    "    - To link a method from the class same file please use the `method_name` format.\n",
    "    - To link a method from a different Class (can in a seperate file also) please use `Classname.method_name` format."
   ]
  },
  {
   "cell_type": "code",
   "execution_count": null,
   "metadata": {},
   "outputs": [
    {
     "name": "stdout",
     "output_type": "stream",
     "text": [
      "[INFO] airt._testing.activate_by_import: Testing environment activated.\n"
     ]
    }
   ],
   "source": [
    "from airt._testing import activate_by_import"
   ]
  },
  {
   "cell_type": "code",
   "execution_count": null,
   "metadata": {},
   "outputs": [],
   "source": [
    "# | export\n",
    "\n",
    "from typing import *"
   ]
  },
  {
   "cell_type": "code",
   "execution_count": null,
   "metadata": {},
   "outputs": [],
   "source": [
    "# | exporti\n",
    "\n",
    "import importlib\n",
    "import json\n",
    "import os\n",
    "import secrets\n",
    "import urllib.parse\n",
    "\n",
    "import pandas as pd\n",
    "from fastcore.foundation import patch\n",
    "\n",
    "import airt\n",
    "from airt._constant import (\n",
    "    CLIENT_NAME,\n",
    "    SERVER_URL,\n",
    "    SERVICE_PASSWORD,\n",
    "    SERVICE_TOKEN,\n",
    "    SERVICE_USERNAME,\n",
    ")\n",
    "from airt._helper import delete_data, get_base_url, get_data, post_data, export\n",
    "from airt._logger import get_logger, set_level"
   ]
  },
  {
   "cell_type": "code",
   "execution_count": null,
   "metadata": {},
   "outputs": [],
   "source": [
    "import logging\n",
    "from contextlib import contextmanager\n",
    "from datetime import datetime, timedelta\n",
    "from random import randrange\n",
    "\n",
    "import pytest\n",
    "\n",
    "import airt._sanitizer\n",
    "from airt._components.user import User\n",
    "from airt._constant import SERVICE_PASSWORD, SERVICE_SUPER_USER, SERVICE_USERNAME\n",
    "from airt._docstring.helpers import run_examples_from_docstring"
   ]
  },
  {
   "cell_type": "code",
   "execution_count": null,
   "metadata": {},
   "outputs": [],
   "source": [
    "# | exporti\n",
    "\n",
    "logger = get_logger(__name__)"
   ]
  },
  {
   "cell_type": "code",
   "execution_count": null,
   "metadata": {},
   "outputs": [
    {
     "data": {
      "text/plain": [
       "20"
      ]
     },
     "metadata": {},
     "output_type": "display_data"
    },
    {
     "name": "stdout",
     "output_type": "stream",
     "text": [
      "[INFO] __main__: This is an info\n",
      "[WARNING] __main__: This is a warning\n",
      "[ERROR] __main__: This is an error\n"
     ]
    }
   ],
   "source": [
    "display(logger.getEffectiveLevel())\n",
    "assert logger.getEffectiveLevel() == logging.INFO\n",
    "\n",
    "logger.debug(\"This is a debug message\")\n",
    "logger.info(\"This is an info\")\n",
    "logger.warning(\"This is a warning\")\n",
    "logger.error(\"This is an error\")"
   ]
  },
  {
   "cell_type": "code",
   "execution_count": null,
   "metadata": {},
   "outputs": [],
   "source": [
    "def mask(s: str) -> str:\n",
    "    return \"*\" * len(s)\n",
    "\n",
    "\n",
    "assert mask(\"test\") == \"****\""
   ]
  },
  {
   "cell_type": "code",
   "execution_count": null,
   "metadata": {},
   "outputs": [],
   "source": [
    "# | exporti\n",
    "\n",
    "\n",
    "def _get_credentials(\n",
    "    username: Optional[str] = None, password: Optional[str] = None\n",
    ") -> Tuple[(str, str)]:\n",
    "    \"\"\"Returns the value for username and password.\n",
    "\n",
    "    If username is **None**, retrive the value from AIRT_SERVICE_USERNAME environment variable.\n",
    "    If password is **None**, retrive the value from AIRT_SERVICE_PASSWORD environment variable.\n",
    "\n",
    "    Args:\n",
    "        username: Username for your developer account.\n",
    "        password: Password for your developer account.\n",
    "\n",
    "    Returns:\n",
    "        The values for username and password as a tuple.\n",
    "\n",
    "    Raises:\n",
    "        Key Error, if the environment variables are not set.\n",
    "    \"\"\"\n",
    "\n",
    "    username = username if username is not None else os.environ.get(SERVICE_USERNAME)\n",
    "\n",
    "    password = password if password is not None else os.environ.get(SERVICE_PASSWORD)\n",
    "\n",
    "    if not username and not password:\n",
    "        raise KeyError(\n",
    "            f\"The username and password are neither passed as parameters nor set in the environment variables \"\n",
    "            f\"`{SERVICE_USERNAME}` and `{SERVICE_PASSWORD}`.\"\n",
    "        )\n",
    "\n",
    "    elif not username:\n",
    "        raise KeyError(\n",
    "            f\"The username is neither passed as parameter nor set in the environment variable {SERVICE_USERNAME}.\"\n",
    "        )\n",
    "\n",
    "    elif not password:\n",
    "        raise KeyError(\n",
    "            f\"The password is neither passed as parameter nor set in the environment variable {SERVICE_PASSWORD}.\"\n",
    "        )\n",
    "\n",
    "    return (username, password)"
   ]
  },
  {
   "cell_type": "code",
   "execution_count": null,
   "metadata": {},
   "outputs": [
    {
     "data": {
      "text/plain": [
       "('fake_username', 'fake_password')"
      ]
     },
     "metadata": {},
     "output_type": "display_data"
    }
   ],
   "source": [
    "username = \"fake_username\"\n",
    "password = \"fake_password\"\n",
    "\n",
    "expected = (\"fake_username\", \"fake_password\")\n",
    "\n",
    "actual = _get_credentials(username, password)\n",
    "\n",
    "display(actual)\n",
    "assert actual == expected"
   ]
  },
  {
   "cell_type": "code",
   "execution_count": null,
   "metadata": {},
   "outputs": [
    {
     "data": {
      "text/plain": [
       "\"e.value=KeyError('The username and password are neither passed as parameters nor set in the environment variables `AIRT_SERVICE_USERNAME` and `AIRT_SERVICE_PASSWORD`.')\""
      ]
     },
     "metadata": {},
     "output_type": "display_data"
    }
   ],
   "source": [
    "# Assign env vars to temp variables and delete the env vars\n",
    "if os.environ.get(SERVICE_USERNAME):\n",
    "    airt_service_username = os.environ.get(SERVICE_USERNAME)\n",
    "    del os.environ[SERVICE_USERNAME]\n",
    "\n",
    "if os.environ.get(SERVICE_PASSWORD):\n",
    "    airt_service_password = os.environ.get(SERVICE_PASSWORD)\n",
    "    del os.environ[SERVICE_PASSWORD]\n",
    "\n",
    "with pytest.raises(KeyError) as e:\n",
    "    _get_credentials()\n",
    "\n",
    "display(f\"{e.value=}\")\n",
    "assert (\n",
    "    f\"'The username and password are neither passed as parameters nor set in the environment variables `{SERVICE_USERNAME}` and `{SERVICE_PASSWORD}`.'\"\n",
    "    == str(e.value)\n",
    ")"
   ]
  },
  {
   "cell_type": "code",
   "execution_count": null,
   "metadata": {},
   "outputs": [
    {
     "data": {
      "text/plain": [
       "\"e.value=KeyError('The password is neither passed as parameter nor set in the environment variable AIRT_SERVICE_PASSWORD.')\""
      ]
     },
     "metadata": {},
     "output_type": "display_data"
    }
   ],
   "source": [
    "# Assign only username in env var\n",
    "os.environ[SERVICE_USERNAME] = airt_service_username\n",
    "\n",
    "with pytest.raises(KeyError) as e:\n",
    "    _get_credentials()\n",
    "\n",
    "display(f\"{e.value=}\")\n",
    "assert (\n",
    "    f\"'The password is neither passed as parameter nor set in the environment variable {SERVICE_PASSWORD}.'\"\n",
    "    == str(e.value)\n",
    ")"
   ]
  },
  {
   "cell_type": "code",
   "execution_count": null,
   "metadata": {},
   "outputs": [
    {
     "data": {
      "text/plain": [
       "\"e.value=KeyError('The username is neither passed as parameter nor set in the environment variable AIRT_SERVICE_USERNAME.')\""
      ]
     },
     "metadata": {},
     "output_type": "display_data"
    }
   ],
   "source": [
    "# assign airt_service_password in env var\n",
    "os.environ[SERVICE_PASSWORD] = airt_service_password\n",
    "\n",
    "# deleting airt_service_username in env var\n",
    "if os.environ.get(SERVICE_USERNAME):\n",
    "    del os.environ[SERVICE_USERNAME]\n",
    "\n",
    "with pytest.raises(KeyError) as e:\n",
    "    _get_credentials()\n",
    "\n",
    "display(f\"{e.value=}\")\n",
    "assert (\n",
    "    f\"'The username is neither passed as parameter nor set in the environment variable {SERVICE_USERNAME}.'\"\n",
    "    == str(e.value)\n",
    ")\n",
    "\n",
    "# resetting the username and password env variables\n",
    "os.environ[SERVICE_USERNAME] = airt_service_username\n",
    "assert os.environ[SERVICE_USERNAME] == airt_service_username\n",
    "assert os.environ[SERVICE_PASSWORD] == airt_service_password"
   ]
  },
  {
   "cell_type": "code",
   "execution_count": null,
   "metadata": {},
   "outputs": [],
   "source": [
    "# | export\n",
    "\n",
    "\n",
    "@export(\"airt.client\")\n",
    "class Client:\n",
    "    \"\"\"A class for authenticating and accessing the airt service.\n",
    "\n",
    "    To access the airt service, you must first create a developer account. To obtain one, please contact us at [info@airt.ai](mailto:info@airt.ai).\n",
    "\n",
    "    After successful verification, you will receive an email with the username and password for the developer account.\n",
    "\n",
    "    Once you have the credentials, use them to get an access token by calling `get_token` method. It is necessary to get\n",
    "    an access token; otherwise, you won't be able to access all of the airt service's APIs. You can either pass the username, password, and server\n",
    "    address as parameters to the `get_token` method or store them in the environment variables **AIRT_SERVICE_USERNAME**,\n",
    "    **AIRT_SERVICE_PASSWORD**, and **AIRT_SERVER_URL**.\n",
    "\n",
    "    In addition to the regular authentication with credentials, you can also enable multi-factor authentication (MFA) and single sign-on (SSO)\n",
    "    for generating tokens.\n",
    "\n",
    "    To help protect your account, we recommend that you enable multi-factor authentication (MFA). MFA provides additional security by requiring\n",
    "    you to provide unique verification code (OTP) in addition to your regular sign-in credentials when performing critical operations.\n",
    "\n",
    "    Your account can be configured for MFA in just two easy steps:\n",
    "\n",
    "    1. To begin, you need to enable MFA for your account by calling the `User.enable_mfa` method, which will generate a QR code. You can then\n",
    "    scan the QR code with an authenticator app, such as Google Authenticator and follow the on-device instructions to finish the setup in your smartphone.\n",
    "\n",
    "    2. Finally, activate MFA for your account by calling `User.activate_mfa` and passing the dynamically generated six-digit verification code from your\n",
    "    smartphone's authenticator app.\n",
    "\n",
    "    After activating MFA for your account, you must pass the dynamically generated six-digit verification code, along with your username and password,\n",
    "    to the `get_token` method to generate new tokens.\n",
    "\n",
    "    Single sign-on (SSO) can be enabled for your account in three simple steps:\n",
    "\n",
    "    1. Enable the SSO for a provider by calling the `User.enable_sso` method with the SSO provider name and an email address. At the moment,\n",
    "    we only support **\"google\"** and **\"github\"** as SSO providers. We intend to support additional SSO providers in future releases.\n",
    "\n",
    "    2. Before you can start generating new tokens with SSO, you must first authenticate with the SSO provider. Call the `get_token` with\n",
    "    the same SSO provider you have enabled in the step above to generate an SSO authorization URL. Please copy and paste it into your\n",
    "    preferred browser and complete the authentication process with the SSO provider.\n",
    "\n",
    "    3. After successfully authenticating with the SSO provider, call the `set_sso_token` method to generate a new token and use it automatically\n",
    "    in all future interactions with the airt server.\n",
    "\n",
    "    Here's an example of how to use the Client class to authenticate and display the details of the currently logged-in user.\n",
    "\n",
    "    Example:\n",
    "        ```python\n",
    "        # Importing necessary libraries\n",
    "        from  airt.client import Client, User\n",
    "\n",
    "        # Authenticate\n",
    "        # MFA enabled users must pass the OTP along with the username and password\n",
    "        # to the get_token method.\n",
    "        Client.get_token(username=\"{fill in username}\", password=\"{fill in password}\")\n",
    "\n",
    "        # Print the logged-in user details\n",
    "        print(User.details())\n",
    "        ```\n",
    "    \"\"\"\n",
    "\n",
    "    server: Optional[str] = None\n",
    "    auth_token: Optional[str] = None\n",
    "    sso_authorization_url: Optional[str] = None\n",
    "\n",
    "    def __init__(\n",
    "        self,\n",
    "        server: str,\n",
    "        auth_token: str,\n",
    "        sso_authorization_url: Optional[str] = None,\n",
    "    ):\n",
    "        Client.server = server\n",
    "        Client.auth_token = auth_token\n",
    "        Client.sso_authorization_url = sso_authorization_url\n",
    "\n",
    "    @classmethod\n",
    "    def get_token(  # type: ignore\n",
    "        cls,\n",
    "        *,\n",
    "        username: Optional[str] = None,\n",
    "        password: Optional[str] = None,\n",
    "        server: Optional[str] = None,\n",
    "        sso_provider: Optional[str] = None,\n",
    "        otp: Optional[str] = None,\n",
    "    ) -> Optional[str]:\n",
    "        \"\"\"Get application token for airt service from a username/password pair.\n",
    "\n",
    "        This methods validates the developer credentials and returns an auth token. The returned auth\n",
    "        token is implicitly used in all the interactions with the server.\n",
    "\n",
    "        If you've already enabled multi-factor authentication (MFA) for your account, you'll need to\n",
    "        pass the dynamically generated six-digit verification code along with your username and\n",
    "        password to generate new tokens.\n",
    "\n",
    "        If the token is requested using Single sign-on (SSO), an authorization URL will be returned.\n",
    "        Please copy and paste it into your preferred browser and complete the SSO provider\n",
    "        authentication within 10 minutes. Otherwise, the SSO login will time out and you will need\n",
    "        to re-request the token.\n",
    "\n",
    "        Args:\n",
    "            username: Username for the developer account. If None (default value), then the value from\n",
    "                **AIRT_SERVICE_USERNAME** environment variable is used.\n",
    "            password: Password for the developer account. If None (default value), then the value from\n",
    "                **AIRT_SERVICE_PASSWORD** environment variable is used.\n",
    "            server: The airt server uri. If None (default value), then the value from **AIRT_SERVER_URL** environment variable\n",
    "                is used. If the variable is not set as well, then the default public server will be used. Please leave this\n",
    "                setting to default unless you are running the service in your own server (please email us to info@airt.ai\n",
    "                for that possibility).\n",
    "            sso_provider: Name of the Single sign-on (SSO) provider. Please pass this parameter only if you have successfully\n",
    "                enabled SSO for this provider. At present, the API only supports \"google\" and \"github\" as valid SSO providers.\n",
    "            otp: Dynamically generated six-digit verification code from the authenticator app or the OTP you have received via SMS.\n",
    "\n",
    "        Returns:\n",
    "            The authorization url if the token is requested using Single sign-on (SSO).\n",
    "\n",
    "        Raises:\n",
    "            ValueError: If the username/password pair does not match.\n",
    "            ConnectionError: If the server address is invalid or not reachable.\n",
    "            KeyError: If username/password is neither passed as parameters nor stored in environment variables.\n",
    "\n",
    "        Here's an example of a non-MFA user authenticating and generating a new token\n",
    "\n",
    "        Example:\n",
    "            ```python\n",
    "            # Importing necessary libraries\n",
    "            from  airt.client import User, Client\n",
    "\n",
    "            # Authenticate\n",
    "            Client.get_token(username=\"{fill in username}\", password=\"{fill in password}\")\n",
    "\n",
    "            # Print the logged-in user details\n",
    "            print(User.details())\n",
    "            ```\n",
    "\n",
    "        Here's an example of a MFA user authenticating using SMS OTP and generating a new token\n",
    "\n",
    "        Example:\n",
    "            ```python\n",
    "            # Importing necessary libraries\n",
    "            from  airt.client import Client, User\n",
    "\n",
    "            # Request OTP via SMS to authenticate\n",
    "            # If you want to use the OTP from the authenticator app, skip this step and\n",
    "            # don't generate an SMS OTP; instead, pass the OTP from the authenticator\n",
    "            # app to the get_token method below\n",
    "            username=\"{fill in username}\"\n",
    "            User.send_sms_otp(\n",
    "                username=username,\n",
    "                message_template_name=\"get_token\" # Don't change the message_template_name\n",
    "            )\n",
    "\n",
    "            # Authenticate using SMS OTP\n",
    "            # The send_sms_otp method will send the OTP via SMS to the registered\n",
    "            # phone number, which you must fill below\n",
    "            password=\"{fill in password}\"\n",
    "            otp=\"{fill in otp}\"\n",
    "            Client.get_token(username=username, password=password, otp=otp)\n",
    "\n",
    "            # Print the logged-in user details\n",
    "            print(User.details())\n",
    "            ```\n",
    "        \"\"\"\n",
    "        cls.server = get_base_url(server)\n",
    "\n",
    "        username, password = _get_credentials(username, password)\n",
    "\n",
    "        if otp is not None:\n",
    "            password = json.dumps({\"password\": password, \"user_otp\": otp})\n",
    "\n",
    "        if sso_provider is None:\n",
    "            response = post_data(\n",
    "                url=f\"{cls.server}/token\",\n",
    "                data=dict(username=username, password=password),\n",
    "                token=None,\n",
    "            )\n",
    "\n",
    "            cls.auth_token = response[\"access_token\"]\n",
    "        else:\n",
    "            response = post_data(\n",
    "                url=f\"{cls.server}/sso/initiate\",\n",
    "                data=json.dumps(  # type: ignore\n",
    "                    dict(\n",
    "                        username=username, password=password, sso_provider=sso_provider\n",
    "                    )\n",
    "                ),\n",
    "                token=None,\n",
    "            )\n",
    "\n",
    "            cls.sso_authorization_url = response[\"authorization_url\"]\n",
    "            return cls.sso_authorization_url\n",
    "\n",
    "    @classmethod\n",
    "    def set_sso_token(cls):\n",
    "        \"\"\"Set the application token generated using Single sign-on (SSO).\n",
    "\n",
    "        The token set using this method will be implicitly used in all the interactions with the server.\n",
    "\n",
    "        Please call this method only if you successfully enabled and completed the login with the Single\n",
    "        sign-on (SSO) provider. If not, please call the `get_token` method with an appropriate\n",
    "        sso_provider to initiate the SSO authentication.\n",
    "\n",
    "        Here's an example of authenticating with Single sign-on (SSO) using google and setting the\n",
    "        newly generated token to interact with the airt service.\n",
    "\n",
    "        Example:\n",
    "            ```python\n",
    "            # Importing necessary libraries\n",
    "            from  airt.client import Client, User\n",
    "\n",
    "            # Authenticate\n",
    "            Client.get_token(username=\"{fill in username}\", password=\"{fill in password}\")\n",
    "\n",
    "            # Enable single sign-on (SSO) and use google as the provider\n",
    "            sso_provider=\"google\"\n",
    "            sso_email=\"{fill in sso_email}\"\n",
    "            User.enable_sso(sso_provider=sso_provider, sso_email=sso_email)\n",
    "\n",
    "            # Authenticate using Single sign-on (SSO)\n",
    "            # To generate a token using SSO, you must first authenticate with the provider.\n",
    "            # The command below will generate an authorization URL for you.\n",
    "            # Please copy and paste it into your preferred browser and complete the\n",
    "            # SSO provider authentication within 10 minutes. Otherwise, the SSO login\n",
    "            # will time out and you will need to call the get_token method again.\n",
    "            sso_url = Client.get_token(sso_provider=sso_provider)\n",
    "            print(sso_url)\n",
    "\n",
    "            # Once the provider authentication is successful, call the below method to\n",
    "            # set the generated token\n",
    "            Client.set_sso_token()\n",
    "\n",
    "            # If set_sso_token fails, the line below will throw an error.\n",
    "            print(User.details())\n",
    "            ```\n",
    "        \"\"\"\n",
    "        quoted_authorization_url = urllib.parse.quote(cls.sso_authorization_url)\n",
    "        response = get_data(\n",
    "            url=f\"{cls.server}/sso/token/?authorization_url={quoted_authorization_url}\",\n",
    "            token=None,\n",
    "        )\n",
    "\n",
    "        cls.auth_token = response[\"access_token\"]\n",
    "\n",
    "    @classmethod\n",
    "    def set_token(cls, token: Optional[str] = None, server: Optional[str] = None):\n",
    "        \"\"\"Set application token for airt service.\n",
    "\n",
    "        If you already have a valid token, you can call this method to set it and use it in all\n",
    "        subsequent interactions with the airt server.\n",
    "\n",
    "        Please call this method only if you already have a token. If not, please call the `get_token` method to generate one.\n",
    "\n",
    "        Args:\n",
    "            token: The application token obtained by calling the `get_token` method, or an APIKey obtained by calling\n",
    "                the `APIKey.create` method. If None (default value), then the value from **AIRT_SERVICE_TOKEN** environment variable is used.\n",
    "            server: The airt server uri. If None (default value), then the value from **AIRT_SERVER_URL** environment variable\n",
    "                is used. If the variable is not set as well, then the default public server will be used. Please leave this\n",
    "                setting to default unless you are running the service in your own server (please email us to info@airt.ai\n",
    "                for that possibility).\n",
    "\n",
    "        An example to set an existing token:\n",
    "\n",
    "        Example:\n",
    "            ```python\n",
    "            # Importing necessary libraries\n",
    "            from  airt.client import Client, User\n",
    "\n",
    "            # Optional Step: For demonstration purpose, generate a new token\n",
    "            # When you generate a new token with the get_token method, you do not\n",
    "            # need to explicitly call set_token. It is shown here for demo purposes only.\n",
    "            # Skip this step if you already have a valid token and pass it directly to\n",
    "            # the set_token method below\n",
    "            Client.get_token(username=\"{fill in username}\", password=\"{fill in password}\")\n",
    "\n",
    "            # Setting a valid token\n",
    "            Client.set_token(token=Client.auth_token)\n",
    "\n",
    "            # If set_token fails, the line below will throw an error.\n",
    "            print(User.details())\n",
    "            ```\n",
    "        \"\"\"\n",
    "\n",
    "        auth_token = token if token is not None else os.environ.get(SERVICE_TOKEN)\n",
    "\n",
    "        if not auth_token:\n",
    "            raise KeyError(\n",
    "                f\"The token is neither passed as parameter nor set in the environment variable {SERVICE_TOKEN}.\"\n",
    "            )\n",
    "\n",
    "        cls.auth_token = auth_token\n",
    "        cls.server = get_base_url(server)\n",
    "\n",
    "    @staticmethod\n",
    "    def version() -> dict:\n",
    "        \"\"\"Return the client and server versions.\n",
    "\n",
    "        Returns:\n",
    "            A dict containing the client and server versions.\n",
    "\n",
    "        Raises:\n",
    "            ConnectionError: If the server address is invalid or not reachable.\n",
    "\n",
    "        An example to get the client and server versions:\n",
    "\n",
    "        Example:\n",
    "            ```python\n",
    "            # Importing necessary libraries\n",
    "            from  airt.client import Client\n",
    "\n",
    "            # Get the client and server versions\n",
    "            print(Client.version())\n",
    "            ```\n",
    "        \"\"\"\n",
    "\n",
    "        response = Client._get_data(relative_url=f\"/version\")\n",
    "\n",
    "        version = {\n",
    "            # nosemgrep: python.lang.security.audit.non-literal-import.non-literal-import\n",
    "            \"client\": importlib.import_module(CLIENT_NAME).__version__,\n",
    "            \"server\": response[\"airt_service\"],\n",
    "        }\n",
    "\n",
    "        return version\n",
    "\n",
    "    @classmethod\n",
    "    def _get_server_url_and_token(cls) -> Tuple[Optional[str], Optional[str]]:\n",
    "        \"\"\"Fetch the server URL and the auth token.\n",
    "\n",
    "        Returns:\n",
    "            A tuple containing server URL and auth token.\n",
    "        \"\"\"\n",
    "\n",
    "        cls.server = get_base_url(cls.server)\n",
    "\n",
    "        return cls.server, cls.auth_token\n",
    "\n",
    "    @classmethod\n",
    "    def _post_data(\n",
    "        cls,\n",
    "        relative_url: str,\n",
    "        data: Optional[Dict[str, Any]] = None,\n",
    "        json: Optional[Dict[str, Any]] = None,\n",
    "    ) -> Dict[str, Any]:\n",
    "        \"\"\"Make a POST request.\n",
    "\n",
    "        This method will implicitly add the server base URL and the token for every request.\n",
    "\n",
    "        Args:\n",
    "            relative_url: The relative URL of the server's API endpoint.\n",
    "            data: A Dictionary object to send in the body of the POST request. The data sent in this param will automatically be form-encoded by the request library.\n",
    "            json: A Dictionary object to send in the body of the POST request. The data sent in this param will automatically be JSON-encoded by the request library.\n",
    "\n",
    "        Returns:\n",
    "            Response body as a dictionary.\n",
    "\n",
    "        Raises:\n",
    "            ConnectionError: If the server is not reachable.\n",
    "            ValueError: If the response code is not in range of 200 - 399.\n",
    "        \"\"\"\n",
    "\n",
    "        server, auth_token = Client._get_server_url_and_token()\n",
    "\n",
    "        return post_data(\n",
    "            url=f\"{server}{relative_url}\",\n",
    "            data=data,\n",
    "            json=json,\n",
    "            token=auth_token,\n",
    "        )\n",
    "\n",
    "    @classmethod\n",
    "    def _get_data(cls, relative_url: str) -> Any:\n",
    "        \"\"\"Make a GET request.\n",
    "\n",
    "        This method will implicitly add the server base URL and the token for every request.\n",
    "\n",
    "        Args:\n",
    "            relative_url: The relative URL of the API endpoint.\n",
    "\n",
    "        Returns:\n",
    "            A dictionary that encapsulates the response body.\n",
    "\n",
    "        Raises:\n",
    "            ConnectionError: If the server is not reachable.\n",
    "            ValueError: If the response code is not in range of 200 - 399.\n",
    "        \"\"\"\n",
    "\n",
    "        server, auth_token = Client._get_server_url_and_token()\n",
    "\n",
    "        return get_data(url=f\"{server}{relative_url}\", token=auth_token)\n",
    "\n",
    "    @classmethod\n",
    "    def _delete_data(cls, relative_url: str) -> Dict[str, Any]:\n",
    "        \"\"\"Make a DELETE request.\n",
    "\n",
    "        This method will implicitly add the server base URL and the token for every request.\n",
    "\n",
    "        Args:\n",
    "            relative_url: The relative URL of the API endpoint.\n",
    "\n",
    "        Returns:\n",
    "            A dictionary that encapsulates the response body.\n",
    "\n",
    "        Raises:\n",
    "            ConnectionError: If the server is not reachable.\n",
    "            ValueError: If the response code is not in range of 200 - 399.\n",
    "        \"\"\"\n",
    "\n",
    "        server, auth_token = Client._get_server_url_and_token()\n",
    "\n",
    "        return delete_data(url=f\"{server}{relative_url}\", token=auth_token)"
   ]
  },
  {
   "cell_type": "code",
   "execution_count": null,
   "metadata": {},
   "outputs": [
    {
     "data": {
      "text/html": [
       "<pre style=\"white-space:pre;overflow-x:auto;line-height:normal;font-family:Menlo,'DejaVu Sans Mono',consolas,'Courier New',monospace\">╭─────────────────────────────────────────────────────────────────────────────────────────────────────────────────╮\n",
       "│ Example:                                                                                                        │\n",
       "│                                                                                                                 │\n",
       "│     # Importing necessary libraries                                                                             │\n",
       "│     from  airt.client import Client, User                                                                       │\n",
       "│                                                                                                                 │\n",
       "│     # Authenticate                                                                                              │\n",
       "│     # MFA enabled users must pass the OTP along with the username and password                                  │\n",
       "│     # to the get_token method.                                                                                  │\n",
       "│     Client.get_token(username=\"{fill in username}\", password=\"{fill in password}\")                              │\n",
       "│                                                                                                                 │\n",
       "│     # Print the logged-in user details                                                                          │\n",
       "│     print(User.details())                                                                                       │\n",
       "│                                                                                                                 │\n",
       "│ ╭────────────────────────────────────────────────── stdout ───────────────────────────────────────────────────╮ │\n",
       "│ │ {'username': 'johndoe', 'first_name': 'John', 'last_name': 'Doe', 'email': 'johndoe@airt.ai',               │ │\n",
       "│ │ 'subscription_type': 'small', 'super_user': False, 'phone_number': None, 'sso_profile_pic_url': None,       │ │\n",
       "│ │ 'uuid': 'e402909e-b462-4885-96d4-1996ec1af7e1', 'disabled': False, 'created': '2023-05-29T03:35:45',        │ │\n",
       "│ │ 'is_phone_number_verified': False, 'is_mfa_active': False}                                                  │ │\n",
       "│ │                                                                                                             │ │\n",
       "│ ╰─────────────────────────────────────────────────────────────────────────────────────────────────────────────╯ │\n",
       "│ ╭────────────────────────────────────────────────── stderr ───────────────────────────────────────────────────╮ │\n",
       "│ │                                                                                                             │ │\n",
       "│ ╰─────────────────────────────────────────────────────────────────────────────────────────────────────────────╯ │\n",
       "╰─────────────────────────────────────────────────────────────────────────────────────────────────────────────────╯\n",
       "</pre>\n"
      ],
      "text/plain": [
       "╭─────────────────────────────────────────────────────────────────────────────────────────────────────────────────╮\n",
       "│ Example:                                                                                                        │\n",
       "│                                                                                                                 │\n",
       "│     # Importing necessary libraries                                                                             │\n",
       "│     from  airt.client import Client, User                                                                       │\n",
       "│                                                                                                                 │\n",
       "│     # Authenticate                                                                                              │\n",
       "│     # MFA enabled users must pass the OTP along with the username and password                                  │\n",
       "│     # to the get_token method.                                                                                  │\n",
       "│     Client.get_token(username=\"{fill in username}\", password=\"{fill in password}\")                              │\n",
       "│                                                                                                                 │\n",
       "│     # Print the logged-in user details                                                                          │\n",
       "│     print(User.details())                                                                                       │\n",
       "│                                                                                                                 │\n",
       "│ ╭────────────────────────────────────────────────── stdout ───────────────────────────────────────────────────╮ │\n",
       "│ │ {'username': 'johndoe', 'first_name': 'John', 'last_name': 'Doe', 'email': 'johndoe@airt.ai',               │ │\n",
       "│ │ 'subscription_type': 'small', 'super_user': False, 'phone_number': None, 'sso_profile_pic_url': None,       │ │\n",
       "│ │ 'uuid': 'e402909e-b462-4885-96d4-1996ec1af7e1', 'disabled': False, 'created': '2023-05-29T03:35:45',        │ │\n",
       "│ │ 'is_phone_number_verified': False, 'is_mfa_active': False}                                                  │ │\n",
       "│ │                                                                                                             │ │\n",
       "│ ╰─────────────────────────────────────────────────────────────────────────────────────────────────────────────╯ │\n",
       "│ ╭────────────────────────────────────────────────── stderr ───────────────────────────────────────────────────╮ │\n",
       "│ │                                                                                                             │ │\n",
       "│ ╰─────────────────────────────────────────────────────────────────────────────────────────────────────────────╯ │\n",
       "╰─────────────────────────────────────────────────────────────────────────────────────────────────────────────────╯\n"
      ]
     },
     "metadata": {},
     "output_type": "display_data"
    }
   ],
   "source": [
    "# Run example for Client\n",
    "username = os.environ[SERVICE_USERNAME]\n",
    "password = os.environ[SERVICE_PASSWORD]\n",
    "\n",
    "run_examples_from_docstring(\n",
    "    Client,\n",
    "    username=username,\n",
    "    password=password,\n",
    ")"
   ]
  },
  {
   "cell_type": "code",
   "execution_count": null,
   "metadata": {},
   "outputs": [
    {
     "name": "stderr",
     "output_type": "stream",
     "text": [
      "<module>:15: No type or annotation for parameter 'username'\n",
      "<module>:17: No type or annotation for parameter 'password'\n",
      "<module>:19: No type or annotation for parameter 'server'\n",
      "<module>:23: No type or annotation for parameter 'sso_provider'\n",
      "<module>:25: No type or annotation for parameter 'otp'\n",
      "<module>:28: No type or annotation for returned value 1\n"
     ]
    },
    {
     "data": {
      "text/html": [
       "<pre style=\"white-space:pre;overflow-x:auto;line-height:normal;font-family:Menlo,'DejaVu Sans Mono',consolas,'Courier New',monospace\">╭─────────────────────────────────────────────────────────────────────────────────────────────────────────────────╮\n",
       "│ Example:                                                                                                        │\n",
       "│                                                                                                                 │\n",
       "│     # Importing necessary libraries                                                                             │\n",
       "│     from  airt.client import User, Client                                                                       │\n",
       "│                                                                                                                 │\n",
       "│     # Authenticate                                                                                              │\n",
       "│     Client.get_token(username=\"{fill in username}\", password=\"{fill in password}\")                              │\n",
       "│                                                                                                                 │\n",
       "│     # Print the logged-in user details                                                                          │\n",
       "│     print(User.details())                                                                                       │\n",
       "│                                                                                                                 │\n",
       "│ ╭────────────────────────────────────────────────── stdout ───────────────────────────────────────────────────╮ │\n",
       "│ │                                                                                                             │ │\n",
       "│ ╰─────────────────────────────────────────────────────────────────────────────────────────────────────────────╯ │\n",
       "│ ╭───────────────────────────────────────────── stderr supressed ──────────────────────────────────────────────╮ │\n",
       "│ │                                                                                                             │ │\n",
       "│ ╰─────────────────────────────────────────────────────────────────────────────────────────────────────────────╯ │\n",
       "╰─────────────────────────────────────────────────────────────────────────────────────────────────────────────────╯\n",
       "</pre>\n"
      ],
      "text/plain": [
       "╭─────────────────────────────────────────────────────────────────────────────────────────────────────────────────╮\n",
       "│ Example:                                                                                                        │\n",
       "│                                                                                                                 │\n",
       "│     # Importing necessary libraries                                                                             │\n",
       "│     from  airt.client import User, Client                                                                       │\n",
       "│                                                                                                                 │\n",
       "│     # Authenticate                                                                                              │\n",
       "│     Client.get_token(username=\"{fill in username}\", password=\"{fill in password}\")                              │\n",
       "│                                                                                                                 │\n",
       "│     # Print the logged-in user details                                                                          │\n",
       "│     print(User.details())                                                                                       │\n",
       "│                                                                                                                 │\n",
       "│ ╭────────────────────────────────────────────────── stdout ───────────────────────────────────────────────────╮ │\n",
       "│ │                                                                                                             │ │\n",
       "│ ╰─────────────────────────────────────────────────────────────────────────────────────────────────────────────╯ │\n",
       "│ ╭───────────────────────────────────────────── stderr supressed ──────────────────────────────────────────────╮ │\n",
       "│ │                                                                                                             │ │\n",
       "│ ╰─────────────────────────────────────────────────────────────────────────────────────────────────────────────╯ │\n",
       "╰─────────────────────────────────────────────────────────────────────────────────────────────────────────────────╯\n"
      ]
     },
     "metadata": {},
     "output_type": "display_data"
    }
   ],
   "source": [
    "# Run example for Client.get_token\n",
    "# The below example will throw Incorrect username or password, thats expected because\n",
    "# if we send valid username and password, the sms will be sent to the passed phone number.\n",
    "# We don't want to send the SMS each time we run the tests\n",
    "\n",
    "username = os.environ[SERVICE_USERNAME]\n",
    "password = os.environ[SERVICE_PASSWORD]\n",
    "with pytest.raises(RuntimeError) as e:\n",
    "    run_examples_from_docstring(\n",
    "        Client.get_token,\n",
    "        username=\"invalid_username\",\n",
    "        password=\"invalid_username\",\n",
    "        otp=\"000000\",\n",
    "        supress_stderr=True,\n",
    "    )"
   ]
  },
  {
   "cell_type": "code",
   "execution_count": null,
   "metadata": {},
   "outputs": [
    {
     "data": {
      "text/html": [
       "<pre style=\"white-space:pre;overflow-x:auto;line-height:normal;font-family:Menlo,'DejaVu Sans Mono',consolas,'Courier New',monospace\">╭─────────────────────────────────────────────────────────────────────────────────────────────────────────────────╮\n",
       "│ Example:                                                                                                        │\n",
       "│                                                                                                                 │\n",
       "│     # Importing necessary libraries                                                                             │\n",
       "│     from  airt.client import Client, User                                                                       │\n",
       "│                                                                                                                 │\n",
       "│     # Authenticate                                                                                              │\n",
       "│     Client.get_token(username=\"{fill in username}\", password=\"{fill in password}\")                              │\n",
       "│                                                                                                                 │\n",
       "│     # Enable single sign-on (SSO) and use google as the provider                                                │\n",
       "│     sso_provider=\"google\"                                                                                       │\n",
       "│     sso_email=\"{fill in sso_email}\"                                                                             │\n",
       "│     User.enable_sso(sso_provider=sso_provider, sso_email=sso_email)                                             │\n",
       "│                                                                                                                 │\n",
       "│     # Authenticate using Single sign-on (SSO)                                                                   │\n",
       "│     # To generate a token using SSO, you must first authenticate with the provider.                             │\n",
       "│     # The command below will generate an authorization URL for you.                                             │\n",
       "│     # Please copy and paste it into your preferred browser and complete the                                     │\n",
       "│     # SSO provider authentication within 10 minutes. Otherwise, the SSO login                                   │\n",
       "│     # will time out and you will need to call the get_token method again.                                       │\n",
       "│     sso_url = Client.get_token(sso_provider=sso_provider)                                                       │\n",
       "│     print(sso_url)                                                                                              │\n",
       "│                                                                                                                 │\n",
       "│     # Once the provider authentication is successful, call the below method to                                  │\n",
       "│     # set the generated token                                                                                   │\n",
       "│     Client.set_sso_token()                                                                                      │\n",
       "│                                                                                                                 │\n",
       "│     # If set_sso_token fails, the line below will throw an error.                                               │\n",
       "│     print(User.details())                                                                                       │\n",
       "│                                                                                                                 │\n",
       "│ ╭────────────────────────────────────────────────── stdout ───────────────────────────────────────────────────╮ │\n",
       "│ │                                                                                                             │ │\n",
       "│ ╰─────────────────────────────────────────────────────────────────────────────────────────────────────────────╯ │\n",
       "│ ╭───────────────────────────────────────────── stderr supressed ──────────────────────────────────────────────╮ │\n",
       "│ │                                                                                                             │ │\n",
       "│ ╰─────────────────────────────────────────────────────────────────────────────────────────────────────────────╯ │\n",
       "╰─────────────────────────────────────────────────────────────────────────────────────────────────────────────────╯\n",
       "</pre>\n"
      ],
      "text/plain": [
       "╭─────────────────────────────────────────────────────────────────────────────────────────────────────────────────╮\n",
       "│ Example:                                                                                                        │\n",
       "│                                                                                                                 │\n",
       "│     # Importing necessary libraries                                                                             │\n",
       "│     from  airt.client import Client, User                                                                       │\n",
       "│                                                                                                                 │\n",
       "│     # Authenticate                                                                                              │\n",
       "│     Client.get_token(username=\"{fill in username}\", password=\"{fill in password}\")                              │\n",
       "│                                                                                                                 │\n",
       "│     # Enable single sign-on (SSO) and use google as the provider                                                │\n",
       "│     sso_provider=\"google\"                                                                                       │\n",
       "│     sso_email=\"{fill in sso_email}\"                                                                             │\n",
       "│     User.enable_sso(sso_provider=sso_provider, sso_email=sso_email)                                             │\n",
       "│                                                                                                                 │\n",
       "│     # Authenticate using Single sign-on (SSO)                                                                   │\n",
       "│     # To generate a token using SSO, you must first authenticate with the provider.                             │\n",
       "│     # The command below will generate an authorization URL for you.                                             │\n",
       "│     # Please copy and paste it into your preferred browser and complete the                                     │\n",
       "│     # SSO provider authentication within 10 minutes. Otherwise, the SSO login                                   │\n",
       "│     # will time out and you will need to call the get_token method again.                                       │\n",
       "│     sso_url = Client.get_token(sso_provider=sso_provider)                                                       │\n",
       "│     print(sso_url)                                                                                              │\n",
       "│                                                                                                                 │\n",
       "│     # Once the provider authentication is successful, call the below method to                                  │\n",
       "│     # set the generated token                                                                                   │\n",
       "│     Client.set_sso_token()                                                                                      │\n",
       "│                                                                                                                 │\n",
       "│     # If set_sso_token fails, the line below will throw an error.                                               │\n",
       "│     print(User.details())                                                                                       │\n",
       "│                                                                                                                 │\n",
       "│ ╭────────────────────────────────────────────────── stdout ───────────────────────────────────────────────────╮ │\n",
       "│ │                                                                                                             │ │\n",
       "│ ╰─────────────────────────────────────────────────────────────────────────────────────────────────────────────╯ │\n",
       "│ ╭───────────────────────────────────────────── stderr supressed ──────────────────────────────────────────────╮ │\n",
       "│ │                                                                                                             │ │\n",
       "│ ╰─────────────────────────────────────────────────────────────────────────────────────────────────────────────╯ │\n",
       "╰─────────────────────────────────────────────────────────────────────────────────────────────────────────────────╯\n"
      ]
     },
     "metadata": {},
     "output_type": "display_data"
    }
   ],
   "source": [
    "# Run example for Client.set_sso_token\n",
    "with pytest.raises(RuntimeError) as e:\n",
    "    run_examples_from_docstring(\n",
    "        Client.set_sso_token,\n",
    "        username=\"invalid_username\",\n",
    "        password=\"invalid_username\",\n",
    "        sso_email=\"sso_email@mail.com\",\n",
    "        supress_stderr=True,\n",
    "    )"
   ]
  },
  {
   "cell_type": "code",
   "execution_count": null,
   "metadata": {},
   "outputs": [
    {
     "name": "stderr",
     "output_type": "stream",
     "text": [
      "<module>:3: No type or annotation for returned value 1\n"
     ]
    },
    {
     "data": {
      "text/html": [
       "<pre style=\"white-space:pre;overflow-x:auto;line-height:normal;font-family:Menlo,'DejaVu Sans Mono',consolas,'Courier New',monospace\">╭─────────────────────────────────────────────────────────────────────────────────────────────────────────────────╮\n",
       "│ Example:                                                                                                        │\n",
       "│                                                                                                                 │\n",
       "│     # Importing necessary libraries                                                                             │\n",
       "│     from  airt.client import Client                                                                             │\n",
       "│                                                                                                                 │\n",
       "│     # Get the client and server versions                                                                        │\n",
       "│     print(Client.version())                                                                                     │\n",
       "│                                                                                                                 │\n",
       "│ ╭────────────────────────────────────────────────── stdout ───────────────────────────────────────────────────╮ │\n",
       "│ │ {'client': '2023.4.0rc0', 'server': '2023.3.0rc0'}                                                          │ │\n",
       "│ │                                                                                                             │ │\n",
       "│ ╰─────────────────────────────────────────────────────────────────────────────────────────────────────────────╯ │\n",
       "│ ╭────────────────────────────────────────────────── stderr ───────────────────────────────────────────────────╮ │\n",
       "│ │                                                                                                             │ │\n",
       "│ ╰─────────────────────────────────────────────────────────────────────────────────────────────────────────────╯ │\n",
       "╰─────────────────────────────────────────────────────────────────────────────────────────────────────────────────╯\n",
       "</pre>\n"
      ],
      "text/plain": [
       "╭─────────────────────────────────────────────────────────────────────────────────────────────────────────────────╮\n",
       "│ Example:                                                                                                        │\n",
       "│                                                                                                                 │\n",
       "│     # Importing necessary libraries                                                                             │\n",
       "│     from  airt.client import Client                                                                             │\n",
       "│                                                                                                                 │\n",
       "│     # Get the client and server versions                                                                        │\n",
       "│     print(Client.version())                                                                                     │\n",
       "│                                                                                                                 │\n",
       "│ ╭────────────────────────────────────────────────── stdout ───────────────────────────────────────────────────╮ │\n",
       "│ │ {'client': '2023.4.0rc0', 'server': '2023.3.0rc0'}                                                          │ │\n",
       "│ │                                                                                                             │ │\n",
       "│ ╰─────────────────────────────────────────────────────────────────────────────────────────────────────────────╯ │\n",
       "│ ╭────────────────────────────────────────────────── stderr ───────────────────────────────────────────────────╮ │\n",
       "│ │                                                                                                             │ │\n",
       "│ ╰─────────────────────────────────────────────────────────────────────────────────────────────────────────────╯ │\n",
       "╰─────────────────────────────────────────────────────────────────────────────────────────────────────────────────╯\n"
      ]
     },
     "metadata": {},
     "output_type": "display_data"
    }
   ],
   "source": [
    "# Run example for Client.version\n",
    "\n",
    "run_examples_from_docstring(\n",
    "    Client.version,\n",
    ")"
   ]
  },
  {
   "cell_type": "code",
   "execution_count": null,
   "metadata": {},
   "outputs": [
    {
     "name": "stderr",
     "output_type": "stream",
     "text": [
      "<module>:8: No type or annotation for parameter 'token'\n",
      "<module>:10: No type or annotation for parameter 'server'\n"
     ]
    },
    {
     "data": {
      "text/html": [
       "<pre style=\"white-space:pre;overflow-x:auto;line-height:normal;font-family:Menlo,'DejaVu Sans Mono',consolas,'Courier New',monospace\">╭─────────────────────────────────────────────────────────────────────────────────────────────────────────────────╮\n",
       "│ Example:                                                                                                        │\n",
       "│                                                                                                                 │\n",
       "│     # Importing necessary libraries                                                                             │\n",
       "│     from  airt.client import Client, User                                                                       │\n",
       "│                                                                                                                 │\n",
       "│     # Optional Step: For demonstration purpose, generate a new token                                            │\n",
       "│     # When you generate a new token with the get_token method, you do not                                       │\n",
       "│     # need to explicitly call set_token. It is shown here for demo purposes only.                               │\n",
       "│     # Skip this step if you already have a valid token and pass it directly to                                  │\n",
       "│     # the set_token method below                                                                                │\n",
       "│     Client.get_token(username=\"{fill in username}\", password=\"{fill in password}\")                              │\n",
       "│                                                                                                                 │\n",
       "│     # Setting a valid token                                                                                     │\n",
       "│     Client.set_token(token=Client.auth_token)                                                                   │\n",
       "│                                                                                                                 │\n",
       "│     # If set_token fails, the line below will throw an error.                                                   │\n",
       "│     print(User.details())                                                                                       │\n",
       "│                                                                                                                 │\n",
       "│ ╭────────────────────────────────────────────────── stdout ───────────────────────────────────────────────────╮ │\n",
       "│ │ {'username': 'johndoe', 'first_name': 'John', 'last_name': 'Doe', 'email': 'johndoe@airt.ai',               │ │\n",
       "│ │ 'subscription_type': 'small', 'super_user': False, 'phone_number': None, 'sso_profile_pic_url': None,       │ │\n",
       "│ │ 'uuid': 'e402909e-b462-4885-96d4-1996ec1af7e1', 'disabled': False, 'created': '2023-05-29T03:35:45',        │ │\n",
       "│ │ 'is_phone_number_verified': False, 'is_mfa_active': False}                                                  │ │\n",
       "│ │                                                                                                             │ │\n",
       "│ ╰─────────────────────────────────────────────────────────────────────────────────────────────────────────────╯ │\n",
       "│ ╭────────────────────────────────────────────────── stderr ───────────────────────────────────────────────────╮ │\n",
       "│ │                                                                                                             │ │\n",
       "│ ╰─────────────────────────────────────────────────────────────────────────────────────────────────────────────╯ │\n",
       "╰─────────────────────────────────────────────────────────────────────────────────────────────────────────────────╯\n",
       "</pre>\n"
      ],
      "text/plain": [
       "╭─────────────────────────────────────────────────────────────────────────────────────────────────────────────────╮\n",
       "│ Example:                                                                                                        │\n",
       "│                                                                                                                 │\n",
       "│     # Importing necessary libraries                                                                             │\n",
       "│     from  airt.client import Client, User                                                                       │\n",
       "│                                                                                                                 │\n",
       "│     # Optional Step: For demonstration purpose, generate a new token                                            │\n",
       "│     # When you generate a new token with the get_token method, you do not                                       │\n",
       "│     # need to explicitly call set_token. It is shown here for demo purposes only.                               │\n",
       "│     # Skip this step if you already have a valid token and pass it directly to                                  │\n",
       "│     # the set_token method below                                                                                │\n",
       "│     Client.get_token(username=\"{fill in username}\", password=\"{fill in password}\")                              │\n",
       "│                                                                                                                 │\n",
       "│     # Setting a valid token                                                                                     │\n",
       "│     Client.set_token(token=Client.auth_token)                                                                   │\n",
       "│                                                                                                                 │\n",
       "│     # If set_token fails, the line below will throw an error.                                                   │\n",
       "│     print(User.details())                                                                                       │\n",
       "│                                                                                                                 │\n",
       "│ ╭────────────────────────────────────────────────── stdout ───────────────────────────────────────────────────╮ │\n",
       "│ │ {'username': 'johndoe', 'first_name': 'John', 'last_name': 'Doe', 'email': 'johndoe@airt.ai',               │ │\n",
       "│ │ 'subscription_type': 'small', 'super_user': False, 'phone_number': None, 'sso_profile_pic_url': None,       │ │\n",
       "│ │ 'uuid': 'e402909e-b462-4885-96d4-1996ec1af7e1', 'disabled': False, 'created': '2023-05-29T03:35:45',        │ │\n",
       "│ │ 'is_phone_number_verified': False, 'is_mfa_active': False}                                                  │ │\n",
       "│ │                                                                                                             │ │\n",
       "│ ╰─────────────────────────────────────────────────────────────────────────────────────────────────────────────╯ │\n",
       "│ ╭────────────────────────────────────────────────── stderr ───────────────────────────────────────────────────╮ │\n",
       "│ │                                                                                                             │ │\n",
       "│ ╰─────────────────────────────────────────────────────────────────────────────────────────────────────────────╯ │\n",
       "╰─────────────────────────────────────────────────────────────────────────────────────────────────────────────────╯\n"
      ]
     },
     "metadata": {},
     "output_type": "display_data"
    }
   ],
   "source": [
    "# Run example for Client.set_token\n",
    "\n",
    "run_examples_from_docstring(Client.set_token, username=username, password=password)"
   ]
  },
  {
   "cell_type": "code",
   "execution_count": null,
   "metadata": {},
   "outputs": [
    {
     "data": {
      "text/plain": [
       "\"server='https://api.airt.ai'\""
      ]
     },
     "metadata": {},
     "output_type": "display_data"
    }
   ],
   "source": [
    "# Tests for Client._get_server_url_and_token.\n",
    "# cls.server is set to None, and the env variable is not set. The public URL should be returned\n",
    "\n",
    "# deleting the env variable\n",
    "_SERVER_URL = None\n",
    "\n",
    "if os.environ.get(SERVER_URL):\n",
    "    _SERVER_URL = os.environ.get(SERVER_URL)\n",
    "    del os.environ[SERVER_URL]\n",
    "\n",
    "server, auth_token = Client._get_server_url_and_token()\n",
    "\n",
    "expected = \"https://api.airt.ai\"\n",
    "\n",
    "display(f\"{server=}\")\n",
    "assert server == expected\n",
    "\n",
    "# Assigning the value back to the env variable\n",
    "if _SERVER_URL:\n",
    "    os.environ[SERVER_URL] = _SERVER_URL"
   ]
  },
  {
   "cell_type": "code",
   "execution_count": null,
   "metadata": {},
   "outputs": [
    {
     "data": {
      "text/plain": [
       "\"len(server)=27 server='http://example-service:6006'\""
      ]
     },
     "metadata": {},
     "output_type": "display_data"
    },
    {
     "data": {
      "text/plain": [
       "'len(expected)=27'"
      ]
     },
     "metadata": {},
     "output_type": "display_data"
    }
   ],
   "source": [
    "# Tests for Client._get_server_url_and_token.\n",
    "# cls.server is set to \"http://example-service:6006\", the same should be returned\n",
    "\n",
    "Client.server = \"http://example-service:6006\"\n",
    "\n",
    "server, auth_token = Client._get_server_url_and_token()\n",
    "\n",
    "expected = \"http://example-service:6006\"\n",
    "\n",
    "display(f\"{len(server)=} {server=}\")\n",
    "display(f\"{len(expected)=}\")\n",
    "assert server == expected"
   ]
  },
  {
   "cell_type": "code",
   "execution_count": null,
   "metadata": {},
   "outputs": [
    {
     "data": {
      "text/plain": [
       "\"len(server)=24 server='http://airt-service:6006'\""
      ]
     },
     "metadata": {},
     "output_type": "display_data"
    },
    {
     "data": {
      "text/plain": [
       "'len(expected)=24'"
      ]
     },
     "metadata": {},
     "output_type": "display_data"
    }
   ],
   "source": [
    "# Tests for Client._get_server_url_and_token.\n",
    "# cls.server is set to None, and getting the server URL from env variable\n",
    "\n",
    "Client.server = None\n",
    "\n",
    "server, auth_token = Client._get_server_url_and_token()\n",
    "\n",
    "expected = os.environ.get(SERVER_URL)\n",
    "\n",
    "display(f\"{len(server)=} {server=}\")\n",
    "display(f\"{len(expected)=}\")\n",
    "assert server == expected"
   ]
  },
  {
   "cell_type": "code",
   "execution_count": null,
   "metadata": {},
   "outputs": [
    {
     "data": {
      "text/plain": [
       "{'client': '2023.4.0rc0', 'server': '2023.3.0rc0'}"
      ]
     },
     "metadata": {},
     "output_type": "display_data"
    }
   ],
   "source": [
    "# Tests for version\n",
    "\n",
    "version = Client.version()\n",
    "\n",
    "display(version)\n",
    "\n",
    "assert list(version.keys()) == [\"client\", \"server\"]"
   ]
  },
  {
   "cell_type": "code",
   "execution_count": null,
   "metadata": {},
   "outputs": [
    {
     "data": {
      "text/plain": [
       "'SSO is not enabled for the provider.'"
      ]
     },
     "metadata": {},
     "output_type": "display_data"
    },
    {
     "data": {
      "text/plain": [
       "'SSO is not enabled for the provider.'"
      ]
     },
     "metadata": {},
     "output_type": "display_data"
    }
   ],
   "source": [
    "# Tests for Client.get_token\n",
    "# Testing the SSO flow\n",
    "# Negative scenario: generating SSO token without enabling the SSO provider\n",
    "sso_providers = [\"google\", \"github\"]\n",
    "for sso_provider in sso_providers:\n",
    "    with pytest.raises(ValueError) as e:\n",
    "        Client.get_token(sso_provider=sso_provider)\n",
    "    assert \"SSO is not enabled\" in str(e.value)\n",
    "    display(str(e.value))"
   ]
  },
  {
   "cell_type": "code",
   "execution_count": null,
   "metadata": {},
   "outputs": [],
   "source": [
    "# A helper context manager to create new users for testing\n",
    "@contextmanager\n",
    "def create_normal_user_for_testing():\n",
    "    try:\n",
    "        # 1. Get Super user token\n",
    "        username = os.environ[SERVICE_SUPER_USER]\n",
    "        password = os.environ[SERVICE_PASSWORD]\n",
    "\n",
    "        Client.get_token(username=username, password=password)\n",
    "\n",
    "        _user_name = f\"random_user_{randrange(10000)}_{randrange(10000)}\"\n",
    "        _email = f\"random_user_{randrange(10000)}_{randrange(10000)}@email.com\"\n",
    "        _password = \"random_password\"\n",
    "\n",
    "        req_data = dict(\n",
    "            username=_user_name,\n",
    "            first_name=\"random_first_name\",\n",
    "            last_name=\"random_last_name\",\n",
    "            email=_email,\n",
    "            password=_password,\n",
    "            super_user=False,\n",
    "            subscription_type=\"test\",\n",
    "        )\n",
    "\n",
    "        response = Client._post_data(relative_url=f\"/user/\", json=req_data)\n",
    "\n",
    "        response_df = pd.DataFrame(response, index=[0])[User.USER_COLS]\n",
    "\n",
    "        assert response_df.shape == (1, len(User.USER_COLS))\n",
    "\n",
    "        Client.get_token(username=_user_name, password=_password)\n",
    "\n",
    "        yield _user_name, _password\n",
    "\n",
    "    finally:\n",
    "        pass"
   ]
  },
  {
   "cell_type": "code",
   "execution_count": null,
   "metadata": {},
   "outputs": [
    {
     "data": {
      "text/plain": [
       "\"server='http://airt-service:6006', mask(auth_token)='*************************************************************************************************************************************************'\""
      ]
     },
     "metadata": {},
     "output_type": "display_data"
    }
   ],
   "source": [
    "# Tests for Client.get_token\n",
    "# Testing the SSO flow\n",
    "# Positive scenario: SSO enabled user generating token using non-SSO flow\n",
    "\n",
    "\n",
    "with create_normal_user_for_testing() as credentials:\n",
    "    username = credentials[0]\n",
    "    password = credentials[1]\n",
    "\n",
    "    sso_email = \"sso_email@mail.com\"\n",
    "    sso_provider = \"google\"\n",
    "    actual = Client._post_data(\n",
    "        relative_url=f\"/user/sso/enable\",\n",
    "        json=dict(sso_provider=sso_provider, sso_email=sso_email, otp=None),\n",
    "    )\n",
    "    Client.get_token(username=username, password=password)\n",
    "    server, auth_token = Client._get_server_url_and_token()\n",
    "\n",
    "    display(f\"{server=}, {mask(auth_token)=}\")"
   ]
  },
  {
   "cell_type": "code",
   "execution_count": null,
   "metadata": {},
   "outputs": [
    {
     "data": {
      "text/plain": [
       "'https://accounts.google.com/o/oauth2/v2/auth?response_type=code&client_id=842138153914-6kvm51cpin7iocg3nrsnl44s3d24u047.apps.googleusercontent.com&redirect_uri=http%3A%2F%2F127.0.0.1%3A6006%2Fsso%2Fcallback&scope=https%3A%2F%2Fwww.googleapis.com%2Fauth%2Fuserinfo.email+https%3A%2F%2Fwww.googleapis.com%2Fauth%2Fuserinfo.profile+openid&state=aa296044481fb9d17a88aa5cdee7fe24d78093ec4cb7e65adb8c4fefc2f697de_random_user_5761_1673&prompt=select_account'"
      ]
     },
     "metadata": {},
     "output_type": "display_data"
    }
   ],
   "source": [
    "# Tests for Client.get_token\n",
    "# Testing the SSO flow\n",
    "# Positive scenario: SSO enabled user generating token using SSO flow\n",
    "\n",
    "\n",
    "with create_normal_user_for_testing() as credentials:\n",
    "    username = credentials[0]\n",
    "    password = credentials[1]\n",
    "\n",
    "    sso_email = \"random_email@mail.com\"\n",
    "    sso_provider = \"google\"\n",
    "    actual = Client._post_data(\n",
    "        relative_url=f\"/user/sso/enable\",\n",
    "        json=dict(sso_provider=sso_provider, sso_email=sso_email, otp=None),\n",
    "    )\n",
    "    sso_authorization_url = Client.get_token(\n",
    "        username=username, password=password, sso_provider=sso_provider\n",
    "    )\n",
    "    display(sso_authorization_url)\n",
    "    assert sso_authorization_url == Client.sso_authorization_url\n",
    "    assert sso_provider in Client.sso_authorization_url"
   ]
  },
  {
   "cell_type": "code",
   "execution_count": null,
   "metadata": {},
   "outputs": [
    {
     "data": {
      "text/plain": [
       "'https://github.com/login/oauth/authorize?response_type=code&client_id=a0f58d9e50375190dbf0&redirect_uri=http%3A%2F%2F127.0.0.1%3A6006%2Fsso%2Fcallback&scope=user%3Aemail&state=07e7373eccd44059a474c26ccecc1634aca5817ee39c74be9dcd819332d84bef_random_user_1442_90&prompt=select_account'"
      ]
     },
     "metadata": {},
     "output_type": "display_data"
    }
   ],
   "source": [
    "# Tests for Client.get_token\n",
    "# Testing the SSO flow\n",
    "# Positive scenario: SSO enabled user generating token using SSO flow\n",
    "\n",
    "\n",
    "with create_normal_user_for_testing() as credentials:\n",
    "    username = credentials[0]\n",
    "    password = credentials[1]\n",
    "\n",
    "    sso_email = \"random_email@mail.com\"\n",
    "    sso_provider = \"github\"\n",
    "    actual = Client._post_data(\n",
    "        relative_url=f\"/user/sso/enable\",\n",
    "        json=dict(sso_provider=sso_provider, sso_email=sso_email, otp=None),\n",
    "    )\n",
    "    sso_authorization_url = Client.get_token(\n",
    "        username=username, password=password, sso_provider=sso_provider\n",
    "    )\n",
    "    display(sso_authorization_url)\n",
    "    assert sso_authorization_url == Client.sso_authorization_url\n",
    "    assert sso_provider in Client.sso_authorization_url"
   ]
  },
  {
   "cell_type": "code",
   "execution_count": null,
   "metadata": {},
   "outputs": [
    {
     "data": {
      "text/plain": [
       "'Incorrect username or password. Please try again.'"
      ]
     },
     "execution_count": null,
     "metadata": {},
     "output_type": "execute_result"
    }
   ],
   "source": [
    "# Tests for Client.get_token\n",
    "# Testing the SSO flow\n",
    "# Negative scenario: Non-MFA user passing OTP while intiating SSO flow\n",
    "\n",
    "with create_normal_user_for_testing() as credentials:\n",
    "    username = credentials[0]\n",
    "    password = credentials[1]\n",
    "\n",
    "    sso_email = \"random_user@gmail.com\"\n",
    "    sso_provider = \"github\"\n",
    "    random_otp = \"123456\"\n",
    "    actual = Client._post_data(\n",
    "        relative_url=f\"/user/sso/enable\",\n",
    "        json=dict(sso_provider=sso_provider, sso_email=sso_email, otp=None),\n",
    "    )\n",
    "    with pytest.raises(ValueError) as e:\n",
    "        Client.get_token(sso_provider=sso_provider, otp=random_otp)\n",
    "    assert \"Incorrect username or password\" in str(e.value)\n",
    "str(e.value)"
   ]
  },
  {
   "cell_type": "code",
   "execution_count": null,
   "metadata": {},
   "outputs": [
    {
     "data": {
      "text/plain": [
       "'SSO is not enabled for the provider.'"
      ]
     },
     "execution_count": null,
     "metadata": {},
     "output_type": "execute_result"
    }
   ],
   "source": [
    "# Tests for Client.get_token\n",
    "# Testing the SSO flow\n",
    "# Negative scenario: Generating token for wrong sso_provider\n",
    "\n",
    "\n",
    "with create_normal_user_for_testing() as credentials:\n",
    "    username = credentials[0]\n",
    "    password = credentials[1]\n",
    "\n",
    "    sso_email = \"random_user@gmail.com\"\n",
    "    sso_provider = \"github\"\n",
    "    actual = Client._post_data(\n",
    "        relative_url=f\"/user/sso/enable\",\n",
    "        json=dict(sso_provider=sso_provider, sso_email=sso_email, otp=None),\n",
    "    )\n",
    "    with pytest.raises(ValueError) as e:\n",
    "        Client.get_token(sso_provider=sso_provider)\n",
    "    assert \"SSO is not enabled\" in str(e.value)\n",
    "str(e.value)"
   ]
  },
  {
   "cell_type": "code",
   "execution_count": null,
   "metadata": {},
   "outputs": [
    {
     "data": {
      "text/plain": [
       "\"Invalid SSO provider. Valid SSO providers are: ['google', 'github']\""
      ]
     },
     "execution_count": null,
     "metadata": {},
     "output_type": "execute_result"
    }
   ],
   "source": [
    "# Tests for Client.get_token\n",
    "# Testing the SSO flow\n",
    "# Negative scenario: Generating token for invalid sso_provider\n",
    "\n",
    "\n",
    "with create_normal_user_for_testing() as credentials:\n",
    "    username = credentials[0]\n",
    "    password = credentials[1]\n",
    "\n",
    "    sso_email = \"random_user@gmail.com\"\n",
    "    sso_provider = \"google\"\n",
    "    invalid_sso_provider = \"invalid_sso_provider\"\n",
    "    actual = Client._post_data(\n",
    "        relative_url=f\"/user/sso/enable\",\n",
    "        json=dict(sso_provider=sso_provider, sso_email=sso_email, otp=None),\n",
    "    )\n",
    "    with pytest.raises(ValueError) as e:\n",
    "        Client.get_token(sso_provider=invalid_sso_provider)\n",
    "str(e.value)"
   ]
  },
  {
   "cell_type": "code",
   "execution_count": null,
   "metadata": {},
   "outputs": [
    {
     "data": {
      "text/plain": [
       "'https://accounts.google.com/o/oauth2/v2/auth?response_type=code&client_id=842138153914-6kvm51cpin7iocg3nrsnl44s3d24u047.apps.googleusercontent.com&redirect_uri=http%3A%2F%2F127.0.0.1%3A6006%2Fsso%2Fcallback&scope=https%3A%2F%2Fwww.googleapis.com%2Fauth%2Fuserinfo.email+https%3A%2F%2Fwww.googleapis.com%2Fauth%2Fuserinfo.profile+openid&state=b379ce2e66de1200d5d26df74f9d051cd678875425b6476abe47cb23b9fb3c3c_random_user_5979_620&prompt=select_account'"
      ]
     },
     "metadata": {},
     "output_type": "display_data"
    },
    {
     "data": {
      "text/plain": [
       "'SSO authentication is not complete. Please click on the authentication link you have received while requesting a new token and complete the login process first.'"
      ]
     },
     "metadata": {},
     "output_type": "display_data"
    }
   ],
   "source": [
    "# Tests for Client.set_sso_token\n",
    "# Negative scenario: Trying to set sso token without completing the SSO authentication\n",
    "\n",
    "with create_normal_user_for_testing() as credentials:\n",
    "    username = credentials[0]\n",
    "    password = credentials[1]\n",
    "\n",
    "    sso_email = \"random_email@mail.com\"\n",
    "    sso_provider = \"google\"\n",
    "    actual = Client._post_data(\n",
    "        relative_url=f\"/user/sso/enable\",\n",
    "        json=dict(sso_provider=sso_provider, sso_email=sso_email, otp=None),\n",
    "    )\n",
    "    sso_authorization_url = Client.get_token(\n",
    "        username=username, password=password, sso_provider=sso_provider\n",
    "    )\n",
    "    display(sso_authorization_url)\n",
    "\n",
    "    assert sso_authorization_url == Client.sso_authorization_url\n",
    "\n",
    "    with pytest.raises(ValueError) as e:\n",
    "        Client.set_sso_token()\n",
    "\n",
    "    err = str(e.value)\n",
    "    assert \"SSO authentication is not complete\" in err\n",
    "    display(err)"
   ]
  },
  {
   "cell_type": "code",
   "execution_count": null,
   "metadata": {},
   "outputs": [
    {
     "data": {
      "text/plain": [
       "\"server='http://airt-service:6006', mask(auth_token)='*******************************************************************************************************************************'\""
      ]
     },
     "metadata": {},
     "output_type": "display_data"
    }
   ],
   "source": [
    "# Tests for Client\n",
    "# Checking positive scenario. Read both username and password from the environment variables\n",
    "Client.get_token()\n",
    "server, auth_token = Client._get_server_url_and_token()\n",
    "\n",
    "display(f\"{server=}, {mask(auth_token)=}\")\n",
    "\n",
    "assert server == os.environ.get(SERVER_URL)\n",
    "assert len(auth_token) >= 127  # maybe"
   ]
  },
  {
   "cell_type": "code",
   "execution_count": null,
   "metadata": {},
   "outputs": [
    {
     "data": {
      "text/plain": [
       "\"server='http://airt-service:6006', mask(auth_token)='*******************************************************************************************************************************'\""
      ]
     },
     "metadata": {},
     "output_type": "display_data"
    }
   ],
   "source": [
    "# Tests for Client\n",
    "# Checking positive scenario. Passing all the required parameters in arguments\n",
    "\n",
    "username = os.environ[SERVICE_USERNAME]\n",
    "password = os.environ[SERVICE_PASSWORD]\n",
    "\n",
    "Client.get_token(username=username, password=password)\n",
    "\n",
    "server, auth_token = Client._get_server_url_and_token()\n",
    "display(f\"{server=}, {mask(auth_token)=}\")\n",
    "\n",
    "assert server == os.environ.get(SERVER_URL)\n",
    "assert len(auth_token) >= 127  # maybe"
   ]
  },
  {
   "cell_type": "code",
   "execution_count": null,
   "metadata": {},
   "outputs": [
    {
     "data": {
      "text/plain": [
       "\"e.value=ValueError('Incorrect username or password. Please try again.')\""
      ]
     },
     "metadata": {},
     "output_type": "display_data"
    }
   ],
   "source": [
    "# Tests for Client\n",
    "# Checking negative scenario. Passing wrong username and password combination\n",
    "\n",
    "username = \"randomUser\"\n",
    "password = \"whatever\"\n",
    "\n",
    "with pytest.raises(ValueError) as e:\n",
    "    Client.get_token(username=username, password=password)\n",
    "\n",
    "display(f\"{e.value=}\")\n",
    "assert \"Incorrect username or password\" in str(e.value)"
   ]
  },
  {
   "cell_type": "code",
   "execution_count": null,
   "metadata": {},
   "outputs": [
    {
     "data": {
      "text/plain": [
       "\"response={'airt_service': '2023.3.0rc0'}\""
      ]
     },
     "metadata": {},
     "output_type": "display_data"
    }
   ],
   "source": [
    "# Test cases for Client._get_data\n",
    "# Checking positive scenario.\n",
    "\n",
    "response = Client._get_data(relative_url=f\"/version\")\n",
    "\n",
    "display(f\"{response=}\")\n",
    "assert \"airt_service\" in response.keys()"
   ]
  },
  {
   "cell_type": "code",
   "execution_count": null,
   "metadata": {},
   "outputs": [
    {
     "data": {
      "text/plain": [
       "\"\\ne.value=ValueError('The datablob has already been deleted.')\""
      ]
     },
     "metadata": {},
     "output_type": "display_data"
    }
   ],
   "source": [
    "# Test cases for Client._delete_data\n",
    "\n",
    "\n",
    "def create_and_return_test_db_id():\n",
    "    uri = \"s3://test-airt-service/account_312571_events_csv\"\n",
    "    access_key = os.environ[\"AWS_ACCESS_KEY_ID\"]\n",
    "    secret_key = os.environ[\"AWS_SECRET_ACCESS_KEY\"]\n",
    "    tag = None\n",
    "\n",
    "    response = Client._post_data(\n",
    "        relative_url=\"/datablob/from_s3\",\n",
    "        json=dict(uri=uri, access_key=access_key, secret_key=secret_key, tag=tag),\n",
    "    )\n",
    "\n",
    "    return response[\"uuid\"]\n",
    "\n",
    "\n",
    "db_id = create_and_return_test_db_id()\n",
    "\n",
    "# Deleting the sample datablob\n",
    "response = Client._delete_data(relative_url=f\"/datablob/{db_id}\")\n",
    "assert response[\"uuid\"] == db_id\n",
    "\n",
    "# Negative scenario. Trying to delete already deleted data source\n",
    "with pytest.raises(ValueError) as e:\n",
    "    Client._delete_data(relative_url=f\"/datablob/{db_id}\")\n",
    "\n",
    "display(f\"\\n{e.value=}\")"
   ]
  },
  {
   "cell_type": "code",
   "execution_count": null,
   "metadata": {},
   "outputs": [
    {
     "data": {
      "text/plain": [
       "'str(e.value)=\"\\'The token is neither passed as parameter nor set in the environment variable AIRT_SERVICE_TOKEN.\\'\"'"
      ]
     },
     "metadata": {},
     "output_type": "display_data"
    }
   ],
   "source": [
    "# Test cases for Client.set_token\n",
    "# Negative case: The token is not passed as parameter nor set in SERVICE_TOKEN\n",
    "\n",
    "with pytest.raises(KeyError) as e:\n",
    "    Client.set_token()\n",
    "\n",
    "display(f\"{str(e.value)=}\")\n",
    "assert (\n",
    "    str(e.value)\n",
    "    == f\"'The token is neither passed as parameter nor set in the environment variable {SERVICE_TOKEN}.'\"\n",
    ")"
   ]
  },
  {
   "cell_type": "code",
   "execution_count": null,
   "metadata": {},
   "outputs": [
    {
     "data": {
      "text/plain": [
       "\"type(response)=<class 'list'>\""
      ]
     },
     "metadata": {},
     "output_type": "display_data"
    }
   ],
   "source": [
    "# Test cases for Client.set_token\n",
    "# Positive case: Setting valid token in SERVICE_TOKEN env variable and accessing the API\n",
    "\n",
    "os.environ[SERVICE_TOKEN] = auth_token\n",
    "\n",
    "Client.set_token()\n",
    "\n",
    "response = Client._get_data(\n",
    "    relative_url=f\"/datablob/?disabled=false&completed=false&offset=0&limit=100\"\n",
    ")\n",
    "\n",
    "display(f\"{type(response)=}\")\n",
    "assert isinstance(response, list)\n",
    "\n",
    "# Deleting the env variable\n",
    "del os.environ[SERVICE_TOKEN]\n",
    "assert not os.environ.get(SERVICE_TOKEN)"
   ]
  },
  {
   "cell_type": "code",
   "execution_count": null,
   "metadata": {},
   "outputs": [
    {
     "data": {
      "text/plain": [
       "\"server='http://fake-server', auth_token='fake-token'\""
      ]
     },
     "metadata": {},
     "output_type": "display_data"
    }
   ],
   "source": [
    "# Test cases for Client.set_token\n",
    "# Positive case: Setting token and server using Client.set_token and asserting the same using Client._get_server_url_and_token\n",
    "\n",
    "fake_token = \"fake-token\"\n",
    "fake_server = \"http://fake-server\"\n",
    "\n",
    "Client.set_token(fake_token, fake_server)\n",
    "\n",
    "server, auth_token = Client._get_server_url_and_token()\n",
    "\n",
    "display(f\"{server=}, {auth_token=}\")\n",
    "assert (server, auth_token) == (fake_server, fake_token)"
   ]
  },
  {
   "cell_type": "code",
   "execution_count": null,
   "metadata": {},
   "outputs": [
    {
     "data": {
      "text/plain": [
       "\"str(e.value)='Your credentials could not be validated. The developer token/apikey is invalid or expired.'\""
      ]
     },
     "metadata": {},
     "output_type": "display_data"
    }
   ],
   "source": [
    "# Test cases for Client.set_token\n",
    "# Negative case: Setting invalid token and accessing the API\n",
    "\n",
    "Client.set_token(fake_token)\n",
    "\n",
    "with pytest.raises(ValueError) as e:\n",
    "    Client._get_data(\n",
    "        relative_url=f\"/datablob/?disabled=false&completed=false&offset=0&limit=100\"\n",
    "    )\n",
    "\n",
    "\n",
    "display(f\"{str(e.value)=}\")"
   ]
  },
  {
   "cell_type": "code",
   "execution_count": null,
   "metadata": {},
   "outputs": [
    {
     "data": {
      "text/plain": [
       "\"type(response)=<class 'list'>\""
      ]
     },
     "metadata": {},
     "output_type": "display_data"
    }
   ],
   "source": [
    "# Test cases for Client.set_token\n",
    "# Positive case: Setting valid token and accessing the API\n",
    "\n",
    "Client.get_token()\n",
    "server, auth_token = Client._get_server_url_and_token()\n",
    "\n",
    "Client.set_token(auth_token)\n",
    "\n",
    "response = Client._get_data(\n",
    "    relative_url=f\"/datablob/?disabled=false&completed=false&offset=0&limit=100\"\n",
    ")\n",
    "\n",
    "display(f\"{type(response)=}\")\n",
    "assert isinstance(response, list)"
   ]
  },
  {
   "cell_type": "code",
   "execution_count": null,
   "metadata": {},
   "outputs": [],
   "source": []
  }
 ],
 "metadata": {
  "kernelspec": {
   "display_name": "python3",
   "language": "python",
   "name": "python3"
  }
 },
 "nbformat": 4,
 "nbformat_minor": 2
}
