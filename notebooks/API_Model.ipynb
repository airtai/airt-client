{
 "cells": [
  {
   "cell_type": "raw",
   "metadata": {},
   "source": [
    "---\n",
    "description: This module contains all classes encapsulating the model routes of the\n",
    "  API service.\n",
    "output-file: api_model.html\n",
    "title: API_Model\n",
    "\n",
    "---\n",
    "\n"
   ]
  },
  {
   "cell_type": "code",
   "execution_count": null,
   "metadata": {},
   "outputs": [],
   "source": [
    "# | default_exp _components.model"
   ]
  },
  {
   "cell_type": "markdown",
   "metadata": {},
   "source": [
    "Note: \n",
    "\n",
    "While writing doc strings, please use the below syntax for linking methods/classes. So that the methods/classes gets highlighted in the browser and clicking on it will take the user to the linked function\n",
    "\n",
    "    - To link a method from the class same file please use the `method_name` format.\n",
    "    - To link a method from a different Class (can in a seperate file also) please use `Classname.method_name` format."
   ]
  },
  {
   "cell_type": "code",
   "execution_count": null,
   "metadata": {},
   "outputs": [
    {
     "name": "stdout",
     "output_type": "stream",
     "text": [
      "[INFO] airt.testing.activate_by_import: Testing environment activated.\n"
     ]
    }
   ],
   "source": [
    "from airt._testing import activate_by_import"
   ]
  },
  {
   "cell_type": "code",
   "execution_count": null,
   "metadata": {},
   "outputs": [],
   "source": [
    "# | export\n",
    "\n",
    "from typing import *"
   ]
  },
  {
   "cell_type": "code",
   "execution_count": null,
   "metadata": {},
   "outputs": [],
   "source": [
    "# | exporti\n",
    "\n",
    "import os\n",
    "\n",
    "import pandas as pd\n",
    "from fastcore.foundation import patch\n",
    "\n",
    "from airt._components.client import Client\n",
    "from airt._components.prediction import Prediction\n",
    "from airt._components.progress_status import ProgressStatus\n",
    "from airt._helper import (\n",
    "    add_example_to_docs,\n",
    "    add_ready_column,\n",
    "    delete_data,\n",
    "    generate_df,\n",
    "    get_attributes_from_instances,\n",
    "    get_data,\n",
    "    post_data,\n",
    ")\n",
    "from airt._logger import get_logger, set_level"
   ]
  },
  {
   "cell_type": "code",
   "execution_count": null,
   "metadata": {},
   "outputs": [],
   "source": [
    "import logging\n",
    "from contextlib import contextmanager\n",
    "from datetime import datetime, timedelta\n",
    "\n",
    "import pytest\n",
    "\n",
    "import airt._sanitizer\n",
    "from airt._components.datablob import DataBlob\n",
    "from airt._constant import SERVICE_PASSWORD, SERVICE_USERNAME\n",
    "from airt._docstring.helpers import run_examples_from_docstring\n",
    "from airt.client import DataSource"
   ]
  },
  {
   "cell_type": "code",
   "execution_count": null,
   "metadata": {},
   "outputs": [],
   "source": [
    "# | exporti\n",
    "\n",
    "logger = get_logger(__name__)"
   ]
  },
  {
   "cell_type": "code",
   "execution_count": null,
   "metadata": {},
   "outputs": [
    {
     "data": {
      "text/plain": [
       "'logger.getEffectiveLevel()=20'"
      ]
     },
     "metadata": {},
     "output_type": "display_data"
    },
    {
     "name": "stdout",
     "output_type": "stream",
     "text": [
      "[INFO] __main__: This is an info\n",
      "[WARNING] __main__: This is a warning\n",
      "[ERROR] __main__: This is an error\n"
     ]
    }
   ],
   "source": [
    "display(f\"{logger.getEffectiveLevel()=}\")\n",
    "assert logger.getEffectiveLevel() == logging.INFO\n",
    "\n",
    "logger.debug(\"This is a debug message\")\n",
    "logger.info(\"This is an info\")\n",
    "logger.warning(\"This is a warning\")\n",
    "logger.error(\"This is an error\")"
   ]
  },
  {
   "cell_type": "code",
   "execution_count": null,
   "metadata": {},
   "outputs": [],
   "source": [
    "TEST_S3_URI = \"s3://test-airt-service/ecommerce_behavior_notebooks\"\n",
    "RANDOM_UUID_FOR_TESTING = \"00000000-0000-0000-0000-000000000000\""
   ]
  },
  {
   "cell_type": "code",
   "execution_count": null,
   "metadata": {},
   "outputs": [],
   "source": [
    "# | export\n",
    "\n",
    "\n",
    "class Model(ProgressStatus):\n",
    "    \"\"\"A class for querying the model training, evaluation, and prediction status.\n",
    "\n",
    "    The **Model** class is instantiated automatically when the `DataSource.train` method is called on a datasource. Currently,\n",
    "    it is the only way to instantiate the **Model** class.\n",
    "\n",
    "    The model is trained to predict a specific event in the future and we assume the input data to have:\n",
    "\n",
    "    - a column identifying a client (**client_column**). E.g: person, car, business, etc.,\n",
    "    - a column specifying a type of event to predict (**target_column**). E.g: buy, checkout, etc.,\n",
    "    - a timestamp column (**timestamp_column**) specifying the time of an occurred event.\n",
    "\n",
    "    Along with the above mandatory columns, the input data can have additional columns of any type (int, category, float,\n",
    "    datetime type, etc.,). These additional columns will be used in the model training for making more accurate predictions.\n",
    "\n",
    "    Finally, we need to know how much ahead we wish to make predictions. This lead time varies widely for each use case\n",
    "    and can be in minutes for a webshop or even several weeks for a banking product such as a loan.\n",
    "\n",
    "    As always, the model training and prediction is an asynchronous process and can take a few hours to finish depending\n",
    "    on the size of your dataset. The progress for the same can be checked by calling the `ProgressStatus.is_ready` method on the **Model**\n",
    "    instance. Alternatively, you can call the `ProgressStatus.progress_bar` method to monitor the status interactively.\n",
    "    \"\"\"\n",
    "\n",
    "    BASIC_MODEL_COLS = [\"uuid\", \"created\", \"total_steps\", \"completed_steps\"]\n",
    "\n",
    "    ALL_MODEL_COLS = BASIC_MODEL_COLS + [\n",
    "        \"datasource\",\n",
    "        \"user\",\n",
    "        \"client_column\",\n",
    "        \"target_column\",\n",
    "        \"target\",\n",
    "        \"predict_after\",\n",
    "        \"timestamp_column\",\n",
    "        \"region\",\n",
    "        \"cloud_provider\",\n",
    "        \"error\",\n",
    "        \"disabled\",\n",
    "    ]\n",
    "\n",
    "    COLS_TO_RENAME = {\n",
    "        \"uuid\": \"model_uuid\",\n",
    "        \"datasource\": \"datasource_uuid\",\n",
    "        \"user\": \"user_uuid\",\n",
    "    }\n",
    "\n",
    "    def __init__(\n",
    "        self,\n",
    "        uuid: str,\n",
    "        datasource: Optional[str] = None,\n",
    "        client_column: Optional[str] = None,\n",
    "        target_column: Optional[str] = None,\n",
    "        target: Optional[str] = None,\n",
    "        predict_after: Optional[str] = None,\n",
    "        timestamp_column: Optional[str] = None,\n",
    "        total_steps: Optional[int] = None,\n",
    "        completed_steps: Optional[int] = None,\n",
    "        region: Optional[str] = None,\n",
    "        cloud_provider: Optional[str] = None,\n",
    "        error: Optional[str] = None,\n",
    "        disabled: Optional[bool] = None,\n",
    "        created: Optional[str] = None,\n",
    "        user: Optional[str] = None,\n",
    "    ):\n",
    "        \"\"\"Constructs a new `Model` instance\n",
    "\n",
    "        Warning:\n",
    "            Do not construct this object directly by calling the constructor, please use\n",
    "            `DataSource.train` method instead.\n",
    "\n",
    "        Args:\n",
    "            uuid: Model uuid.\n",
    "            datasource: DataSource uuid.\n",
    "            client_column: The column name that uniquely identifies the users/clients.\n",
    "            target_column: Target column name that indicates the type of the event.\n",
    "            target: Target event name to train and make predictions. You can pass the target event as a string or as a\n",
    "                regular expression for predicting more than one event. For example, passing ***checkout** will\n",
    "                train a model to predict any checkout event.\n",
    "            predict_after: Time delta in hours of the expected target event.\n",
    "            timestamp_column: The timestamp column indicating the time of an event. If not passed,\n",
    "                then the default value **None** will be used.\n",
    "            total_steps: No of steps needed to complete the model training.\n",
    "            completed_steps: No of steps completed so far in the model training.\n",
    "            region: The region name of the cloud provider where the model is stored.\n",
    "            cloud_provider: The name of the cloud storage provider where the model is stored.\n",
    "            error: Contains the error message if the training of the model fails.\n",
    "            disabled: A flag that indicates the model's status. If the model is deleted, then **False** will be set.\n",
    "            created: Model creation date.\n",
    "            user: The uuid of the user who created the model.\n",
    "        \"\"\"\n",
    "        self.uuid = uuid\n",
    "        self.datasource = datasource\n",
    "        self.client_column = client_column\n",
    "        self.target_column = target_column\n",
    "        self.target = target\n",
    "        self.predict_after = predict_after\n",
    "        self.timestamp_column = timestamp_column\n",
    "        self.total_steps = total_steps\n",
    "        self.completed_steps = completed_steps\n",
    "        self.region = region\n",
    "        self.cloud_provider = cloud_provider\n",
    "        self.error = error\n",
    "        self.disabled = disabled\n",
    "        self.created = created\n",
    "        self.user = user\n",
    "        ProgressStatus.__init__(self, relative_url=f\"/model/{self.uuid}\")\n",
    "\n",
    "    @staticmethod\n",
    "    def ls(\n",
    "        offset: int = 0,\n",
    "        limit: int = 100,\n",
    "        disabled: bool = False,\n",
    "        completed: bool = False,\n",
    "    ) -> List[\"Model\"]:\n",
    "        \"\"\"Return the list of Model instances available in the server.\n",
    "\n",
    "        Args:\n",
    "            offset: The number of models to offset at the beginning. If None, then the default value **0** will be used.\n",
    "            limit: The maximum number of models to return from the server. If None,\n",
    "                then the default value **100** will be used.\n",
    "            disabled: If set to **True**, then only the deleted models will be returned. Else, the default value\n",
    "                **False** will be used to return only the list of active models.\n",
    "            completed: If set to **True**, then only the models that are successfully processed in server will be returned.\n",
    "                Else, the default value **False** will be used to return all the models.\n",
    "\n",
    "        Returns:\n",
    "            A list of Model instances available in the server.\n",
    "\n",
    "        Raises:\n",
    "            ConnectionError: If the server address is invalid or not reachable.\n",
    "        \"\"\"\n",
    "        lists = Client._get_data(\n",
    "            relative_url=f\"/model/?disabled={disabled}&completed={completed}&offset={offset}&limit={limit}\"\n",
    "        )\n",
    "\n",
    "        mx = [\n",
    "            Model(\n",
    "                uuid=model[\"uuid\"],\n",
    "                datasource=model[\"datasource\"],\n",
    "                client_column=model[\"client_column\"],\n",
    "                target_column=model[\"target_column\"],\n",
    "                target=model[\"target\"],\n",
    "                predict_after=model[\"predict_after\"],\n",
    "                timestamp_column=model[\"timestamp_column\"],\n",
    "                total_steps=model[\"total_steps\"],\n",
    "                completed_steps=model[\"completed_steps\"],\n",
    "                region=model[\"region\"],\n",
    "                cloud_provider=model[\"cloud_provider\"],\n",
    "                error=model[\"error\"],\n",
    "                disabled=model[\"disabled\"],\n",
    "                created=model[\"created\"],\n",
    "                user=model[\"user\"],\n",
    "            )\n",
    "            for model in lists\n",
    "        ]\n",
    "\n",
    "        return mx\n",
    "\n",
    "    @staticmethod\n",
    "    def as_df(mx: List[\"Model\"]) -> pd.DataFrame:\n",
    "        \"\"\"Return the details of Model instances as a pandas dataframe.\n",
    "\n",
    "        Args:\n",
    "            mx: List of Model instances.\n",
    "\n",
    "        Returns:\n",
    "            Details of all the models in a dataframe.\n",
    "\n",
    "        Raises:\n",
    "            ConnectionError: If the server address is invalid or not reachable.\n",
    "        \"\"\"\n",
    "        model_lists = get_attributes_from_instances(mx, Model.BASIC_MODEL_COLS)  # type: ignore\n",
    "\n",
    "        df = generate_df(model_lists, Model.BASIC_MODEL_COLS)\n",
    "\n",
    "        df = df.rename(columns=Model.COLS_TO_RENAME)\n",
    "\n",
    "        return add_ready_column(df)\n",
    "\n",
    "    def details(self) -> pd.DataFrame:\n",
    "        raise NotImplementedError()\n",
    "\n",
    "    def delete(self) -> pd.DataFrame:\n",
    "        raise NotImplementedError()\n",
    "\n",
    "    def predict(self, data_uuid: Optional[str]) -> \"airt.client.Prediction\":  # type: ignore\n",
    "        raise NotImplementedError()\n",
    "\n",
    "    def evaluate(self) -> pd.DataFrame:\n",
    "        raise NotImplementedError()"
   ]
  },
  {
   "cell_type": "code",
   "execution_count": null,
   "metadata": {},
   "outputs": [],
   "source": [
    "# | exporti\n",
    "\n",
    "\n",
    "def _docstring_example():\n",
    "    \"\"\"\n",
    "    Example:\n",
    "\n",
    "        ```python\n",
    "        # Importing necessary libraries\n",
    "        from datetime import timedelta\n",
    "\n",
    "        from  airt.client import Client, DataBlob, Model\n",
    "\n",
    "        # Authenticate\n",
    "        Client.get_token(username=\"{fill in username}\", password=\"{fill in password}\")\n",
    "\n",
    "        # Create a datablob\n",
    "        # In this example, the datablob will be stored in an AWS S3 bucket. The\n",
    "        # access_key and the secret_key are set in the AWS_ACCESS_KEY_ID and\n",
    "        # AWS_SECRET_ACCESS_KEY environment variables, and the region is set to\n",
    "        # eu-west-3; feel free to change the cloud provider and the region to\n",
    "        # suit your needs.\n",
    "        db = DataBlob.from_s3(\n",
    "            uri=\"{fill in uri}\",\n",
    "            cloud_provider=\"aws\",\n",
    "            region=\"eu-west-3\"\n",
    "        )\n",
    "\n",
    "        # Display the status in a progress bar\n",
    "        db.progress_bar()\n",
    "\n",
    "        # Create a datasource\n",
    "        ds = db.to_datasource(\n",
    "            file_type=\"{fill in file_type}\",\n",
    "            index_column=\"{fill in index_column}\",\n",
    "            sort_by=\"{fill in sort_by}\",\n",
    "        )\n",
    "\n",
    "        # Display the status in a progress bar\n",
    "        ds.progress_bar()\n",
    "\n",
    "        # Train a model to predicts which users will perform a purchase\n",
    "        # event (\"*purchase\") three hours before they actually do it.\n",
    "        model = ds.train(\n",
    "            client_column=\"{fill in client_column}\",\n",
    "            target_column=\"{fill in target_column}\",\n",
    "            target=\"*purchase\",\n",
    "            predict_after=timedelta(hours=3)\n",
    "        )\n",
    "\n",
    "        # Display the status in a progress bar\n",
    "        model.progress_bar()\n",
    "\n",
    "        # Print the details of the newly created model\n",
    "        print(model.details())\n",
    "\n",
    "        # Display the details of all models created by the currently\n",
    "        # logged-in user\n",
    "        print(Model.as_df(Model.ls()))\n",
    "\n",
    "        # Evaluate the newly created model\n",
    "        print(model.evaluate())\n",
    "\n",
    "        # Run predictions on the newly created model\n",
    "        prediction = model.predict()\n",
    "\n",
    "        # Display the prediction status in a progress bar\n",
    "        prediction.progress_bar()\n",
    "\n",
    "        # Display details of the predictions\n",
    "        print(prediction.details())\n",
    "\n",
    "        # Delete the newly created model\n",
    "        print(model.delete())\n",
    "        ```\n",
    "    \"\"\"\n",
    "    pass"
   ]
  },
  {
   "cell_type": "code",
   "execution_count": null,
   "metadata": {},
   "outputs": [
    {
     "data": {
      "text/html": [
       "<pre style=\"white-space:pre;overflow-x:auto;line-height:normal;font-family:Menlo,'DejaVu Sans Mono',consolas,'Courier New',monospace\">╭─────────────────────────────────────────────────────────────────────────────────────────────────────────────────╮\n",
       "│ Example:                                                                                                        │\n",
       "│                                                                                                                 │\n",
       "│     # Importing necessary libraries                                                                             │\n",
       "│     from datetime import timedelta                                                                              │\n",
       "│                                                                                                                 │\n",
       "│     from  airt.client import Client, DataBlob, Model                                                            │\n",
       "│                                                                                                                 │\n",
       "│     # Authenticate                                                                                              │\n",
       "│     Client.get_token(username=\"{fill in username}\", password=\"{fill in password}\")                              │\n",
       "│                                                                                                                 │\n",
       "│     # Create a datablob                                                                                         │\n",
       "│     # In this example, the datablob will be stored in an AWS S3 bucket. The                                     │\n",
       "│     # access_key and the secret_key are set in the AWS_ACCESS_KEY_ID and                                        │\n",
       "│     # AWS_SECRET_ACCESS_KEY environment variables, and the region is set to                                     │\n",
       "│     # eu-west-3; feel free to change the cloud provider and the region to                                       │\n",
       "│     # suit your needs.                                                                                          │\n",
       "│     db = DataBlob.from_s3(                                                                                      │\n",
       "│         uri=\"{fill in uri}\",                                                                                    │\n",
       "│         cloud_provider=\"aws\",                                                                                   │\n",
       "│         region=\"eu-west-3\"                                                                                      │\n",
       "│     )                                                                                                           │\n",
       "│                                                                                                                 │\n",
       "│     # Display the status in a progress bar                                                                      │\n",
       "│     db.progress_bar()                                                                                           │\n",
       "│                                                                                                                 │\n",
       "│     # Create a datasource                                                                                       │\n",
       "│     ds = db.to_datasource(                                                                                      │\n",
       "│         file_type=\"{fill in file_type}\",                                                                        │\n",
       "│         index_column=\"{fill in index_column}\",                                                                  │\n",
       "│         sort_by=\"{fill in sort_by}\",                                                                            │\n",
       "│     )                                                                                                           │\n",
       "│                                                                                                                 │\n",
       "│     # Display the status in a progress bar                                                                      │\n",
       "│     ds.progress_bar()                                                                                           │\n",
       "│                                                                                                                 │\n",
       "│     # Train a model to predicts which users will perform a purchase                                             │\n",
       "│     # event (\"*purchase\") three hours before they actually do it.                                               │\n",
       "│     model = ds.train(                                                                                           │\n",
       "│         client_column=\"{fill in client_column}\",                                                                │\n",
       "│         target_column=\"{fill in target_column}\",                                                                │\n",
       "│         target=\"*purchase\",                                                                                     │\n",
       "│         predict_after=timedelta(hours=3)                                                                        │\n",
       "│     )                                                                                                           │\n",
       "│                                                                                                                 │\n",
       "│     # Display the status in a progress bar                                                                      │\n",
       "│     model.progress_bar()                                                                                        │\n",
       "│                                                                                                                 │\n",
       "│     # Print the details of the newly created model                                                              │\n",
       "│     print(model.details())                                                                                      │\n",
       "│                                                                                                                 │\n",
       "│     # Display the details of all models created by the currently                                                │\n",
       "│     # logged-in user                                                                                            │\n",
       "│     print(Model.as_df(Model.ls()))                                                                              │\n",
       "│                                                                                                                 │\n",
       "│     # Evaluate the newly created model                                                                          │\n",
       "│     print(model.evaluate())                                                                                     │\n",
       "│                                                                                                                 │\n",
       "│     # Run predictions on the newly created model                                                                │\n",
       "│     prediction = model.predict()                                                                                │\n",
       "│                                                                                                                 │\n",
       "│     # Display the prediction status in a progress bar                                                           │\n",
       "│     prediction.progress_bar()                                                                                   │\n",
       "│                                                                                                                 │\n",
       "│     # Display details of the predictions                                                                        │\n",
       "│     print(prediction.details())                                                                                 │\n",
       "│                                                                                                                 │\n",
       "│     # Delete the newly created model                                                                            │\n",
       "│     print(model.delete())                                                                                       │\n",
       "│                                                                                                                 │\n",
       "│ ╭────────────────────────────────────────────────── stdout ───────────────────────────────────────────────────╮ │\n",
       "│ │                              model_uuid              created  ... disabled ready                            │ │\n",
       "│ │ 0  d6bb1704-8643-457d-8b87-ac09d575d936  2022-10-31T11:38:50  ...    False  True                            │ │\n",
       "│ │                                                                                                             │ │\n",
       "│ │ [1 rows x 14 columns]                                                                                       │ │\n",
       "│ │                              model_uuid              created  ready                                         │ │\n",
       "│ │ 0  b3b17f4c-2f00-4f51-9841-5dac52bfea61  2022-10-31T09:16:47   True                                         │ │\n",
       "│ │ 1  4b4b3909-671f-43f9-b868-d7d70a790e39  2022-10-31T09:17:58   True                                         │ │\n",
       "│ │ 2  5e80898d-a2a0-4341-8412-157086638d43  2022-10-31T11:14:02   True                                         │ │\n",
       "│ │ 3  5c9b02a4-23a0-4743-b163-ad74f217d685  2022-10-31T11:35:27   True                                         │ │\n",
       "│ │ 4  d6bb1704-8643-457d-8b87-ac09d575d936  2022-10-31T11:38:50   True                                         │ │\n",
       "│ │             eval                                                                                            │ │\n",
       "│ │ accuracy   0.985                                                                                            │ │\n",
       "│ │ recall     0.962                                                                                            │ │\n",
       "│ │ precision  0.934                                                                                            │ │\n",
       "│ │                         prediction_uuid              created  ... error ready                               │ │\n",
       "│ │ 0  46415528-0c1c-4d07-abef-2db40e33e45f  2022-10-31T11:38:50  ...  None  True                               │ │\n",
       "│ │                                                                                                             │ │\n",
       "│ │ [1 rows x 8 columns]                                                                                        │ │\n",
       "│ │                              model_uuid              created  ready                                         │ │\n",
       "│ │ 0  d6bb1704-8643-457d-8b87-ac09d575d936  2022-10-31T11:38:50   True                                         │ │\n",
       "│ │                                                                                                             │ │\n",
       "│ ╰─────────────────────────────────────────────────────────────────────────────────────────────────────────────╯ │\n",
       "│ ╭────────────────────────────────────────────────── stderr ───────────────────────────────────────────────────╮ │\n",
       "│ │                                                                                                             │ │\n",
       "│ │   0%|          | 0/1 [00:00&lt;?, ?it/s]                                                                       │ │\n",
       "│ │   0%|          | 0/1 [00:05&lt;?, ?it/s]                                                                       │ │\n",
       "│ │   0%|          | 0/1 [00:10&lt;?, ?it/s]                                                                       │ │\n",
       "│ │ 100%|██████████| 1/1 [00:15&lt;00:00,  5.05s/it]                                                               │ │\n",
       "│ │ 100%|██████████| 1/1 [00:15&lt;00:00, 15.19s/it]                                                               │ │\n",
       "│ │                                                                                                             │ │\n",
       "│ │   0%|          | 0/1 [00:00&lt;?, ?it/s]                                                                       │ │\n",
       "│ │   0%|          | 0/1 [00:05&lt;?, ?it/s]                                                                       │ │\n",
       "│ │   0%|          | 0/1 [00:10&lt;?, ?it/s]                                                                       │ │\n",
       "│ │   0%|          | 0/1 [00:15&lt;?, ?it/s]                                                                       │ │\n",
       "│ │   0%|          | 0/1 [00:20&lt;?, ?it/s]                                                                       │ │\n",
       "│ │   0%|          | 0/1 [00:25&lt;?, ?it/s]                                                                       │ │\n",
       "│ │ 100%|██████████| 1/1 [00:30&lt;00:00,  5.05s/it]                                                               │ │\n",
       "│ │ 100%|██████████| 1/1 [00:30&lt;00:00, 30.35s/it]                                                               │ │\n",
       "│ │                                                                                                             │ │\n",
       "│ │   0%|          | 0/5 [00:00&lt;?, ?it/s]                                                                       │ │\n",
       "│ │ 100%|██████████| 5/5 [00:00&lt;00:00, 130.40it/s]                                                              │ │\n",
       "│ │                                                                                                             │ │\n",
       "│ │   0%|          | 0/3 [00:00&lt;?, ?it/s]                                                                       │ │\n",
       "│ │ 100%|██████████| 3/3 [00:05&lt;00:00,  1.70s/it]                                                               │ │\n",
       "│ │ 100%|██████████| 3/3 [00:05&lt;00:00,  1.70s/it]                                                               │ │\n",
       "│ │                                                                                                             │ │\n",
       "│ ╰─────────────────────────────────────────────────────────────────────────────────────────────────────────────╯ │\n",
       "╰─────────────────────────────────────────────────────────────────────────────────────────────────────────────────╯\n",
       "</pre>\n"
      ],
      "text/plain": [
       "╭─────────────────────────────────────────────────────────────────────────────────────────────────────────────────╮\n",
       "│ Example:                                                                                                        │\n",
       "│                                                                                                                 │\n",
       "│     # Importing necessary libraries                                                                             │\n",
       "│     from datetime import timedelta                                                                              │\n",
       "│                                                                                                                 │\n",
       "│     from  airt.client import Client, DataBlob, Model                                                            │\n",
       "│                                                                                                                 │\n",
       "│     # Authenticate                                                                                              │\n",
       "│     Client.get_token(username=\"{fill in username}\", password=\"{fill in password}\")                              │\n",
       "│                                                                                                                 │\n",
       "│     # Create a datablob                                                                                         │\n",
       "│     # In this example, the datablob will be stored in an AWS S3 bucket. The                                     │\n",
       "│     # access_key and the secret_key are set in the AWS_ACCESS_KEY_ID and                                        │\n",
       "│     # AWS_SECRET_ACCESS_KEY environment variables, and the region is set to                                     │\n",
       "│     # eu-west-3; feel free to change the cloud provider and the region to                                       │\n",
       "│     # suit your needs.                                                                                          │\n",
       "│     db = DataBlob.from_s3(                                                                                      │\n",
       "│         uri=\"{fill in uri}\",                                                                                    │\n",
       "│         cloud_provider=\"aws\",                                                                                   │\n",
       "│         region=\"eu-west-3\"                                                                                      │\n",
       "│     )                                                                                                           │\n",
       "│                                                                                                                 │\n",
       "│     # Display the status in a progress bar                                                                      │\n",
       "│     db.progress_bar()                                                                                           │\n",
       "│                                                                                                                 │\n",
       "│     # Create a datasource                                                                                       │\n",
       "│     ds = db.to_datasource(                                                                                      │\n",
       "│         file_type=\"{fill in file_type}\",                                                                        │\n",
       "│         index_column=\"{fill in index_column}\",                                                                  │\n",
       "│         sort_by=\"{fill in sort_by}\",                                                                            │\n",
       "│     )                                                                                                           │\n",
       "│                                                                                                                 │\n",
       "│     # Display the status in a progress bar                                                                      │\n",
       "│     ds.progress_bar()                                                                                           │\n",
       "│                                                                                                                 │\n",
       "│     # Train a model to predicts which users will perform a purchase                                             │\n",
       "│     # event (\"*purchase\") three hours before they actually do it.                                               │\n",
       "│     model = ds.train(                                                                                           │\n",
       "│         client_column=\"{fill in client_column}\",                                                                │\n",
       "│         target_column=\"{fill in target_column}\",                                                                │\n",
       "│         target=\"*purchase\",                                                                                     │\n",
       "│         predict_after=timedelta(hours=3)                                                                        │\n",
       "│     )                                                                                                           │\n",
       "│                                                                                                                 │\n",
       "│     # Display the status in a progress bar                                                                      │\n",
       "│     model.progress_bar()                                                                                        │\n",
       "│                                                                                                                 │\n",
       "│     # Print the details of the newly created model                                                              │\n",
       "│     print(model.details())                                                                                      │\n",
       "│                                                                                                                 │\n",
       "│     # Display the details of all models created by the currently                                                │\n",
       "│     # logged-in user                                                                                            │\n",
       "│     print(Model.as_df(Model.ls()))                                                                              │\n",
       "│                                                                                                                 │\n",
       "│     # Evaluate the newly created model                                                                          │\n",
       "│     print(model.evaluate())                                                                                     │\n",
       "│                                                                                                                 │\n",
       "│     # Run predictions on the newly created model                                                                │\n",
       "│     prediction = model.predict()                                                                                │\n",
       "│                                                                                                                 │\n",
       "│     # Display the prediction status in a progress bar                                                           │\n",
       "│     prediction.progress_bar()                                                                                   │\n",
       "│                                                                                                                 │\n",
       "│     # Display details of the predictions                                                                        │\n",
       "│     print(prediction.details())                                                                                 │\n",
       "│                                                                                                                 │\n",
       "│     # Delete the newly created model                                                                            │\n",
       "│     print(model.delete())                                                                                       │\n",
       "│                                                                                                                 │\n",
       "│ ╭────────────────────────────────────────────────── stdout ───────────────────────────────────────────────────╮ │\n",
       "│ │                              model_uuid              created  ... disabled ready                            │ │\n",
       "│ │ 0  d6bb1704-8643-457d-8b87-ac09d575d936  2022-10-31T11:38:50  ...    False  True                            │ │\n",
       "│ │                                                                                                             │ │\n",
       "│ │ [1 rows x 14 columns]                                                                                       │ │\n",
       "│ │                              model_uuid              created  ready                                         │ │\n",
       "│ │ 0  b3b17f4c-2f00-4f51-9841-5dac52bfea61  2022-10-31T09:16:47   True                                         │ │\n",
       "│ │ 1  4b4b3909-671f-43f9-b868-d7d70a790e39  2022-10-31T09:17:58   True                                         │ │\n",
       "│ │ 2  5e80898d-a2a0-4341-8412-157086638d43  2022-10-31T11:14:02   True                                         │ │\n",
       "│ │ 3  5c9b02a4-23a0-4743-b163-ad74f217d685  2022-10-31T11:35:27   True                                         │ │\n",
       "│ │ 4  d6bb1704-8643-457d-8b87-ac09d575d936  2022-10-31T11:38:50   True                                         │ │\n",
       "│ │             eval                                                                                            │ │\n",
       "│ │ accuracy   0.985                                                                                            │ │\n",
       "│ │ recall     0.962                                                                                            │ │\n",
       "│ │ precision  0.934                                                                                            │ │\n",
       "│ │                         prediction_uuid              created  ... error ready                               │ │\n",
       "│ │ 0  46415528-0c1c-4d07-abef-2db40e33e45f  2022-10-31T11:38:50  ...  None  True                               │ │\n",
       "│ │                                                                                                             │ │\n",
       "│ │ [1 rows x 8 columns]                                                                                        │ │\n",
       "│ │                              model_uuid              created  ready                                         │ │\n",
       "│ │ 0  d6bb1704-8643-457d-8b87-ac09d575d936  2022-10-31T11:38:50   True                                         │ │\n",
       "│ │                                                                                                             │ │\n",
       "│ ╰─────────────────────────────────────────────────────────────────────────────────────────────────────────────╯ │\n",
       "│ ╭────────────────────────────────────────────────── stderr ───────────────────────────────────────────────────╮ │\n",
       "│ │                                                                                                             │ │\n",
       "│ │   0%|          | 0/1 [00:00<?, ?it/s]                                                                       │ │\n",
       "│ │   0%|          | 0/1 [00:05<?, ?it/s]                                                                       │ │\n",
       "│ │   0%|          | 0/1 [00:10<?, ?it/s]                                                                       │ │\n",
       "│ │ 100%|██████████| 1/1 [00:15<00:00,  5.05s/it]                                                               │ │\n",
       "│ │ 100%|██████████| 1/1 [00:15<00:00, 15.19s/it]                                                               │ │\n",
       "│ │                                                                                                             │ │\n",
       "│ │   0%|          | 0/1 [00:00<?, ?it/s]                                                                       │ │\n",
       "│ │   0%|          | 0/1 [00:05<?, ?it/s]                                                                       │ │\n",
       "│ │   0%|          | 0/1 [00:10<?, ?it/s]                                                                       │ │\n",
       "│ │   0%|          | 0/1 [00:15<?, ?it/s]                                                                       │ │\n",
       "│ │   0%|          | 0/1 [00:20<?, ?it/s]                                                                       │ │\n",
       "│ │   0%|          | 0/1 [00:25<?, ?it/s]                                                                       │ │\n",
       "│ │ 100%|██████████| 1/1 [00:30<00:00,  5.05s/it]                                                               │ │\n",
       "│ │ 100%|██████████| 1/1 [00:30<00:00, 30.35s/it]                                                               │ │\n",
       "│ │                                                                                                             │ │\n",
       "│ │   0%|          | 0/5 [00:00<?, ?it/s]                                                                       │ │\n",
       "│ │ 100%|██████████| 5/5 [00:00<00:00, 130.40it/s]                                                              │ │\n",
       "│ │                                                                                                             │ │\n",
       "│ │   0%|          | 0/3 [00:00<?, ?it/s]                                                                       │ │\n",
       "│ │ 100%|██████████| 3/3 [00:05<00:00,  1.70s/it]                                                               │ │\n",
       "│ │ 100%|██████████| 3/3 [00:05<00:00,  1.70s/it]                                                               │ │\n",
       "│ │                                                                                                             │ │\n",
       "│ ╰─────────────────────────────────────────────────────────────────────────────────────────────────────────────╯ │\n",
       "╰─────────────────────────────────────────────────────────────────────────────────────────────────────────────────╯\n"
      ]
     },
     "metadata": {},
     "output_type": "display_data"
    }
   ],
   "source": [
    "# Run example for _docstring_example\n",
    "\n",
    "username = os.environ[SERVICE_USERNAME]\n",
    "password = os.environ[SERVICE_PASSWORD]\n",
    "\n",
    "run_examples_from_docstring(\n",
    "    _docstring_example,\n",
    "    username=username,\n",
    "    password=password,\n",
    "    uri=TEST_S3_URI,\n",
    "    file_type=\"parquet\",\n",
    "    index_column=\"user_id\",\n",
    "    sort_by=\"event_time\",\n",
    "    client_column=\"user_id\",\n",
    "    target_column=\"category_code\",\n",
    ")"
   ]
  },
  {
   "cell_type": "code",
   "execution_count": null,
   "metadata": {},
   "outputs": [],
   "source": [
    "# | exporti\n",
    "\n",
    "add_example_to_docs(Model, _docstring_example.__doc__)  # type: ignore\n",
    "add_example_to_docs(Model.ls, _docstring_example.__doc__)  # type: ignore\n",
    "add_example_to_docs(Model.as_df, _docstring_example.__doc__)  # type: ignore"
   ]
  },
  {
   "cell_type": "code",
   "execution_count": null,
   "metadata": {},
   "outputs": [],
   "source": [
    "Client.get_token()\n",
    "\n",
    "# Context manager for creating and a trained model id\n",
    "\n",
    "_model = None\n",
    "\n",
    "\n",
    "@contextmanager\n",
    "def generate_model(force_create: bool = False):\n",
    "    global _model\n",
    "\n",
    "    if _model is None or force_create:\n",
    "        # Create a s3 datasource\n",
    "        db = DataBlob.from_s3(\n",
    "            uri=TEST_S3_URI,\n",
    "            access_key=os.environ[\"AWS_ACCESS_KEY_ID\"],\n",
    "            secret_key=os.environ[\"AWS_SECRET_ACCESS_KEY\"],\n",
    "        )\n",
    "\n",
    "        db.progress_bar()\n",
    "        display(f\"{db.uuid=}\")\n",
    "        assert len(db.uuid.replace(\"-\", \"\")) == 32\n",
    "\n",
    "        ds = db.to_datasource(\n",
    "            file_type=\"parquet\", index_column=\"user_id\", sort_by=\"event_time\"\n",
    "        )\n",
    "\n",
    "        display(f\"{ds.uuid=}\")\n",
    "        assert len(ds.uuid.replace(\"-\", \"\")) == 32\n",
    "\n",
    "        ds.progress_bar()\n",
    "\n",
    "        _model = ds.train(\n",
    "            client_column=\"user_id\",\n",
    "            target_column=\"category_code\",\n",
    "            target=\"*purchase\",\n",
    "            predict_after=timedelta(hours=3),\n",
    "        )\n",
    "\n",
    "        _model.progress_bar()\n",
    "\n",
    "    yield _model"
   ]
  },
  {
   "cell_type": "code",
   "execution_count": null,
   "metadata": {},
   "outputs": [
    {
     "name": "stderr",
     "output_type": "stream",
     "text": [
      "100%|██████████| 1/1 [00:15<00:00, 15.19s/it]\n"
     ]
    },
    {
     "data": {
      "text/plain": [
       "\"db.uuid='bed19d03-9f38-496f-addf-ca90e3829d2b'\""
      ]
     },
     "metadata": {},
     "output_type": "display_data"
    },
    {
     "data": {
      "text/plain": [
       "\"ds.uuid='b81d1ba1-7beb-4fea-985c-6bbe244fb3ca'\""
      ]
     },
     "metadata": {},
     "output_type": "display_data"
    },
    {
     "name": "stderr",
     "output_type": "stream",
     "text": [
      "100%|██████████| 1/1 [00:30<00:00, 30.35s/it]\n",
      "100%|██████████| 5/5 [00:00<00:00, 119.98it/s]\n"
     ]
    },
    {
     "data": {
      "text/plain": [
       "'len(mx)=5'"
      ]
     },
     "metadata": {},
     "output_type": "display_data"
    },
    {
     "data": {
      "text/plain": [
       "'len(mx)=3'"
      ]
     },
     "metadata": {},
     "output_type": "display_data"
    },
    {
     "data": {
      "text/plain": [
       "'len(mx)=0'"
      ]
     },
     "metadata": {},
     "output_type": "display_data"
    }
   ],
   "source": [
    "with generate_model() as model:\n",
    "    # Testing list without offset and limit\n",
    "    mx = Model.ls()\n",
    "\n",
    "    display(f\"{len(mx)=}\")\n",
    "    assert len(mx) >= 0\n",
    "\n",
    "    # Testing list with offset and limit\n",
    "    offset = 1\n",
    "    limit = 3\n",
    "\n",
    "    mx = Model.ls(offset=offset, limit=limit)\n",
    "\n",
    "    display(f\"{len(mx)=}\")\n",
    "    assert 0 <= len(mx) <= limit\n",
    "\n",
    "    # Testing list with invalid offset and limit\n",
    "    offset = 1_000_000_000\n",
    "    limit = 3\n",
    "\n",
    "    mx = Model.ls(offset=offset, limit=limit)\n",
    "\n",
    "    display(f\"{len(mx)=}\")\n",
    "    assert mx == []"
   ]
  },
  {
   "cell_type": "code",
   "execution_count": null,
   "metadata": {},
   "outputs": [
    {
     "data": {
      "text/html": [
       "<div>\n",
       "<style scoped>\n",
       "    .dataframe tbody tr th:only-of-type {\n",
       "        vertical-align: middle;\n",
       "    }\n",
       "\n",
       "    .dataframe tbody tr th {\n",
       "        vertical-align: top;\n",
       "    }\n",
       "\n",
       "    .dataframe thead th {\n",
       "        text-align: right;\n",
       "    }\n",
       "</style>\n",
       "<table border=\"1\" class=\"dataframe\">\n",
       "  <thead>\n",
       "    <tr style=\"text-align: right;\">\n",
       "      <th></th>\n",
       "      <th>model_uuid</th>\n",
       "      <th>created</th>\n",
       "      <th>ready</th>\n",
       "    </tr>\n",
       "  </thead>\n",
       "  <tbody>\n",
       "    <tr>\n",
       "      <th>0</th>\n",
       "      <td>b3b17f4c-2f00-4f51-9841-5dac52bfea61</td>\n",
       "      <td>2022-10-31T09:16:47</td>\n",
       "      <td>True</td>\n",
       "    </tr>\n",
       "    <tr>\n",
       "      <th>1</th>\n",
       "      <td>4b4b3909-671f-43f9-b868-d7d70a790e39</td>\n",
       "      <td>2022-10-31T09:17:58</td>\n",
       "      <td>True</td>\n",
       "    </tr>\n",
       "    <tr>\n",
       "      <th>2</th>\n",
       "      <td>5e80898d-a2a0-4341-8412-157086638d43</td>\n",
       "      <td>2022-10-31T11:14:02</td>\n",
       "      <td>True</td>\n",
       "    </tr>\n",
       "    <tr>\n",
       "      <th>3</th>\n",
       "      <td>5c9b02a4-23a0-4743-b163-ad74f217d685</td>\n",
       "      <td>2022-10-31T11:35:27</td>\n",
       "      <td>True</td>\n",
       "    </tr>\n",
       "    <tr>\n",
       "      <th>4</th>\n",
       "      <td>127e4018-cdb5-4141-8c41-3f7db667367d</td>\n",
       "      <td>2022-10-31T11:39:47</td>\n",
       "      <td>True</td>\n",
       "    </tr>\n",
       "  </tbody>\n",
       "</table>\n",
       "</div>"
      ],
      "text/plain": [
       "                             model_uuid              created  ready\n",
       "0  b3b17f4c-2f00-4f51-9841-5dac52bfea61  2022-10-31T09:16:47   True\n",
       "1  4b4b3909-671f-43f9-b868-d7d70a790e39  2022-10-31T09:17:58   True\n",
       "2  5e80898d-a2a0-4341-8412-157086638d43  2022-10-31T11:14:02   True\n",
       "3  5c9b02a4-23a0-4743-b163-ad74f217d685  2022-10-31T11:35:27   True\n",
       "4  127e4018-cdb5-4141-8c41-3f7db667367d  2022-10-31T11:39:47   True"
      ]
     },
     "execution_count": null,
     "metadata": {},
     "output_type": "execute_result"
    }
   ],
   "source": [
    "# Tests for Model.as_df:\n",
    "\n",
    "mx = Model.ls()\n",
    "\n",
    "df = Model.as_df(mx)\n",
    "\n",
    "assert df.shape == (len(mx), len(Model.BASIC_MODEL_COLS) - 1)\n",
    "\n",
    "df"
   ]
  },
  {
   "cell_type": "code",
   "execution_count": null,
   "metadata": {},
   "outputs": [
    {
     "data": {
      "text/html": [
       "<div>\n",
       "<style scoped>\n",
       "    .dataframe tbody tr th:only-of-type {\n",
       "        vertical-align: middle;\n",
       "    }\n",
       "\n",
       "    .dataframe tbody tr th {\n",
       "        vertical-align: top;\n",
       "    }\n",
       "\n",
       "    .dataframe thead th {\n",
       "        text-align: right;\n",
       "    }\n",
       "</style>\n",
       "<table border=\"1\" class=\"dataframe\">\n",
       "  <thead>\n",
       "    <tr style=\"text-align: right;\">\n",
       "      <th></th>\n",
       "      <th>model_uuid</th>\n",
       "      <th>created</th>\n",
       "      <th>ready</th>\n",
       "    </tr>\n",
       "  </thead>\n",
       "  <tbody>\n",
       "  </tbody>\n",
       "</table>\n",
       "</div>"
      ],
      "text/plain": [
       "Empty DataFrame\n",
       "Columns: [model_uuid, created, ready]\n",
       "Index: []"
      ]
     },
     "execution_count": null,
     "metadata": {},
     "output_type": "execute_result"
    }
   ],
   "source": [
    "# Tests for Model.as_df:\n",
    "# Passing empty mx list\n",
    "\n",
    "mx = []\n",
    "\n",
    "df = Model.as_df(mx)\n",
    "\n",
    "assert df.shape == (len(mx), len(Model.BASIC_MODEL_COLS) - 1)\n",
    "\n",
    "df"
   ]
  },
  {
   "cell_type": "code",
   "execution_count": null,
   "metadata": {},
   "outputs": [],
   "source": [
    "# | export\n",
    "\n",
    "\n",
    "@patch\n",
    "def details(self: Model) -> pd.DataFrame:\n",
    "    \"\"\"Return the details of a model.\n",
    "\n",
    "    Returns:\n",
    "        A pandas DataFrame encapsulating the details of the model.\n",
    "\n",
    "    Raises:\n",
    "        ConnectionError: If the server address is invalid or not reachable.\n",
    "    \"\"\"\n",
    "\n",
    "    response = Client._get_data(relative_url=f\"/model/{self.uuid}\")\n",
    "\n",
    "    df = pd.DataFrame(response, index=[0])[Model.ALL_MODEL_COLS]\n",
    "\n",
    "    df = df.rename(columns=Model.COLS_TO_RENAME)\n",
    "\n",
    "    return add_ready_column(df)"
   ]
  },
  {
   "cell_type": "code",
   "execution_count": null,
   "metadata": {},
   "outputs": [],
   "source": [
    "# | exporti\n",
    "\n",
    "add_example_to_docs(Model.details, _docstring_example.__doc__)  # type: ignore"
   ]
  },
  {
   "cell_type": "code",
   "execution_count": null,
   "metadata": {},
   "outputs": [
    {
     "data": {
      "text/html": [
       "<div>\n",
       "<style scoped>\n",
       "    .dataframe tbody tr th:only-of-type {\n",
       "        vertical-align: middle;\n",
       "    }\n",
       "\n",
       "    .dataframe tbody tr th {\n",
       "        vertical-align: top;\n",
       "    }\n",
       "\n",
       "    .dataframe thead th {\n",
       "        text-align: right;\n",
       "    }\n",
       "</style>\n",
       "<table border=\"1\" class=\"dataframe\">\n",
       "  <thead>\n",
       "    <tr style=\"text-align: right;\">\n",
       "      <th></th>\n",
       "      <th>model_uuid</th>\n",
       "      <th>created</th>\n",
       "      <th>datasource_uuid</th>\n",
       "      <th>user_uuid</th>\n",
       "      <th>client_column</th>\n",
       "      <th>target_column</th>\n",
       "      <th>target</th>\n",
       "      <th>predict_after</th>\n",
       "      <th>timestamp_column</th>\n",
       "      <th>region</th>\n",
       "      <th>cloud_provider</th>\n",
       "      <th>error</th>\n",
       "      <th>disabled</th>\n",
       "      <th>ready</th>\n",
       "    </tr>\n",
       "  </thead>\n",
       "  <tbody>\n",
       "    <tr>\n",
       "      <th>0</th>\n",
       "      <td>127e4018-cdb5-4141-8c41-3f7db667367d</td>\n",
       "      <td>2022-10-31T11:39:47</td>\n",
       "      <td>b81d1ba1-7beb-4fea-985c-6bbe244fb3ca</td>\n",
       "      <td>c68991a4-0b78-47c6-857d-9a22514f9f09</td>\n",
       "      <td>user_id</td>\n",
       "      <td>category_code</td>\n",
       "      <td>*purchase</td>\n",
       "      <td>10800.0</td>\n",
       "      <td>None</td>\n",
       "      <td>eu-west-3</td>\n",
       "      <td>aws</td>\n",
       "      <td>None</td>\n",
       "      <td>False</td>\n",
       "      <td>True</td>\n",
       "    </tr>\n",
       "  </tbody>\n",
       "</table>\n",
       "</div>"
      ],
      "text/plain": [
       "                             model_uuid              created  \\\n",
       "0  127e4018-cdb5-4141-8c41-3f7db667367d  2022-10-31T11:39:47   \n",
       "\n",
       "                        datasource_uuid                             user_uuid  \\\n",
       "0  b81d1ba1-7beb-4fea-985c-6bbe244fb3ca  c68991a4-0b78-47c6-857d-9a22514f9f09   \n",
       "\n",
       "  client_column  target_column     target  predict_after timestamp_column  \\\n",
       "0       user_id  category_code  *purchase        10800.0             None   \n",
       "\n",
       "      region cloud_provider error  disabled  ready  \n",
       "0  eu-west-3            aws  None     False   True  "
      ]
     },
     "metadata": {},
     "output_type": "display_data"
    }
   ],
   "source": [
    "# Tests for Model.details\n",
    "\n",
    "with generate_model() as model:\n",
    "    df = model.details()\n",
    "\n",
    "    display(df)\n",
    "    assert df.model_uuid[0] == model.uuid\n",
    "    assert df.shape == (1, len(Model.ALL_MODEL_COLS) - 1), df.shape"
   ]
  },
  {
   "cell_type": "code",
   "execution_count": null,
   "metadata": {},
   "outputs": [
    {
     "data": {
      "text/plain": [
       "\"e.value=ValueError('The model uuid is incorrect. Please try again.')\""
      ]
     },
     "metadata": {},
     "output_type": "display_data"
    }
   ],
   "source": [
    "# Tests for Model.details\n",
    "# Testing negative scenario. Passing invalid data ID\n",
    "\n",
    "with pytest.raises(ValueError) as e:\n",
    "    model = Model(uuid=RANDOM_UUID_FOR_TESTING)\n",
    "    model.details()\n",
    "\n",
    "display(f\"{e.value=}\")"
   ]
  },
  {
   "cell_type": "code",
   "execution_count": null,
   "metadata": {},
   "outputs": [],
   "source": [
    "# | export\n",
    "\n",
    "\n",
    "@patch\n",
    "def delete(self: Model) -> pd.DataFrame:\n",
    "    \"\"\"Delete a model from the server.\n",
    "\n",
    "    Returns:\n",
    "        A pandas DataFrame encapsulating the details of the deleted model.\n",
    "\n",
    "    Raises:\n",
    "        ConnectionError: If the server address is invalid or not reachable.\n",
    "    \"\"\"\n",
    "\n",
    "    response = Client._delete_data(relative_url=f\"/model/{self.uuid}\")\n",
    "\n",
    "    df = pd.DataFrame(response, index=[0])[Model.BASIC_MODEL_COLS]\n",
    "\n",
    "    df = df.rename(columns=Model.COLS_TO_RENAME)\n",
    "\n",
    "    return add_ready_column(df)"
   ]
  },
  {
   "cell_type": "code",
   "execution_count": null,
   "metadata": {},
   "outputs": [],
   "source": [
    "# | exporti\n",
    "\n",
    "add_example_to_docs(Model.delete, _docstring_example.__doc__)  # type: ignore"
   ]
  },
  {
   "cell_type": "code",
   "execution_count": null,
   "metadata": {},
   "outputs": [
    {
     "data": {
      "text/html": [
       "<div>\n",
       "<style scoped>\n",
       "    .dataframe tbody tr th:only-of-type {\n",
       "        vertical-align: middle;\n",
       "    }\n",
       "\n",
       "    .dataframe tbody tr th {\n",
       "        vertical-align: top;\n",
       "    }\n",
       "\n",
       "    .dataframe thead th {\n",
       "        text-align: right;\n",
       "    }\n",
       "</style>\n",
       "<table border=\"1\" class=\"dataframe\">\n",
       "  <thead>\n",
       "    <tr style=\"text-align: right;\">\n",
       "      <th></th>\n",
       "      <th>model_uuid</th>\n",
       "      <th>created</th>\n",
       "      <th>ready</th>\n",
       "    </tr>\n",
       "  </thead>\n",
       "  <tbody>\n",
       "    <tr>\n",
       "      <th>0</th>\n",
       "      <td>127e4018-cdb5-4141-8c41-3f7db667367d</td>\n",
       "      <td>2022-10-31T11:39:47</td>\n",
       "      <td>True</td>\n",
       "    </tr>\n",
       "  </tbody>\n",
       "</table>\n",
       "</div>"
      ],
      "text/plain": [
       "                             model_uuid              created  ready\n",
       "0  127e4018-cdb5-4141-8c41-3f7db667367d  2022-10-31T11:39:47   True"
      ]
     },
     "metadata": {},
     "output_type": "display_data"
    },
    {
     "data": {
      "text/plain": [
       "\"model_uuid_list=['b3b17f4c-2f00-4f51-9841-5dac52bfea61', '4b4b3909-671f-43f9-b868-d7d70a790e39', '5e80898d-a2a0-4341-8412-157086638d43', '5c9b02a4-23a0-4743-b163-ad74f217d685']\""
      ]
     },
     "metadata": {},
     "output_type": "display_data"
    },
    {
     "data": {
      "text/plain": [
       "\"model_uuid_list=['0ed30646-9ce7-4529-8d3e-ca8e97750182', '8ae5e31c-a77e-4d67-95f4-5bda6aee8685', '39112b6f-8c74-41f8-a39b-3ce8859a5ca1', '6e1800a4-8e23-4958-b63d-6bbad4a6c0b8', 'd6bb1704-8643-457d-8b87-ac09d575d936', '127e4018-cdb5-4141-8c41-3f7db667367d']\""
      ]
     },
     "metadata": {},
     "output_type": "display_data"
    },
    {
     "data": {
      "text/plain": [
       "\"e.value=ValueError('The model has already been deleted.')\""
      ]
     },
     "metadata": {},
     "output_type": "display_data"
    }
   ],
   "source": [
    "# Tests for model.delete\n",
    "\n",
    "with generate_model() as model:\n",
    "    df = model.delete()\n",
    "    display(df)\n",
    "\n",
    "    assert df.shape == (1, 3), df.shape\n",
    "    assert df.model_uuid[0] == model.uuid\n",
    "\n",
    "    # Passing disabled=False. Should show only the active models.\n",
    "    mx = Model.ls()\n",
    "    model_uuid_list = [m.uuid for m in mx]\n",
    "\n",
    "    display(f\"{model_uuid_list=}\")\n",
    "    assert model.uuid not in model_uuid_list\n",
    "\n",
    "    # Passing disabled=True. Should show only the deleted models.\n",
    "    mx = Model.ls(disabled=True)\n",
    "    model_uuid_list = [model.uuid for model in mx]\n",
    "\n",
    "    display(f\"{model_uuid_list=}\")\n",
    "    assert model.uuid in model_uuid_list\n",
    "\n",
    "    # Testing negative scenario. Deleting already deleted model\n",
    "    with pytest.raises(ValueError) as e:\n",
    "        model.delete()\n",
    "\n",
    "    display(f\"{e.value=}\")"
   ]
  },
  {
   "cell_type": "code",
   "execution_count": null,
   "metadata": {},
   "outputs": [],
   "source": [
    "# | export\n",
    "\n",
    "\n",
    "@patch\n",
    "def evaluate(self: Model) -> pd.DataFrame:\n",
    "    \"\"\"Return the evaluation metrics of the trained model.\n",
    "\n",
    "    Currently, this method returns the model's accuracy, precision, and recall. In the\n",
    "    future, more performance metrics will be added.\n",
    "\n",
    "    Returns:\n",
    "        The performance metrics of the trained model as a pandas series.\n",
    "\n",
    "    Raises:\n",
    "        ConnectionError: If the server address is invalid or not reachable.\n",
    "    \"\"\"\n",
    "    model_evaluate = Client._get_data(relative_url=f\"/model/{self.uuid}/evaluate\")\n",
    "    return pd.DataFrame(dict(model_evaluate), index=[0]).T.rename(columns={0: \"eval\"})"
   ]
  },
  {
   "cell_type": "code",
   "execution_count": null,
   "metadata": {},
   "outputs": [],
   "source": [
    "# | exporti\n",
    "\n",
    "add_example_to_docs(Model.evaluate, _docstring_example.__doc__)  # type: ignore"
   ]
  },
  {
   "cell_type": "code",
   "execution_count": null,
   "metadata": {},
   "outputs": [
    {
     "name": "stderr",
     "output_type": "stream",
     "text": [
      "100%|██████████| 1/1 [00:10<00:00, 10.14s/it]\n"
     ]
    },
    {
     "data": {
      "text/plain": [
       "\"db.uuid='9253d82e-582b-47c6-b5c0-fc21d1f04dd3'\""
      ]
     },
     "metadata": {},
     "output_type": "display_data"
    },
    {
     "data": {
      "text/plain": [
       "\"ds.uuid='fa18ebdf-5357-4f78-8610-21160c3c4280'\""
      ]
     },
     "metadata": {},
     "output_type": "display_data"
    },
    {
     "name": "stderr",
     "output_type": "stream",
     "text": [
      "100%|██████████| 1/1 [00:30<00:00, 30.34s/it]\n",
      "100%|██████████| 5/5 [00:00<00:00, 138.69it/s]\n"
     ]
    },
    {
     "data": {
      "text/html": [
       "<div>\n",
       "<style scoped>\n",
       "    .dataframe tbody tr th:only-of-type {\n",
       "        vertical-align: middle;\n",
       "    }\n",
       "\n",
       "    .dataframe tbody tr th {\n",
       "        vertical-align: top;\n",
       "    }\n",
       "\n",
       "    .dataframe thead th {\n",
       "        text-align: right;\n",
       "    }\n",
       "</style>\n",
       "<table border=\"1\" class=\"dataframe\">\n",
       "  <thead>\n",
       "    <tr style=\"text-align: right;\">\n",
       "      <th></th>\n",
       "      <th>eval</th>\n",
       "    </tr>\n",
       "  </thead>\n",
       "  <tbody>\n",
       "    <tr>\n",
       "      <th>accuracy</th>\n",
       "      <td>0.985</td>\n",
       "    </tr>\n",
       "    <tr>\n",
       "      <th>recall</th>\n",
       "      <td>0.962</td>\n",
       "    </tr>\n",
       "    <tr>\n",
       "      <th>precision</th>\n",
       "      <td>0.934</td>\n",
       "    </tr>\n",
       "  </tbody>\n",
       "</table>\n",
       "</div>"
      ],
      "text/plain": [
       "            eval\n",
       "accuracy   0.985\n",
       "recall     0.962\n",
       "precision  0.934"
      ]
     },
     "metadata": {},
     "output_type": "display_data"
    }
   ],
   "source": [
    "# Tests for model.evaluate:\n",
    "with generate_model(force_create=True) as model:\n",
    "    df = model.evaluate()\n",
    "    display(df)\n",
    "    assert df.shape == (3, 1)"
   ]
  },
  {
   "cell_type": "code",
   "execution_count": null,
   "metadata": {},
   "outputs": [],
   "source": [
    "# | export\n",
    "\n",
    "\n",
    "@patch\n",
    "def predict(self: Model, data_uuid: Optional[int] = 0) -> Prediction:\n",
    "    \"\"\"Run predictions against the trained model.\n",
    "\n",
    "    The progress for the same can be checked by calling the `is_ready` method on the `Model` instance.\n",
    "    Alternatively, you can call the `progress_bar` method to monitor the status interactively.\n",
    "\n",
    "    Args:\n",
    "        data_uuid: The datasource uuid to run the predictions. If not set, then the datasource used for training\n",
    "            the model will be used for prediction aswell.\n",
    "\n",
    "    Returns:\n",
    "        An instance of the `Prediction` class.\n",
    "\n",
    "    Raises:\n",
    "        ConnectionError: If the server address is invalid or not reachable.\n",
    "    \"\"\"\n",
    "\n",
    "    req_json = dict(data_uuid=data_uuid) if data_uuid else None\n",
    "\n",
    "    response = Client._post_data(\n",
    "        relative_url=f\"/model/{self.uuid}/predict\", json=req_json\n",
    "    )\n",
    "\n",
    "    return Prediction(uuid=response[\"uuid\"], datasource=response[\"datasource\"])"
   ]
  },
  {
   "cell_type": "code",
   "execution_count": null,
   "metadata": {},
   "outputs": [],
   "source": [
    "# | exporti\n",
    "\n",
    "add_example_to_docs(Model.predict, _docstring_example.__doc__)  # type: ignore"
   ]
  },
  {
   "cell_type": "code",
   "execution_count": null,
   "metadata": {},
   "outputs": [
    {
     "data": {
      "text/plain": [
       "\"predictions.uuid='31f03b0b-401d-48f4-baf0-91cf89267993' \\npredictions.datasource='fa18ebdf-5357-4f78-8610-21160c3c4280'\""
      ]
     },
     "metadata": {},
     "output_type": "display_data"
    }
   ],
   "source": [
    "# Tests for model.predict:\n",
    "# Positive scenario. Taking the training data for prediction (not passing data_id in the params)\n",
    "\n",
    "with generate_model() as model:\n",
    "    predictions = model.predict()\n",
    "\n",
    "    display(f\"{predictions.uuid=} \\n{predictions.datasource=}\")\n",
    "    assert len(predictions.uuid.replace(\"-\", \"\")) == 32"
   ]
  },
  {
   "cell_type": "code",
   "execution_count": null,
   "metadata": {},
   "outputs": [
    {
     "name": "stderr",
     "output_type": "stream",
     "text": [
      "100%|██████████| 1/1 [00:15<00:00, 15.18s/it]\n"
     ]
    },
    {
     "data": {
      "text/plain": [
       "\"db.uuid='2faec7cf-95e9-4777-bba1-29f597075c9e'\""
      ]
     },
     "metadata": {},
     "output_type": "display_data"
    },
    {
     "name": "stderr",
     "output_type": "stream",
     "text": [
      "100%|██████████| 1/1 [00:30<00:00, 30.35s/it]\n",
      "100%|██████████| 3/3 [00:05<00:00,  1.70s/it]\n"
     ]
    },
    {
     "data": {
      "text/plain": [
       "'predictions.is_ready()=True'"
      ]
     },
     "metadata": {},
     "output_type": "display_data"
    },
    {
     "data": {
      "text/plain": [
       "\"predictions.uuid='d9473bcb-5a1d-4b39-ad89-9d3370eb92cb' \\npredictions.datasource='a33630b1-8380-44fd-903a-4ec18a2ff0c3' \\nds.uuid='a33630b1-8380-44fd-903a-4ec18a2ff0c3'\""
      ]
     },
     "metadata": {},
     "output_type": "display_data"
    }
   ],
   "source": [
    "# Tests for model.predict:\n",
    "# Positive scenario. Explicitely passing a data_uuid in the params\n",
    "\n",
    "with generate_model() as model:\n",
    "    # Create a s3 datasource\n",
    "    db = DataBlob.from_s3(\n",
    "        uri=TEST_S3_URI,\n",
    "        access_key=os.environ[\"AWS_ACCESS_KEY_ID\"],\n",
    "        secret_key=os.environ[\"AWS_SECRET_ACCESS_KEY\"],\n",
    "    )\n",
    "\n",
    "    db.progress_bar()\n",
    "    display(f\"{db.uuid=}\")\n",
    "    assert len(db.uuid.replace(\"-\", \"\")) == 32\n",
    "\n",
    "    ds = db.to_datasource(\n",
    "        file_type=\"parquet\", index_column=\"user_id\", sort_by=\"event_time\"\n",
    "    )\n",
    "\n",
    "    ds.progress_bar()\n",
    "\n",
    "    # Predicting the trained model with the newly created data source\n",
    "    predictions = model.predict(data_uuid=ds.uuid)\n",
    "\n",
    "    predictions.progress_bar()\n",
    "\n",
    "    display(f\"{predictions.is_ready()=}\")\n",
    "\n",
    "    display(f\"{predictions.uuid=} \\n{predictions.datasource=} \\n{ds.uuid=}\")\n",
    "    assert len(predictions.uuid.replace(\"-\", \"\")) == 32\n",
    "    assert predictions.datasource == ds.uuid"
   ]
  },
  {
   "cell_type": "code",
   "execution_count": null,
   "metadata": {},
   "outputs": [],
   "source": []
  }
 ],
 "metadata": {
  "kernelspec": {
   "display_name": "python3",
   "language": "python",
   "name": "python3"
  }
 },
 "nbformat": 4,
 "nbformat_minor": 2
}
