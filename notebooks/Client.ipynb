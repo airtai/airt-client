{
 "cells": [
  {
   "cell_type": "raw",
   "metadata": {},
   "source": [
    "---\n",
    "{}\n",
    "\n",
    "---\n",
    "\n"
   ]
  },
  {
   "cell_type": "code",
   "execution_count": null,
   "metadata": {},
   "outputs": [],
   "source": [
    "# | default_exp client"
   ]
  },
  {
   "cell_type": "code",
   "execution_count": null,
   "metadata": {},
   "outputs": [],
   "source": [
    "# | export\n",
    "\n",
    "from airt._components.api_key import APIKey as _APIKey\n",
    "from airt._components.client import Client as _Client\n",
    "from airt._components.datablob import DataBlob as _DataBlob\n",
    "from airt._components.datasource import DataSource as _DataSource\n",
    "from airt._components.model import Model as _Model\n",
    "from airt._components.prediction import Prediction as _Prediction\n",
    "from airt._components.progress_status import ProgressStatus as _ProgressStatus\n",
    "from airt._components.user import User as _User\n",
    "\n",
    "Client = _Client\n",
    "DataSource = _DataSource\n",
    "DataBlob = _DataBlob\n",
    "ProgressStatus = _ProgressStatus\n",
    "Model = _Model\n",
    "Prediction = _Prediction\n",
    "User = _User\n",
    "APIKey = _APIKey\n",
    "\n",
    "for cls in [\n",
    "    Client,\n",
    "    DataSource,\n",
    "    DataBlob,\n",
    "    ProgressStatus,\n",
    "    Model,\n",
    "    Prediction,\n",
    "    User,\n",
    "    APIKey,\n",
    "]:\n",
    "    cls.__module__ = \"airt.client\""
   ]
  },
  {
   "cell_type": "code",
   "execution_count": null,
   "metadata": {},
   "outputs": [],
   "source": [
    "import os\n",
    "import tempfile\n",
    "\n",
    "import airt._sanitizer"
   ]
  },
  {
   "cell_type": "markdown",
   "metadata": {},
   "source": [
    "## Full pipeline example"
   ]
  },
  {
   "cell_type": "code",
   "execution_count": null,
   "metadata": {},
   "outputs": [
    {
     "name": "stderr",
     "output_type": "stream",
     "text": [
      "100%|██████████| 1/1 [00:15<00:00, 15.18s/it]\n",
      "100%|██████████| 1/1 [00:25<00:00, 25.28s/it]\n",
      "100%|██████████| 5/5 [00:00<00:00, 123.84it/s]\n"
     ]
    },
    {
     "data": {
      "text/html": [
       "<div>\n",
       "<style scoped>\n",
       "    .dataframe tbody tr th:only-of-type {\n",
       "        vertical-align: middle;\n",
       "    }\n",
       "\n",
       "    .dataframe tbody tr th {\n",
       "        vertical-align: top;\n",
       "    }\n",
       "\n",
       "    .dataframe thead th {\n",
       "        text-align: right;\n",
       "    }\n",
       "</style>\n",
       "<table border=\"1\" class=\"dataframe\">\n",
       "  <thead>\n",
       "    <tr style=\"text-align: right;\">\n",
       "      <th></th>\n",
       "      <th>eval</th>\n",
       "    </tr>\n",
       "  </thead>\n",
       "  <tbody>\n",
       "    <tr>\n",
       "      <th>accuracy</th>\n",
       "      <td>0.985</td>\n",
       "    </tr>\n",
       "    <tr>\n",
       "      <th>recall</th>\n",
       "      <td>0.962</td>\n",
       "    </tr>\n",
       "    <tr>\n",
       "      <th>precision</th>\n",
       "      <td>0.934</td>\n",
       "    </tr>\n",
       "  </tbody>\n",
       "</table>\n",
       "</div>"
      ],
      "text/plain": [
       "            eval\n",
       "accuracy   0.985\n",
       "recall     0.962\n",
       "precision  0.934"
      ]
     },
     "metadata": {},
     "output_type": "display_data"
    },
    {
     "name": "stderr",
     "output_type": "stream",
     "text": [
      "100%|██████████| 3/3 [00:10<00:00,  3.38s/it]\n"
     ]
    },
    {
     "data": {
      "text/html": [
       "<div>\n",
       "<style scoped>\n",
       "    .dataframe tbody tr th:only-of-type {\n",
       "        vertical-align: middle;\n",
       "    }\n",
       "\n",
       "    .dataframe tbody tr th {\n",
       "        vertical-align: top;\n",
       "    }\n",
       "\n",
       "    .dataframe thead th {\n",
       "        text-align: right;\n",
       "    }\n",
       "</style>\n",
       "<table border=\"1\" class=\"dataframe\">\n",
       "  <thead>\n",
       "    <tr style=\"text-align: right;\">\n",
       "      <th></th>\n",
       "      <th>Score</th>\n",
       "    </tr>\n",
       "    <tr>\n",
       "      <th>user_id</th>\n",
       "      <th></th>\n",
       "    </tr>\n",
       "  </thead>\n",
       "  <tbody>\n",
       "    <tr>\n",
       "      <th>520088904</th>\n",
       "      <td>0.979853</td>\n",
       "    </tr>\n",
       "    <tr>\n",
       "      <th>530496790</th>\n",
       "      <td>0.979157</td>\n",
       "    </tr>\n",
       "    <tr>\n",
       "      <th>561587266</th>\n",
       "      <td>0.979055</td>\n",
       "    </tr>\n",
       "    <tr>\n",
       "      <th>518085591</th>\n",
       "      <td>0.978915</td>\n",
       "    </tr>\n",
       "    <tr>\n",
       "      <th>558856683</th>\n",
       "      <td>0.977960</td>\n",
       "    </tr>\n",
       "    <tr>\n",
       "      <th>520772685</th>\n",
       "      <td>0.004043</td>\n",
       "    </tr>\n",
       "    <tr>\n",
       "      <th>514028527</th>\n",
       "      <td>0.003890</td>\n",
       "    </tr>\n",
       "    <tr>\n",
       "      <th>518574284</th>\n",
       "      <td>0.001346</td>\n",
       "    </tr>\n",
       "    <tr>\n",
       "      <th>532364121</th>\n",
       "      <td>0.001341</td>\n",
       "    </tr>\n",
       "    <tr>\n",
       "      <th>532647354</th>\n",
       "      <td>0.001139</td>\n",
       "    </tr>\n",
       "  </tbody>\n",
       "</table>\n",
       "</div>"
      ],
      "text/plain": [
       "              Score\n",
       "user_id            \n",
       "520088904  0.979853\n",
       "530496790  0.979157\n",
       "561587266  0.979055\n",
       "518085591  0.978915\n",
       "558856683  0.977960\n",
       "520772685  0.004043\n",
       "514028527  0.003890\n",
       "518574284  0.001346\n",
       "532364121  0.001341\n",
       "532647354  0.001139"
      ]
     },
     "metadata": {},
     "output_type": "display_data"
    },
    {
     "data": {
      "text/plain": [
       "[]"
      ]
     },
     "metadata": {},
     "output_type": "display_data"
    },
    {
     "name": "stderr",
     "output_type": "stream",
     "text": [
      "100%|██████████| 1/1 [00:00<00:00,  1.85it/s]\n"
     ]
    },
    {
     "data": {
      "text/plain": [
       "\"downloaded_files=['part.0.parquet']\""
      ]
     },
     "metadata": {},
     "output_type": "display_data"
    }
   ],
   "source": [
    "# full pipeline example\n",
    "\n",
    "from datetime import timedelta\n",
    "\n",
    "# 0. Obtain access token\n",
    "Client.get_token()\n",
    "\n",
    "# 1. Connect, process and pull the datasource to the server\n",
    "db = DataBlob.from_s3(\n",
    "    uri=\"s3://test-airt-service/ecommerce_behavior_notebooks\",\n",
    "    access_key=os.environ[\"AWS_ACCESS_KEY_ID\"],\n",
    "    secret_key=os.environ[\"AWS_SECRET_ACCESS_KEY\"],\n",
    "    cloud_provider=\"aws\",\n",
    "    region=\"eu-west-1\",\n",
    ")\n",
    "\n",
    "db.progress_bar()\n",
    "\n",
    "ds = db.to_datasource(file_type=\"parquet\", index_column=\"user_id\", sort_by=\"event_time\")\n",
    "\n",
    "ds.progress_bar()\n",
    "\n",
    "# 2. Train and evaluate a model\n",
    "model = ds.train(\n",
    "    client_column=\"user_id\",\n",
    "    target_column=\"event_type\",\n",
    "    target=\"*purchase\",\n",
    "    predict_after=timedelta(hours=3),\n",
    ")\n",
    "model.progress_bar()\n",
    "display(model.evaluate())\n",
    "\n",
    "# 3. Make prediction using existing data source\n",
    "\n",
    "predictions = model.predict()\n",
    "predictions.progress_bar()\n",
    "\n",
    "display(predictions.to_pandas())\n",
    "\n",
    "with tempfile.TemporaryDirectory(prefix=\"test_to_local_\") as d:\n",
    "    assert os.listdir(d) == []\n",
    "    display(list(os.listdir(d)))\n",
    "\n",
    "    r = predictions.to_local(path=d)\n",
    "\n",
    "    downloaded_files = sorted(list(os.listdir(d)))\n",
    "    assert downloaded_files == [\"part.0.parquet\"], downloaded_files\n",
    "    display(f\"{downloaded_files=}\")"
   ]
  },
  {
   "cell_type": "code",
   "execution_count": null,
   "metadata": {},
   "outputs": [],
   "source": []
  }
 ],
 "metadata": {
  "kernelspec": {
   "display_name": "Python 3 (ipykernel)",
   "language": "python",
   "name": "python3"
  }
 },
 "nbformat": 4,
 "nbformat_minor": 2
}
