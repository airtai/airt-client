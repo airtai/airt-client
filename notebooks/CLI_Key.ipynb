{
 "cells": [
  {
   "cell_type": "raw",
   "metadata": {},
   "source": [
    "---\n",
    "description: This module contains all commands encapsulating the API_keys routes of\n",
    "  the API service.\n",
    "output-file: cli_key.html\n",
    "title: CLI_Key\n",
    "\n",
    "---\n",
    "\n"
   ]
  },
  {
   "cell_type": "code",
   "execution_count": null,
   "metadata": {},
   "outputs": [],
   "source": [
    "# | default_exp cli.api_key"
   ]
  },
  {
   "cell_type": "code",
   "execution_count": null,
   "metadata": {},
   "outputs": [
    {
     "name": "stdout",
     "output_type": "stream",
     "text": [
      "[INFO] airt.testing.activate_by_import: Testing environment activated.\n"
     ]
    }
   ],
   "source": [
    "from airt.testing import activate_by_import"
   ]
  },
  {
   "cell_type": "code",
   "execution_count": null,
   "metadata": {},
   "outputs": [],
   "source": [
    "# | export\n",
    "\n",
    "from typing import *"
   ]
  },
  {
   "cell_type": "code",
   "execution_count": null,
   "metadata": {},
   "outputs": [],
   "source": [
    "# | exporti\n",
    "\n",
    "import os\n",
    "\n",
    "import pandas as pd\n",
    "import typer\n",
    "from tabulate import tabulate\n",
    "from typer import echo\n",
    "\n",
    "from airt.cli import helper\n",
    "from airt.client import Client\n",
    "from airt.constant import CLIENT_NAME, SERVICE_TOKEN\n",
    "from airt.logger import get_logger, set_level"
   ]
  },
  {
   "cell_type": "code",
   "execution_count": null,
   "metadata": {},
   "outputs": [],
   "source": [
    "import logging\n",
    "import random\n",
    "import string\n",
    "from contextlib import contextmanager\n",
    "\n",
    "import pytest\n",
    "from typer.testing import CliRunner\n",
    "\n",
    "import airt.sanitizer\n",
    "from airt.cli.user import app as user_cli_app\n",
    "from airt.constant import SERVICE_PASSWORD, SERVICE_TOKEN, SERVICE_USERNAME"
   ]
  },
  {
   "cell_type": "code",
   "execution_count": null,
   "metadata": {},
   "outputs": [],
   "source": [
    "RANDOM_UUID_FOR_TESTING = \"00000000-0000-0000-0000-000000000000\""
   ]
  },
  {
   "cell_type": "code",
   "execution_count": null,
   "metadata": {},
   "outputs": [],
   "source": [
    "# | exporti\n",
    "\n",
    "app = typer.Typer(\n",
    "    help=f\"\"\"A set of commands for managing the ApiKeys in the server.\n",
    "        \n",
    "        Both the ApiKey and the token can be used for accessing the {CLIENT_NAME} services. However, there is a \n",
    "        slight difference in generating and managing the two.\n",
    "        \n",
    "        For generating the ApiKey, you first need to get the developer token. Please refer to **{CLIENT_NAME} token** command documentation to generate one.\n",
    "        \n",
    "        After logging in with your developer token, you can create any number of new ApiKeys and can set an \n",
    "        expiration date individually. You can also access other commands available as part of **{CLIENT_NAME} api-key** sub-command to \n",
    "        list, revoke the ApiKeys at any time.\n",
    "\n",
    "        Once the new API key is generated, please set it in the **{SERVICE_TOKEN}** environment variable to start accessing the {CLIENT_NAME} services with it.\"\"\",\n",
    ")"
   ]
  },
  {
   "cell_type": "code",
   "execution_count": null,
   "metadata": {},
   "outputs": [
    {
     "data": {
      "text/plain": [
       "'A set of commands for managing the ApiKeys in the server.\\n        \\n        Both the ApiKey and the token can be used for accessing the airt services. However, there is a \\n        slight difference in generating and managing the two.\\n        \\n        For generating the ApiKey, you first need to get the developer token. Please refer to **airt token** command documentation to generate one.\\n        \\n        After logging in with your developer token, you can create any number of new ApiKeys and can set an \\n        expiration date individually. You can also access other commands available as part of **airt api-key** sub-command to \\n        list, revoke the ApiKeys at any time.\\n\\n        Once the new API key is generated, please set it in the **AIRT_SERVICE_TOKEN** environment variable to start accessing the airt services with it.'"
      ]
     },
     "execution_count": null,
     "metadata": {},
     "output_type": "execute_result"
    }
   ],
   "source": [
    "assert \"**AIRT_SERVICE_TOKEN**\" in app.info.help\n",
    "assert \"airt services with it\" in app.info.help\n",
    "assert \"**airt api-key**\" in app.info.help\n",
    "\n",
    "app.info.help"
   ]
  },
  {
   "cell_type": "code",
   "execution_count": null,
   "metadata": {},
   "outputs": [],
   "source": [
    "runner = CliRunner()"
   ]
  },
  {
   "cell_type": "code",
   "execution_count": null,
   "metadata": {},
   "outputs": [],
   "source": [
    "# | export\n",
    "\n",
    "logger = get_logger(__name__)"
   ]
  },
  {
   "cell_type": "code",
   "execution_count": null,
   "metadata": {},
   "outputs": [],
   "source": [
    "set_level(logging.WARNING)"
   ]
  },
  {
   "cell_type": "code",
   "execution_count": null,
   "metadata": {},
   "outputs": [
    {
     "data": {
      "text/plain": [
       "30"
      ]
     },
     "metadata": {},
     "output_type": "display_data"
    },
    {
     "name": "stdout",
     "output_type": "stream",
     "text": [
      "[WARNING] __main__: This is a warning\n",
      "[ERROR] __main__: This is an error\n"
     ]
    }
   ],
   "source": [
    "# Testing logger settings\n",
    "\n",
    "display(logger.getEffectiveLevel())\n",
    "assert logger.getEffectiveLevel() == logging.WARNING\n",
    "\n",
    "logger.debug(\"This is a debug message\")\n",
    "logger.info(\"This is an info\")\n",
    "logger.warning(\"This is a warning\")\n",
    "logger.error(\"This is an error\")"
   ]
  },
  {
   "cell_type": "code",
   "execution_count": null,
   "metadata": {},
   "outputs": [],
   "source": [
    "# Helper context manager for testing\n",
    "\n",
    "_airt_service_token = None\n",
    "\n",
    "\n",
    "@contextmanager\n",
    "def set_airt_service_token_envvar():\n",
    "    global _airt_service_token\n",
    "    if _airt_service_token is None:\n",
    "        display(\"_airt_service_token is None, getting a token...\")\n",
    "\n",
    "        username = os.environ[SERVICE_USERNAME]\n",
    "        password = os.environ[SERVICE_PASSWORD]\n",
    "\n",
    "        Client.get_token(username=username, password=password)\n",
    "        _airt_service_token = Client.auth_token\n",
    "\n",
    "    try:\n",
    "        os.environ[SERVICE_TOKEN] = _airt_service_token\n",
    "\n",
    "        yield\n",
    "    finally:\n",
    "        del os.environ[SERVICE_TOKEN]"
   ]
  },
  {
   "cell_type": "code",
   "execution_count": null,
   "metadata": {},
   "outputs": [
    {
     "data": {
      "text/plain": [
       "'_airt_service_token is None, getting a token...'"
      ]
     },
     "metadata": {},
     "output_type": "display_data"
    },
    {
     "data": {
      "text/plain": [
       "'*******************************************************************************************************************************'"
      ]
     },
     "metadata": {},
     "output_type": "display_data"
    }
   ],
   "source": [
    "with set_airt_service_token_envvar():\n",
    "    display(\"*\" * len((os.environ[SERVICE_TOKEN])))"
   ]
  },
  {
   "cell_type": "code",
   "execution_count": null,
   "metadata": {},
   "outputs": [],
   "source": [
    "# | exporti\n",
    "\n",
    "\n",
    "@app.command()\n",
    "@helper.requires_totp()\n",
    "@helper.requires_auth_token\n",
    "def create(\n",
    "    name: str = typer.Argument(..., help=\"The name of the ApiKey.\"),\n",
    "    expiry: int = typer.Option(\n",
    "        None,\n",
    "        \"--expiry\",\n",
    "        \"-e\",\n",
    "        help=\"The validity of the API key in number of days. If not passed, then the default value None will be used to create an ApiKey with no expiry date!\",\n",
    "    ),\n",
    "    otp: Optional[str] = typer.Option(\n",
    "        None,\n",
    "        \"--otp\",\n",
    "        help=\"Dynamically generated six-digit verification code from the authenticator app. Please pass this optional argument only if the MFA is enabled for your account.\",\n",
    "    ),\n",
    "    quiet: bool = typer.Option(\n",
    "        False,\n",
    "        \"--quiet\",\n",
    "        \"-q\",\n",
    "        help=\"Output access token only.\",\n",
    "    ),\n",
    "    debug: bool = typer.Option(\n",
    "        False,\n",
    "        \"--debug\",\n",
    "        \"-d\",\n",
    "        help=\"Set logger level to DEBUG and output everything.\",\n",
    "    ),\n",
    ") -> None:\n",
    "    \"\"\"Create a new ApiKey\n",
    "\n",
    "    !!! note\n",
    "\n",
    "        - The name of the ApiKey must be unique. If not, an exception will be raised while creating a new key with an existing key's name.\n",
    "\n",
    "        - The expiry for an ApiKey is optional. If not passed, then the default value None will be used to create an ApiKey with no expiry date!\n",
    "    \"\"\"\n",
    "\n",
    "    from airt.client import APIKey\n",
    "\n",
    "    response = APIKey.create(name=name, expiry=expiry, otp=otp)\n",
    "\n",
    "    if quiet:\n",
    "        typer.echo(response[\"access_token\"])\n",
    "    else:\n",
    "        typer.echo(f\"Access Token: {response['access_token']}\")"
   ]
  },
  {
   "cell_type": "code",
   "execution_count": null,
   "metadata": {},
   "outputs": [
    {
     "data": {
      "text/plain": [
       "\"KeyError: The environment variable 'AIRT_SERVICE_TOKEN' is not set.\\n\\nPlease run the command 'airt token' to get the application token and set it in the environment variable `AIRT_SERVICE_TOKEN`.\\n\\nTry 'airt token --help' for help.\\n\""
      ]
     },
     "metadata": {},
     "output_type": "display_data"
    }
   ],
   "source": [
    "# Tests for APIKey create\n",
    "\n",
    "# Testing negative scenario\n",
    "\n",
    "result = runner.invoke(\n",
    "    app,\n",
    "    [\"test\", \"-e\", 365],\n",
    ")\n",
    "\n",
    "display(result.stdout)\n",
    "assert f\"KeyError: The environment variable '{SERVICE_TOKEN}' is not set.\" in str(\n",
    "    result.stdout\n",
    ")"
   ]
  },
  {
   "cell_type": "code",
   "execution_count": null,
   "metadata": {},
   "outputs": [],
   "source": [
    "def generate_random_name(size=15, chars=string.ascii_uppercase + string.digits):\n",
    "    return \"\".join(random.choice(chars) for _ in range(size))\n",
    "\n",
    "\n",
    "assert len(generate_random_name()) == 15\n",
    "assert type(generate_random_name()) == str"
   ]
  },
  {
   "cell_type": "code",
   "execution_count": null,
   "metadata": {},
   "outputs": [
    {
     "data": {
      "text/plain": [
       "\"masked_token='*************************************************************************************************************************************************************************************************'\""
      ]
     },
     "metadata": {},
     "output_type": "display_data"
    },
    {
     "data": {
      "text/plain": [
       "\"masked_token='*************************************************************************************************************************************************************************************************'\""
      ]
     },
     "metadata": {},
     "output_type": "display_data"
    },
    {
     "data": {
      "text/plain": [
       "\"masked_token='***************************************************************************************************************************************************************************'\""
      ]
     },
     "metadata": {},
     "output_type": "display_data"
    },
    {
     "data": {
      "text/plain": [
       "'Error: An Api-key with the same name already exists\\n'"
      ]
     },
     "metadata": {},
     "output_type": "display_data"
    },
    {
     "data": {
      "text/plain": [
       "'Error: MFA is not activated for the account. Please pass the OTP only after activating the MFA for your account.\\n'"
      ]
     },
     "metadata": {},
     "output_type": "display_data"
    }
   ],
   "source": [
    "# Tests for APIKey create\n",
    "\n",
    "# Testing positive scenario and negative scenario\n",
    "\n",
    "\n",
    "def mask(s: str) -> str:\n",
    "    return \"*\" * len(s)\n",
    "\n",
    "\n",
    "key_name = generate_random_name()\n",
    "with set_airt_service_token_envvar():\n",
    "\n",
    "    # Testing without quite flag\n",
    "    result = runner.invoke(\n",
    "        app,\n",
    "        [key_name, \"-e\", 365],\n",
    "    )\n",
    "\n",
    "    access_token = result.stdout[:-1]\n",
    "    masked_token = mask(access_token.split(\": \")[1])\n",
    "\n",
    "    display(f\"{masked_token=}\")\n",
    "\n",
    "    assert result.exit_code == 0\n",
    "    assert len(access_token) >= 127  # maybe\n",
    "    assert \"Access Token\" in str(result.stdout)\n",
    "\n",
    "    # Testing with quite flag\n",
    "    result = runner.invoke(\n",
    "        app,\n",
    "        [generate_random_name(), \"-e\", 365, \"-q\"],\n",
    "    )\n",
    "\n",
    "    access_token = result.stdout[:-1]\n",
    "    masked_token = mask(access_token)\n",
    "\n",
    "    display(f\"{masked_token=}\")\n",
    "\n",
    "    assert result.exit_code == 0\n",
    "    assert len(access_token) >= 127  # maybe\n",
    "    assert \"Access Token\" not in str(result.stdout)\n",
    "\n",
    "    # Negative scenario: Creating key without setting expiration date\n",
    "    result = runner.invoke(\n",
    "        app,\n",
    "        [generate_random_name(), \"-q\"],\n",
    "    )\n",
    "\n",
    "    access_token = result.stdout[:-1]\n",
    "    masked_token = mask(access_token)\n",
    "    display(f\"{masked_token=}\")\n",
    "\n",
    "    assert result.exit_code == 0\n",
    "    assert len(access_token) >= 110, len(access_token)  # maybe\n",
    "    assert \"Access Token\" not in str(result.stdout)\n",
    "\n",
    "    # Negative scenario: Passing existing key name\n",
    "    result = runner.invoke(\n",
    "        app,\n",
    "        [key_name, \"-e\", 365, \"-q\"],\n",
    "    )\n",
    "\n",
    "    assert result.exit_code == 1\n",
    "    assert \"An Api-key with the same name already exists\" in str(result.stdout)\n",
    "    display(result.stdout)\n",
    "\n",
    "    # Negative scenario: Passing OTP for non-mfa user existing key name\n",
    "    random_otp = \"123456\"\n",
    "    result = runner.invoke(\n",
    "        app,\n",
    "        [generate_random_name(), \"-e\", 365, \"-q\", \"--otp\", random_otp],\n",
    "    )\n",
    "\n",
    "    assert result.exit_code == 1\n",
    "    assert \"MFA is not activated for the account\" in str(result.stdout)\n",
    "    display(result.stdout)"
   ]
  },
  {
   "cell_type": "code",
   "execution_count": null,
   "metadata": {},
   "outputs": [],
   "source": [
    "# | exporti\n",
    "\n",
    "\n",
    "@app.command()\n",
    "@helper.display_formated_table\n",
    "@helper.requires_auth_token\n",
    "def ls(\n",
    "    user: Optional[str] = typer.Option(\n",
    "        None,\n",
    "        \"--user\",\n",
    "        \"-u\",\n",
    "        help=f\"user_uuid/username associated with the ApiKey. To get the user account uuid/username, use the `{CLIENT_NAME} user details` command.\"\n",
    "        f\" If the user_uuid/username is not passed, then the currently logged-in user_uuid/username will be used.\",\n",
    "    ),\n",
    "    offset: int = typer.Option(\n",
    "        0,\n",
    "        \"--offset\",\n",
    "        \"-o\",\n",
    "        help=\"The number of ApiKeys to offset at the beginning. If None, then the default value 0 will be used.\",\n",
    "    ),\n",
    "    limit: int = typer.Option(\n",
    "        100,\n",
    "        \"--limit\",\n",
    "        \"-l\",\n",
    "        help=\"The maximum number of ApiKeys to return from the server. If None, then the default value 100 will be used.\",\n",
    "    ),\n",
    "    include_disabled: bool = typer.Option(\n",
    "        False,\n",
    "        \"--disabled\",\n",
    "        help=\"If set to **True**, then the disabled ApiKeys will also be included in the result.\",\n",
    "    ),\n",
    "    format: Optional[str] = typer.Option(\n",
    "        None,\n",
    "        \"--format\",\n",
    "        \"-f\",\n",
    "        help=\"Format output and show only the given column(s) values.\",\n",
    "    ),\n",
    "    quiet: bool = typer.Option(\n",
    "        False,\n",
    "        \"--quiet\",\n",
    "        \"-q\",\n",
    "        help=\"Output only ApiKey uuids.\",\n",
    "    ),\n",
    "    debug: bool = typer.Option(\n",
    "        False,\n",
    "        \"--debug\",\n",
    "        \"-d\",\n",
    "        help=\"Set logger level to DEBUG and output everything.\",\n",
    "    ),\n",
    ") -> Dict[\"str\", Union[pd.DataFrame, str]]:\n",
    "    \"\"\"Get the list of ApiKeys.\"\"\"\n",
    "    from airt.client import APIKey\n",
    "\n",
    "    response = APIKey.ls(\n",
    "        user=user, offset=offset, limit=limit, include_disabled=include_disabled\n",
    "    )\n",
    "    df = APIKey.as_df(response)\n",
    "\n",
    "    df[\"created\"] = helper.humanize_date(df[\"created\"])\n",
    "    df[\"expiry\"] = helper.humanize_date(df[\"expiry\"])\n",
    "\n",
    "    return {\"df\": df}"
   ]
  },
  {
   "cell_type": "code",
   "execution_count": null,
   "metadata": {},
   "outputs": [
    {
     "data": {
      "text/plain": [
       "'uuid                                  name             created         expiry              disabled\\n76a90be6-4535-4c70-ac2a-16df432913ca  RKO4OSLE9DITOFO  24 minutes ago  None                False\\n35a317ad-0fa1-4e76-ab36-d60a9a31c235  7XIE331PO1OWE71  24 minutes ago  5 months ago        False\\n6146ab3a-a49b-4ae3-a628-b6a31583b2d2  DNAK3ICMGDAFQ1K  24 minutes ago  None                False\\n3cc3ff1c-374a-4090-bb78-742e5b3aef0a  8TMEGHX4WXTDGJZ  24 minutes ago  None                False\\n510edef2-244c-49c8-b8f5-b2c3b500c51b  YT9B6CT1797HNYP  24 minutes ago  None                False\\ne4946c54-756e-4e74-9db5-22270bd1c025  SFFJK74O7N32MOR  24 minutes ago  None                False\\n4313caa8-8faa-42ab-8f46-bd6669d96aad  IBK7RGHPPG05S4X  24 minutes ago  None                False\\n6ad2a881-bfad-4acb-9d0b-13650e161051  R9JBTBYQF74FSVT  24 minutes ago  None                False\\na7bfc801-649e-4574-997f-0dc57bd4e8b5  2BO0JKANPJ46HID  24 minutes ago  None                False\\n00d6b61a-62f9-425a-a514-6383b9ffb392  28YDMEXXMUSANLT  24 minutes ago  None                False\\n6e68750d-7c2b-49f4-b2fb-0c3795ec4a32  I9EMJL0SJ919UEX  24 minutes ago  None                False\\n78837644-436a-4e4f-82d0-c875d8a72437  JBCQS7CWVT4GM30  24 minutes ago  None                False\\n835281e3-c2e1-48aa-b9d6-1e39a5f4935e  A1N6OAMDI597IYE  24 minutes ago  None                False\\n92b2f7d5-810c-4cb0-b793-2d8932ded032  89HJKCDZUSVQQLS  now             11 months from now  False\\na2eaa375-a21e-47cb-8e84-eb430da6c280  MF9MJAGCT1SEBKO  now             11 months from now  False\\n10af3501-3cbb-4735-83e7-db058746efbd  5STC1FGTHT0BB8K  now             None                False\\n'"
      ]
     },
     "metadata": {},
     "output_type": "display_data"
    },
    {
     "data": {
      "text/plain": [
       "'76a90be6-4535-4c70-ac2a-16df432913ca\\n35a317ad-0fa1-4e76-ab36-d60a9a31c235\\n6146ab3a-a49b-4ae3-a628-b6a31583b2d2\\n3cc3ff1c-374a-4090-bb78-742e5b3aef0a\\n510edef2-244c-49c8-b8f5-b2c3b500c51b\\ne4946c54-756e-4e74-9db5-22270bd1c025\\n4313caa8-8faa-42ab-8f46-bd6669d96aad\\n6ad2a881-bfad-4acb-9d0b-13650e161051\\na7bfc801-649e-4574-997f-0dc57bd4e8b5\\n00d6b61a-62f9-425a-a514-6383b9ffb392\\n6e68750d-7c2b-49f4-b2fb-0c3795ec4a32\\n78837644-436a-4e4f-82d0-c875d8a72437\\n835281e3-c2e1-48aa-b9d6-1e39a5f4935e\\n92b2f7d5-810c-4cb0-b793-2d8932ded032\\na2eaa375-a21e-47cb-8e84-eb430da6c280\\n10af3501-3cbb-4735-83e7-db058746efbd\\n'"
      ]
     },
     "metadata": {},
     "output_type": "display_data"
    }
   ],
   "source": [
    "# Tests for APIKey ls\n",
    "\n",
    "# Testing positive scenario\n",
    "def get_values_from_result(result) -> List[Union[int, str]]:\n",
    "    return [val for val in result.stdout[:-1].split(\"\\n\")]\n",
    "\n",
    "\n",
    "with set_airt_service_token_envvar():\n",
    "\n",
    "    # Testing without quite flag\n",
    "    result = runner.invoke(app, [\"ls\"])\n",
    "    display(result.stdout)\n",
    "\n",
    "    assert result.exit_code == 0\n",
    "\n",
    "    # With quiet\n",
    "    result = runner.invoke(app, [\"ls\", \"-q\"])\n",
    "    display(result.stdout)\n",
    "\n",
    "    assert result.exit_code == 0\n",
    "    ids = get_values_from_result(result)\n",
    "    assert len(ids) > 0"
   ]
  },
  {
   "cell_type": "code",
   "execution_count": null,
   "metadata": {},
   "outputs": [
    {
     "data": {
      "text/plain": [
       "'RKO4OSLE9DITOFO\\n7XIE331PO1OWE71\\nDNAK3ICMGDAFQ1K\\n8TMEGHX4WXTDGJZ\\nYT9B6CT1797HNYP\\nSFFJK74O7N32MOR\\nIBK7RGHPPG05S4X\\nR9JBTBYQF74FSVT\\n2BO0JKANPJ46HID\\n28YDMEXXMUSANLT\\nI9EMJL0SJ919UEX\\nJBCQS7CWVT4GM30\\nA1N6OAMDI597IYE\\n89HJKCDZUSVQQLS\\nMF9MJAGCT1SEBKO\\n5STC1FGTHT0BB8K\\n'"
      ]
     },
     "metadata": {},
     "output_type": "display_data"
    },
    {
     "data": {
      "text/plain": [
       "'name             uuid\\nRKO4OSLE9DITOFO  76a90be6-4535-4c70-ac2a-16df432913ca\\n7XIE331PO1OWE71  35a317ad-0fa1-4e76-ab36-d60a9a31c235\\nDNAK3ICMGDAFQ1K  6146ab3a-a49b-4ae3-a628-b6a31583b2d2\\n8TMEGHX4WXTDGJZ  3cc3ff1c-374a-4090-bb78-742e5b3aef0a\\nYT9B6CT1797HNYP  510edef2-244c-49c8-b8f5-b2c3b500c51b\\nSFFJK74O7N32MOR  e4946c54-756e-4e74-9db5-22270bd1c025\\nIBK7RGHPPG05S4X  4313caa8-8faa-42ab-8f46-bd6669d96aad\\nR9JBTBYQF74FSVT  6ad2a881-bfad-4acb-9d0b-13650e161051\\n2BO0JKANPJ46HID  a7bfc801-649e-4574-997f-0dc57bd4e8b5\\n28YDMEXXMUSANLT  00d6b61a-62f9-425a-a514-6383b9ffb392\\nI9EMJL0SJ919UEX  6e68750d-7c2b-49f4-b2fb-0c3795ec4a32\\nJBCQS7CWVT4GM30  78837644-436a-4e4f-82d0-c875d8a72437\\nA1N6OAMDI597IYE  835281e3-c2e1-48aa-b9d6-1e39a5f4935e\\n89HJKCDZUSVQQLS  92b2f7d5-810c-4cb0-b793-2d8932ded032\\nMF9MJAGCT1SEBKO  a2eaa375-a21e-47cb-8e84-eb430da6c280\\n5STC1FGTHT0BB8K  10af3501-3cbb-4735-83e7-db058746efbd\\n'"
      ]
     },
     "metadata": {},
     "output_type": "display_data"
    },
    {
     "data": {
      "text/plain": [
       "\"The following columns are not valid: {'names'}. Only the following columns are valid: {'disabled', 'uuid', 'created', 'name', 'expiry'}\\nAn example of a valid formatting string: {'uuid': '{}', 'name': '{}', 'created': '{}', 'expiry': '{}', 'disabled': '{}'}\\n\""
      ]
     },
     "metadata": {},
     "output_type": "display_data"
    }
   ],
   "source": [
    "# Tests for APIKey ls\n",
    "# Tests using --format flag\n",
    "\n",
    "with set_airt_service_token_envvar():\n",
    "\n",
    "    # Testing format flag\n",
    "    format_str = \"{'name': '{}'}\"\n",
    "    result = runner.invoke(app, [\"ls\", \"--format\", format_str])\n",
    "    display(result.stdout)\n",
    "    key_names = get_values_from_result(result)\n",
    "\n",
    "    assert result.exit_code == 0\n",
    "    assert len(key_names) > 0\n",
    "\n",
    "    # Testing format flag\n",
    "    format_str = \"{'name': '{}', 'uuid': '{}'}\"\n",
    "    result = runner.invoke(app, [\"ls\", \"--format\", format_str])\n",
    "    display(result.stdout)\n",
    "\n",
    "    assert result.exit_code == 0\n",
    "\n",
    "    # Testing format flag\n",
    "    format_str = \"{'names': '{}'}\"\n",
    "    result = runner.invoke(app, [\"ls\", \"--format\", format_str])\n",
    "    display(result.stdout)\n",
    "\n",
    "    assert result.exit_code == 1\n",
    "    assert \"The following columns are not valid\" in str(result.stdout)"
   ]
  },
  {
   "cell_type": "code",
   "execution_count": null,
   "metadata": {},
   "outputs": [
    {
     "data": {
      "text/plain": [
       "\"ids=['35a317ad-0fa1-4e76-ab36-d60a9a31c235']\""
      ]
     },
     "metadata": {},
     "output_type": "display_data"
    },
    {
     "data": {
      "text/plain": [
       "\"ids=['35a317ad-0fa1-4e76-ab36-d60a9a31c235', '6146ab3a-a49b-4ae3-a628-b6a31583b2d2', '3cc3ff1c-374a-4090-bb78-742e5b3aef0a', '510edef2-244c-49c8-b8f5-b2c3b500c51b', 'e4946c54-756e-4e74-9db5-22270bd1c025', '4313caa8-8faa-42ab-8f46-bd6669d96aad', '6ad2a881-bfad-4acb-9d0b-13650e161051', 'a7bfc801-649e-4574-997f-0dc57bd4e8b5', '00d6b61a-62f9-425a-a514-6383b9ffb392', '6e68750d-7c2b-49f4-b2fb-0c3795ec4a32']\""
      ]
     },
     "metadata": {},
     "output_type": "display_data"
    },
    {
     "data": {
      "text/plain": [
       "\"ids=['35a317ad-0fa1-4e76-ab36-d60a9a31c235', '6146ab3a-a49b-4ae3-a628-b6a31583b2d2', '3cc3ff1c-374a-4090-bb78-742e5b3aef0a', '510edef2-244c-49c8-b8f5-b2c3b500c51b', 'e4946c54-756e-4e74-9db5-22270bd1c025', '4313caa8-8faa-42ab-8f46-bd6669d96aad', '6ad2a881-bfad-4acb-9d0b-13650e161051', 'a7bfc801-649e-4574-997f-0dc57bd4e8b5', '00d6b61a-62f9-425a-a514-6383b9ffb392', '6e68750d-7c2b-49f4-b2fb-0c3795ec4a32', '78837644-436a-4e4f-82d0-c875d8a72437', '835281e3-c2e1-48aa-b9d6-1e39a5f4935e', '92b2f7d5-810c-4cb0-b793-2d8932ded032', 'a2eaa375-a21e-47cb-8e84-eb430da6c280', '10af3501-3cbb-4735-83e7-db058746efbd']\""
      ]
     },
     "metadata": {},
     "output_type": "display_data"
    }
   ],
   "source": [
    "# Tests for APIKeys ls\n",
    "# Testing positive scenario.\n",
    "# Testing by passing different values for  limit\n",
    "\n",
    "\n",
    "with set_airt_service_token_envvar():\n",
    "\n",
    "    for limit in [1, 10, 1000]:\n",
    "        offset = 1\n",
    "        result = runner.invoke(app, [\"ls\", \"--offset\", offset, \"--limit\", limit, \"-q\"])\n",
    "\n",
    "        assert result.exit_code == 0\n",
    "\n",
    "        ids = get_values_from_result(result)\n",
    "        display(f\"{ids=}\")\n",
    "        assert limit >= len(ids) > 0"
   ]
  },
  {
   "cell_type": "code",
   "execution_count": null,
   "metadata": {},
   "outputs": [
    {
     "data": {
      "text/plain": [
       "'uuid    name    created    expiry    disabled\\n'"
      ]
     },
     "metadata": {},
     "output_type": "display_data"
    }
   ],
   "source": [
    "# Tests for APIKeys ls\n",
    "# Testing positive scenario.\n",
    "# Testing by passing large value for offset.\n",
    "\n",
    "with set_airt_service_token_envvar():\n",
    "\n",
    "    limit = 10\n",
    "    offset = 1_000_000\n",
    "    result = runner.invoke(app, [\"ls\", \"--offset\", offset, \"--limit\", limit])\n",
    "\n",
    "    assert result.exit_code == 0\n",
    "\n",
    "    display(result.stdout)"
   ]
  },
  {
   "cell_type": "code",
   "execution_count": null,
   "metadata": {},
   "outputs": [
    {
     "data": {
      "text/plain": [
       "'_airt_super_service_token is None, getting a token...'"
      ]
     },
     "metadata": {},
     "output_type": "display_data"
    },
    {
     "data": {
      "text/plain": [
       "'*******************************************************************************************************************************'"
      ]
     },
     "metadata": {},
     "output_type": "display_data"
    }
   ],
   "source": [
    "# Helper context manager for testing\n",
    "\n",
    "_airt_super_service_token = None\n",
    "\n",
    "\n",
    "@contextmanager\n",
    "def set_airt_super_service_token_envvar():\n",
    "    global _airt_super_service_token\n",
    "    if _airt_super_service_token is None:\n",
    "        display(\"_airt_super_service_token is None, getting a token...\")\n",
    "\n",
    "        username = os.environ[\"AIRT_SERVICE_SUPER_USER\"]\n",
    "        password = os.environ[SERVICE_PASSWORD]\n",
    "\n",
    "        Client.get_token(username=username, password=password)\n",
    "        _airt_super_service_token = Client.auth_token\n",
    "\n",
    "    try:\n",
    "        os.environ[SERVICE_TOKEN] = _airt_super_service_token\n",
    "\n",
    "        yield\n",
    "    finally:\n",
    "        del os.environ[SERVICE_TOKEN]\n",
    "\n",
    "\n",
    "with set_airt_super_service_token_envvar():\n",
    "    display(\"*\" * len((os.environ[SERVICE_TOKEN])))"
   ]
  },
  {
   "cell_type": "code",
   "execution_count": null,
   "metadata": {},
   "outputs": [
    {
     "data": {
      "text/plain": [
       "'d12065d3-48cb-4632-a4cc-db11b843399a'"
      ]
     },
     "metadata": {},
     "output_type": "display_data"
    },
    {
     "data": {
      "text/plain": [
       "'uuid                                  name             created         expiry              disabled\\n76a90be6-4535-4c70-ac2a-16df432913ca  RKO4OSLE9DITOFO  24 minutes ago  None                False\\n35a317ad-0fa1-4e76-ab36-d60a9a31c235  7XIE331PO1OWE71  24 minutes ago  5 months ago        False\\n6146ab3a-a49b-4ae3-a628-b6a31583b2d2  DNAK3ICMGDAFQ1K  24 minutes ago  None                False\\n3cc3ff1c-374a-4090-bb78-742e5b3aef0a  8TMEGHX4WXTDGJZ  24 minutes ago  None                False\\n510edef2-244c-49c8-b8f5-b2c3b500c51b  YT9B6CT1797HNYP  24 minutes ago  None                False\\ne4946c54-756e-4e74-9db5-22270bd1c025  SFFJK74O7N32MOR  24 minutes ago  None                False\\n4313caa8-8faa-42ab-8f46-bd6669d96aad  IBK7RGHPPG05S4X  24 minutes ago  None                False\\n6ad2a881-bfad-4acb-9d0b-13650e161051  R9JBTBYQF74FSVT  24 minutes ago  None                False\\na7bfc801-649e-4574-997f-0dc57bd4e8b5  2BO0JKANPJ46HID  24 minutes ago  None                False\\n00d6b61a-62f9-425a-a514-6383b9ffb392  28YDMEXXMUSANLT  24 minutes ago  None                False\\n6e68750d-7c2b-49f4-b2fb-0c3795ec4a32  I9EMJL0SJ919UEX  24 minutes ago  None                False\\n78837644-436a-4e4f-82d0-c875d8a72437  JBCQS7CWVT4GM30  24 minutes ago  None                False\\n835281e3-c2e1-48aa-b9d6-1e39a5f4935e  A1N6OAMDI597IYE  24 minutes ago  None                False\\n92b2f7d5-810c-4cb0-b793-2d8932ded032  89HJKCDZUSVQQLS  a second ago    11 months from now  False\\na2eaa375-a21e-47cb-8e84-eb430da6c280  MF9MJAGCT1SEBKO  a second ago    11 months from now  False\\n10af3501-3cbb-4735-83e7-db058746efbd  5STC1FGTHT0BB8K  a second ago    None                False\\n'"
      ]
     },
     "metadata": {},
     "output_type": "display_data"
    },
    {
     "data": {
      "text/plain": [
       "'76a90be6-4535-4c70-ac2a-16df432913ca\\n35a317ad-0fa1-4e76-ab36-d60a9a31c235\\n6146ab3a-a49b-4ae3-a628-b6a31583b2d2\\n3cc3ff1c-374a-4090-bb78-742e5b3aef0a\\n510edef2-244c-49c8-b8f5-b2c3b500c51b\\ne4946c54-756e-4e74-9db5-22270bd1c025\\n4313caa8-8faa-42ab-8f46-bd6669d96aad\\n6ad2a881-bfad-4acb-9d0b-13650e161051\\na7bfc801-649e-4574-997f-0dc57bd4e8b5\\n00d6b61a-62f9-425a-a514-6383b9ffb392\\n6e68750d-7c2b-49f4-b2fb-0c3795ec4a32\\n78837644-436a-4e4f-82d0-c875d8a72437\\n835281e3-c2e1-48aa-b9d6-1e39a5f4935e\\n92b2f7d5-810c-4cb0-b793-2d8932ded032\\na2eaa375-a21e-47cb-8e84-eb430da6c280\\n10af3501-3cbb-4735-83e7-db058746efbd\\n'"
      ]
     },
     "metadata": {},
     "output_type": "display_data"
    },
    {
     "data": {
      "text/plain": [
       "\"ids=['76a90be6-4535-4c70-ac2a-16df432913ca', '35a317ad-0fa1-4e76-ab36-d60a9a31c235', '6146ab3a-a49b-4ae3-a628-b6a31583b2d2', '3cc3ff1c-374a-4090-bb78-742e5b3aef0a', '510edef2-244c-49c8-b8f5-b2c3b500c51b', 'e4946c54-756e-4e74-9db5-22270bd1c025', '4313caa8-8faa-42ab-8f46-bd6669d96aad', '6ad2a881-bfad-4acb-9d0b-13650e161051', 'a7bfc801-649e-4574-997f-0dc57bd4e8b5', '00d6b61a-62f9-425a-a514-6383b9ffb392', '6e68750d-7c2b-49f4-b2fb-0c3795ec4a32', '78837644-436a-4e4f-82d0-c875d8a72437', '835281e3-c2e1-48aa-b9d6-1e39a5f4935e', '92b2f7d5-810c-4cb0-b793-2d8932ded032', 'a2eaa375-a21e-47cb-8e84-eb430da6c280', '10af3501-3cbb-4735-83e7-db058746efbd']\""
      ]
     },
     "metadata": {},
     "output_type": "display_data"
    }
   ],
   "source": [
    "# Tests for APIKey ls\n",
    "\n",
    "with set_airt_service_token_envvar():\n",
    "    result = runner.invoke(user_cli_app, [\"details\", \"-q\"])\n",
    "    other_user_uuid = result.stdout.replace(\"\\n\", \"\")\n",
    "    display(other_user_uuid)\n",
    "\n",
    "    result = runner.invoke(\n",
    "        user_cli_app,\n",
    "        [\"details\", \"--user\", other_user_uuid, \"--format\", \"{'username': '{}'}\"],\n",
    "    )\n",
    "    other_user_name = result.stdout[:-1]\n",
    "\n",
    "# Testing Super user scenarios\n",
    "with set_airt_super_service_token_envvar():\n",
    "\n",
    "    # Testing without quite flag\n",
    "    result = runner.invoke(app, [\"ls\", \"--user\", other_user_uuid])\n",
    "    display(result.stdout)\n",
    "\n",
    "    assert result.exit_code == 0\n",
    "\n",
    "    # With quiet\n",
    "    result = runner.invoke(app, [\"ls\", \"-q\", \"--user\", other_user_name])\n",
    "    display(result.stdout)\n",
    "\n",
    "    assert result.exit_code == 0\n",
    "    ids = get_values_from_result(result)\n",
    "    display(f\"{ids=}\")\n",
    "    assert len(ids) > 0"
   ]
  },
  {
   "cell_type": "code",
   "execution_count": null,
   "metadata": {},
   "outputs": [],
   "source": [
    "# | exporti\n",
    "\n",
    "\n",
    "@app.command()\n",
    "@helper.display_formated_table\n",
    "@helper.requires_auth_token\n",
    "def details(\n",
    "    apikey: str = typer.Argument(\n",
    "        ...,\n",
    "        help=\"ApiKey uuid/name.\",\n",
    "    ),\n",
    "    format: Optional[str] = typer.Option(\n",
    "        None,\n",
    "        \"--format\",\n",
    "        \"-f\",\n",
    "        help=\"Format output and show only the given column(s) values.\",\n",
    "    ),\n",
    "    debug: bool = typer.Option(\n",
    "        False,\n",
    "        \"--debug\",\n",
    "        \"-d\",\n",
    "        help=\"Set logger level to DEBUG and output everything.\",\n",
    "    ),\n",
    ") -> Dict[\"str\", Union[pd.DataFrame, str]]:\n",
    "    \"\"\"Get the details of an ApiKey.\"\"\"\n",
    "\n",
    "    from airt.client import APIKey\n",
    "\n",
    "    df = APIKey.details(apikey=apikey)\n",
    "\n",
    "    df[\"created\"] = helper.humanize_date(df[\"created\"])\n",
    "    df[\"expiry\"] = helper.humanize_date(df[\"expiry\"])\n",
    "\n",
    "    return {\"df\": df}"
   ]
  },
  {
   "cell_type": "code",
   "execution_count": null,
   "metadata": {},
   "outputs": [
    {
     "data": {
      "text/plain": [
       "'uuid                                  name             created         expiry    disabled\\n76a90be6-4535-4c70-ac2a-16df432913ca  RKO4OSLE9DITOFO  24 minutes ago  None      False\\n'"
      ]
     },
     "metadata": {},
     "output_type": "display_data"
    },
    {
     "data": {
      "text/plain": [
       "'RKO4OSLE9DITOFO\\n'"
      ]
     },
     "metadata": {},
     "output_type": "display_data"
    },
    {
     "data": {
      "text/plain": [
       "'name             uuid\\nRKO4OSLE9DITOFO  76a90be6-4535-4c70-ac2a-16df432913ca\\n'"
      ]
     },
     "metadata": {},
     "output_type": "display_data"
    }
   ],
   "source": [
    "# tests for APIKey details\n",
    "with set_airt_service_token_envvar():\n",
    "\n",
    "    # List the existing API Keys\n",
    "    format_str = \"{'name': '{}'}\"\n",
    "    result = runner.invoke(app, [\"ls\", \"--format\", format_str])\n",
    "\n",
    "    assert result.exit_code == 0\n",
    "    key_names = get_values_from_result(result)\n",
    "\n",
    "    # Get details for the first API Key\n",
    "    first_key = key_names[0]\n",
    "    result = runner.invoke(app, [\"details\", first_key])\n",
    "\n",
    "    display(result.stdout)\n",
    "    assert result.exit_code == 0\n",
    "\n",
    "    # Get details for the first API Key\n",
    "    first_key = key_names[0]\n",
    "    format_str = \"{'name': '{}'}\"\n",
    "    result = runner.invoke(app, [\"details\", first_key, \"--format\", format_str])\n",
    "\n",
    "    display(result.stdout)\n",
    "    assert result.exit_code == 0\n",
    "\n",
    "    # Get details for the first API Key\n",
    "    first_key = key_names[0]\n",
    "    format_str = \"{'name': '{}', 'uuid': '{}'}\"\n",
    "    result = runner.invoke(app, [\"details\", first_key, \"--format\", format_str])\n",
    "\n",
    "    display(result.stdout)\n",
    "    assert result.exit_code == 0"
   ]
  },
  {
   "cell_type": "code",
   "execution_count": null,
   "metadata": {},
   "outputs": [
    {
     "data": {
      "text/plain": [
       "'Error: No such apikey or not enough authorization to access the apikey.\\n'"
      ]
     },
     "metadata": {},
     "output_type": "display_data"
    }
   ],
   "source": [
    "# Tests for details\n",
    "# Testing negative scenario. Passing invalie API key id\n",
    "\n",
    "with set_airt_service_token_envvar():\n",
    "\n",
    "    result = runner.invoke(app, [\"details\", RANDOM_UUID_FOR_TESTING])\n",
    "\n",
    "    display(result.stdout)\n",
    "\n",
    "    assert result.exit_code == 1\n",
    "    assert \"No such apikey\" in result.stdout"
   ]
  },
  {
   "cell_type": "code",
   "execution_count": null,
   "metadata": {},
   "outputs": [],
   "source": [
    "# | exporti\n",
    "\n",
    "\n",
    "@app.command()\n",
    "@helper.display_formated_table\n",
    "@helper.requires_totp()\n",
    "@helper.requires_auth_token\n",
    "def revoke(\n",
    "    keys: List[str] = typer.Argument(\n",
    "        ...,\n",
    "        help=\"ApiKey uuid/name to revoke. To revoke multiple keys, please pass the uuids/names separated by space.\",\n",
    "    ),\n",
    "    user: Optional[str] = typer.Option(\n",
    "        None,\n",
    "        \"--user\",\n",
    "        help=f\"user_uuid/username associated with the ApiKey. To get the user account uuid/username, use the `{CLIENT_NAME} user details` command.\"\n",
    "        f\" If the user_uuid/username is not passed, then the currently logged-in user_uuid/username will be used.\",\n",
    "    ),\n",
    "    otp: Optional[str] = typer.Option(\n",
    "        None,\n",
    "        \"--otp\",\n",
    "        help=\"Dynamically generated six-digit verification code from the authenticator app. Please pass this optional argument only if the MFA is enabled for your account.\",\n",
    "    ),\n",
    "    format: Optional[str] = typer.Option(\n",
    "        None,\n",
    "        \"--format\",\n",
    "        \"-f\",\n",
    "        help=\"Format output and show only the given column(s) values.\",\n",
    "    ),\n",
    "    quiet: bool = typer.Option(\n",
    "        False,\n",
    "        \"--quiet\",\n",
    "        \"-q\",\n",
    "        help=\"Output only the revoked ApiKey uuid(s).\",\n",
    "    ),\n",
    "    debug: bool = typer.Option(\n",
    "        False,\n",
    "        \"--debug\",\n",
    "        \"-d\",\n",
    "        help=\"Set logger level to DEBUG and output everything.\",\n",
    "    ),\n",
    ") -> Dict[\"str\", Union[pd.DataFrame, str]]:\n",
    "    \"\"\"Revoke one or more ApiKeys\"\"\"\n",
    "\n",
    "    from airt.client import APIKey\n",
    "\n",
    "    keys = [key for key in keys]\n",
    "    formated_keys = helper.separate_integers_and_strings(keys)\n",
    "\n",
    "    df = APIKey.revoke(keys=formated_keys, user=user, otp=otp)  # type: ignore\n",
    "    df[\"created\"] = helper.humanize_date(df[\"created\"])\n",
    "    df[\"expiry\"] = helper.humanize_date(df[\"expiry\"])\n",
    "\n",
    "    return {\"df\": df}"
   ]
  },
  {
   "cell_type": "code",
   "execution_count": null,
   "metadata": {},
   "outputs": [
    {
     "data": {
      "text/plain": [
       "'name             uuid\\nRKO4OSLE9DITOFO  76a90be6-4535-4c70-ac2a-16df432913ca\\n7XIE331PO1OWE71  35a317ad-0fa1-4e76-ab36-d60a9a31c235\\nDNAK3ICMGDAFQ1K  6146ab3a-a49b-4ae3-a628-b6a31583b2d2\\n'"
      ]
     },
     "metadata": {},
     "output_type": "display_data"
    }
   ],
   "source": [
    "# tests for APIKey revoke\n",
    "# revoking key by name and id\n",
    "\n",
    "with set_airt_service_token_envvar():\n",
    "\n",
    "    # List the existing API Keys\n",
    "    result = runner.invoke(app, [\"ls\", \"-q\"])\n",
    "    assert result.exit_code == 0\n",
    "    key_ids = get_values_from_result(result)\n",
    "\n",
    "    # List the existing API Keys\n",
    "    format_str = \"{'name': '{}'}\"\n",
    "    result = runner.invoke(app, [\"ls\", \"--format\", format_str])\n",
    "\n",
    "    assert result.exit_code == 0\n",
    "    key_names = get_values_from_result(result)\n",
    "\n",
    "    # Revoking the first API Key\n",
    "    format_str = \"{'name': '{}', 'uuid': '{}'}\"\n",
    "    result = runner.invoke(\n",
    "        app, [\"revoke\", key_ids[0], key_names[1], key_names[2], \"--format\", format_str]\n",
    "    )\n",
    "\n",
    "    display(result.stdout)\n",
    "    assert result.exit_code == 0"
   ]
  },
  {
   "cell_type": "code",
   "execution_count": null,
   "metadata": {},
   "outputs": [
    {
     "data": {
      "text/plain": [
       "'name             uuid\\n8TMEGHX4WXTDGJZ  3cc3ff1c-374a-4090-bb78-742e5b3aef0a\\n'"
      ]
     },
     "metadata": {},
     "output_type": "display_data"
    },
    {
     "data": {
      "text/plain": [
       "'510edef2-244c-49c8-b8f5-b2c3b500c51b\\ne4946c54-756e-4e74-9db5-22270bd1c025\\n4313caa8-8faa-42ab-8f46-bd6669d96aad\\n6ad2a881-bfad-4acb-9d0b-13650e161051\\na7bfc801-649e-4574-997f-0dc57bd4e8b5\\n00d6b61a-62f9-425a-a514-6383b9ffb392\\n6e68750d-7c2b-49f4-b2fb-0c3795ec4a32\\n78837644-436a-4e4f-82d0-c875d8a72437\\n835281e3-c2e1-48aa-b9d6-1e39a5f4935e\\n92b2f7d5-810c-4cb0-b793-2d8932ded032\\na2eaa375-a21e-47cb-8e84-eb430da6c280\\n10af3501-3cbb-4735-83e7-db058746efbd\\n12760028-3a05-47d3-acdc-fb650c6555c9\\n804deb8b-8612-41db-a452-cbbfd87ad77d\\n435f4338-5584-4ff4-b1ed-c8913b4d12d0\\n1ac1b8d5-60f9-4c8f-a90f-050577e52792\\n3927ceee-a4cb-43e4-9bdd-c6d607ee5060\\nddeb9cb8-de35-4109-ac8e-6f863e3720ec\\n06c4a094-5ee3-4c2b-adf4-c5634edf488f\\nf1f62f0e-e8ce-4504-ae7d-4e9a8aa4d691\\na3555e15-8d40-4b24-8858-622ca60b1e30\\n216c8d62-9a3c-495e-b0ab-7edea1d1aff6\\n'"
      ]
     },
     "metadata": {},
     "output_type": "display_data"
    },
    {
     "data": {
      "text/plain": [
       "\"ids=['3d10e7f1-e2cf-4386-9fc5-a32f6af9514f', 'fa6aefe0-e347-40fe-9a40-c3ff203ce3c2', 'db1aad28-f95d-457d-82cb-24aaddc96d56', '7810f834-733f-4189-8c14-bf034eef750b', '8dad6cee-d5de-4409-836a-fc3f0f06cd2a', 'd2eda1ba-5463-49e3-a815-4bc033f02703', '6e4f8e5e-5a43-40e8-baa5-4af7ebfd2333', '9b0cab3d-e932-475b-bb93-74dfec41be87', 'd3c5e334-ce68-4444-ad3c-ed4f2c738a88', '76a90be6-4535-4c70-ac2a-16df432913ca', '35a317ad-0fa1-4e76-ab36-d60a9a31c235', '6146ab3a-a49b-4ae3-a628-b6a31583b2d2', '3cc3ff1c-374a-4090-bb78-742e5b3aef0a', '510edef2-244c-49c8-b8f5-b2c3b500c51b', 'e4946c54-756e-4e74-9db5-22270bd1c025', '4313caa8-8faa-42ab-8f46-bd6669d96aad', '6ad2a881-bfad-4acb-9d0b-13650e161051', 'a7bfc801-649e-4574-997f-0dc57bd4e8b5', '00d6b61a-62f9-425a-a514-6383b9ffb392', '6e68750d-7c2b-49f4-b2fb-0c3795ec4a32', '78837644-436a-4e4f-82d0-c875d8a72437', '835281e3-c2e1-48aa-b9d6-1e39a5f4935e', '92b2f7d5-810c-4cb0-b793-2d8932ded032', 'a2eaa375-a21e-47cb-8e84-eb430da6c280', '10af3501-3cbb-4735-83e7-db058746efbd', '12760028-3a05-47d3-acdc-fb650c6555c9', '804deb8b-8612-41db-a452-cbbfd87ad77d', '435f4338-5584-4ff4-b1ed-c8913b4d12d0', '1ac1b8d5-60f9-4c8f-a90f-050577e52792', '3927ceee-a4cb-43e4-9bdd-c6d607ee5060', 'ddeb9cb8-de35-4109-ac8e-6f863e3720ec', '06c4a094-5ee3-4c2b-adf4-c5634edf488f', 'f1f62f0e-e8ce-4504-ae7d-4e9a8aa4d691', 'a3555e15-8d40-4b24-8858-622ca60b1e30', '216c8d62-9a3c-495e-b0ab-7edea1d1aff6']\""
      ]
     },
     "metadata": {},
     "output_type": "display_data"
    },
    {
     "data": {
      "text/plain": [
       "'3d10e7f1-e2cf-4386-9fc5-a32f6af9514f\\nfa6aefe0-e347-40fe-9a40-c3ff203ce3c2\\ndb1aad28-f95d-457d-82cb-24aaddc96d56\\n7810f834-733f-4189-8c14-bf034eef750b\\n8dad6cee-d5de-4409-836a-fc3f0f06cd2a\\nd2eda1ba-5463-49e3-a815-4bc033f02703\\n6e4f8e5e-5a43-40e8-baa5-4af7ebfd2333\\n9b0cab3d-e932-475b-bb93-74dfec41be87\\nd3c5e334-ce68-4444-ad3c-ed4f2c738a88\\n76a90be6-4535-4c70-ac2a-16df432913ca\\n35a317ad-0fa1-4e76-ab36-d60a9a31c235\\n6146ab3a-a49b-4ae3-a628-b6a31583b2d2\\n3cc3ff1c-374a-4090-bb78-742e5b3aef0a\\n510edef2-244c-49c8-b8f5-b2c3b500c51b\\ne4946c54-756e-4e74-9db5-22270bd1c025\\n4313caa8-8faa-42ab-8f46-bd6669d96aad\\n6ad2a881-bfad-4acb-9d0b-13650e161051\\na7bfc801-649e-4574-997f-0dc57bd4e8b5\\n00d6b61a-62f9-425a-a514-6383b9ffb392\\n6e68750d-7c2b-49f4-b2fb-0c3795ec4a32\\n78837644-436a-4e4f-82d0-c875d8a72437\\n835281e3-c2e1-48aa-b9d6-1e39a5f4935e\\n92b2f7d5-810c-4cb0-b793-2d8932ded032\\na2eaa375-a21e-47cb-8e84-eb430da6c280\\n10af3501-3cbb-4735-83e7-db058746efbd\\n12760028-3a05-47d3-acdc-fb650c6555c9\\n804deb8b-8612-41db-a452-cbbfd87ad77d\\n435f4338-5584-4ff4-b1ed-c8913b4d12d0\\n1ac1b8d5-60f9-4c8f-a90f-050577e52792\\n3927ceee-a4cb-43e4-9bdd-c6d607ee5060\\nddeb9cb8-de35-4109-ac8e-6f863e3720ec\\n06c4a094-5ee3-4c2b-adf4-c5634edf488f\\nf1f62f0e-e8ce-4504-ae7d-4e9a8aa4d691\\na3555e15-8d40-4b24-8858-622ca60b1e30\\n216c8d62-9a3c-495e-b0ab-7edea1d1aff6\\n'"
      ]
     },
     "metadata": {},
     "output_type": "display_data"
    }
   ],
   "source": [
    "# tests for APIKey revoke\n",
    "with set_airt_service_token_envvar():\n",
    "\n",
    "    # Create sample keys\n",
    "    for i in range(10):\n",
    "        result = runner.invoke(\n",
    "            app,\n",
    "            [\"create\", generate_random_name(), \"-e\", 365],\n",
    "        )\n",
    "\n",
    "    # List the existing API Keys\n",
    "    result = runner.invoke(app, [\"ls\", \"-q\"])\n",
    "\n",
    "    assert result.exit_code == 0\n",
    "    ids = get_values_from_result(result)\n",
    "\n",
    "    # Revoking the first API Key\n",
    "    first_key = ids[0]\n",
    "    format_str = \"{'name': '{}', 'uuid': '{}'}\"\n",
    "    result = runner.invoke(app, [\"revoke\", str(first_key), \"--format\", format_str])\n",
    "    display(result.stdout)\n",
    "\n",
    "    assert result.exit_code == 0\n",
    "\n",
    "    # Running ls command with default settings. The deleted kwy should not be present in the result\n",
    "    result = runner.invoke(app, [\"ls\", \"-q\"])\n",
    "    ids = get_values_from_result(result)\n",
    "\n",
    "    display(result.stdout)\n",
    "    assert result.exit_code == 0\n",
    "    assert first_key not in ids\n",
    "\n",
    "    # Running ls command with include_disabled. The deleted kwy should be present in the result\n",
    "    result = runner.invoke(app, [\"ls\", \"-l\", \"1000\", \"-q\", \"--disabled\"])\n",
    "    ids = get_values_from_result(result)\n",
    "\n",
    "    display(f\"{ids=}\")\n",
    "    display(result.stdout)\n",
    "    assert result.exit_code == 0\n",
    "    assert first_key in ids, first_key"
   ]
  },
  {
   "cell_type": "code",
   "execution_count": null,
   "metadata": {},
   "outputs": [
    {
     "data": {
      "text/plain": [
       "'Error: No such apikey or not enough authorization to access the apikey.\\n'"
      ]
     },
     "metadata": {},
     "output_type": "display_data"
    },
    {
     "data": {
      "text/plain": [
       "'Error: MFA is not activated for the account. Please pass the OTP only after activating the MFA for your account.\\n'"
      ]
     },
     "metadata": {},
     "output_type": "display_data"
    }
   ],
   "source": [
    "# Tests for revoke\n",
    "# Testing negative scenario. Passing invalie API key id\n",
    "\n",
    "with set_airt_service_token_envvar():\n",
    "\n",
    "    result = runner.invoke(app, [\"revoke\", RANDOM_UUID_FOR_TESTING])\n",
    "\n",
    "    display(result.stdout)\n",
    "\n",
    "    assert result.exit_code == 1\n",
    "    assert \"No such apikey\" in result.stdout\n",
    "\n",
    "    # Testing negative scenario. Passing otp for non-mfa user\n",
    "    random_otp = 123456\n",
    "    result = runner.invoke(\n",
    "        app, [\"revoke\", RANDOM_UUID_FOR_TESTING, \"--otp\", random_otp]\n",
    "    )\n",
    "\n",
    "    display(result.stdout)\n",
    "    assert \"MFA is not activated for the account\" in str(result.stdout)\n",
    "    assert result.exit_code == 1"
   ]
  },
  {
   "cell_type": "code",
   "execution_count": null,
   "metadata": {},
   "outputs": [
    {
     "data": {
      "text/plain": [
       "'510edef2-244c-49c8-b8f5-b2c3b500c51b\\n'"
      ]
     },
     "metadata": {},
     "output_type": "display_data"
    }
   ],
   "source": [
    "# Super user revoking other user's api_key\n",
    "with set_airt_service_token_envvar():\n",
    "\n",
    "    # List the existing API Keys\n",
    "    result = runner.invoke(app, [\"ls\", \"-q\"])\n",
    "\n",
    "    assert result.exit_code == 0\n",
    "    ids = get_values_from_result(result)\n",
    "\n",
    "    # Get details for the first API Key\n",
    "    expected_key_id = ids[0]\n",
    "\n",
    "    # get user id\n",
    "    result = runner.invoke(user_cli_app, [\"details\", \"-q\"])\n",
    "    other_user_uuid = result.stdout.replace(\"\\n\", \"\")\n",
    "\n",
    "\n",
    "with set_airt_super_service_token_envvar():\n",
    "    result = runner.invoke(\n",
    "        app, [\"revoke\", str(expected_key_id), \"--user\", other_user_uuid, \"-q\"]\n",
    "    )\n",
    "    display(result.stdout)\n",
    "    actual_key_id = result.stdout\n",
    "    assert result.exit_code == 0\n",
    "    assert actual_key_id == f\"{expected_key_id}\\n\""
   ]
  },
  {
   "cell_type": "code",
   "execution_count": null,
   "metadata": {},
   "outputs": [
    {
     "data": {
      "text/plain": [
       "'uuid                                  name             created         expiry    disabled\\ne4946c54-756e-4e74-9db5-22270bd1c025  SFFJK74O7N32MOR  24 minutes ago  None      True\\n4313caa8-8faa-42ab-8f46-bd6669d96aad  IBK7RGHPPG05S4X  24 minutes ago  None      True\\n'"
      ]
     },
     "metadata": {},
     "output_type": "display_data"
    }
   ],
   "source": [
    "# revoke multiple keys\n",
    "\n",
    "with set_airt_service_token_envvar():\n",
    "\n",
    "    # Creating sample keys\n",
    "    result = runner.invoke(\n",
    "        app,\n",
    "        [\"create\", generate_random_name(), \"-e\", 365],\n",
    "    )\n",
    "    result = runner.invoke(\n",
    "        app,\n",
    "        [\"create\", generate_random_name(), \"-e\", 365],\n",
    "    )\n",
    "    # List the existing API Keys\n",
    "    result = runner.invoke(app, [\"ls\", \"-q\"])\n",
    "\n",
    "    assert result.exit_code == 0\n",
    "    ids = get_values_from_result(result)\n",
    "\n",
    "    # Get details for the first API Key\n",
    "    first_key = ids[0]\n",
    "    second_key = ids[1]\n",
    "    result = runner.invoke(app, [\"revoke\", first_key, second_key])\n",
    "    display(result.output)\n",
    "\n",
    "    assert result.exit_code == 0\n",
    "    assert str(first_key) in result.stdout\n",
    "    assert str(second_key) in result.stdout"
   ]
  },
  {
   "cell_type": "code",
   "execution_count": null,
   "metadata": {},
   "outputs": [],
   "source": []
  }
 ],
 "metadata": {
  "kernelspec": {
   "display_name": "Python 3",
   "language": "python",
   "name": "python3"
  }
 },
 "nbformat": 4,
 "nbformat_minor": 2
}
