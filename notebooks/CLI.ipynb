{
 "cells": [
  {
   "cell_type": "raw",
   "metadata": {},
   "source": [
    "---\n",
    "description: This module encapsulates a CLI interface for all the classes conncted\n",
    "  to the API service.\n",
    "output-file: cli.html\n",
    "title: CLI\n",
    "\n",
    "---\n",
    "\n"
   ]
  },
  {
   "cell_type": "code",
   "execution_count": null,
   "metadata": {},
   "outputs": [],
   "source": [
    "# | default_exp cli.cli"
   ]
  },
  {
   "cell_type": "code",
   "execution_count": null,
   "metadata": {},
   "outputs": [
    {
     "name": "stdout",
     "output_type": "stream",
     "text": [
      "[INFO] airt.testing.activate_by_import: Testing environment activated.\n"
     ]
    }
   ],
   "source": [
    "from airt.testing import activate_by_import"
   ]
  },
  {
   "cell_type": "code",
   "execution_count": null,
   "metadata": {},
   "outputs": [],
   "source": [
    "# | export\n",
    "\n",
    "import logging\n",
    "from typing import *"
   ]
  },
  {
   "cell_type": "code",
   "execution_count": null,
   "metadata": {},
   "outputs": [],
   "source": [
    "# | exporti\n",
    "\n",
    "import typer\n",
    "\n",
    "from airt.cli import api_key, db, ds, model, pred, user\n",
    "from airt.cli.token import token\n",
    "from airt.cli.version import version\n",
    "from airt.logger import get_logger, set_level"
   ]
  },
  {
   "cell_type": "code",
   "execution_count": null,
   "metadata": {},
   "outputs": [],
   "source": [
    "from typer.testing import CliRunner\n",
    "\n",
    "import airt.sanitizer"
   ]
  },
  {
   "cell_type": "code",
   "execution_count": null,
   "metadata": {},
   "outputs": [],
   "source": [
    "# | export\n",
    "\n",
    "logger = get_logger(__name__)\n",
    "\n",
    "set_level(logging.WARNING)"
   ]
  },
  {
   "cell_type": "code",
   "execution_count": null,
   "metadata": {},
   "outputs": [
    {
     "data": {
      "text/plain": [
       "30"
      ]
     },
     "metadata": {},
     "output_type": "display_data"
    },
    {
     "name": "stdout",
     "output_type": "stream",
     "text": [
      "[WARNING] __main__: This is a warning\n",
      "[ERROR] __main__: This is an error\n"
     ]
    }
   ],
   "source": [
    "# Testing logger settings\n",
    "\n",
    "display(logger.getEffectiveLevel())\n",
    "assert logger.getEffectiveLevel() == logging.WARNING\n",
    "\n",
    "logger.debug(\"This is a debug message\")\n",
    "logger.info(\"This is an info\")\n",
    "logger.warning(\"This is a warning\")\n",
    "logger.error(\"This is an error\")"
   ]
  },
  {
   "cell_type": "code",
   "execution_count": null,
   "metadata": {},
   "outputs": [],
   "source": [
    "# | export\n",
    "\n",
    "app = typer.Typer(help=\"airt CLI for accessing airt services.\")"
   ]
  },
  {
   "cell_type": "code",
   "execution_count": null,
   "metadata": {},
   "outputs": [],
   "source": [
    "runner = CliRunner()"
   ]
  },
  {
   "cell_type": "code",
   "execution_count": null,
   "metadata": {},
   "outputs": [
    {
     "data": {
      "text/plain": [
       "<function airt.cli.token.token(username: Union[str, NoneType] = <typer.models.OptionInfo object>, password: Union[str, NoneType] = <typer.models.OptionInfo object>, server: Union[str, NoneType] = <typer.models.OptionInfo object>, otp: Union[str, NoneType] = <typer.models.OptionInfo object>, sso_provider: Union[str, NoneType] = <typer.models.OptionInfo object>, quiet: bool = <typer.models.OptionInfo object>, debug: bool = <typer.models.OptionInfo object>) -> None>"
      ]
     },
     "execution_count": null,
     "metadata": {},
     "output_type": "execute_result"
    }
   ],
   "source": [
    "# | exporti\n",
    "\n",
    "# token as root command\n",
    "app.command()(token)"
   ]
  },
  {
   "cell_type": "code",
   "execution_count": null,
   "metadata": {},
   "outputs": [],
   "source": [
    "# | exporti\n",
    "\n",
    "# Datasource root command\n",
    "\n",
    "app.add_typer(\n",
    "    ds.app,\n",
    "    name=\"ds\",\n",
    ")"
   ]
  },
  {
   "cell_type": "code",
   "execution_count": null,
   "metadata": {},
   "outputs": [],
   "source": [
    "# | exporti\n",
    "\n",
    "# Datablob root command\n",
    "\n",
    "app.add_typer(\n",
    "    db.app,\n",
    "    name=\"db\",\n",
    ")"
   ]
  },
  {
   "cell_type": "code",
   "execution_count": null,
   "metadata": {},
   "outputs": [],
   "source": [
    "# | exporti\n",
    "\n",
    "# Model root command\n",
    "\n",
    "app.add_typer(\n",
    "    model.app,\n",
    "    name=\"model\",\n",
    ")"
   ]
  },
  {
   "cell_type": "code",
   "execution_count": null,
   "metadata": {},
   "outputs": [],
   "source": [
    "# | exporti\n",
    "\n",
    "# Pred root command\n",
    "\n",
    "app.add_typer(\n",
    "    pred.app,\n",
    "    name=\"pred\",\n",
    ")"
   ]
  },
  {
   "cell_type": "code",
   "execution_count": null,
   "metadata": {},
   "outputs": [],
   "source": [
    "# | exporti\n",
    "\n",
    "# User root command\n",
    "\n",
    "app.add_typer(\n",
    "    user.app,\n",
    "    name=\"user\",\n",
    ")"
   ]
  },
  {
   "cell_type": "code",
   "execution_count": null,
   "metadata": {},
   "outputs": [],
   "source": [
    "# | exporti\n",
    "\n",
    "# API Keys root command\n",
    "\n",
    "app.add_typer(\n",
    "    api_key.app,\n",
    "    name=\"api-key\",\n",
    ")"
   ]
  },
  {
   "cell_type": "code",
   "execution_count": null,
   "metadata": {},
   "outputs": [
    {
     "data": {
      "text/plain": [
       "<function airt.cli.version.version() -> None>"
      ]
     },
     "execution_count": null,
     "metadata": {},
     "output_type": "execute_result"
    }
   ],
   "source": [
    "# | exporti\n",
    "\n",
    "# version root command\n",
    "\n",
    "app.command()(version)"
   ]
  },
  {
   "cell_type": "code",
   "execution_count": null,
   "metadata": {},
   "outputs": [
    {
     "data": {
      "text/plain": [
       "'Usage: root [OPTIONS] COMMAND [ARGS]...\\n\\n  airt CLI for accessing airt services.\\n\\nOptions:\\n  --install-completion [bash|zsh|fish|powershell|pwsh]\\n                                  Install completion for the specified shell.\\n  --show-completion [bash|zsh|fish|powershell|pwsh]\\n                                  Show completion for the specified shell, to\\n                                  copy it or customize the installation.\\n  --help                          Show this message and exit.\\n\\nCommands:\\n  api-key  A set of commands for managing the ApiKeys in the server.\\n  db       A set of commands for importing and processing data from sources...\\n  ds       A set of commands for managing datasources and training ML...\\n  model    A set of commands for querying the model training, evaluation,...\\n  pred     A set of commands for managing and downloading the predictions.\\n  token    Get application token for airt service from a username/password...\\n  user     A set of commands for managing users and their authentication in...\\n  version  Return the server and client versions.\\n'"
      ]
     },
     "metadata": {},
     "output_type": "display_data"
    }
   ],
   "source": [
    "# | include: false\n",
    "\n",
    "result = runner.invoke(app, [] + [\"--help\"])\n",
    "\n",
    "display(str(result.stdout))\n",
    "\n",
    "token_help_txt = \"Get application token for airt service from a username/password\"\n",
    "ds_help_txt = \"A set of commands for managing datasources\"\n",
    "db_help_txt = \"A set of commands for importing and processing\"\n",
    "model_help_txt = \"A set of commands for querying the model training,\"\n",
    "pred_help_txt = \"A set of commands for managing and downloading\"\n",
    "user_help_txt = \"A set of commands for managing users and\"\n",
    "api_help_txt = \"A set of commands for managing the ApiKeys\"\n",
    "version_help_txt = \"Return the server and client\"\n",
    "\n",
    "for msg in [\n",
    "    token_help_txt,\n",
    "    ds_help_txt,\n",
    "    db_help_txt,\n",
    "    model_help_txt,\n",
    "    pred_help_txt,\n",
    "    user_help_txt,\n",
    "    api_help_txt,\n",
    "]:\n",
    "    assert msg in str(result.stdout), f\"{msg}, {str(result.stdout)}\""
   ]
  },
  {
   "cell_type": "code",
   "execution_count": null,
   "metadata": {},
   "outputs": [
    {
     "data": {
      "text/plain": [
       "'Usage: root user [OPTIONS] COMMAND [ARGS]...\\n\\n  A set of commands for managing users and their authentication in the server.\\n\\nOptions:\\n  --help  Show this message and exit.\\n\\nCommands:\\n  create                 Create a new user in the server.\\n  details                Get user details\\n  disable                Disable a user in the server.\\n  enable                 Enable a disabled user in the server.\\n  ls                     Return the list of users available in the server.\\n  mfa                    Commands for enabling and disabling Multi-Factor...\\n  register-phone-number  Register and validate a phone number\\n  reset-password         Reset the account password\\n  sso                    Commands for enabling and disabling Single sign-on...\\n  update                 Update existing user details in the server.\\n'"
      ]
     },
     "metadata": {},
     "output_type": "display_data"
    }
   ],
   "source": [
    "result = runner.invoke(app, [] + [\"user\", \"--help\"])\n",
    "\n",
    "display(str(result.stdout))"
   ]
  }
 ],
 "metadata": {
  "kernelspec": {
   "display_name": "Python 3",
   "language": "python",
   "name": "python3"
  }
 },
 "nbformat": 4,
 "nbformat_minor": 2
}
