{
 "cells": [
  {
   "cell_type": "raw",
   "metadata": {},
   "source": [
    "---\n",
    "description: This module contains all the helper functions for airt client.\n",
    "output-file: api_helper.html\n",
    "title: API_Helper\n",
    "\n",
    "---\n",
    "\n"
   ]
  },
  {
   "cell_type": "code",
   "execution_count": null,
   "metadata": {},
   "outputs": [],
   "source": [
    "# | default_exp _helper"
   ]
  },
  {
   "cell_type": "code",
   "execution_count": null,
   "metadata": {},
   "outputs": [],
   "source": [
    "# | export\n",
    "\n",
    "from typing import *"
   ]
  },
  {
   "cell_type": "code",
   "execution_count": null,
   "metadata": {},
   "outputs": [],
   "source": [
    "# | exporti\n",
    "\n",
    "import os\n",
    "import textwrap\n",
    "from types import MethodType\n",
    "\n",
    "import pandas as pd\n",
    "import requests\n",
    "\n",
    "from airt._constant import PROD_URL, SERVER_URL"
   ]
  },
  {
   "cell_type": "code",
   "execution_count": null,
   "metadata": {},
   "outputs": [],
   "source": [
    "import tempfile\n",
    "from contextlib import contextmanager\n",
    "\n",
    "import numpy as np\n",
    "import pytest\n",
    "\n",
    "import airt._sanitizer\n",
    "from airt._constant import (\n",
    "    CLIENT_NAME,\n",
    "    SERVICE_PASSWORD,\n",
    "    SERVICE_TOKEN,\n",
    "    SERVICE_USERNAME,\n",
    ")"
   ]
  },
  {
   "cell_type": "code",
   "execution_count": null,
   "metadata": {},
   "outputs": [],
   "source": [
    "# | export\n",
    "\n",
    "\n",
    "def ensure_is_instance(o: Any, cls: Type):\n",
    "    \"\"\"A function to check if the object argument is an instance of the class argument.\n",
    "\n",
    "    Args:\n",
    "        o: A python object for which the instance needs to be checked.\n",
    "        cls: The expected instance of the object argument.\n",
    "\n",
    "    Raises:\n",
    "        A TypeError if the object is not an instance of the class type.\n",
    "    \"\"\"\n",
    "    if not isinstance(o, cls):\n",
    "        raise TypeError(\n",
    "            f\"The parameter must be a {cls} type, but got `{type(o).__name__}`\"\n",
    "        )"
   ]
  },
  {
   "cell_type": "code",
   "execution_count": null,
   "metadata": {},
   "outputs": [],
   "source": [
    "# Tests for _ensure_is_instance\n",
    "\n",
    "ensure_is_instance(\"sample\", str)"
   ]
  },
  {
   "cell_type": "code",
   "execution_count": null,
   "metadata": {},
   "outputs": [],
   "source": [
    "# | exporti\n",
    "\n",
    "\n",
    "def _get_json(response: requests.Response) -> Any:\n",
    "    \"\"\"A function to validate the status of the response object.\n",
    "\n",
    "    Args:\n",
    "        response: The response object that encapsulates the server's response.\n",
    "\n",
    "    Returns:\n",
    "        A dictionary of the response body.\n",
    "\n",
    "    Raises:\n",
    "        ValueError: If the response code is not in range of 200 - 399.\n",
    "    \"\"\"\n",
    "    if response:\n",
    "        return response.json()\n",
    "    else:\n",
    "        if (\n",
    "            response.headers.get(\"content-type\") == \"application/json\"\n",
    "            and \"detail\" in response.json()\n",
    "        ):\n",
    "            raise ValueError(response.json()[\"detail\"])\n",
    "        else:\n",
    "            raise ValueError(response.text)"
   ]
  },
  {
   "cell_type": "code",
   "execution_count": null,
   "metadata": {},
   "outputs": [
    {
     "data": {
      "text/plain": [
       "'ok_status_code=200'"
      ]
     },
     "metadata": {},
     "output_type": "display_data"
    },
    {
     "data": {
      "text/plain": [
       "'ok_status_code=202'"
      ]
     },
     "metadata": {},
     "output_type": "display_data"
    },
    {
     "data": {
      "text/plain": [
       "'ok_status_code=205'"
      ]
     },
     "metadata": {},
     "output_type": "display_data"
    },
    {
     "data": {
      "text/plain": [
       "'ok_status_code=399'"
      ]
     },
     "metadata": {},
     "output_type": "display_data"
    },
    {
     "data": {
      "text/plain": [
       "'error_status_code=400'"
      ]
     },
     "metadata": {},
     "output_type": "display_data"
    },
    {
     "data": {
      "text/plain": [
       "'error_status_code=599'"
      ]
     },
     "metadata": {},
     "output_type": "display_data"
    }
   ],
   "source": [
    "# Tests for _get_json\n",
    "\n",
    "expected = {\"key1\": {\"key2\": \"Success\"}}\n",
    "\n",
    "response = requests.models.Response()\n",
    "response.error_type = \"expired\"\n",
    "\n",
    "# success status code\n",
    "for ok_status_code in [200, 202, 205, 399]:\n",
    "    display(f\"{ok_status_code=}\")\n",
    "    response.status_code = ok_status_code\n",
    "    response._content = b'{ \"key1\" : {\"key2\" : \"Success\"   } }'\n",
    "\n",
    "    actual = _get_json(response)\n",
    "\n",
    "    assert actual == expected\n",
    "\n",
    "# error status code\n",
    "for error_status_code in [400, 599]:\n",
    "    display(f\"{error_status_code=}\")\n",
    "    response.status_code = error_status_code\n",
    "    response._content = b'{ \"detail\" : \"Failed response\" }'\n",
    "\n",
    "    with pytest.raises(ValueError):\n",
    "        _get_json(response)"
   ]
  },
  {
   "cell_type": "code",
   "execution_count": null,
   "metadata": {},
   "outputs": [],
   "source": [
    "def mask(s: str) -> str:\n",
    "    return \"*\" * len(s)"
   ]
  },
  {
   "cell_type": "code",
   "execution_count": null,
   "metadata": {},
   "outputs": [],
   "source": [
    "assert mask(\"davor\") == \"*****\""
   ]
  },
  {
   "cell_type": "code",
   "execution_count": null,
   "metadata": {},
   "outputs": [],
   "source": [
    "# | export\n",
    "\n",
    "\n",
    "def get_base_url(server: Optional[str]) -> str:\n",
    "    \"\"\"Return the base URL for the airt server.\n",
    "\n",
    "    If the server value is `None`, retrive the value from the environment variable `AIRT_SERVER_URL`.\n",
    "    If the variable is not set as well, then the default public server will be used.\n",
    "    \"\"\"\n",
    "\n",
    "    return server if server is not None else os.environ.get(SERVER_URL, PROD_URL)"
   ]
  },
  {
   "cell_type": "code",
   "execution_count": null,
   "metadata": {},
   "outputs": [
    {
     "data": {
      "text/plain": [
       "\"actual='http://example-service:6006'\""
      ]
     },
     "metadata": {},
     "output_type": "display_data"
    }
   ],
   "source": [
    "# Tests for get_base_url. Server is not None\n",
    "\n",
    "server = \"http://example-service:6006\"\n",
    "actual = get_base_url(server)\n",
    "\n",
    "display(f\"{actual=}\")\n",
    "assert actual == server"
   ]
  },
  {
   "cell_type": "code",
   "execution_count": null,
   "metadata": {},
   "outputs": [
    {
     "data": {
      "text/plain": [
       "\"mask(actual)='************************'\""
      ]
     },
     "metadata": {},
     "output_type": "display_data"
    }
   ],
   "source": [
    "# Tests for get_base_url. Server is None and the value should be returned from the env variable\n",
    "\n",
    "server = None\n",
    "actual = get_base_url(server)\n",
    "expected = os.environ.get(SERVER_URL)\n",
    "\n",
    "display(f\"{mask(actual)=}\")\n",
    "assert actual == expected"
   ]
  },
  {
   "cell_type": "code",
   "execution_count": null,
   "metadata": {},
   "outputs": [
    {
     "data": {
      "text/plain": [
       "\"actual='https://api.airt.ai'\""
      ]
     },
     "metadata": {},
     "output_type": "display_data"
    }
   ],
   "source": [
    "# Tests for get_base_url. Server is None and the env variable is also not set. Default value\n",
    "# should be returned.\n",
    "\n",
    "# deleting the env variable\n",
    "_airt_server_url = None\n",
    "\n",
    "if os.environ.get(SERVER_URL):\n",
    "    _airt_server_url = os.environ.get(SERVER_URL)\n",
    "    del os.environ[SERVER_URL]\n",
    "\n",
    "server = None\n",
    "actual = get_base_url(server)\n",
    "expected = PROD_URL\n",
    "\n",
    "display(f\"{actual=}\")\n",
    "assert actual == expected\n",
    "\n",
    "# Assigning the value back to the env variable\n",
    "if _airt_server_url:\n",
    "    os.environ[SERVER_URL] = _airt_server_url"
   ]
  },
  {
   "cell_type": "code",
   "execution_count": null,
   "metadata": {},
   "outputs": [],
   "source": [
    "# | export\n",
    "\n",
    "\n",
    "def post_data(\n",
    "    url: str,\n",
    "    token: Optional[str],\n",
    "    data: Optional[Dict[str, Any]] = None,\n",
    "    json: Optional[Dict[str, Any]] = None,\n",
    ") -> Dict[str, Any]:\n",
    "    \"\"\"A function to send a POST request.\n",
    "\n",
    "    Args:\n",
    "        url: The URL of the server to which the request needs to be sent.\n",
    "        data: A Dictionary object to send in the body of the POST request. The data sent in this param will automatically be form-encoded by the request library.\n",
    "        json: A Dictionary object to send in the body of the POST request. The data sent in this param will automatically be JSON-encoded by the request library.\n",
    "        token: The unique auth token for the client, obtained via calling the `Client.get_token()` method.\n",
    "            Set it to `None` in `Client.get_token()` to obtain the token.\n",
    "\n",
    "    Returns:\n",
    "        A dictionary that encapsulates the response body.\n",
    "\n",
    "    Raises:\n",
    "        ConnectionError: If the server is not reachable.\n",
    "        ValueError: If the response code is not in range of 200 - 399.\n",
    "    \"\"\"\n",
    "    if token is not None:\n",
    "        headers = {\"Authorization\": f\"Bearer {token}\"}\n",
    "        response = requests.post(url, json=json, data=data, headers=headers)\n",
    "    else:\n",
    "        response = requests.post(url, data=data, json=json)\n",
    "    return _get_json(response)"
   ]
  },
  {
   "cell_type": "code",
   "execution_count": null,
   "metadata": {},
   "outputs": [
    {
     "data": {
      "text/plain": [
       "\"db_id='5d9457a6-3083-4255-a68c-2ae61c394ea6', mask(auth_token)='*******************************************************************************************************************************'\""
      ]
     },
     "metadata": {},
     "output_type": "display_data"
    }
   ],
   "source": [
    "# A helper context manager for creating a sample datablob using _post_data.\n",
    "\n",
    "\n",
    "@contextmanager\n",
    "def create_sample_db():\n",
    "    # Getting the token\n",
    "    username = os.environ[SERVICE_USERNAME]\n",
    "    password = os.environ[SERVICE_PASSWORD]\n",
    "    server = os.environ.get(SERVER_URL)\n",
    "\n",
    "    response = requests.post(\n",
    "        url=f\"{server}/token\", data=dict(username=username, password=password)\n",
    "    )\n",
    "\n",
    "    token = response.json()[\"access_token\"]\n",
    "\n",
    "    # Creating a s3 data source by calling _post_data\n",
    "    uri = \"s3://test-airt-service/account_312571_events_csv\"\n",
    "    access_key = os.environ.get(\"AWS_ACCESS_KEY_ID\")\n",
    "    secret_key = os.environ.get(\"AWS_SECRET_ACCESS_KEY\")\n",
    "\n",
    "    response = post_data(\n",
    "        url=f\"{server}/datablob/from_s3\",\n",
    "        json=dict(uri=uri, access_key=access_key, secret_key=secret_key),\n",
    "        token=token,\n",
    "    )\n",
    "    yield (response[\"uuid\"], token)\n",
    "\n",
    "\n",
    "with create_sample_db() as (db_id, auth_token):\n",
    "    display(f\"{db_id=}, {mask(auth_token)=}\")\n",
    "    assert len(db_id) == 36  # including hypens\n",
    "    assert len(auth_token) >= 127  # maybe"
   ]
  },
  {
   "cell_type": "code",
   "execution_count": null,
   "metadata": {},
   "outputs": [
    {
     "data": {
      "text/plain": [
       "\"e.value=ValueError([{'loc': ['body', 'username'], 'msg': 'field required', 'type': 'value_error.missing'}, {'loc': ['body', 'password'], 'msg': 'field required', 'type': 'value_error.missing'}])\""
      ]
     },
     "metadata": {},
     "output_type": "display_data"
    }
   ],
   "source": [
    "# Tests for _post_data\n",
    "# Checking negative scenario. Checking for invalid username and password combination\n",
    "\n",
    "username = \"random_user\"\n",
    "password = \"random password\"\n",
    "server = os.environ.get(SERVER_URL)\n",
    "\n",
    "with pytest.raises(ValueError) as e:\n",
    "    response = post_data(\n",
    "        url=f\"{server}/token\",\n",
    "        json=dict(username=username, password=password),\n",
    "        token=auth_token,\n",
    "    )\n",
    "\n",
    "display(f\"{e.value=}\")"
   ]
  },
  {
   "cell_type": "code",
   "execution_count": null,
   "metadata": {},
   "outputs": [],
   "source": [
    "# | export\n",
    "\n",
    "\n",
    "def get_data(url: str, token: Optional[str]) -> Any:\n",
    "    \"\"\"Send a GET request.\n",
    "\n",
    "    Args:\n",
    "        url: The URL of the server to which the request needs to be sent.\n",
    "        token: The unique auth token for the client, obtained via calling the `Client.get_token()` method.\n",
    "\n",
    "    Returns:\n",
    "        A dictionary that encapsulates the response body.\n",
    "\n",
    "    Raises:\n",
    "        ConnectionError: If the server is not reachable.\n",
    "        ValueError: If the response code is not in range of 200 - 399.\n",
    "    \"\"\"\n",
    "    headers = {\"Authorization\": f\"Bearer {token}\"}\n",
    "    response = requests.get(url, headers=headers)\n",
    "    return _get_json(response)"
   ]
  },
  {
   "cell_type": "code",
   "execution_count": null,
   "metadata": {},
   "outputs": [
    {
     "data": {
      "text/plain": [
       "\"e.value=ValueError('The datablob uuid is incorrect. Please try again.')\""
      ]
     },
     "metadata": {},
     "output_type": "display_data"
    }
   ],
   "source": [
    "# Tests for _get_data\n",
    "# Checking negative scenario. Passing Invalid data_id\n",
    "TEST_UUID_V4 = \"00000000-0000-0000-0000-000000000000\"\n",
    "\n",
    "with create_sample_db() as (db_id, token):\n",
    "    with pytest.raises(ValueError) as e:\n",
    "        response = get_data(url=f\"{server}/datablob/{TEST_UUID_V4}\", token=token)\n",
    "\n",
    "    display(f\"{e.value=}\")"
   ]
  },
  {
   "cell_type": "code",
   "execution_count": null,
   "metadata": {},
   "outputs": [],
   "source": [
    "# | export\n",
    "\n",
    "\n",
    "def delete_data(url: str, token: Optional[str]) -> Dict[str, Any]:\n",
    "    \"\"\"Send a DELETE request.\n",
    "\n",
    "    Args:\n",
    "        url: The URL of the server to which the request needs to be sent.\n",
    "        token: The unique auth token for the client, obtained via calling the `Client.get_token()` method.\n",
    "\n",
    "    Returns:\n",
    "        A dictionary that encapsulates the response body.\n",
    "\n",
    "    Raises:\n",
    "        ConnectionError: If the server is not reachable.\n",
    "        ValueError: If the response code is not in range of 200 - 399.\n",
    "    \"\"\"\n",
    "    headers = {\"Authorization\": f\"Bearer {token}\"}\n",
    "    response = requests.delete(url, headers=headers)\n",
    "    return _get_json(response)"
   ]
  },
  {
   "cell_type": "code",
   "execution_count": null,
   "metadata": {},
   "outputs": [
    {
     "data": {
      "text/plain": [
       "\"response={'type': 's3', 'total_steps': 1, 'source': 's3://test-airt-service/account_312571_events_csv', 'completed_steps': 0, 'folder_size': None, 'error': None, 'cloud_provider': 'aws', 'region': 'eu-west-3', 'disabled': True, 'created': '2023-04-04T00:20:25', 'pulled_on': None, 'uuid': '8f21d3aa-100c-49bd-9dcd-10db1a574fdb', 'user': '3cbd5cf6-7100-4d52-8ad5-9993d2ce17ff', 'datasources': [], 'tags': [{'name': 'latest', 'uuid': 'ac19942e-65dd-4e56-8cd1-210e23d04611', 'created': '2023-04-04T00:18:38'}]}\""
      ]
     },
     "metadata": {},
     "output_type": "display_data"
    },
    {
     "data": {
      "text/plain": [
       "\"\\ne.value=ValueError('The datablob has already been deleted.')\""
      ]
     },
     "metadata": {},
     "output_type": "display_data"
    }
   ],
   "source": [
    "# Tests for _delete_data\n",
    "# Checking positive scenario.\n",
    "\n",
    "with create_sample_db() as (db_id, token):\n",
    "    # delete the sample data source\n",
    "    response = delete_data(url=f\"{server}/datablob/{db_id}\", token=token)\n",
    "\n",
    "    display(f\"{response=}\")\n",
    "    assert db_id == response[\"uuid\"]\n",
    "\n",
    "    # Testing negative scenario: Deleting already deleted data source\n",
    "    with pytest.raises(ValueError) as e:\n",
    "        response = delete_data(url=f\"{server}/datablob/{db_id}\", token=token)\n",
    "\n",
    "    display(f\"\\n{e.value=}\")"
   ]
  },
  {
   "cell_type": "code",
   "execution_count": null,
   "metadata": {},
   "outputs": [
    {
     "data": {
      "text/plain": [
       "\"e.value=ValueError('The datablob uuid is incorrect. Please try again.')\""
      ]
     },
     "metadata": {},
     "output_type": "display_data"
    }
   ],
   "source": [
    "# Tests for _delete_data\n",
    "# Testing negative scenario: Deleting invalid datablob\n",
    "\n",
    "with pytest.raises(ValueError) as e:\n",
    "    delete_data(url=f\"{server}/datablob/{TEST_UUID_V4}\", token=token)\n",
    "\n",
    "display(f\"{e.value=}\")"
   ]
  },
  {
   "cell_type": "code",
   "execution_count": null,
   "metadata": {},
   "outputs": [],
   "source": [
    "# | export\n",
    "\n",
    "\n",
    "def add_ready_column(df: pd.DataFrame) -> pd.DataFrame:\n",
    "    \"\"\"Add ready column to the DataFrame\n",
    "\n",
    "    Args:\n",
    "        df: A pandas DataFrame with completed_steps and total_steps columns\n",
    "\n",
    "    Returns:\n",
    "        A pandas DataFrame with ready column\n",
    "    \"\"\"\n",
    "\n",
    "    df[\"ready\"] = df[\"completed_steps\"] == df[\"total_steps\"]\n",
    "    return df.drop(columns=[\"completed_steps\", \"total_steps\"])"
   ]
  },
  {
   "cell_type": "code",
   "execution_count": null,
   "metadata": {},
   "outputs": [
    {
     "data": {
      "text/html": [
       "<div>\n",
       "<style scoped>\n",
       "    .dataframe tbody tr th:only-of-type {\n",
       "        vertical-align: middle;\n",
       "    }\n",
       "\n",
       "    .dataframe tbody tr th {\n",
       "        vertical-align: top;\n",
       "    }\n",
       "\n",
       "    .dataframe thead th {\n",
       "        text-align: right;\n",
       "    }\n",
       "</style>\n",
       "<table border=\"1\" class=\"dataframe\">\n",
       "  <thead>\n",
       "    <tr style=\"text-align: right;\">\n",
       "      <th></th>\n",
       "      <th>id</th>\n",
       "      <th>ready</th>\n",
       "    </tr>\n",
       "  </thead>\n",
       "  <tbody>\n",
       "    <tr>\n",
       "      <th>0</th>\n",
       "      <td>2</td>\n",
       "      <td>True</td>\n",
       "    </tr>\n",
       "    <tr>\n",
       "      <th>1</th>\n",
       "      <td>2</td>\n",
       "      <td>False</td>\n",
       "    </tr>\n",
       "  </tbody>\n",
       "</table>\n",
       "</div>"
      ],
      "text/plain": [
       "   id  ready\n",
       "0   2   True\n",
       "1   2  False"
      ]
     },
     "metadata": {},
     "output_type": "display_data"
    }
   ],
   "source": [
    "# Tests for _add_ready_column\n",
    "\n",
    "test_df = pd.DataFrame(\n",
    "    [\n",
    "        {\"total_steps\": 5, \"completed_steps\": 5, \"id\": 2},\n",
    "        {\"total_steps\": 5, \"completed_steps\": 3, \"id\": 2},\n",
    "    ]\n",
    ")\n",
    "\n",
    "result = add_ready_column(test_df)\n",
    "\n",
    "display(result)\n",
    "assert result.shape == (2, 2), result.shape\n",
    "assert result.iloc[0][\"ready\"]\n",
    "assert not result.iloc[1][\"ready\"]"
   ]
  },
  {
   "cell_type": "code",
   "execution_count": null,
   "metadata": {},
   "outputs": [],
   "source": [
    "# | export\n",
    "\n",
    "\n",
    "def generate_df(\n",
    "    items: Union[Dict[str, Any], List[Dict[str, Any]]], columns: list\n",
    ") -> pd.DataFrame:\n",
    "    \"\"\"Generate a DataFrame based on the items length\n",
    "\n",
    "    Args:\n",
    "        items: A list encapsulating the response from an API endpoint that needs to be converted into a DataFrame.\n",
    "        columns: A list of columns names to be included in the DataFrame.\n",
    "\n",
    "    Returns:\n",
    "        A DataFrame with a shape of (items, columns), if the length of the items is > 0, otherwise an empty DataFrame with only columns names.\n",
    "    \"\"\"\n",
    "\n",
    "    if len(items) > 0:\n",
    "        df = pd.DataFrame(items)[columns]\n",
    "    else:\n",
    "        df = pd.DataFrame({c: [] for c in columns})\n",
    "\n",
    "    return df"
   ]
  },
  {
   "cell_type": "code",
   "execution_count": null,
   "metadata": {},
   "outputs": [
    {
     "data": {
      "text/html": [
       "<div>\n",
       "<style scoped>\n",
       "    .dataframe tbody tr th:only-of-type {\n",
       "        vertical-align: middle;\n",
       "    }\n",
       "\n",
       "    .dataframe tbody tr th {\n",
       "        vertical-align: top;\n",
       "    }\n",
       "\n",
       "    .dataframe thead th {\n",
       "        text-align: right;\n",
       "    }\n",
       "</style>\n",
       "<table border=\"1\" class=\"dataframe\">\n",
       "  <thead>\n",
       "    <tr style=\"text-align: right;\">\n",
       "      <th></th>\n",
       "      <th>id</th>\n",
       "      <th>total_steps</th>\n",
       "    </tr>\n",
       "  </thead>\n",
       "  <tbody>\n",
       "    <tr>\n",
       "      <th>0</th>\n",
       "      <td>2</td>\n",
       "      <td>5</td>\n",
       "    </tr>\n",
       "  </tbody>\n",
       "</table>\n",
       "</div>"
      ],
      "text/plain": [
       "   id  total_steps\n",
       "0   2            5"
      ]
     },
     "metadata": {},
     "output_type": "display_data"
    },
    {
     "data": {
      "text/html": [
       "<div>\n",
       "<style scoped>\n",
       "    .dataframe tbody tr th:only-of-type {\n",
       "        vertical-align: middle;\n",
       "    }\n",
       "\n",
       "    .dataframe tbody tr th {\n",
       "        vertical-align: top;\n",
       "    }\n",
       "\n",
       "    .dataframe thead th {\n",
       "        text-align: right;\n",
       "    }\n",
       "</style>\n",
       "<table border=\"1\" class=\"dataframe\">\n",
       "  <thead>\n",
       "    <tr style=\"text-align: right;\">\n",
       "      <th></th>\n",
       "      <th>id</th>\n",
       "      <th>total_steps</th>\n",
       "    </tr>\n",
       "  </thead>\n",
       "  <tbody>\n",
       "  </tbody>\n",
       "</table>\n",
       "</div>"
      ],
      "text/plain": [
       "Empty DataFrame\n",
       "Columns: [id, total_steps]\n",
       "Index: []"
      ]
     },
     "metadata": {},
     "output_type": "display_data"
    }
   ],
   "source": [
    "# Tests for _generate_df\n",
    "\n",
    "items = [{\"total_steps\": 5, \"completed_steps\": 5, \"id\": 2}]\n",
    "columns = [\"id\", \"total_steps\"]\n",
    "\n",
    "# Testing Positive Scenario\n",
    "result = generate_df(items, columns)\n",
    "\n",
    "display(result)\n",
    "assert result.shape == (len(items), len(columns))\n",
    "\n",
    "# Testing Negative Scenario\n",
    "\n",
    "items = []\n",
    "\n",
    "result = generate_df(items, columns)\n",
    "\n",
    "display(result)\n",
    "assert result.shape == (len(items), len(columns))"
   ]
  },
  {
   "cell_type": "code",
   "execution_count": null,
   "metadata": {},
   "outputs": [],
   "source": [
    "# | export\n",
    "\n",
    "\n",
    "def get_values_from_item(items: list, value: Optional[str] = None) -> str:\n",
    "    \"\"\"Get **values** from items seperated by comma.\n",
    "\n",
    "    Args:\n",
    "        items: The item list from the response.\n",
    "        value: The value to extract from each items.\n",
    "\n",
    "    Returns:\n",
    "        The **values** as string seperated by comma. If the tags list is empty, <none> will be returned.\n",
    "    \"\"\"\n",
    "\n",
    "    if len(items) == 0:\n",
    "        return \"<none>\"\n",
    "\n",
    "    if value is None:\n",
    "        return \", \".join(items)\n",
    "\n",
    "    return \", \".join([str(i[value]) for i in items])"
   ]
  },
  {
   "cell_type": "code",
   "execution_count": null,
   "metadata": {},
   "outputs": [
    {
     "data": {
      "text/plain": [
       "\"get_values_from_item(_tags, value)='version_1.0, version_2.0'\""
      ]
     },
     "metadata": {},
     "output_type": "display_data"
    }
   ],
   "source": [
    "RANDOM_UUID_FOR_TESTING = \"00000000-0000-0000-0000-000000000000\"\n",
    "\n",
    "_tags = [\n",
    "    {\n",
    "        \"name\": \"version_1.0\",\n",
    "        \"id\": RANDOM_UUID_FOR_TESTING,\n",
    "        \"created\": \"2021-11-15T00:24:02.571Z\",\n",
    "    },\n",
    "    {\n",
    "        \"name\": \"version_2.0\",\n",
    "        \"id\": RANDOM_UUID_FOR_TESTING,\n",
    "        \"created\": \"2021-11-15T00:24:02.571Z\",\n",
    "    },\n",
    "]\n",
    "\n",
    "value = \"name\"\n",
    "display(f\"{get_values_from_item(_tags, value)=}\")\n",
    "assert get_values_from_item(_tags, value) == \"version_1.0, version_2.0\""
   ]
  },
  {
   "cell_type": "code",
   "execution_count": null,
   "metadata": {},
   "outputs": [
    {
     "data": {
      "text/plain": [
       "\"get_values_from_item(_tags, value)='<none>'\""
      ]
     },
     "metadata": {},
     "output_type": "display_data"
    }
   ],
   "source": [
    "_tags = []\n",
    "value = \"name\"\n",
    "\n",
    "display(f\"{get_values_from_item(_tags, value)=}\")\n",
    "assert get_values_from_item(_tags, value) == \"<none>\""
   ]
  },
  {
   "cell_type": "code",
   "execution_count": null,
   "metadata": {},
   "outputs": [
    {
     "data": {
      "text/plain": [
       "[{'type': 's3',\n",
       "  'uuid': '00000000-0000-0000-0000-000000000000',\n",
       "  'datasources': '00000000-0000-0000-0000-000000000000, 00000000-0000-0000-0000-000000000000, 00000000-0000-0000-0000-000000000000',\n",
       "  'tags': 'latest'},\n",
       " {'type': 's3',\n",
       "  'uuid': '00000000-0000-0000-0000-000000000000',\n",
       "  'datasources': '<none>',\n",
       "  'tags': 'latest'}]"
      ]
     },
     "execution_count": null,
     "metadata": {},
     "output_type": "execute_result"
    }
   ],
   "source": [
    "response = [\n",
    "    {\n",
    "        \"type\": \"s3\",\n",
    "        \"uuid\": RANDOM_UUID_FOR_TESTING,\n",
    "        \"datasources\": [\n",
    "            RANDOM_UUID_FOR_TESTING,\n",
    "            RANDOM_UUID_FOR_TESTING,\n",
    "            RANDOM_UUID_FOR_TESTING,\n",
    "        ],\n",
    "        \"tags\": \"latest\",\n",
    "    },\n",
    "    {\n",
    "        \"type\": \"s3\",\n",
    "        \"uuid\": RANDOM_UUID_FOR_TESTING,\n",
    "        \"datasources\": [],\n",
    "        \"tags\": \"latest\",\n",
    "    },\n",
    "]\n",
    "\n",
    "value = \"id\"\n",
    "\n",
    "for r in response:\n",
    "    r[\"datasources\"] = get_values_from_item(r[\"datasources\"])\n",
    "\n",
    "assert (\n",
    "    response[0][\"datasources\"]\n",
    "    == f\"{RANDOM_UUID_FOR_TESTING}, {RANDOM_UUID_FOR_TESTING}, {RANDOM_UUID_FOR_TESTING}\"\n",
    ")\n",
    "assert response[1][\"datasources\"] == \"<none>\"\n",
    "response"
   ]
  },
  {
   "cell_type": "code",
   "execution_count": null,
   "metadata": {},
   "outputs": [],
   "source": [
    "# | export\n",
    "\n",
    "\n",
    "def get_attributes_from_instances(\n",
    "    ox: List[object], attributes: List[str]\n",
    ") -> List[Dict[str, Any]]:\n",
    "    \"\"\"Extract the **attributes** from the instances.\n",
    "\n",
    "    Args:\n",
    "        ox: List of instances.\n",
    "        attributes: Attributes to extract from the instances as a list\n",
    "\n",
    "    Returns:\n",
    "        A list encapsulating the attribute name and value pairs of each instance.\n",
    "    \"\"\"\n",
    "\n",
    "    lists = [{i: getattr(o, i) for i in attributes} for o in ox]\n",
    "    return lists"
   ]
  },
  {
   "cell_type": "code",
   "execution_count": null,
   "metadata": {},
   "outputs": [
    {
     "data": {
      "text/plain": [
       "[{'name': 'sample_user_1', 'sex': 'M'}, {'name': 'sample_user_2', 'sex': 'F'}]"
      ]
     },
     "execution_count": null,
     "metadata": {},
     "output_type": "execute_result"
    }
   ],
   "source": [
    "class Test:\n",
    "    def __init__(self, name, age, sex):\n",
    "        self.name = name\n",
    "        self.age = age\n",
    "        self.sex = sex\n",
    "\n",
    "\n",
    "test_1 = Test(\"sample_user_1\", 30, \"M\")\n",
    "test_2 = Test(\"sample_user_2\", 30, \"F\")\n",
    "attributes = [\"name\", \"sex\"]\n",
    "\n",
    "actual = get_attributes_from_instances([test_1, test_2], attributes)\n",
    "expected = [\n",
    "    {\"name\": \"sample_user_1\", \"sex\": \"M\"},\n",
    "    {\"name\": \"sample_user_2\", \"sex\": \"F\"},\n",
    "]\n",
    "assert actual == expected\n",
    "actual"
   ]
  },
  {
   "cell_type": "code",
   "execution_count": null,
   "metadata": {},
   "outputs": [],
   "source": [
    "# | export\n",
    "\n",
    "\n",
    "def dict_to_df(d: Dict[str, Any]) -> pd.DataFrame:\n",
    "    \"\"\"Convert the dict into a pandas dataframe\n",
    "\n",
    "    Args:\n",
    "        d: Dict containing the data and dtypes\n",
    "\n",
    "    Returns:\n",
    "        The pandas dataframe constructed from the dict\n",
    "    \"\"\"\n",
    "    data = d[\"data\"]\n",
    "    dtypes = d[\"dtypes\"]\n",
    "\n",
    "    df = pd.DataFrame(\n",
    "        data=data[\"data\"], index=data[\"index\"], columns=data[\"columns\"]\n",
    "    ).rename_axis(data[\"index_names\"])\n",
    "\n",
    "    for k, v in dtypes.items():\n",
    "        df[k] = df[k].astype(v)\n",
    "\n",
    "    return df"
   ]
  },
  {
   "cell_type": "code",
   "execution_count": null,
   "metadata": {},
   "outputs": [
    {
     "data": {
      "text/html": [
       "<div>\n",
       "<style scoped>\n",
       "    .dataframe tbody tr th:only-of-type {\n",
       "        vertical-align: middle;\n",
       "    }\n",
       "\n",
       "    .dataframe tbody tr th {\n",
       "        vertical-align: top;\n",
       "    }\n",
       "\n",
       "    .dataframe thead th {\n",
       "        text-align: right;\n",
       "    }\n",
       "</style>\n",
       "<table border=\"1\" class=\"dataframe\">\n",
       "  <thead>\n",
       "    <tr style=\"text-align: right;\">\n",
       "      <th></th>\n",
       "      <th>B</th>\n",
       "      <th>C</th>\n",
       "      <th>D</th>\n",
       "      <th>B_float32</th>\n",
       "      <th>B_int32</th>\n",
       "      <th>B_bool</th>\n",
       "      <th>C_float32</th>\n",
       "      <th>C_int32</th>\n",
       "      <th>C_bool</th>\n",
       "      <th>D_float32</th>\n",
       "      <th>D_int32</th>\n",
       "      <th>D_bool</th>\n",
       "      <th>ts</th>\n",
       "    </tr>\n",
       "    <tr>\n",
       "      <th>A</th>\n",
       "      <th></th>\n",
       "      <th></th>\n",
       "      <th></th>\n",
       "      <th></th>\n",
       "      <th></th>\n",
       "      <th></th>\n",
       "      <th></th>\n",
       "      <th></th>\n",
       "      <th></th>\n",
       "      <th></th>\n",
       "      <th></th>\n",
       "      <th></th>\n",
       "      <th></th>\n",
       "    </tr>\n",
       "  </thead>\n",
       "  <tbody>\n",
       "    <tr>\n",
       "      <th>-0.203917</th>\n",
       "      <td>-1.416683</td>\n",
       "      <td>-1.484782</td>\n",
       "      <td>-0.423902</td>\n",
       "      <td>-1.416683</td>\n",
       "      <td>-1</td>\n",
       "      <td>True</td>\n",
       "      <td>-1.484782</td>\n",
       "      <td>-1</td>\n",
       "      <td>True</td>\n",
       "      <td>-0.423902</td>\n",
       "      <td>0</td>\n",
       "      <td>True</td>\n",
       "      <td>2023-04-04 00:20:36</td>\n",
       "    </tr>\n",
       "    <tr>\n",
       "      <th>-0.491335</th>\n",
       "      <td>0.285590</td>\n",
       "      <td>-0.081368</td>\n",
       "      <td>0.697120</td>\n",
       "      <td>0.285590</td>\n",
       "      <td>0</td>\n",
       "      <td>True</td>\n",
       "      <td>-0.081368</td>\n",
       "      <td>0</td>\n",
       "      <td>True</td>\n",
       "      <td>0.697120</td>\n",
       "      <td>0</td>\n",
       "      <td>True</td>\n",
       "      <td>2023-04-04 00:20:36</td>\n",
       "    </tr>\n",
       "    <tr>\n",
       "      <th>-1.822544</th>\n",
       "      <td>-1.704996</td>\n",
       "      <td>0.371523</td>\n",
       "      <td>1.140692</td>\n",
       "      <td>-1.704996</td>\n",
       "      <td>-1</td>\n",
       "      <td>True</td>\n",
       "      <td>0.371523</td>\n",
       "      <td>0</td>\n",
       "      <td>True</td>\n",
       "      <td>1.140692</td>\n",
       "      <td>1</td>\n",
       "      <td>True</td>\n",
       "      <td>2023-04-04 00:20:36</td>\n",
       "    </tr>\n",
       "    <tr>\n",
       "      <th>-1.900890</th>\n",
       "      <td>-0.096739</td>\n",
       "      <td>0.843024</td>\n",
       "      <td>-1.839296</td>\n",
       "      <td>-0.096739</td>\n",
       "      <td>0</td>\n",
       "      <td>True</td>\n",
       "      <td>0.843024</td>\n",
       "      <td>0</td>\n",
       "      <td>True</td>\n",
       "      <td>-1.839296</td>\n",
       "      <td>-1</td>\n",
       "      <td>True</td>\n",
       "      <td>2023-04-04 00:20:36</td>\n",
       "    </tr>\n",
       "    <tr>\n",
       "      <th>-0.238108</th>\n",
       "      <td>-0.541821</td>\n",
       "      <td>0.457237</td>\n",
       "      <td>-0.901624</td>\n",
       "      <td>-0.541821</td>\n",
       "      <td>0</td>\n",
       "      <td>True</td>\n",
       "      <td>0.457237</td>\n",
       "      <td>0</td>\n",
       "      <td>True</td>\n",
       "      <td>-0.901624</td>\n",
       "      <td>0</td>\n",
       "      <td>True</td>\n",
       "      <td>2023-04-04 00:20:36</td>\n",
       "    </tr>\n",
       "  </tbody>\n",
       "</table>\n",
       "</div>"
      ],
      "text/plain": [
       "                  B         C         D  B_float32  B_int32  B_bool   \n",
       "A                                                                     \n",
       "-0.203917 -1.416683 -1.484782 -0.423902  -1.416683       -1    True  \\\n",
       "-0.491335  0.285590 -0.081368  0.697120   0.285590        0    True   \n",
       "-1.822544 -1.704996  0.371523  1.140692  -1.704996       -1    True   \n",
       "-1.900890 -0.096739  0.843024 -1.839296  -0.096739        0    True   \n",
       "-0.238108 -0.541821  0.457237 -0.901624  -0.541821        0    True   \n",
       "\n",
       "           C_float32  C_int32  C_bool  D_float32  D_int32  D_bool   \n",
       "A                                                                   \n",
       "-0.203917  -1.484782       -1    True  -0.423902        0    True  \\\n",
       "-0.491335  -0.081368        0    True   0.697120        0    True   \n",
       "-1.822544   0.371523        0    True   1.140692        1    True   \n",
       "-1.900890   0.843024        0    True  -1.839296       -1    True   \n",
       "-0.238108   0.457237        0    True  -0.901624        0    True   \n",
       "\n",
       "                           ts  \n",
       "A                              \n",
       "-0.203917 2023-04-04 00:20:36  \n",
       "-0.491335 2023-04-04 00:20:36  \n",
       "-1.822544 2023-04-04 00:20:36  \n",
       "-1.900890 2023-04-04 00:20:36  \n",
       "-0.238108 2023-04-04 00:20:36  "
      ]
     },
     "execution_count": null,
     "metadata": {},
     "output_type": "execute_result"
    }
   ],
   "source": [
    "df = pd._testing.makeDataFrame().set_index(\"A\")\n",
    "\n",
    "for c in df.columns:\n",
    "    df[f\"{c}_float32\"] = df[c].astype(\"float32\")\n",
    "    df[f\"{c}_int32\"] = df[c].astype(\"int32\")\n",
    "    df[f\"{c}_bool\"] = df[c].astype(\"bool\")\n",
    "df[\"ts\"] = np.datetime64(\"now\")\n",
    "\n",
    "df_head = df.head()\n",
    "d = {\n",
    "    \"data\": df_head.to_dict(\"tight\"),\n",
    "    \"dtypes\": df_head.dtypes.apply(lambda x: str(x)).to_dict(),\n",
    "}\n",
    "actual = dict_to_df(d)\n",
    "\n",
    "pd.testing.assert_frame_equal(df_head, actual)\n",
    "actual"
   ]
  },
  {
   "cell_type": "code",
   "execution_count": null,
   "metadata": {},
   "outputs": [],
   "source": [
    "# | exporti\n",
    "\n",
    "\n",
    "def check_and_append_otp_query_param(relative_url: str, otp: Union[str, None]) -> str:\n",
    "    \"\"\"Append the otp query parameter to the relative url if its not None\n",
    "\n",
    "    Args:\n",
    "        relative_url: The relative url for the route\n",
    "        otp: user otp\n",
    "\n",
    "    Returns:\n",
    "        The updated relative_url if otp is not None, else returns the original relative_url\n",
    "    \"\"\"\n",
    "    if otp is not None:\n",
    "        relative_url = (\n",
    "            (relative_url + f\"&otp={otp}\")\n",
    "            if len(relative_url.split(\"?\")) > 1\n",
    "            else (relative_url + f\"?otp={otp}\")\n",
    "        )\n",
    "    return relative_url"
   ]
  },
  {
   "cell_type": "code",
   "execution_count": null,
   "metadata": {},
   "outputs": [
    {
     "data": {
      "text/plain": [
       "'/search?a=string&otp=123'"
      ]
     },
     "execution_count": null,
     "metadata": {},
     "output_type": "execute_result"
    }
   ],
   "source": [
    "url = \"/search?a=string\"\n",
    "otp = 123\n",
    "expected = \"/search?a=string&otp=123\"\n",
    "actual = check_and_append_otp_query_param(url, otp)\n",
    "assert actual == expected\n",
    "actual"
   ]
  },
  {
   "cell_type": "code",
   "execution_count": null,
   "metadata": {},
   "outputs": [
    {
     "data": {
      "text/plain": [
       "'/search?otp=123'"
      ]
     },
     "execution_count": null,
     "metadata": {},
     "output_type": "execute_result"
    }
   ],
   "source": [
    "url = \"/search\"\n",
    "otp = 123\n",
    "expected = \"/search?otp=123\"\n",
    "actual = check_and_append_otp_query_param(url, otp)\n",
    "\n",
    "assert actual == expected\n",
    "actual"
   ]
  },
  {
   "cell_type": "code",
   "execution_count": null,
   "metadata": {},
   "outputs": [
    {
     "data": {
      "text/plain": [
       "'/search'"
      ]
     },
     "execution_count": null,
     "metadata": {},
     "output_type": "execute_result"
    }
   ],
   "source": [
    "url = \"/search\"\n",
    "otp = None\n",
    "expected = \"/search\"\n",
    "actual = check_and_append_otp_query_param(url, otp)\n",
    "\n",
    "assert actual == expected\n",
    "actual"
   ]
  },
  {
   "cell_type": "code",
   "execution_count": null,
   "metadata": {},
   "outputs": [],
   "source": [
    "# | export\n",
    "\n",
    "\n",
    "def standardize_phone_number(phone_number: str) -> str:\n",
    "    \"\"\"Standardize the user's phone number\n",
    "\n",
    "    This function takes the user's phone number in different formats and converts it into a\n",
    "    standardized format. For example, the user can enter the phone number as **440123456789, +440123456789,\n",
    "    00440123456789, +44 0123456789, and (+44) 012 345 6789** to register a UK-based phone number and this function takes the user input and\n",
    "    converts it into 440123456789 standardized format.\n",
    "\n",
    "    Args:\n",
    "        phone_number: The phone number to convert into a standardized format.\n",
    "\n",
    "    Returns:\n",
    "        The phone number in a standardized format.\n",
    "    \"\"\"\n",
    "    phone_number = \"\".join(filter(str.isdigit, phone_number))\n",
    "    if phone_number.startswith(\"00\"):\n",
    "        phone_number = phone_number[2:]\n",
    "    return phone_number"
   ]
  },
  {
   "cell_type": "code",
   "execution_count": null,
   "metadata": {},
   "outputs": [
    {
     "data": {
      "text/plain": [
       "'441234567890'"
      ]
     },
     "metadata": {},
     "output_type": "display_data"
    },
    {
     "data": {
      "text/plain": [
       "'441234567890'"
      ]
     },
     "metadata": {},
     "output_type": "display_data"
    },
    {
     "data": {
      "text/plain": [
       "'441234567890'"
      ]
     },
     "metadata": {},
     "output_type": "display_data"
    },
    {
     "data": {
      "text/plain": [
       "'441234567890'"
      ]
     },
     "metadata": {},
     "output_type": "display_data"
    },
    {
     "data": {
      "text/plain": [
       "'441234567890'"
      ]
     },
     "metadata": {},
     "output_type": "display_data"
    },
    {
     "data": {
      "text/plain": [
       "'441234567890'"
      ]
     },
     "metadata": {},
     "output_type": "display_data"
    },
    {
     "data": {
      "text/plain": [
       "'441234567890'"
      ]
     },
     "metadata": {},
     "output_type": "display_data"
    },
    {
     "data": {
      "text/plain": [
       "'441234567890'"
      ]
     },
     "metadata": {},
     "output_type": "display_data"
    }
   ],
   "source": [
    "phone_numbers = [\n",
    "    \"+441234567890\",\n",
    "    \"00441234567890\",\n",
    "    \"441234567890\",\n",
    "    \"0044–123-456-7890\",\n",
    "    \"+44–1234567890\",\n",
    "    \"+44 123 456 7890\",\n",
    "    \"(+44) 123 456 7890\",\n",
    "    \"+44 1234567890\",\n",
    "]\n",
    "\n",
    "for phone_number in phone_numbers:\n",
    "    actual = standardize_phone_number(phone_number=phone_number)\n",
    "    expected = \"441234567890\"\n",
    "\n",
    "    display(actual)\n",
    "    assert actual == expected"
   ]
  },
  {
   "cell_type": "code",
   "execution_count": null,
   "metadata": {},
   "outputs": [],
   "source": [
    "# | exporti\n",
    "\n",
    "\n",
    "def add_example_to_docs(o: Any, example: str):\n",
    "    \"\"\"Add the given example to the object\n",
    "\n",
    "    Args:\n",
    "        o: an object, typically a function or a class, for which the example needs to be added\n",
    "        example: The example string to add\n",
    "    \"\"\"\n",
    "\n",
    "    original_doc = o.__doc__\n",
    "\n",
    "    first_line, everything_else = original_doc.split(\"\\n\", 1)\n",
    "    doc_with_example_added = (\n",
    "        first_line\n",
    "        + \"\\n\"\n",
    "        + textwrap.dedent(everything_else)\n",
    "        + \"\\n\"\n",
    "        + textwrap.dedent(example)\n",
    "    )\n",
    "\n",
    "    o.__doc__ = doc_with_example_added"
   ]
  },
  {
   "cell_type": "code",
   "execution_count": null,
   "metadata": {},
   "outputs": [
    {
     "data": {
      "text/plain": [
       "'This is a test function\\n\\nArgs:\\n    s: sample text\\n\\nReturns:\\n    None\\n\\n\\nExample:\\n    ```python\\n    print(\"hello world\")\\n    ```\\n'"
      ]
     },
     "execution_count": null,
     "metadata": {},
     "output_type": "execute_result"
    }
   ],
   "source": [
    "def _test(s: str = \"hello\"):\n",
    "    \"\"\"This is a test function\n",
    "\n",
    "    Args:\n",
    "        s: sample text\n",
    "\n",
    "    Returns:\n",
    "        None\n",
    "    \"\"\"\n",
    "    pass\n",
    "\n",
    "\n",
    "example = \"\"\"\n",
    "Example:\n",
    "    ```python\n",
    "    print(\"hello world\")\n",
    "    ```\n",
    "\"\"\"\n",
    "expected = textwrap.dedent(\n",
    "    \"\"\"This is a test function\n",
    "    \n",
    "Args:\n",
    "    s: sample text\n",
    "\n",
    "Returns:\n",
    "    None\n",
    "\n",
    "\n",
    "Example:\n",
    "    ```python\n",
    "    print(\"hello world\")\n",
    "    ```\n",
    "\"\"\"\n",
    ")\n",
    "\n",
    "add_example_to_docs(_test, example)\n",
    "actual = textwrap.dedent(_test.__doc__)\n",
    "np.testing.assert_array_equal(actual, expected)\n",
    "\n",
    "actual"
   ]
  },
  {
   "cell_type": "code",
   "execution_count": null,
   "metadata": {},
   "outputs": [],
   "source": []
  }
 ],
 "metadata": {
  "kernelspec": {
   "display_name": "python3",
   "language": "python",
   "name": "python3"
  }
 },
 "nbformat": 4,
 "nbformat_minor": 2
}
