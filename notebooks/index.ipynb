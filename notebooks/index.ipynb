{
 "cells": [
  {
   "cell_type": "markdown",
   "metadata": {},
   "source": [
    "\n",
    "# Python client for airt service\n"
   ]
  },
  {
   "cell_type": "markdown",
   "metadata": {},
   "source": [
    "## Docs\n",
    "\n",
    "For full documentation, Please follow the below link:\n",
    "\n",
    "- <a href=\"https://docs.airt.ai\" target=\"_blank\">https://docs.airt.ai/</a>\n"
   ]
  },
  {
   "cell_type": "markdown",
   "metadata": {},
   "source": [
    "## How to install\n",
    "\n",
    "If you don't have the airt library already installed, please install it using pip.\n",
    "\n",
    "\n",
    "```console\n",
    "pip install airt-client\n",
    "```"
   ]
  },
  {
   "cell_type": "markdown",
   "metadata": {},
   "source": [
    "## How to use\n",
    "\n",
    "To access the airt service, you must first create a developer account. Please fill out the signup form below to get one:\n",
    "\n",
    "- [https://bit.ly/3hbXQLY](https://bit.ly/3hbXQLY)\n",
    "\n",
    "After successful verification, you will receive an email with the username and password for the developer account.\n",
    "\n",
    "Once you have the credentials, use them to get an access token by calling `Client.get_token` method. It is necessary to get an access token; otherwise, you won't be able to access all of the airt service's APIs. You can either pass the username, password, and server address as parameters to the `Client.get_token` method or store them in the environment variables **AIRT_SERVICE_USERNAME**, **AIRT_SERVICE_PASSWORD**, and **AIRT_SERVER_URL**\n",
    "\n",
    "In addition to the regular authentication with credentials, you can also enable multi-factor authentication (MFA) and single sign-on (SSO) for generating tokens.\n",
    "\n",
    "To help protect your account, we recommend that you enable multi-factor authentication (MFA). MFA provides additional security by requiring you to provide unique verification code (OTP) in addition to your regular sign-in credentials when performing critical operations.\n",
    "\n",
    "Your account can be configured for MFA in just two easy steps:\n",
    "\n",
    "1. To begin, you need to enable MFA for your account by calling the `User.enable_mfa` method, which will generate a QR code. You can then \n",
    "scan the QR code with an authenticator app, such as Google Authenticator and follow the on-device instructions to finish the setup in your smartphone.\n",
    "\n",
    "2. Finally, activate MFA for your account by calling `User.activate_mfa` and passing the dynamically generated six-digit verification code from your \n",
    "smartphone's authenticator app.\n",
    "\n",
    "You can also disable MFA for your account at any time by calling the method `User.disable_mfa` method.\n",
    "\n",
    "Single sign-on (SSO) can be enabled for your account in three simple steps:\n",
    "\n",
    "1. Enable the SSO for a provider by calling the `User.enable_sso` method with the SSO provider name and an email address. At the moment, \n",
    "we only support **\"google\"** and **\"github\"** as SSO providers. We intend to support additional SSO providers in future releases.\n",
    "\n",
    "2. Before you can start generating new tokens with SSO, you must first authenticate with the SSO provider. Call the `Client.get_token` with \n",
    "the same SSO provider you have enabled in the step above to generate an SSO authorization URL. Please copy and paste it into your \n",
    "preferred browser and complete the authentication process with the SSO provider.\n",
    "\n",
    "3. After successfully authenticating with the SSO provider, call the `Client.set_sso_token` method to generate a new token and use it automatically \n",
    "in all future interactions with the airt server.\n",
    "\n",
    "For more information, please check:\n",
    "\n",
    "- [Tutorial](https://docs.airt.ai/Tutorial/) with more elaborate example, and\n",
    "\n",
    "- [API](https://docs.airt.ai/API/client/Client/) with reference documentation.\n",
    "\n",
    "Here's a minimal example showing how to use airt services to train a model and make predictions.\n",
    "\n",
    "In the below example, the username, password, and server address are stored in **AIRT_SERVICE_USERNAME**, **AIRT_SERVICE_PASSWORD**, and **AIRT_SERVER_URL** environment variables.\n"
   ]
  },
  {
   "cell_type": "markdown",
   "metadata": {},
   "source": [
    "### 0. Get token"
   ]
  },
  {
   "cell_type": "code",
   "execution_count": null,
   "metadata": {},
   "outputs": [],
   "source": [
    "# | include: false\n",
    "# Do not remove \"# hide\" from this cell. Else this cell will appear in documentation\n",
    "\n",
    "import os\n",
    "\n",
    "# setting the environment variable\n",
    "os.environ[\"AIRT_SERVICE_USERNAME\"] = \"johndoe\"\n",
    "os.environ[\"AIRT_SERVICE_PASSWORD\"] = os.environ[\"AIRT_SERVICE_SUPER_USER_PASSWORD\"]"
   ]
  },
  {
   "cell_type": "code",
   "execution_count": null,
   "metadata": {},
   "outputs": [],
   "source": [
    "# Importing necessary libraries\n",
    "from airt.client import Client, DataBlob, DataSource\n",
    "\n",
    "# Authenticate\n",
    "Client.get_token()"
   ]
  },
  {
   "cell_type": "markdown",
   "metadata": {},
   "source": [
    "### 1. Connect data"
   ]
  },
  {
   "cell_type": "code",
   "execution_count": null,
   "metadata": {},
   "outputs": [
    {
     "name": "stderr",
     "output_type": "stream",
     "text": [
      "100%|██████████| 1/1 [01:00<00:00, 60.62s/it]\n",
      "100%|██████████| 1/1 [00:35<00:00, 35.39s/it]\n"
     ]
    },
    {
     "name": "stdout",
     "output_type": "stream",
     "text": [
      "                          event_time event_type  product_id  \\\n",
      "user_id                                                       \n",
      "10300217   2019-11-06 06:51:52+00:00       view    26300219   \n",
      "253299396  2019-11-05 21:25:44+00:00       view     2400724   \n",
      "253299396  2019-11-05 21:27:43+00:00       view     2400724   \n",
      "272811580  2019-11-05 19:38:48+00:00       view     3601406   \n",
      "272811580  2019-11-05 19:40:21+00:00       view     3601406   \n",
      "288929779  2019-11-06 05:39:21+00:00       view    15200134   \n",
      "288929779  2019-11-06 05:39:34+00:00       view    15200134   \n",
      "310768124  2019-11-05 20:25:52+00:00       view     1005106   \n",
      "315309190  2019-11-05 23:13:43+00:00       view    31501222   \n",
      "339186405  2019-11-06 07:00:32+00:00       view     1005115   \n",
      "\n",
      "                   category_id              category_code  \\\n",
      "user_id                                                     \n",
      "10300217   2053013563424899933                       None   \n",
      "253299396  2053013563743667055    appliances.kitchen.hood   \n",
      "253299396  2053013563743667055    appliances.kitchen.hood   \n",
      "272811580  2053013563810775923  appliances.kitchen.washer   \n",
      "272811580  2053013563810775923  appliances.kitchen.washer   \n",
      "288929779  2053013553484398879                       None   \n",
      "288929779  2053013553484398879                       None   \n",
      "310768124  2053013555631882655     electronics.smartphone   \n",
      "315309190  2053013558031024687                       None   \n",
      "339186405  2053013555631882655     electronics.smartphone   \n",
      "\n",
      "                               brand    price  \\\n",
      "user_id                                         \n",
      "10300217                     sokolov    40.54   \n",
      "253299396                      bosch   246.85   \n",
      "253299396                      bosch   246.85   \n",
      "272811580                       beko   195.60   \n",
      "272811580                       beko   195.60   \n",
      "288929779                      racer    55.86   \n",
      "288929779                      racer    55.86   \n",
      "310768124                      apple  1422.31   \n",
      "315309190  dobrusskijfarforovyjzavod   115.18   \n",
      "339186405                      apple   915.69   \n",
      "\n",
      "                                   user_session  \n",
      "user_id                                          \n",
      "10300217   d1fdcbf1-bb1f-434b-8f1a-4b77f29a84a0  \n",
      "253299396  b097b84d-cfb8-432c-9ab0-a841bb4d727f  \n",
      "253299396  b097b84d-cfb8-432c-9ab0-a841bb4d727f  \n",
      "272811580  d18427ab-8f2b-44f7-860d-a26b9510a70b  \n",
      "272811580  d18427ab-8f2b-44f7-860d-a26b9510a70b  \n",
      "288929779  fc582087-72f8-428a-b65a-c2f45d74dc27  \n",
      "288929779  fc582087-72f8-428a-b65a-c2f45d74dc27  \n",
      "310768124  79d8406f-4aa3-412c-8605-8be1031e63d6  \n",
      "315309190  e3d5a1a4-f8fd-4ac3-acb7-af6ccd1e3fa9  \n",
      "339186405  15197c7e-aba0-43b4-9f3a-a815e31ade40  \n"
     ]
    }
   ],
   "source": [
    "# The input data in this case is a CSV file stored in an AWS S3 bucket. Before\n",
    "# you can use the data to train a model, it must be uploaded to the airt server.\n",
    "# Run the following command to upload the data to the airt server for further\n",
    "# processing.\n",
    "data_blob = DataBlob.from_s3(uri=\"s3://test-airt-service/ecommerce_behavior_csv\")\n",
    "\n",
    "# Display the upload progress\n",
    "data_blob.progress_bar()\n",
    "\n",
    "# Once the upload is complete, run the following command to preprocess and\n",
    "# prepare the data for training.\n",
    "data_source = data_blob.to_datasource(\n",
    "    file_type=\"csv\", index_column=\"user_id\", sort_by=\"event_time\"\n",
    ")\n",
    "\n",
    "# Display the data preprocessing progress\n",
    "data_source.progress_bar()\n",
    "\n",
    "# When the preprocessing is finished, you can run the following command to\n",
    "# display the head of the data to ensure everything is fine.\n",
    "print(data_source.head())"
   ]
  },
  {
   "cell_type": "markdown",
   "metadata": {},
   "source": [
    "### 2. Train"
   ]
  },
  {
   "cell_type": "code",
   "execution_count": null,
   "metadata": {},
   "outputs": [
    {
     "name": "stderr",
     "output_type": "stream",
     "text": [
      "100%|██████████| 5/5 [00:00<00:00, 126.62it/s]"
     ]
    },
    {
     "name": "stdout",
     "output_type": "stream",
     "text": [
      "            eval\n",
      "accuracy   0.985\n",
      "recall     0.962\n",
      "precision  0.934\n"
     ]
    },
    {
     "name": "stderr",
     "output_type": "stream",
     "text": [
      "\n"
     ]
    }
   ],
   "source": [
    "# We assume that the input data for training a model includes the client_column\n",
    "# target_column, and timestamp column, which specify the time of an event.\n",
    "from datetime import timedelta\n",
    "\n",
    "model = data_source.train(\n",
    "    client_column=\"user_id\",\n",
    "    target_column=\"event_type\",\n",
    "    target=\"*purchase\",\n",
    "    predict_after=timedelta(hours=3),\n",
    ")\n",
    "\n",
    "# Display model training progress\n",
    "model.progress_bar()\n",
    "\n",
    "# Once the model training is complete, call the following method to display\n",
    "# multiple evaluation metrics to evaluate the model's performance.\n",
    "print(model.evaluate())"
   ]
  },
  {
   "cell_type": "markdown",
   "metadata": {},
   "source": [
    "### 3. Predict"
   ]
  },
  {
   "cell_type": "code",
   "execution_count": null,
   "metadata": {},
   "outputs": [
    {
     "name": "stderr",
     "output_type": "stream",
     "text": [
      "100%|██████████| 3/3 [00:10<00:00,  3.38s/it]"
     ]
    },
    {
     "name": "stdout",
     "output_type": "stream",
     "text": [
      "              Score\n",
      "user_id            \n",
      "520088904  0.979853\n",
      "530496790  0.979157\n",
      "561587266  0.979055\n",
      "518085591  0.978915\n",
      "558856683  0.977960\n"
     ]
    },
    {
     "name": "stderr",
     "output_type": "stream",
     "text": [
      "\n"
     ]
    }
   ],
   "source": [
    "# Finally, you can use the trained model to make predictions by calling the\n",
    "# method below.\n",
    "predictions = model.predict()\n",
    "\n",
    "# Display model prediction progress\n",
    "predictions.progress_bar()\n",
    "\n",
    "# If the dataset is small enough, you can use the following method to download\n",
    "# the prediction results as a pandas DataFrame.\n",
    "print(predictions.to_pandas().head())"
   ]
  }
 ],
 "metadata": {
  "kernelspec": {
   "display_name": "python3",
   "language": "python",
   "name": "python3"
  }
 },
 "nbformat": 4,
 "nbformat_minor": 1
}
