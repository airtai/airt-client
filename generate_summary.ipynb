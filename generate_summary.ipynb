{
 "cells": [
  {
   "cell_type": "code",
   "execution_count": 1,
   "id": "42dd2e88",
   "metadata": {},
   "outputs": [],
   "source": [
    "import pkgutil\n",
    "import importlib\n",
    "from typing import *\n",
    "from pathlib import Path\n",
    "import shutil\n",
    "\n"
   ]
  },
  {
   "cell_type": "code",
   "execution_count": 2,
   "id": "24a129b9",
   "metadata": {},
   "outputs": [
    {
     "data": {
      "text/plain": [
       "['__builtins__',\n",
       " '__cached__',\n",
       " '__doc__',\n",
       " '__file__',\n",
       " '__loader__',\n",
       " '__name__',\n",
       " '__package__',\n",
       " '__path__',\n",
       " '__spec__',\n",
       " '__version__']"
      ]
     },
     "execution_count": 2,
     "metadata": {},
     "output_type": "execute_result"
    }
   ],
   "source": [
    "MODULE = 'airt'\n",
    "\n",
    "client_module = importlib.import_module(f'{MODULE}')\n",
    "dir(client_module)"
   ]
  },
  {
   "cell_type": "code",
   "execution_count": 3,
   "id": "763b982c",
   "metadata": {},
   "outputs": [
    {
     "name": "stdout",
     "output_type": "stream",
     "text": [
      "[INFO] airt.testing.activate_by_import: Testing environment activated.\n"
     ]
    },
    {
     "data": {
      "text/plain": [
       "['airt._nbdev',\n",
       " 'airt.cli',\n",
       " 'airt.cli.api_key',\n",
       " 'airt.cli.cli',\n",
       " 'airt.cli.db',\n",
       " 'airt.cli.ds',\n",
       " 'airt.cli.helper',\n",
       " 'airt.cli.model',\n",
       " 'airt.cli.pred',\n",
       " 'airt.cli.token',\n",
       " 'airt.cli.user',\n",
       " 'airt.cli.version',\n",
       " 'airt.cli.api_key',\n",
       " 'airt.cli.cli',\n",
       " 'airt.cli.db',\n",
       " 'airt.cli.ds',\n",
       " 'airt.cli.helper',\n",
       " 'airt.cli.model',\n",
       " 'airt.cli.pred',\n",
       " 'airt.cli.token',\n",
       " 'airt.cli.user',\n",
       " 'airt.cli.version',\n",
       " 'airt.client',\n",
       " 'airt.components',\n",
       " 'airt.components.api_key',\n",
       " 'airt.components.client',\n",
       " 'airt.components.datablob',\n",
       " 'airt.components.datasource',\n",
       " 'airt.components.model',\n",
       " 'airt.components.prediction',\n",
       " 'airt.components.progress_status',\n",
       " 'airt.components.user',\n",
       " 'airt.components.api_key',\n",
       " 'airt.components.client',\n",
       " 'airt.components.datablob',\n",
       " 'airt.components.datasource',\n",
       " 'airt.components.model',\n",
       " 'airt.components.prediction',\n",
       " 'airt.components.progress_status',\n",
       " 'airt.components.user',\n",
       " 'airt.env',\n",
       " 'airt.helper',\n",
       " 'airt.logger',\n",
       " 'airt.testing',\n",
       " 'airt.testing.activate_by_import',\n",
       " 'airt.testing.activate_by_import']"
      ]
     },
     "execution_count": 3,
     "metadata": {},
     "output_type": "execute_result"
    }
   ],
   "source": [
    "\n",
    "\n",
    "def list_submodules(package_name: str) -> List[str]:\n",
    "    def _list_submodules(list_name, package_name):\n",
    "        for loader, module_name, is_pkg in pkgutil.walk_packages(package_name.__path__, package_name.__name__+'.'):\n",
    "            list_name.append(module_name)\n",
    "            module_name = __import__(module_name, fromlist='dummylist')\n",
    "            if is_pkg:\n",
    "                _list_submodules(list_name, module_name)\n",
    "\n",
    "    all_modules = []\n",
    "    _list_submodules(all_modules, package_name)\n",
    "    \n",
    "    return all_modules\n",
    "\n",
    "client_modules = list_submodules(client_module)\n",
    "client_modules"
   ]
  },
  {
   "cell_type": "code",
   "execution_count": 4,
   "id": "99d5f07a",
   "metadata": {},
   "outputs": [
    {
     "data": {
      "text/plain": [
       "{'airt._nbdev': ['index', 'modules', 'custom_doc_links', 'git_url'],\n",
       " 'airt.cli.api_key': ['logger'],\n",
       " 'airt.cli.cli': ['logger', 'app'],\n",
       " 'airt.cli.db': ['logger'],\n",
       " 'airt.cli.ds': ['logger'],\n",
       " 'airt.cli.helper': ['logger',\n",
       "  'requires_auth_token',\n",
       "  'humanize_date',\n",
       "  'humanize_number',\n",
       "  'humanize_size'],\n",
       " 'airt.cli.model': ['logger'],\n",
       " 'airt.cli.pred': ['logger'],\n",
       " 'airt.cli.token': ['logger'],\n",
       " 'airt.cli.user': ['logger'],\n",
       " 'airt.cli.version': ['logger'],\n",
       " 'airt.client': ['Client',\n",
       "  'DataSource',\n",
       "  'DataBlob',\n",
       "  'ProgressStatus',\n",
       "  'Model',\n",
       "  'Prediction',\n",
       "  'User',\n",
       "  'APIKey'],\n",
       " 'airt.components.api_key': ['APIKey'],\n",
       " 'airt.components.client': ['Client'],\n",
       " 'airt.components.datablob': ['DataBlob'],\n",
       " 'airt.components.datasource': ['DataSource'],\n",
       " 'airt.components.model': ['Model'],\n",
       " 'airt.components.prediction': ['Prediction'],\n",
       " 'airt.components.progress_status': ['ProgressStatus'],\n",
       " 'airt.components.user': ['User'],\n",
       " 'airt.env': ['CLIENT_DB_USERNAME',\n",
       "  'CLIENT_DB_PASSWORD',\n",
       "  'SERVICE_USERNAME',\n",
       "  'SERVICE_PASSWORD',\n",
       "  'SERVER_URL',\n",
       "  'SERVICE_TOKEN',\n",
       "  'SERVICE_SUPER_USER',\n",
       "  'PROD_URL',\n",
       "  'CLI_CMD'],\n",
       " 'airt.helper': ['ensure_is_instance',\n",
       "  'get_base_url',\n",
       "  'post_data',\n",
       "  'get_data',\n",
       "  'delete_data',\n",
       "  'add_ready_column',\n",
       "  'generate_df',\n",
       "  'get_values_from_item',\n",
       "  'get_attributes_from_instances'],\n",
       " 'airt.logger': ['supress_timestamps',\n",
       "  'get_logger',\n",
       "  'should_supress_timestamps',\n",
       "  'set_level'],\n",
       " 'airt.testing.activate_by_import': ['activated']}"
      ]
     },
     "execution_count": 4,
     "metadata": {},
     "output_type": "execute_result"
    }
   ],
   "source": [
    "def get_exported_symbols(submodules: List[str]) -> Dict[str, List[str]]:\n",
    "    modules = {name: __import__(name, fromlist=\"dummylist\") for name in submodules}\n",
    "    return {\n",
    "        name: module.__all__\n",
    "        for name, module in modules.items()\n",
    "        if hasattr(module, \"__all__\")\n",
    "    }\n",
    "\n",
    "\n",
    "symbols = get_exported_symbols(client_modules)\n",
    "symbols"
   ]
  },
  {
   "cell_type": "code",
   "execution_count": 5,
   "id": "663dff34",
   "metadata": {},
   "outputs": [
    {
     "data": {
      "text/plain": [
       "{'airt.client': ['Client',\n",
       "  'DataSource',\n",
       "  'DataBlob',\n",
       "  'ProgressStatus',\n",
       "  'Model',\n",
       "  'Prediction',\n",
       "  'User',\n",
       "  'APIKey']}"
      ]
     },
     "execution_count": 5,
     "metadata": {},
     "output_type": "execute_result"
    }
   ],
   "source": [
    "def filter_symbols(symbols: Dict[str, List[str]], module_name: str) -> Dict[str, List[str]]:\n",
    "\n",
    "    return {k: v for k, v in symbols.items() if k == module_name}\n",
    "\n",
    "\n",
    "filter_symbols(symbols, f\"{MODULE}.client\")"
   ]
  },
  {
   "cell_type": "code",
   "execution_count": 6,
   "id": "c6635aba",
   "metadata": {},
   "outputs": [],
   "source": [
    "def write_md_files(fname: Path, s: str, m: str) -> None:\n",
    "    with open(fname, mode=\"w\") as f:\n",
    "        print(f\"Writing {fname}\")\n",
    "        f.write(f\"#{s}\\n::: {m}.{s}\\n\")"
   ]
  },
  {
   "cell_type": "code",
   "execution_count": 7,
   "id": "4aba0df9",
   "metadata": {},
   "outputs": [],
   "source": [
    "def get_path(m: str, docs_path: Path) -> Tuple[str, Path]:\n",
    "    \n",
    "    parts = m.split(\".\")[-1:]\n",
    "    path_link = \"API/\" + \"/\".join(parts)\n",
    "    path = docs_path / path_link\n",
    "    \n",
    "    return path, path_link"
   ]
  },
  {
   "cell_type": "code",
   "execution_count": 8,
   "id": "c90ed6d8",
   "metadata": {},
   "outputs": [],
   "source": [
    "def append_api_nav(summary: str, symbols: dict, docs_path: str, v: str) -> str:\n",
    "    \n",
    "    symbols = filter_symbols(symbols, v)\n",
    "    \n",
    "    for m, sx in symbols.items():\n",
    "        \n",
    "        path, path_link = get_path(m, docs_path)\n",
    "        summary = summary + f\"    - {m}\\n\"\n",
    "        path.mkdir(exist_ok=True, parents=True)\n",
    "        \n",
    "        for s in sx:\n",
    "            summary = summary + f\"        - [{s}]({path_link}/{s}.md)\\n\"\n",
    "            fname = path / (s + \".md\")\n",
    "            write_md_files(fname, s, m)\n",
    "        \n",
    "    return summary"
   ]
  },
  {
   "cell_type": "code",
   "execution_count": 9,
   "id": "868909ad",
   "metadata": {},
   "outputs": [],
   "source": [
    "def append_cli_nav(summary: str, symbols: dict, docs_path: Path, v: str, ignore_list: list) -> str:\n",
    "    \n",
    "    keys = []\n",
    "    \n",
    "    path, path_link = get_path(v, docs_path)\n",
    "\n",
    "    for m, sx in symbols.items():\n",
    "        if f\"{v}.\" in m:\n",
    "            sm = m.split(\".\")[2]\n",
    "            if sm not in ignore_list:\n",
    "                if \"_\" in sm:\n",
    "                    sm = sm.replace(\"_\", \"-\")\n",
    "                keys.append(sm)\n",
    "    \n",
    "    for sm in keys:\n",
    "#         folder_path = path / (sm)\n",
    "#         folder_path.mkdir(exist_ok=True, parents=True)\n",
    "        \n",
    "        summary = summary + f\"    - [{sm}]({path_link}/{sm}/app.md)\\n\"\n",
    "        \n",
    "        fname = path / (sm + \"/app.md\")\n",
    "    \n",
    "    return summary"
   ]
  },
  {
   "cell_type": "code",
   "execution_count": 10,
   "id": "c63343a9",
   "metadata": {},
   "outputs": [
    {
     "name": "stdout",
     "output_type": "stream",
     "text": [
      "Writing docs/API/client/Client.md\n",
      "Writing docs/API/client/DataSource.md\n",
      "Writing docs/API/client/DataBlob.md\n",
      "Writing docs/API/client/ProgressStatus.md\n",
      "Writing docs/API/client/Model.md\n",
      "Writing docs/API/client/Prediction.md\n",
      "Writing docs/API/client/User.md\n",
      "Writing docs/API/client/APIKey.md\n",
      "\n",
      "- [Home](index.md)\n",
      "- [Tutorial](Tutorial.md)\n",
      "- API\n",
      "    - airt.client\n",
      "        - [Client](API/client/Client.md)\n",
      "        - [DataSource](API/client/DataSource.md)\n",
      "        - [DataBlob](API/client/DataBlob.md)\n",
      "        - [ProgressStatus](API/client/ProgressStatus.md)\n",
      "        - [Model](API/client/Model.md)\n",
      "        - [Prediction](API/client/Prediction.md)\n",
      "        - [User](API/client/User.md)\n",
      "        - [APIKey](API/client/APIKey.md)\n",
      "- CLI\n",
      "    - [api-key](API/cli/api-key/app.md)\n",
      "    - [db](API/cli/db/app.md)\n",
      "    - [ds](API/cli/ds/app.md)\n",
      "    - [model](API/cli/model/app.md)\n",
      "    - [pred](API/cli/pred/app.md)\n",
      "    - [token](API/cli/token/app.md)\n",
      "    - [user](API/cli/user/app.md)\n",
      "    - [version](API/cli/version/app.md)\n",
      "- [REST](rest_api_docs.md)\n",
      "- [Releases](RELEASE.md)\n"
     ]
    }
   ],
   "source": [
    "_summary = \"\"\"\n",
    "- [Home](index.md)\n",
    "- [Tutorial](Tutorial.md)\n",
    "\"\"\"\n",
    "\n",
    "\n",
    "def build_api(module, summary: str = _summary, docs_path: str = \"_docs\"):\n",
    "    \n",
    "    api_modules = {\"API\": f\"{MODULE}.client\"}\n",
    "    \n",
    "    cli_modules = {\"CLI\": f\"{MODULE}.cli\"}\n",
    "    ignore_list = ['cli', 'logger', 'helper']\n",
    "\n",
    "    submodules = list_submodules(module)\n",
    "    symbols = get_exported_symbols(submodules)\n",
    "    \n",
    "    docs_path = Path(docs_path)\n",
    "    assert docs_path.exists()\n",
    "    shutil.rmtree(docs_path / \"API\", ignore_errors=True)\n",
    "\n",
    "    for k, v in api_modules.items():\n",
    "        summary = summary + f\"- {k}\\n\"\n",
    "        summary = append_api_nav(summary, symbols, docs_path, v)\n",
    "\n",
    "    for k, v in cli_modules.items():\n",
    "        summary = summary + f\"- {k}\\n\"\n",
    "        summary = append_cli_nav(summary, symbols, docs_path, v, ignore_list)\n",
    "\n",
    "    summary = summary + \"- [REST](rest_api_docs.md)\\n\"\n",
    "    \n",
    "    summary = summary + \"- [Releases](RELEASE.md)\"\n",
    "\n",
    "    with open(docs_path / \"SUMMARY.md\", mode=\"w\") as f:\n",
    "        f.write(summary)\n",
    "\n",
    "    return summary\n",
    "\n",
    "\n",
    "print(build_api(client_module))"
   ]
  },
  {
   "cell_type": "code",
   "execution_count": null,
   "id": "e1d6d0f0",
   "metadata": {},
   "outputs": [],
   "source": []
  }
 ],
 "metadata": {
  "kernelspec": {
   "display_name": "Python 3 (ipykernel)",
   "language": "python",
   "name": "python3"
  },
  "language_info": {
   "codemirror_mode": {
    "name": "ipython",
    "version": 3
   },
   "file_extension": ".py",
   "mimetype": "text/x-python",
   "name": "python",
   "nbconvert_exporter": "python",
   "pygments_lexer": "ipython3",
   "version": "3.9.16"
  }
 },
 "nbformat": 4,
 "nbformat_minor": 5
}
